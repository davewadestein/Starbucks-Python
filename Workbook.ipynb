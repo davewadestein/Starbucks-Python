{
 "cells": [
  {
   "cell_type": "markdown",
   "id": "46188b04-4bf1-44e7-86dd-5e459bfee0be",
   "metadata": {
    "jp-MarkdownHeadingCollapsed": true
   },
   "source": [
    "# Important Things to Know About Python\n",
    "* everything is an object\n",
    "  * they sit in memory\n",
    "  * we can inspect them, we can find them in memory\n",
    "  * objects consist of multiple parts\n",
    "* it's a terrible language for numerics\n",
    "  * 1991...Python's raison d'être was for manipulating data in the form of text/files/etc.\n",
    "  * Python has a lot of support for text/data manipulation as a result\n",
    "* two kinds of variables: scalars and containers\n",
    "  * scalar = a single value, e.g., int, float, bool\n",
    "  * container = an object which contains or has in it 0+ other objects\n",
    "    * e.g., str, list\n",
    "* built-in functions are general, in that they typically can take lots of different kinds of arguments\n",
    "  * e.g., __`print()`__, __`str()`__\n",
    "  * called in the \"standard way\", i.e., __`name()`__\n",
    "* datatype-specific functions (also called \"methods\") are called with a different notation\n",
    "  * __`object.func()`__, where object is an object of that datatype\n",
    "* builtin functions DO NOT change the objects that are passed into them...\n",
    "   * e.g., str(var) does not change var in any way, shape, or form\n",
    "   * instead it returns a string version of var\n",
    "* if you want to change an object in Python, you must apply/invoke/call a method on it\n",
    "   * not all methods change the objects that are applied/invoked/call upon/to\n",
    "* Python has mutable and immutable containers:\n",
    "  * immutable: str\n",
    "  * mutable: list"
   ]
  },
  {
   "cell_type": "markdown",
   "id": "87e62ed3-487e-41cc-b32d-527260b31e8d",
   "metadata": {},
   "source": [
    "# Important Things to Know about Coding/Programming\n",
    "* \"mechanical sympathy\"\n",
    "  * Jackie Stewart\n",
    "* choose good variable names\n",
    "  * name should convey the contents of the variable (\"box\")\n",
    "  * e.g., __`cost`__ is better than __`c`__, __`cost_per_ounce`__ is better than __`cpo`__\n",
    "* \"Programs are written for humans to read, and only incidentally to be executed by computers\" –Hal Abelson\n",
    "* Eagelson's Law: \"Any code you wrote longer than six months ago, might as well have been written by someone else\"\n",
    "* You read code 10x more than you write code, therefore\n",
    "  * important to know details of Python whether you use or not\n",
    "  * see previous two bullet points\n",
    "* DRY = Don't Repeat Yourself\n",
    "  * don't repeat code across your program\n",
    "* Two \"diametrically opposed\" styles of coding\n",
    "  * EAFP = Easier to Ask Forgiveness than Permission\n",
    "  * LBYL = Look Before You Leap\n",
    "  * My opinion...use LBYL when it's easy, otherwise EAFP\n",
    "* if you want to practice coding (i.e., get better), here are my top two ways to do it\n",
    "  1. try to solve the problem in a different way\n",
    "  1. add features to existing working code"
   ]
  },
  {
   "cell_type": "markdown",
   "id": "521b1002-8599-4dca-af99-af3aa70f8a95",
   "metadata": {},
   "source": [
    "# \"Pythonic\"\n",
    "* idiomatic uses of Python that other Python folks expect to see, e.g.,\n",
    "  * using __`[-1]`__ to access last element of a container\n",
    "  * __`[-n]`__ is the nth from the end\n",
    "* composing functions\n",
    "  * __`int(input('...'))`__\n",
    "  * __`words = input('Enter some words: ').split()`__\n",
    "* when an object is difficult to work with, consider changing its type\n",
    "  * e.g., convert int to str in order to access the indvidual digits\n",
    "* __`[:n]`__ the first n items in a container\n",
    "* __`[:-n]`__ everything BUT the last n items in the container\n",
    "* __`[-n:]`__ the last n items in a container\n",
    "* __`[::-1]`__ reversed version of the container\n",
    "* don't use indexing unless you need it\n",
    "  * __`for thing in container: print(thing)`__\n",
    "* __`for _ in range(n):`__ means do \"action\" n times"
   ]
  },
  {
   "cell_type": "code",
   "execution_count": 1,
   "id": "c26a0963-8d2f-4257-8e6a-fafddfece2b7",
   "metadata": {},
   "outputs": [
    {
     "name": "stdout",
     "output_type": "stream",
     "text": [
      "Hello, world!\n"
     ]
    }
   ],
   "source": [
    "print('Hello, world!')"
   ]
  },
  {
   "cell_type": "code",
   "execution_count": 2,
   "id": "ebbfdc4c-3435-4f10-860a-507a376e2501",
   "metadata": {},
   "outputs": [
    {
     "data": {
      "text/plain": [
       "22"
      ]
     },
     "execution_count": 2,
     "metadata": {},
     "output_type": "execute_result"
    }
   ],
   "source": [
    "3 + 19"
   ]
  },
  {
   "cell_type": "code",
   "execution_count": 11,
   "id": "4e0f0fe9-0b18-431d-a6b6-8c9e02015b59",
   "metadata": {},
   "outputs": [],
   "source": [
    "cost = 19.95 # float"
   ]
  },
  {
   "cell_type": "code",
   "execution_count": 12,
   "id": "fbfb621e-f515-45a0-99a5-ee9aa1fac3c5",
   "metadata": {},
   "outputs": [
    {
     "data": {
      "text/plain": [
       "19.95"
      ]
     },
     "execution_count": 12,
     "metadata": {},
     "output_type": "execute_result"
    }
   ],
   "source": [
    "cost"
   ]
  },
  {
   "cell_type": "code",
   "execution_count": 13,
   "id": "24ac1e3b-9b02-40ff-847d-c38a0e508ab9",
   "metadata": {},
   "outputs": [
    {
     "data": {
      "text/plain": [
       "float"
      ]
     },
     "execution_count": 13,
     "metadata": {},
     "output_type": "execute_result"
    }
   ],
   "source": [
    "type(cost)"
   ]
  },
  {
   "cell_type": "code",
   "execution_count": 14,
   "id": "d5b5a8be-ca92-4fd5-917b-347582c1f9ac",
   "metadata": {},
   "outputs": [],
   "source": [
    "cost = 19 # int"
   ]
  },
  {
   "cell_type": "code",
   "execution_count": 15,
   "id": "ef1f2b0d-6d7d-449b-9b8c-2443df43ea6a",
   "metadata": {},
   "outputs": [
    {
     "data": {
      "text/plain": [
       "19"
      ]
     },
     "execution_count": 15,
     "metadata": {},
     "output_type": "execute_result"
    }
   ],
   "source": [
    "cost"
   ]
  },
  {
   "cell_type": "code",
   "execution_count": 16,
   "id": "fc79741c-a27f-4735-8b40-d87bba64915c",
   "metadata": {},
   "outputs": [
    {
     "data": {
      "text/plain": [
       "int"
      ]
     },
     "execution_count": 16,
     "metadata": {},
     "output_type": "execute_result"
    }
   ],
   "source": [
    "type(cost)"
   ]
  },
  {
   "cell_type": "code",
   "execution_count": 17,
   "id": "8434732f-d221-4365-9985-13e8639c91ef",
   "metadata": {},
   "outputs": [],
   "source": [
    "cost = 'Bruce Lee' # str(ing)"
   ]
  },
  {
   "cell_type": "code",
   "execution_count": 18,
   "id": "b98dd2bf-3c63-4af2-bcb4-d82c19ea26d2",
   "metadata": {},
   "outputs": [
    {
     "data": {
      "text/plain": [
       "'Bruce Lee'"
      ]
     },
     "execution_count": 18,
     "metadata": {},
     "output_type": "execute_result"
    }
   ],
   "source": [
    "cost"
   ]
  },
  {
   "cell_type": "code",
   "execution_count": 19,
   "id": "c56d2197-41b2-490a-8a84-a921c2a67ff0",
   "metadata": {},
   "outputs": [
    {
     "ename": "TypeError",
     "evalue": "can't multiply sequence by non-int of type 'float'",
     "output_type": "error",
     "traceback": [
      "\u001b[0;31m---------------------------------------------------------------------------\u001b[0m",
      "\u001b[0;31mTypeError\u001b[0m                                 Traceback (most recent call last)",
      "Cell \u001b[0;32mIn[19], line 1\u001b[0m\n\u001b[0;32m----> 1\u001b[0m \u001b[43mcost\u001b[49m\u001b[43m \u001b[49m\u001b[38;5;241;43m*\u001b[39;49m\u001b[43m \u001b[49m\u001b[38;5;241;43m1.09\u001b[39;49m\n",
      "\u001b[0;31mTypeError\u001b[0m: can't multiply sequence by non-int of type 'float'"
     ]
    }
   ],
   "source": [
    "cost * 1.09"
   ]
  },
  {
   "cell_type": "code",
   "execution_count": 21,
   "id": "e66bc568-ce85-4207-812c-55e45b9cf295",
   "metadata": {},
   "outputs": [],
   "source": [
    "thing = 19.95"
   ]
  },
  {
   "cell_type": "code",
   "execution_count": 22,
   "id": "cbdc38f9-35f5-4339-b635-973bfaf56bbd",
   "metadata": {},
   "outputs": [],
   "source": [
    "t = 19.95 # not good"
   ]
  },
  {
   "cell_type": "code",
   "execution_count": 23,
   "id": "1f9d8f89-b047-4e81-9122-98f9ac6de3d2",
   "metadata": {},
   "outputs": [],
   "source": [
    "cpo = 0.32 # better, but not best"
   ]
  },
  {
   "cell_type": "code",
   "execution_count": 24,
   "id": "1f57926b-24b0-4beb-951a-bab0a511939a",
   "metadata": {},
   "outputs": [
    {
     "data": {
      "text/plain": [
       "0.32"
      ]
     },
     "execution_count": 24,
     "metadata": {},
     "output_type": "execute_result"
    }
   ],
   "source": [
    "cpo"
   ]
  },
  {
   "cell_type": "code",
   "execution_count": 25,
   "id": "e11b1145-d40e-4eb0-b623-b9df602cc349",
   "metadata": {},
   "outputs": [
    {
     "data": {
      "text/plain": [
       "0.384"
      ]
     },
     "execution_count": 25,
     "metadata": {},
     "output_type": "execute_result"
    }
   ],
   "source": [
    "cpo * 1.2"
   ]
  },
  {
   "cell_type": "code",
   "execution_count": 26,
   "id": "d84e31ba-fa34-4345-92e5-6135caaffcaa",
   "metadata": {},
   "outputs": [
    {
     "name": "stdout",
     "output_type": "stream",
     "text": [
      "Cost per ounce = 0.32\n"
     ]
    }
   ],
   "source": [
    "print('Cost per ounce =', cpo)"
   ]
  },
  {
   "cell_type": "code",
   "execution_count": 27,
   "id": "590e1cd0-a832-489d-9f02-0d0e07b3414c",
   "metadata": {},
   "outputs": [
    {
     "data": {
      "text/plain": [
       "'Grace Hopper'"
      ]
     },
     "execution_count": 27,
     "metadata": {},
     "output_type": "execute_result"
    }
   ],
   "source": [
    "'Grace' + ' ' + 'Hopper'"
   ]
  },
  {
   "cell_type": "code",
   "execution_count": 28,
   "id": "e669dded-2b46-4650-beeb-e7ec0d7003b8",
   "metadata": {},
   "outputs": [
    {
     "data": {
      "text/plain": [
       "2"
      ]
     },
     "execution_count": 28,
     "metadata": {},
     "output_type": "execute_result"
    }
   ],
   "source": [
    "1 + 1"
   ]
  },
  {
   "cell_type": "code",
   "execution_count": 29,
   "id": "cd112bd3-ce8b-4046-aebb-85fd4e3b965a",
   "metadata": {},
   "outputs": [
    {
     "data": {
      "text/plain": [
       "2.0"
      ]
     },
     "execution_count": 29,
     "metadata": {},
     "output_type": "execute_result"
    }
   ],
   "source": [
    "1.0 + 1.0 "
   ]
  },
  {
   "cell_type": "code",
   "execution_count": 30,
   "id": "b2a4362c-f388-4c8b-9bbb-3dc4a01ea7fe",
   "metadata": {},
   "outputs": [
    {
     "data": {
      "text/plain": [
       "'11'"
      ]
     },
     "execution_count": 30,
     "metadata": {},
     "output_type": "execute_result"
    }
   ],
   "source": [
    "'1' + '1'"
   ]
  },
  {
   "cell_type": "code",
   "execution_count": 31,
   "id": "c1e6ee36-68ca-4911-870a-c093d148ef75",
   "metadata": {},
   "outputs": [],
   "source": [
    "year = 2024"
   ]
  },
  {
   "cell_type": "code",
   "execution_count": 32,
   "id": "584c79d8-8b12-4af6-9242-4d280910456f",
   "metadata": {},
   "outputs": [
    {
     "data": {
      "text/plain": [
       "['In',\n",
       " 'Out',\n",
       " '_',\n",
       " '_12',\n",
       " '_13',\n",
       " '_15',\n",
       " '_16',\n",
       " '_18',\n",
       " '_2',\n",
       " '_24',\n",
       " '_25',\n",
       " '_27',\n",
       " '_28',\n",
       " '_29',\n",
       " '_30',\n",
       " '_4',\n",
       " '_5',\n",
       " '_8',\n",
       " '_9',\n",
       " '__',\n",
       " '___',\n",
       " '__builtin__',\n",
       " '__builtins__',\n",
       " '__doc__',\n",
       " '__loader__',\n",
       " '__name__',\n",
       " '__package__',\n",
       " '__session__',\n",
       " '__spec__',\n",
       " '_dh',\n",
       " '_i',\n",
       " '_i1',\n",
       " '_i10',\n",
       " '_i11',\n",
       " '_i12',\n",
       " '_i13',\n",
       " '_i14',\n",
       " '_i15',\n",
       " '_i16',\n",
       " '_i17',\n",
       " '_i18',\n",
       " '_i19',\n",
       " '_i2',\n",
       " '_i20',\n",
       " '_i21',\n",
       " '_i22',\n",
       " '_i23',\n",
       " '_i24',\n",
       " '_i25',\n",
       " '_i26',\n",
       " '_i27',\n",
       " '_i28',\n",
       " '_i29',\n",
       " '_i3',\n",
       " '_i30',\n",
       " '_i31',\n",
       " '_i32',\n",
       " '_i4',\n",
       " '_i5',\n",
       " '_i6',\n",
       " '_i7',\n",
       " '_i8',\n",
       " '_i9',\n",
       " '_ih',\n",
       " '_ii',\n",
       " '_iii',\n",
       " '_oh',\n",
       " 'apple',\n",
       " 'cost',\n",
       " 'cpo',\n",
       " 'exit',\n",
       " 'get_ipython',\n",
       " 'open',\n",
       " 'quit',\n",
       " 't',\n",
       " 'thing',\n",
       " 'year']"
      ]
     },
     "execution_count": 32,
     "metadata": {},
     "output_type": "execute_result"
    }
   ],
   "source": [
    "dir()"
   ]
  },
  {
   "cell_type": "code",
   "execution_count": 33,
   "id": "9fc61e93-0b21-4129-993c-d0282e3547a4",
   "metadata": {},
   "outputs": [],
   "source": [
    "gazornin = 34.56"
   ]
  },
  {
   "cell_type": "code",
   "execution_count": 34,
   "id": "bb825d9d-bca8-451e-aa85-a53bcb82c1ce",
   "metadata": {},
   "outputs": [
    {
     "data": {
      "text/plain": [
       "['In',\n",
       " 'Out',\n",
       " '_',\n",
       " '_12',\n",
       " '_13',\n",
       " '_15',\n",
       " '_16',\n",
       " '_18',\n",
       " '_2',\n",
       " '_24',\n",
       " '_25',\n",
       " '_27',\n",
       " '_28',\n",
       " '_29',\n",
       " '_30',\n",
       " '_32',\n",
       " '_4',\n",
       " '_5',\n",
       " '_8',\n",
       " '_9',\n",
       " '__',\n",
       " '___',\n",
       " '__builtin__',\n",
       " '__builtins__',\n",
       " '__doc__',\n",
       " '__loader__',\n",
       " '__name__',\n",
       " '__package__',\n",
       " '__session__',\n",
       " '__spec__',\n",
       " '_dh',\n",
       " '_i',\n",
       " '_i1',\n",
       " '_i10',\n",
       " '_i11',\n",
       " '_i12',\n",
       " '_i13',\n",
       " '_i14',\n",
       " '_i15',\n",
       " '_i16',\n",
       " '_i17',\n",
       " '_i18',\n",
       " '_i19',\n",
       " '_i2',\n",
       " '_i20',\n",
       " '_i21',\n",
       " '_i22',\n",
       " '_i23',\n",
       " '_i24',\n",
       " '_i25',\n",
       " '_i26',\n",
       " '_i27',\n",
       " '_i28',\n",
       " '_i29',\n",
       " '_i3',\n",
       " '_i30',\n",
       " '_i31',\n",
       " '_i32',\n",
       " '_i33',\n",
       " '_i34',\n",
       " '_i4',\n",
       " '_i5',\n",
       " '_i6',\n",
       " '_i7',\n",
       " '_i8',\n",
       " '_i9',\n",
       " '_ih',\n",
       " '_ii',\n",
       " '_iii',\n",
       " '_oh',\n",
       " 'apple',\n",
       " 'cost',\n",
       " 'cpo',\n",
       " 'exit',\n",
       " 'gazornin',\n",
       " 'get_ipython',\n",
       " 'open',\n",
       " 'quit',\n",
       " 't',\n",
       " 'thing',\n",
       " 'year']"
      ]
     },
     "execution_count": 34,
     "metadata": {},
     "output_type": "execute_result"
    }
   ],
   "source": [
    "dir()"
   ]
  },
  {
   "cell_type": "code",
   "execution_count": 35,
   "id": "71cf175b-de59-4fa6-96d5-57a2075fe4fa",
   "metadata": {},
   "outputs": [
    {
     "data": {
      "text/plain": [
       "5"
      ]
     },
     "execution_count": 35,
     "metadata": {},
     "output_type": "execute_result"
    }
   ],
   "source": [
    "2 + 3"
   ]
  },
  {
   "cell_type": "code",
   "execution_count": 36,
   "id": "8ebc4344-447f-4f27-9b2f-5612f03fe546",
   "metadata": {},
   "outputs": [],
   "source": [
    "import math # dark green = a keyword, or part of the Python language"
   ]
  },
  {
   "cell_type": "code",
   "execution_count": 37,
   "id": "9f63e845-d6fe-48a1-952d-88a6480cc897",
   "metadata": {
    "scrolled": true
   },
   "outputs": [
    {
     "data": {
      "text/plain": [
       "['In',\n",
       " 'Out',\n",
       " '_',\n",
       " '_12',\n",
       " '_13',\n",
       " '_15',\n",
       " '_16',\n",
       " '_18',\n",
       " '_2',\n",
       " '_24',\n",
       " '_25',\n",
       " '_27',\n",
       " '_28',\n",
       " '_29',\n",
       " '_30',\n",
       " '_32',\n",
       " '_34',\n",
       " '_35',\n",
       " '_4',\n",
       " '_5',\n",
       " '_8',\n",
       " '_9',\n",
       " '__',\n",
       " '___',\n",
       " '__builtin__',\n",
       " '__builtins__',\n",
       " '__doc__',\n",
       " '__loader__',\n",
       " '__name__',\n",
       " '__package__',\n",
       " '__session__',\n",
       " '__spec__',\n",
       " '_dh',\n",
       " '_i',\n",
       " '_i1',\n",
       " '_i10',\n",
       " '_i11',\n",
       " '_i12',\n",
       " '_i13',\n",
       " '_i14',\n",
       " '_i15',\n",
       " '_i16',\n",
       " '_i17',\n",
       " '_i18',\n",
       " '_i19',\n",
       " '_i2',\n",
       " '_i20',\n",
       " '_i21',\n",
       " '_i22',\n",
       " '_i23',\n",
       " '_i24',\n",
       " '_i25',\n",
       " '_i26',\n",
       " '_i27',\n",
       " '_i28',\n",
       " '_i29',\n",
       " '_i3',\n",
       " '_i30',\n",
       " '_i31',\n",
       " '_i32',\n",
       " '_i33',\n",
       " '_i34',\n",
       " '_i35',\n",
       " '_i36',\n",
       " '_i37',\n",
       " '_i4',\n",
       " '_i5',\n",
       " '_i6',\n",
       " '_i7',\n",
       " '_i8',\n",
       " '_i9',\n",
       " '_ih',\n",
       " '_ii',\n",
       " '_iii',\n",
       " '_oh',\n",
       " 'apple',\n",
       " 'cost',\n",
       " 'cpo',\n",
       " 'exit',\n",
       " 'gazornin',\n",
       " 'get_ipython',\n",
       " 'math',\n",
       " 'open',\n",
       " 'quit',\n",
       " 't',\n",
       " 'thing',\n",
       " 'year']"
      ]
     },
     "execution_count": 37,
     "metadata": {},
     "output_type": "execute_result"
    }
   ],
   "source": [
    "dir()"
   ]
  },
  {
   "cell_type": "code",
   "execution_count": 38,
   "id": "dffcb89e-aa8a-4f65-88a7-70f2ef8dd1b1",
   "metadata": {},
   "outputs": [
    {
     "data": {
      "text/plain": [
       "['__doc__',\n",
       " '__file__',\n",
       " '__loader__',\n",
       " '__name__',\n",
       " '__package__',\n",
       " '__spec__',\n",
       " 'acos',\n",
       " 'acosh',\n",
       " 'asin',\n",
       " 'asinh',\n",
       " 'atan',\n",
       " 'atan2',\n",
       " 'atanh',\n",
       " 'cbrt',\n",
       " 'ceil',\n",
       " 'comb',\n",
       " 'copysign',\n",
       " 'cos',\n",
       " 'cosh',\n",
       " 'degrees',\n",
       " 'dist',\n",
       " 'e',\n",
       " 'erf',\n",
       " 'erfc',\n",
       " 'exp',\n",
       " 'exp2',\n",
       " 'expm1',\n",
       " 'fabs',\n",
       " 'factorial',\n",
       " 'floor',\n",
       " 'fmod',\n",
       " 'frexp',\n",
       " 'fsum',\n",
       " 'gamma',\n",
       " 'gcd',\n",
       " 'hypot',\n",
       " 'inf',\n",
       " 'isclose',\n",
       " 'isfinite',\n",
       " 'isinf',\n",
       " 'isnan',\n",
       " 'isqrt',\n",
       " 'lcm',\n",
       " 'ldexp',\n",
       " 'lgamma',\n",
       " 'log',\n",
       " 'log10',\n",
       " 'log1p',\n",
       " 'log2',\n",
       " 'modf',\n",
       " 'nan',\n",
       " 'nextafter',\n",
       " 'perm',\n",
       " 'pi',\n",
       " 'pow',\n",
       " 'prod',\n",
       " 'radians',\n",
       " 'remainder',\n",
       " 'sin',\n",
       " 'sinh',\n",
       " 'sqrt',\n",
       " 'sumprod',\n",
       " 'tan',\n",
       " 'tanh',\n",
       " 'tau',\n",
       " 'trunc',\n",
       " 'ulp']"
      ]
     },
     "execution_count": 38,
     "metadata": {},
     "output_type": "execute_result"
    }
   ],
   "source": [
    "dir(math)"
   ]
  },
  {
   "cell_type": "code",
   "execution_count": 39,
   "id": "09460779-f558-4fac-bbd5-ea4858b8d659",
   "metadata": {},
   "outputs": [
    {
     "data": {
      "text/plain": [
       "builtin_function_or_method"
      ]
     },
     "execution_count": 39,
     "metadata": {},
     "output_type": "execute_result"
    }
   ],
   "source": [
    "type(math.cos)"
   ]
  },
  {
   "cell_type": "code",
   "execution_count": 40,
   "id": "2743ebd9-0de4-458a-8286-98fd0cd7f15e",
   "metadata": {},
   "outputs": [
    {
     "data": {
      "text/plain": [
       "float"
      ]
     },
     "execution_count": 40,
     "metadata": {},
     "output_type": "execute_result"
    }
   ],
   "source": [
    "type(math.pi)"
   ]
  },
  {
   "cell_type": "code",
   "execution_count": 41,
   "id": "4ffb5a19-e98e-4ecb-b548-2c7de387aa0d",
   "metadata": {},
   "outputs": [
    {
     "name": "stdout",
     "output_type": "stream",
     "text": [
      "Help on module math:\n",
      "\n",
      "NAME\n",
      "    math\n",
      "\n",
      "MODULE REFERENCE\n",
      "    https://docs.python.org/3.12/library/math.html\n",
      "\n",
      "    The following documentation is automatically generated from the Python\n",
      "    source files.  It may be incomplete, incorrect or include features that\n",
      "    are considered implementation detail and may vary between Python\n",
      "    implementations.  When in doubt, consult the module reference at the\n",
      "    location listed above.\n",
      "\n",
      "DESCRIPTION\n",
      "    This module provides access to the mathematical functions\n",
      "    defined by the C standard.\n",
      "\n",
      "FUNCTIONS\n",
      "    acos(x, /)\n",
      "        Return the arc cosine (measured in radians) of x.\n",
      "\n",
      "        The result is between 0 and pi.\n",
      "\n",
      "    acosh(x, /)\n",
      "        Return the inverse hyperbolic cosine of x.\n",
      "\n",
      "    asin(x, /)\n",
      "        Return the arc sine (measured in radians) of x.\n",
      "\n",
      "        The result is between -pi/2 and pi/2.\n",
      "\n",
      "    asinh(x, /)\n",
      "        Return the inverse hyperbolic sine of x.\n",
      "\n",
      "    atan(x, /)\n",
      "        Return the arc tangent (measured in radians) of x.\n",
      "\n",
      "        The result is between -pi/2 and pi/2.\n",
      "\n",
      "    atan2(y, x, /)\n",
      "        Return the arc tangent (measured in radians) of y/x.\n",
      "\n",
      "        Unlike atan(y/x), the signs of both x and y are considered.\n",
      "\n",
      "    atanh(x, /)\n",
      "        Return the inverse hyperbolic tangent of x.\n",
      "\n",
      "    cbrt(x, /)\n",
      "        Return the cube root of x.\n",
      "\n",
      "    ceil(x, /)\n",
      "        Return the ceiling of x as an Integral.\n",
      "\n",
      "        This is the smallest integer >= x.\n",
      "\n",
      "    comb(n, k, /)\n",
      "        Number of ways to choose k items from n items without repetition and without order.\n",
      "\n",
      "        Evaluates to n! / (k! * (n - k)!) when k <= n and evaluates\n",
      "        to zero when k > n.\n",
      "\n",
      "        Also called the binomial coefficient because it is equivalent\n",
      "        to the coefficient of k-th term in polynomial expansion of the\n",
      "        expression (1 + x)**n.\n",
      "\n",
      "        Raises TypeError if either of the arguments are not integers.\n",
      "        Raises ValueError if either of the arguments are negative.\n",
      "\n",
      "    copysign(x, y, /)\n",
      "        Return a float with the magnitude (absolute value) of x but the sign of y.\n",
      "\n",
      "        On platforms that support signed zeros, copysign(1.0, -0.0)\n",
      "        returns -1.0.\n",
      "\n",
      "    cos(x, /)\n",
      "        Return the cosine of x (measured in radians).\n",
      "\n",
      "    cosh(x, /)\n",
      "        Return the hyperbolic cosine of x.\n",
      "\n",
      "    degrees(x, /)\n",
      "        Convert angle x from radians to degrees.\n",
      "\n",
      "    dist(p, q, /)\n",
      "        Return the Euclidean distance between two points p and q.\n",
      "\n",
      "        The points should be specified as sequences (or iterables) of\n",
      "        coordinates.  Both inputs must have the same dimension.\n",
      "\n",
      "        Roughly equivalent to:\n",
      "            sqrt(sum((px - qx) ** 2.0 for px, qx in zip(p, q)))\n",
      "\n",
      "    erf(x, /)\n",
      "        Error function at x.\n",
      "\n",
      "    erfc(x, /)\n",
      "        Complementary error function at x.\n",
      "\n",
      "    exp(x, /)\n",
      "        Return e raised to the power of x.\n",
      "\n",
      "    exp2(x, /)\n",
      "        Return 2 raised to the power of x.\n",
      "\n",
      "    expm1(x, /)\n",
      "        Return exp(x)-1.\n",
      "\n",
      "        This function avoids the loss of precision involved in the direct evaluation of exp(x)-1 for small x.\n",
      "\n",
      "    fabs(x, /)\n",
      "        Return the absolute value of the float x.\n",
      "\n",
      "    factorial(n, /)\n",
      "        Find n!.\n",
      "\n",
      "        Raise a ValueError if x is negative or non-integral.\n",
      "\n",
      "    floor(x, /)\n",
      "        Return the floor of x as an Integral.\n",
      "\n",
      "        This is the largest integer <= x.\n",
      "\n",
      "    fmod(x, y, /)\n",
      "        Return fmod(x, y), according to platform C.\n",
      "\n",
      "        x % y may differ.\n",
      "\n",
      "    frexp(x, /)\n",
      "        Return the mantissa and exponent of x, as pair (m, e).\n",
      "\n",
      "        m is a float and e is an int, such that x = m * 2.**e.\n",
      "        If x is 0, m and e are both 0.  Else 0.5 <= abs(m) < 1.0.\n",
      "\n",
      "    fsum(seq, /)\n",
      "        Return an accurate floating point sum of values in the iterable seq.\n",
      "\n",
      "        Assumes IEEE-754 floating point arithmetic.\n",
      "\n",
      "    gamma(x, /)\n",
      "        Gamma function at x.\n",
      "\n",
      "    gcd(*integers)\n",
      "        Greatest Common Divisor.\n",
      "\n",
      "    hypot(...)\n",
      "        hypot(*coordinates) -> value\n",
      "\n",
      "        Multidimensional Euclidean distance from the origin to a point.\n",
      "\n",
      "        Roughly equivalent to:\n",
      "            sqrt(sum(x**2 for x in coordinates))\n",
      "\n",
      "        For a two dimensional point (x, y), gives the hypotenuse\n",
      "        using the Pythagorean theorem:  sqrt(x*x + y*y).\n",
      "\n",
      "        For example, the hypotenuse of a 3/4/5 right triangle is:\n",
      "\n",
      "            >>> hypot(3.0, 4.0)\n",
      "            5.0\n",
      "\n",
      "    isclose(a, b, *, rel_tol=1e-09, abs_tol=0.0)\n",
      "        Determine whether two floating point numbers are close in value.\n",
      "\n",
      "          rel_tol\n",
      "            maximum difference for being considered \"close\", relative to the\n",
      "            magnitude of the input values\n",
      "          abs_tol\n",
      "            maximum difference for being considered \"close\", regardless of the\n",
      "            magnitude of the input values\n",
      "\n",
      "        Return True if a is close in value to b, and False otherwise.\n",
      "\n",
      "        For the values to be considered close, the difference between them\n",
      "        must be smaller than at least one of the tolerances.\n",
      "\n",
      "        -inf, inf and NaN behave similarly to the IEEE 754 Standard.  That\n",
      "        is, NaN is not close to anything, even itself.  inf and -inf are\n",
      "        only close to themselves.\n",
      "\n",
      "    isfinite(x, /)\n",
      "        Return True if x is neither an infinity nor a NaN, and False otherwise.\n",
      "\n",
      "    isinf(x, /)\n",
      "        Return True if x is a positive or negative infinity, and False otherwise.\n",
      "\n",
      "    isnan(x, /)\n",
      "        Return True if x is a NaN (not a number), and False otherwise.\n",
      "\n",
      "    isqrt(n, /)\n",
      "        Return the integer part of the square root of the input.\n",
      "\n",
      "    lcm(*integers)\n",
      "        Least Common Multiple.\n",
      "\n",
      "    ldexp(x, i, /)\n",
      "        Return x * (2**i).\n",
      "\n",
      "        This is essentially the inverse of frexp().\n",
      "\n",
      "    lgamma(x, /)\n",
      "        Natural logarithm of absolute value of Gamma function at x.\n",
      "\n",
      "    log(...)\n",
      "        log(x, [base=math.e])\n",
      "        Return the logarithm of x to the given base.\n",
      "\n",
      "        If the base is not specified, returns the natural logarithm (base e) of x.\n",
      "\n",
      "    log10(x, /)\n",
      "        Return the base 10 logarithm of x.\n",
      "\n",
      "    log1p(x, /)\n",
      "        Return the natural logarithm of 1+x (base e).\n",
      "\n",
      "        The result is computed in a way which is accurate for x near zero.\n",
      "\n",
      "    log2(x, /)\n",
      "        Return the base 2 logarithm of x.\n",
      "\n",
      "    modf(x, /)\n",
      "        Return the fractional and integer parts of x.\n",
      "\n",
      "        Both results carry the sign of x and are floats.\n",
      "\n",
      "    nextafter(x, y, /, *, steps=None)\n",
      "        Return the floating-point value the given number of steps after x towards y.\n",
      "\n",
      "        If steps is not specified or is None, it defaults to 1.\n",
      "\n",
      "        Raises a TypeError, if x or y is not a double, or if steps is not an integer.\n",
      "        Raises ValueError if steps is negative.\n",
      "\n",
      "    perm(n, k=None, /)\n",
      "        Number of ways to choose k items from n items without repetition and with order.\n",
      "\n",
      "        Evaluates to n! / (n - k)! when k <= n and evaluates\n",
      "        to zero when k > n.\n",
      "\n",
      "        If k is not specified or is None, then k defaults to n\n",
      "        and the function returns n!.\n",
      "\n",
      "        Raises TypeError if either of the arguments are not integers.\n",
      "        Raises ValueError if either of the arguments are negative.\n",
      "\n",
      "    pow(x, y, /)\n",
      "        Return x**y (x to the power of y).\n",
      "\n",
      "    prod(iterable, /, *, start=1)\n",
      "        Calculate the product of all the elements in the input iterable.\n",
      "\n",
      "        The default start value for the product is 1.\n",
      "\n",
      "        When the iterable is empty, return the start value.  This function is\n",
      "        intended specifically for use with numeric values and may reject\n",
      "        non-numeric types.\n",
      "\n",
      "    radians(x, /)\n",
      "        Convert angle x from degrees to radians.\n",
      "\n",
      "    remainder(x, y, /)\n",
      "        Difference between x and the closest integer multiple of y.\n",
      "\n",
      "        Return x - n*y where n*y is the closest integer multiple of y.\n",
      "        In the case where x is exactly halfway between two multiples of\n",
      "        y, the nearest even value of n is used. The result is always exact.\n",
      "\n",
      "    sin(x, /)\n",
      "        Return the sine of x (measured in radians).\n",
      "\n",
      "    sinh(x, /)\n",
      "        Return the hyperbolic sine of x.\n",
      "\n",
      "    sqrt(x, /)\n",
      "        Return the square root of x.\n",
      "\n",
      "    sumprod(p, q, /)\n",
      "        Return the sum of products of values from two iterables p and q.\n",
      "\n",
      "        Roughly equivalent to:\n",
      "\n",
      "            sum(itertools.starmap(operator.mul, zip(p, q, strict=True)))\n",
      "\n",
      "        For float and mixed int/float inputs, the intermediate products\n",
      "        and sums are computed with extended precision.\n",
      "\n",
      "    tan(x, /)\n",
      "        Return the tangent of x (measured in radians).\n",
      "\n",
      "    tanh(x, /)\n",
      "        Return the hyperbolic tangent of x.\n",
      "\n",
      "    trunc(x, /)\n",
      "        Truncates the Real x to the nearest Integral toward 0.\n",
      "\n",
      "        Uses the __trunc__ magic method.\n",
      "\n",
      "    ulp(x, /)\n",
      "        Return the value of the least significant bit of the float x.\n",
      "\n",
      "DATA\n",
      "    e = 2.718281828459045\n",
      "    inf = inf\n",
      "    nan = nan\n",
      "    pi = 3.141592653589793\n",
      "    tau = 6.283185307179586\n",
      "\n",
      "FILE\n",
      "    /Library/Frameworks/Python.framework/Versions/3.12/lib/python3.12/lib-dynload/math.cpython-312-darwin.so\n",
      "\n",
      "\n"
     ]
    }
   ],
   "source": [
    "help(math)"
   ]
  },
  {
   "cell_type": "code",
   "execution_count": 42,
   "id": "c6ca393c-ec4b-4083-83d7-3ca01fa13cfd",
   "metadata": {},
   "outputs": [
    {
     "name": "stdout",
     "output_type": "stream",
     "text": [
      "Help on built-in function factorial in module math:\n",
      "\n",
      "factorial(n, /)\n",
      "    Find n!.\n",
      "\n",
      "    Raise a ValueError if x is negative or non-integral.\n",
      "\n"
     ]
    }
   ],
   "source": [
    "help(math.factorial)"
   ]
  },
  {
   "cell_type": "code",
   "execution_count": 43,
   "id": "3f1d979a-29ee-457b-930c-7a53aa0bb6a8",
   "metadata": {},
   "outputs": [
    {
     "data": {
      "text/plain": [
       "builtin_function_or_method"
      ]
     },
     "execution_count": 43,
     "metadata": {},
     "output_type": "execute_result"
    }
   ],
   "source": [
    "type(dir)"
   ]
  },
  {
   "cell_type": "code",
   "execution_count": 44,
   "id": "5a16e7d4-1e1d-4d64-a83d-a6706436cf6a",
   "metadata": {},
   "outputs": [
    {
     "data": {
      "text/plain": [
       "module"
      ]
     },
     "execution_count": 44,
     "metadata": {},
     "output_type": "execute_result"
    }
   ],
   "source": [
    "type(math)"
   ]
  },
  {
   "cell_type": "code",
   "execution_count": 46,
   "id": "d0cac51f-399d-4f2e-b8c9-afc030cf3ad7",
   "metadata": {},
   "outputs": [
    {
     "data": {
      "text/plain": [
       "builtin_function_or_method"
      ]
     },
     "execution_count": 46,
     "metadata": {},
     "output_type": "execute_result"
    }
   ],
   "source": [
    "type(print)"
   ]
  },
  {
   "cell_type": "code",
   "execution_count": 47,
   "id": "b9e51d59-fd81-4930-8651-8b8101fb8a5e",
   "metadata": {},
   "outputs": [
    {
     "data": {
      "text/plain": [
       "['False',\n",
       " 'None',\n",
       " 'True',\n",
       " 'and',\n",
       " 'as',\n",
       " 'assert',\n",
       " 'async',\n",
       " 'await',\n",
       " 'break',\n",
       " 'class',\n",
       " 'continue',\n",
       " 'def',\n",
       " 'del',\n",
       " 'elif',\n",
       " 'else',\n",
       " 'except',\n",
       " 'finally',\n",
       " 'for',\n",
       " 'from',\n",
       " 'global',\n",
       " 'if',\n",
       " 'import',\n",
       " 'in',\n",
       " 'is',\n",
       " 'lambda',\n",
       " 'nonlocal',\n",
       " 'not',\n",
       " 'or',\n",
       " 'pass',\n",
       " 'raise',\n",
       " 'return',\n",
       " 'try',\n",
       " 'while',\n",
       " 'with',\n",
       " 'yield']"
      ]
     },
     "execution_count": 47,
     "metadata": {},
     "output_type": "execute_result"
    }
   ],
   "source": [
    "import keyword\n",
    "keyword.kwlist"
   ]
  },
  {
   "cell_type": "code",
   "execution_count": 48,
   "id": "601126ab-2f68-4480-a3ed-5c3b3cdcfd2a",
   "metadata": {},
   "outputs": [
    {
     "ename": "SyntaxError",
     "evalue": "invalid syntax (3674606335.py, line 1)",
     "output_type": "error",
     "traceback": [
      "\u001b[0;36m  Cell \u001b[0;32mIn[48], line 1\u001b[0;36m\u001b[0m\n\u001b[0;31m    raise = 22\u001b[0m\n\u001b[0m          ^\u001b[0m\n\u001b[0;31mSyntaxError\u001b[0m\u001b[0;31m:\u001b[0m invalid syntax\n"
     ]
    }
   ],
   "source": [
    "raise = 22"
   ]
  },
  {
   "cell_type": "code",
   "execution_count": 49,
   "id": "c0981f4a-9ef9-420f-b28f-83bcec205792",
   "metadata": {},
   "outputs": [],
   "source": [
    "raised = 22"
   ]
  },
  {
   "cell_type": "code",
   "execution_count": 50,
   "id": "68d4a86d-ccb3-4245-aebe-9eea874dab1a",
   "metadata": {
    "scrolled": true
   },
   "outputs": [
    {
     "data": {
      "text/plain": [
       "{'__name__': '__main__',\n",
       " '__doc__': 'Automatically created module for IPython interactive environment',\n",
       " '__package__': None,\n",
       " '__loader__': None,\n",
       " '__spec__': None,\n",
       " '__builtin__': <module 'builtins' (built-in)>,\n",
       " '__builtins__': <module 'builtins' (built-in)>,\n",
       " '_ih': ['',\n",
       "  \"print('Hello, world!')\",\n",
       "  '3 + 19',\n",
       "  'cost = 19.95',\n",
       "  'cost',\n",
       "  'type(cost)',\n",
       "  'cost = 19',\n",
       "  'cost = 19 # int',\n",
       "  'cost',\n",
       "  'type(cost)',\n",
       "  'cost = 19.95 # float',\n",
       "  'cost = 19.95 # float',\n",
       "  'cost',\n",
       "  'type(cost)',\n",
       "  'cost = 19 # int',\n",
       "  'cost',\n",
       "  'type(cost)',\n",
       "  \"cost = 'Bruce Lee' # str(ing)\",\n",
       "  'cost',\n",
       "  'cost * 1.09',\n",
       "  'apple = 19.95',\n",
       "  'thing = 19.95',\n",
       "  't = 19.95',\n",
       "  'cpo = 0.32',\n",
       "  'cpo',\n",
       "  'cpo * 1.2',\n",
       "  \"print('Cost per ounce =', cpo)\",\n",
       "  \"'Grace' + ' ' + 'Hopper'\",\n",
       "  '1 + 1',\n",
       "  '1.0 + 1.0 ',\n",
       "  \"'1' + '1'\",\n",
       "  'year = 2024',\n",
       "  'dir()',\n",
       "  'gazornin = 34.56',\n",
       "  'dir()',\n",
       "  '2 + 3',\n",
       "  'import math',\n",
       "  'dir()',\n",
       "  'dir(math)',\n",
       "  'type(math.cos)',\n",
       "  'type(math.pi)',\n",
       "  'help(math)',\n",
       "  'help(math.factorial)',\n",
       "  'type(dir)',\n",
       "  'type(math)',\n",
       "  'type(type)',\n",
       "  'type(print)',\n",
       "  'import keyword\\nkeyword.kwlist',\n",
       "  'raise = 22',\n",
       "  'raised = 22',\n",
       "  'globals()'],\n",
       " '_oh': {2: 22,\n",
       "  4: 19.95,\n",
       "  5: float,\n",
       "  8: 19,\n",
       "  9: int,\n",
       "  12: 19.95,\n",
       "  13: float,\n",
       "  15: 19,\n",
       "  16: int,\n",
       "  18: 'Bruce Lee',\n",
       "  24: 0.32,\n",
       "  25: 0.384,\n",
       "  27: 'Grace Hopper',\n",
       "  28: 2,\n",
       "  29: 2.0,\n",
       "  30: '11',\n",
       "  32: ['In',\n",
       "   'Out',\n",
       "   '_',\n",
       "   '_12',\n",
       "   '_13',\n",
       "   '_15',\n",
       "   '_16',\n",
       "   '_18',\n",
       "   '_2',\n",
       "   '_24',\n",
       "   '_25',\n",
       "   '_27',\n",
       "   '_28',\n",
       "   '_29',\n",
       "   '_30',\n",
       "   '_4',\n",
       "   '_5',\n",
       "   '_8',\n",
       "   '_9',\n",
       "   '__',\n",
       "   '___',\n",
       "   '__builtin__',\n",
       "   '__builtins__',\n",
       "   '__doc__',\n",
       "   '__loader__',\n",
       "   '__name__',\n",
       "   '__package__',\n",
       "   '__session__',\n",
       "   '__spec__',\n",
       "   '_dh',\n",
       "   '_i',\n",
       "   '_i1',\n",
       "   '_i10',\n",
       "   '_i11',\n",
       "   '_i12',\n",
       "   '_i13',\n",
       "   '_i14',\n",
       "   '_i15',\n",
       "   '_i16',\n",
       "   '_i17',\n",
       "   '_i18',\n",
       "   '_i19',\n",
       "   '_i2',\n",
       "   '_i20',\n",
       "   '_i21',\n",
       "   '_i22',\n",
       "   '_i23',\n",
       "   '_i24',\n",
       "   '_i25',\n",
       "   '_i26',\n",
       "   '_i27',\n",
       "   '_i28',\n",
       "   '_i29',\n",
       "   '_i3',\n",
       "   '_i30',\n",
       "   '_i31',\n",
       "   '_i32',\n",
       "   '_i4',\n",
       "   '_i5',\n",
       "   '_i6',\n",
       "   '_i7',\n",
       "   '_i8',\n",
       "   '_i9',\n",
       "   '_ih',\n",
       "   '_ii',\n",
       "   '_iii',\n",
       "   '_oh',\n",
       "   'apple',\n",
       "   'cost',\n",
       "   'cpo',\n",
       "   'exit',\n",
       "   'get_ipython',\n",
       "   'open',\n",
       "   'quit',\n",
       "   't',\n",
       "   'thing',\n",
       "   'year'],\n",
       "  34: ['In',\n",
       "   'Out',\n",
       "   '_',\n",
       "   '_12',\n",
       "   '_13',\n",
       "   '_15',\n",
       "   '_16',\n",
       "   '_18',\n",
       "   '_2',\n",
       "   '_24',\n",
       "   '_25',\n",
       "   '_27',\n",
       "   '_28',\n",
       "   '_29',\n",
       "   '_30',\n",
       "   '_32',\n",
       "   '_4',\n",
       "   '_5',\n",
       "   '_8',\n",
       "   '_9',\n",
       "   '__',\n",
       "   '___',\n",
       "   '__builtin__',\n",
       "   '__builtins__',\n",
       "   '__doc__',\n",
       "   '__loader__',\n",
       "   '__name__',\n",
       "   '__package__',\n",
       "   '__session__',\n",
       "   '__spec__',\n",
       "   '_dh',\n",
       "   '_i',\n",
       "   '_i1',\n",
       "   '_i10',\n",
       "   '_i11',\n",
       "   '_i12',\n",
       "   '_i13',\n",
       "   '_i14',\n",
       "   '_i15',\n",
       "   '_i16',\n",
       "   '_i17',\n",
       "   '_i18',\n",
       "   '_i19',\n",
       "   '_i2',\n",
       "   '_i20',\n",
       "   '_i21',\n",
       "   '_i22',\n",
       "   '_i23',\n",
       "   '_i24',\n",
       "   '_i25',\n",
       "   '_i26',\n",
       "   '_i27',\n",
       "   '_i28',\n",
       "   '_i29',\n",
       "   '_i3',\n",
       "   '_i30',\n",
       "   '_i31',\n",
       "   '_i32',\n",
       "   '_i33',\n",
       "   '_i34',\n",
       "   '_i4',\n",
       "   '_i5',\n",
       "   '_i6',\n",
       "   '_i7',\n",
       "   '_i8',\n",
       "   '_i9',\n",
       "   '_ih',\n",
       "   '_ii',\n",
       "   '_iii',\n",
       "   '_oh',\n",
       "   'apple',\n",
       "   'cost',\n",
       "   'cpo',\n",
       "   'exit',\n",
       "   'gazornin',\n",
       "   'get_ipython',\n",
       "   'open',\n",
       "   'quit',\n",
       "   't',\n",
       "   'thing',\n",
       "   'year'],\n",
       "  35: 5,\n",
       "  37: ['In',\n",
       "   'Out',\n",
       "   '_',\n",
       "   '_12',\n",
       "   '_13',\n",
       "   '_15',\n",
       "   '_16',\n",
       "   '_18',\n",
       "   '_2',\n",
       "   '_24',\n",
       "   '_25',\n",
       "   '_27',\n",
       "   '_28',\n",
       "   '_29',\n",
       "   '_30',\n",
       "   '_32',\n",
       "   '_34',\n",
       "   '_35',\n",
       "   '_4',\n",
       "   '_5',\n",
       "   '_8',\n",
       "   '_9',\n",
       "   '__',\n",
       "   '___',\n",
       "   '__builtin__',\n",
       "   '__builtins__',\n",
       "   '__doc__',\n",
       "   '__loader__',\n",
       "   '__name__',\n",
       "   '__package__',\n",
       "   '__session__',\n",
       "   '__spec__',\n",
       "   '_dh',\n",
       "   '_i',\n",
       "   '_i1',\n",
       "   '_i10',\n",
       "   '_i11',\n",
       "   '_i12',\n",
       "   '_i13',\n",
       "   '_i14',\n",
       "   '_i15',\n",
       "   '_i16',\n",
       "   '_i17',\n",
       "   '_i18',\n",
       "   '_i19',\n",
       "   '_i2',\n",
       "   '_i20',\n",
       "   '_i21',\n",
       "   '_i22',\n",
       "   '_i23',\n",
       "   '_i24',\n",
       "   '_i25',\n",
       "   '_i26',\n",
       "   '_i27',\n",
       "   '_i28',\n",
       "   '_i29',\n",
       "   '_i3',\n",
       "   '_i30',\n",
       "   '_i31',\n",
       "   '_i32',\n",
       "   '_i33',\n",
       "   '_i34',\n",
       "   '_i35',\n",
       "   '_i36',\n",
       "   '_i37',\n",
       "   '_i4',\n",
       "   '_i5',\n",
       "   '_i6',\n",
       "   '_i7',\n",
       "   '_i8',\n",
       "   '_i9',\n",
       "   '_ih',\n",
       "   '_ii',\n",
       "   '_iii',\n",
       "   '_oh',\n",
       "   'apple',\n",
       "   'cost',\n",
       "   'cpo',\n",
       "   'exit',\n",
       "   'gazornin',\n",
       "   'get_ipython',\n",
       "   'math',\n",
       "   'open',\n",
       "   'quit',\n",
       "   't',\n",
       "   'thing',\n",
       "   'year'],\n",
       "  38: ['__doc__',\n",
       "   '__file__',\n",
       "   '__loader__',\n",
       "   '__name__',\n",
       "   '__package__',\n",
       "   '__spec__',\n",
       "   'acos',\n",
       "   'acosh',\n",
       "   'asin',\n",
       "   'asinh',\n",
       "   'atan',\n",
       "   'atan2',\n",
       "   'atanh',\n",
       "   'cbrt',\n",
       "   'ceil',\n",
       "   'comb',\n",
       "   'copysign',\n",
       "   'cos',\n",
       "   'cosh',\n",
       "   'degrees',\n",
       "   'dist',\n",
       "   'e',\n",
       "   'erf',\n",
       "   'erfc',\n",
       "   'exp',\n",
       "   'exp2',\n",
       "   'expm1',\n",
       "   'fabs',\n",
       "   'factorial',\n",
       "   'floor',\n",
       "   'fmod',\n",
       "   'frexp',\n",
       "   'fsum',\n",
       "   'gamma',\n",
       "   'gcd',\n",
       "   'hypot',\n",
       "   'inf',\n",
       "   'isclose',\n",
       "   'isfinite',\n",
       "   'isinf',\n",
       "   'isnan',\n",
       "   'isqrt',\n",
       "   'lcm',\n",
       "   'ldexp',\n",
       "   'lgamma',\n",
       "   'log',\n",
       "   'log10',\n",
       "   'log1p',\n",
       "   'log2',\n",
       "   'modf',\n",
       "   'nan',\n",
       "   'nextafter',\n",
       "   'perm',\n",
       "   'pi',\n",
       "   'pow',\n",
       "   'prod',\n",
       "   'radians',\n",
       "   'remainder',\n",
       "   'sin',\n",
       "   'sinh',\n",
       "   'sqrt',\n",
       "   'sumprod',\n",
       "   'tan',\n",
       "   'tanh',\n",
       "   'tau',\n",
       "   'trunc',\n",
       "   'ulp'],\n",
       "  39: builtin_function_or_method,\n",
       "  40: float,\n",
       "  43: builtin_function_or_method,\n",
       "  44: module,\n",
       "  45: type,\n",
       "  46: builtin_function_or_method,\n",
       "  47: ['False',\n",
       "   'None',\n",
       "   'True',\n",
       "   'and',\n",
       "   'as',\n",
       "   'assert',\n",
       "   'async',\n",
       "   'await',\n",
       "   'break',\n",
       "   'class',\n",
       "   'continue',\n",
       "   'def',\n",
       "   'del',\n",
       "   'elif',\n",
       "   'else',\n",
       "   'except',\n",
       "   'finally',\n",
       "   'for',\n",
       "   'from',\n",
       "   'global',\n",
       "   'if',\n",
       "   'import',\n",
       "   'in',\n",
       "   'is',\n",
       "   'lambda',\n",
       "   'nonlocal',\n",
       "   'not',\n",
       "   'or',\n",
       "   'pass',\n",
       "   'raise',\n",
       "   'return',\n",
       "   'try',\n",
       "   'while',\n",
       "   'with',\n",
       "   'yield']},\n",
       " '_dh': [PosixPath('/Users/dave-wadestein/Downloads/Python-Fundamentals-main')],\n",
       " 'In': ['',\n",
       "  \"print('Hello, world!')\",\n",
       "  '3 + 19',\n",
       "  'cost = 19.95',\n",
       "  'cost',\n",
       "  'type(cost)',\n",
       "  'cost = 19',\n",
       "  'cost = 19 # int',\n",
       "  'cost',\n",
       "  'type(cost)',\n",
       "  'cost = 19.95 # float',\n",
       "  'cost = 19.95 # float',\n",
       "  'cost',\n",
       "  'type(cost)',\n",
       "  'cost = 19 # int',\n",
       "  'cost',\n",
       "  'type(cost)',\n",
       "  \"cost = 'Bruce Lee' # str(ing)\",\n",
       "  'cost',\n",
       "  'cost * 1.09',\n",
       "  'apple = 19.95',\n",
       "  'thing = 19.95',\n",
       "  't = 19.95',\n",
       "  'cpo = 0.32',\n",
       "  'cpo',\n",
       "  'cpo * 1.2',\n",
       "  \"print('Cost per ounce =', cpo)\",\n",
       "  \"'Grace' + ' ' + 'Hopper'\",\n",
       "  '1 + 1',\n",
       "  '1.0 + 1.0 ',\n",
       "  \"'1' + '1'\",\n",
       "  'year = 2024',\n",
       "  'dir()',\n",
       "  'gazornin = 34.56',\n",
       "  'dir()',\n",
       "  '2 + 3',\n",
       "  'import math',\n",
       "  'dir()',\n",
       "  'dir(math)',\n",
       "  'type(math.cos)',\n",
       "  'type(math.pi)',\n",
       "  'help(math)',\n",
       "  'help(math.factorial)',\n",
       "  'type(dir)',\n",
       "  'type(math)',\n",
       "  'type(type)',\n",
       "  'type(print)',\n",
       "  'import keyword\\nkeyword.kwlist',\n",
       "  'raise = 22',\n",
       "  'raised = 22',\n",
       "  'globals()'],\n",
       " 'Out': {2: 22,\n",
       "  4: 19.95,\n",
       "  5: float,\n",
       "  8: 19,\n",
       "  9: int,\n",
       "  12: 19.95,\n",
       "  13: float,\n",
       "  15: 19,\n",
       "  16: int,\n",
       "  18: 'Bruce Lee',\n",
       "  24: 0.32,\n",
       "  25: 0.384,\n",
       "  27: 'Grace Hopper',\n",
       "  28: 2,\n",
       "  29: 2.0,\n",
       "  30: '11',\n",
       "  32: ['In',\n",
       "   'Out',\n",
       "   '_',\n",
       "   '_12',\n",
       "   '_13',\n",
       "   '_15',\n",
       "   '_16',\n",
       "   '_18',\n",
       "   '_2',\n",
       "   '_24',\n",
       "   '_25',\n",
       "   '_27',\n",
       "   '_28',\n",
       "   '_29',\n",
       "   '_30',\n",
       "   '_4',\n",
       "   '_5',\n",
       "   '_8',\n",
       "   '_9',\n",
       "   '__',\n",
       "   '___',\n",
       "   '__builtin__',\n",
       "   '__builtins__',\n",
       "   '__doc__',\n",
       "   '__loader__',\n",
       "   '__name__',\n",
       "   '__package__',\n",
       "   '__session__',\n",
       "   '__spec__',\n",
       "   '_dh',\n",
       "   '_i',\n",
       "   '_i1',\n",
       "   '_i10',\n",
       "   '_i11',\n",
       "   '_i12',\n",
       "   '_i13',\n",
       "   '_i14',\n",
       "   '_i15',\n",
       "   '_i16',\n",
       "   '_i17',\n",
       "   '_i18',\n",
       "   '_i19',\n",
       "   '_i2',\n",
       "   '_i20',\n",
       "   '_i21',\n",
       "   '_i22',\n",
       "   '_i23',\n",
       "   '_i24',\n",
       "   '_i25',\n",
       "   '_i26',\n",
       "   '_i27',\n",
       "   '_i28',\n",
       "   '_i29',\n",
       "   '_i3',\n",
       "   '_i30',\n",
       "   '_i31',\n",
       "   '_i32',\n",
       "   '_i4',\n",
       "   '_i5',\n",
       "   '_i6',\n",
       "   '_i7',\n",
       "   '_i8',\n",
       "   '_i9',\n",
       "   '_ih',\n",
       "   '_ii',\n",
       "   '_iii',\n",
       "   '_oh',\n",
       "   'apple',\n",
       "   'cost',\n",
       "   'cpo',\n",
       "   'exit',\n",
       "   'get_ipython',\n",
       "   'open',\n",
       "   'quit',\n",
       "   't',\n",
       "   'thing',\n",
       "   'year'],\n",
       "  34: ['In',\n",
       "   'Out',\n",
       "   '_',\n",
       "   '_12',\n",
       "   '_13',\n",
       "   '_15',\n",
       "   '_16',\n",
       "   '_18',\n",
       "   '_2',\n",
       "   '_24',\n",
       "   '_25',\n",
       "   '_27',\n",
       "   '_28',\n",
       "   '_29',\n",
       "   '_30',\n",
       "   '_32',\n",
       "   '_4',\n",
       "   '_5',\n",
       "   '_8',\n",
       "   '_9',\n",
       "   '__',\n",
       "   '___',\n",
       "   '__builtin__',\n",
       "   '__builtins__',\n",
       "   '__doc__',\n",
       "   '__loader__',\n",
       "   '__name__',\n",
       "   '__package__',\n",
       "   '__session__',\n",
       "   '__spec__',\n",
       "   '_dh',\n",
       "   '_i',\n",
       "   '_i1',\n",
       "   '_i10',\n",
       "   '_i11',\n",
       "   '_i12',\n",
       "   '_i13',\n",
       "   '_i14',\n",
       "   '_i15',\n",
       "   '_i16',\n",
       "   '_i17',\n",
       "   '_i18',\n",
       "   '_i19',\n",
       "   '_i2',\n",
       "   '_i20',\n",
       "   '_i21',\n",
       "   '_i22',\n",
       "   '_i23',\n",
       "   '_i24',\n",
       "   '_i25',\n",
       "   '_i26',\n",
       "   '_i27',\n",
       "   '_i28',\n",
       "   '_i29',\n",
       "   '_i3',\n",
       "   '_i30',\n",
       "   '_i31',\n",
       "   '_i32',\n",
       "   '_i33',\n",
       "   '_i34',\n",
       "   '_i4',\n",
       "   '_i5',\n",
       "   '_i6',\n",
       "   '_i7',\n",
       "   '_i8',\n",
       "   '_i9',\n",
       "   '_ih',\n",
       "   '_ii',\n",
       "   '_iii',\n",
       "   '_oh',\n",
       "   'apple',\n",
       "   'cost',\n",
       "   'cpo',\n",
       "   'exit',\n",
       "   'gazornin',\n",
       "   'get_ipython',\n",
       "   'open',\n",
       "   'quit',\n",
       "   't',\n",
       "   'thing',\n",
       "   'year'],\n",
       "  35: 5,\n",
       "  37: ['In',\n",
       "   'Out',\n",
       "   '_',\n",
       "   '_12',\n",
       "   '_13',\n",
       "   '_15',\n",
       "   '_16',\n",
       "   '_18',\n",
       "   '_2',\n",
       "   '_24',\n",
       "   '_25',\n",
       "   '_27',\n",
       "   '_28',\n",
       "   '_29',\n",
       "   '_30',\n",
       "   '_32',\n",
       "   '_34',\n",
       "   '_35',\n",
       "   '_4',\n",
       "   '_5',\n",
       "   '_8',\n",
       "   '_9',\n",
       "   '__',\n",
       "   '___',\n",
       "   '__builtin__',\n",
       "   '__builtins__',\n",
       "   '__doc__',\n",
       "   '__loader__',\n",
       "   '__name__',\n",
       "   '__package__',\n",
       "   '__session__',\n",
       "   '__spec__',\n",
       "   '_dh',\n",
       "   '_i',\n",
       "   '_i1',\n",
       "   '_i10',\n",
       "   '_i11',\n",
       "   '_i12',\n",
       "   '_i13',\n",
       "   '_i14',\n",
       "   '_i15',\n",
       "   '_i16',\n",
       "   '_i17',\n",
       "   '_i18',\n",
       "   '_i19',\n",
       "   '_i2',\n",
       "   '_i20',\n",
       "   '_i21',\n",
       "   '_i22',\n",
       "   '_i23',\n",
       "   '_i24',\n",
       "   '_i25',\n",
       "   '_i26',\n",
       "   '_i27',\n",
       "   '_i28',\n",
       "   '_i29',\n",
       "   '_i3',\n",
       "   '_i30',\n",
       "   '_i31',\n",
       "   '_i32',\n",
       "   '_i33',\n",
       "   '_i34',\n",
       "   '_i35',\n",
       "   '_i36',\n",
       "   '_i37',\n",
       "   '_i4',\n",
       "   '_i5',\n",
       "   '_i6',\n",
       "   '_i7',\n",
       "   '_i8',\n",
       "   '_i9',\n",
       "   '_ih',\n",
       "   '_ii',\n",
       "   '_iii',\n",
       "   '_oh',\n",
       "   'apple',\n",
       "   'cost',\n",
       "   'cpo',\n",
       "   'exit',\n",
       "   'gazornin',\n",
       "   'get_ipython',\n",
       "   'math',\n",
       "   'open',\n",
       "   'quit',\n",
       "   't',\n",
       "   'thing',\n",
       "   'year'],\n",
       "  38: ['__doc__',\n",
       "   '__file__',\n",
       "   '__loader__',\n",
       "   '__name__',\n",
       "   '__package__',\n",
       "   '__spec__',\n",
       "   'acos',\n",
       "   'acosh',\n",
       "   'asin',\n",
       "   'asinh',\n",
       "   'atan',\n",
       "   'atan2',\n",
       "   'atanh',\n",
       "   'cbrt',\n",
       "   'ceil',\n",
       "   'comb',\n",
       "   'copysign',\n",
       "   'cos',\n",
       "   'cosh',\n",
       "   'degrees',\n",
       "   'dist',\n",
       "   'e',\n",
       "   'erf',\n",
       "   'erfc',\n",
       "   'exp',\n",
       "   'exp2',\n",
       "   'expm1',\n",
       "   'fabs',\n",
       "   'factorial',\n",
       "   'floor',\n",
       "   'fmod',\n",
       "   'frexp',\n",
       "   'fsum',\n",
       "   'gamma',\n",
       "   'gcd',\n",
       "   'hypot',\n",
       "   'inf',\n",
       "   'isclose',\n",
       "   'isfinite',\n",
       "   'isinf',\n",
       "   'isnan',\n",
       "   'isqrt',\n",
       "   'lcm',\n",
       "   'ldexp',\n",
       "   'lgamma',\n",
       "   'log',\n",
       "   'log10',\n",
       "   'log1p',\n",
       "   'log2',\n",
       "   'modf',\n",
       "   'nan',\n",
       "   'nextafter',\n",
       "   'perm',\n",
       "   'pi',\n",
       "   'pow',\n",
       "   'prod',\n",
       "   'radians',\n",
       "   'remainder',\n",
       "   'sin',\n",
       "   'sinh',\n",
       "   'sqrt',\n",
       "   'sumprod',\n",
       "   'tan',\n",
       "   'tanh',\n",
       "   'tau',\n",
       "   'trunc',\n",
       "   'ulp'],\n",
       "  39: builtin_function_or_method,\n",
       "  40: float,\n",
       "  43: builtin_function_or_method,\n",
       "  44: module,\n",
       "  45: type,\n",
       "  46: builtin_function_or_method,\n",
       "  47: ['False',\n",
       "   'None',\n",
       "   'True',\n",
       "   'and',\n",
       "   'as',\n",
       "   'assert',\n",
       "   'async',\n",
       "   'await',\n",
       "   'break',\n",
       "   'class',\n",
       "   'continue',\n",
       "   'def',\n",
       "   'del',\n",
       "   'elif',\n",
       "   'else',\n",
       "   'except',\n",
       "   'finally',\n",
       "   'for',\n",
       "   'from',\n",
       "   'global',\n",
       "   'if',\n",
       "   'import',\n",
       "   'in',\n",
       "   'is',\n",
       "   'lambda',\n",
       "   'nonlocal',\n",
       "   'not',\n",
       "   'or',\n",
       "   'pass',\n",
       "   'raise',\n",
       "   'return',\n",
       "   'try',\n",
       "   'while',\n",
       "   'with',\n",
       "   'yield']},\n",
       " 'get_ipython': <bound method InteractiveShell.get_ipython of <ipykernel.zmqshell.ZMQInteractiveShell object at 0x100475520>>,\n",
       " 'exit': <IPython.core.autocall.ZMQExitAutocall at 0x10454c650>,\n",
       " 'quit': <IPython.core.autocall.ZMQExitAutocall at 0x10454c650>,\n",
       " 'open': <function _io.open(file, mode='r', buffering=-1, encoding=None, errors=None, newline=None, closefd=True, opener=None)>,\n",
       " '_': ['False',\n",
       "  'None',\n",
       "  'True',\n",
       "  'and',\n",
       "  'as',\n",
       "  'assert',\n",
       "  'async',\n",
       "  'await',\n",
       "  'break',\n",
       "  'class',\n",
       "  'continue',\n",
       "  'def',\n",
       "  'del',\n",
       "  'elif',\n",
       "  'else',\n",
       "  'except',\n",
       "  'finally',\n",
       "  'for',\n",
       "  'from',\n",
       "  'global',\n",
       "  'if',\n",
       "  'import',\n",
       "  'in',\n",
       "  'is',\n",
       "  'lambda',\n",
       "  'nonlocal',\n",
       "  'not',\n",
       "  'or',\n",
       "  'pass',\n",
       "  'raise',\n",
       "  'return',\n",
       "  'try',\n",
       "  'while',\n",
       "  'with',\n",
       "  'yield'],\n",
       " '__': builtin_function_or_method,\n",
       " '___': type,\n",
       " '__session__': '/Users/dave-wadestein/Downloads/Python-Fundamentals-main/Untitled.ipynb',\n",
       " '_i': 'raised = 22',\n",
       " '_ii': 'raise = 22',\n",
       " '_iii': 'import keyword\\nkeyword.kwlist',\n",
       " '_i1': \"print('Hello, world!')\",\n",
       " '_i2': '3 + 19',\n",
       " '_2': 22,\n",
       " '_i3': 'cost = 19.95',\n",
       " 'cost': 'Bruce Lee',\n",
       " '_i4': 'cost',\n",
       " '_4': 19.95,\n",
       " '_i5': 'type(cost)',\n",
       " '_5': float,\n",
       " '_i6': 'cost = 19',\n",
       " '_i7': 'cost = 19 # int',\n",
       " '_i8': 'cost',\n",
       " '_8': 19,\n",
       " '_i9': 'type(cost)',\n",
       " '_9': int,\n",
       " '_i10': 'cost = 19.95 # float',\n",
       " '_i11': 'cost = 19.95 # float',\n",
       " '_i12': 'cost',\n",
       " '_12': 19.95,\n",
       " '_i13': 'type(cost)',\n",
       " '_13': float,\n",
       " '_i14': 'cost = 19 # int',\n",
       " '_i15': 'cost',\n",
       " '_15': 19,\n",
       " '_i16': 'type(cost)',\n",
       " '_16': int,\n",
       " '_i17': \"cost = 'Bruce Lee' # str(ing)\",\n",
       " '_i18': 'cost',\n",
       " '_18': 'Bruce Lee',\n",
       " '_i19': 'cost * 1.09',\n",
       " '_i20': 'apple = 19.95',\n",
       " 'apple': 19.95,\n",
       " '_i21': 'thing = 19.95',\n",
       " 'thing': 19.95,\n",
       " '_i22': 't = 19.95',\n",
       " 't': 19.95,\n",
       " '_i23': 'cpo = 0.32',\n",
       " 'cpo': 0.32,\n",
       " '_i24': 'cpo',\n",
       " '_24': 0.32,\n",
       " '_i25': 'cpo * 1.2',\n",
       " '_25': 0.384,\n",
       " '_i26': \"print('Cost per ounce =', cpo)\",\n",
       " '_i27': \"'Grace' + ' ' + 'Hopper'\",\n",
       " '_27': 'Grace Hopper',\n",
       " '_i28': '1 + 1',\n",
       " '_28': 2,\n",
       " '_i29': '1.0 + 1.0 ',\n",
       " '_29': 2.0,\n",
       " '_i30': \"'1' + '1'\",\n",
       " '_30': '11',\n",
       " '_i31': 'year = 2024',\n",
       " 'year': 2024,\n",
       " '_i32': 'dir()',\n",
       " '_32': ['In',\n",
       "  'Out',\n",
       "  '_',\n",
       "  '_12',\n",
       "  '_13',\n",
       "  '_15',\n",
       "  '_16',\n",
       "  '_18',\n",
       "  '_2',\n",
       "  '_24',\n",
       "  '_25',\n",
       "  '_27',\n",
       "  '_28',\n",
       "  '_29',\n",
       "  '_30',\n",
       "  '_4',\n",
       "  '_5',\n",
       "  '_8',\n",
       "  '_9',\n",
       "  '__',\n",
       "  '___',\n",
       "  '__builtin__',\n",
       "  '__builtins__',\n",
       "  '__doc__',\n",
       "  '__loader__',\n",
       "  '__name__',\n",
       "  '__package__',\n",
       "  '__session__',\n",
       "  '__spec__',\n",
       "  '_dh',\n",
       "  '_i',\n",
       "  '_i1',\n",
       "  '_i10',\n",
       "  '_i11',\n",
       "  '_i12',\n",
       "  '_i13',\n",
       "  '_i14',\n",
       "  '_i15',\n",
       "  '_i16',\n",
       "  '_i17',\n",
       "  '_i18',\n",
       "  '_i19',\n",
       "  '_i2',\n",
       "  '_i20',\n",
       "  '_i21',\n",
       "  '_i22',\n",
       "  '_i23',\n",
       "  '_i24',\n",
       "  '_i25',\n",
       "  '_i26',\n",
       "  '_i27',\n",
       "  '_i28',\n",
       "  '_i29',\n",
       "  '_i3',\n",
       "  '_i30',\n",
       "  '_i31',\n",
       "  '_i32',\n",
       "  '_i4',\n",
       "  '_i5',\n",
       "  '_i6',\n",
       "  '_i7',\n",
       "  '_i8',\n",
       "  '_i9',\n",
       "  '_ih',\n",
       "  '_ii',\n",
       "  '_iii',\n",
       "  '_oh',\n",
       "  'apple',\n",
       "  'cost',\n",
       "  'cpo',\n",
       "  'exit',\n",
       "  'get_ipython',\n",
       "  'open',\n",
       "  'quit',\n",
       "  't',\n",
       "  'thing',\n",
       "  'year'],\n",
       " '_i33': 'gazornin = 34.56',\n",
       " 'gazornin': 34.56,\n",
       " '_i34': 'dir()',\n",
       " '_34': ['In',\n",
       "  'Out',\n",
       "  '_',\n",
       "  '_12',\n",
       "  '_13',\n",
       "  '_15',\n",
       "  '_16',\n",
       "  '_18',\n",
       "  '_2',\n",
       "  '_24',\n",
       "  '_25',\n",
       "  '_27',\n",
       "  '_28',\n",
       "  '_29',\n",
       "  '_30',\n",
       "  '_32',\n",
       "  '_4',\n",
       "  '_5',\n",
       "  '_8',\n",
       "  '_9',\n",
       "  '__',\n",
       "  '___',\n",
       "  '__builtin__',\n",
       "  '__builtins__',\n",
       "  '__doc__',\n",
       "  '__loader__',\n",
       "  '__name__',\n",
       "  '__package__',\n",
       "  '__session__',\n",
       "  '__spec__',\n",
       "  '_dh',\n",
       "  '_i',\n",
       "  '_i1',\n",
       "  '_i10',\n",
       "  '_i11',\n",
       "  '_i12',\n",
       "  '_i13',\n",
       "  '_i14',\n",
       "  '_i15',\n",
       "  '_i16',\n",
       "  '_i17',\n",
       "  '_i18',\n",
       "  '_i19',\n",
       "  '_i2',\n",
       "  '_i20',\n",
       "  '_i21',\n",
       "  '_i22',\n",
       "  '_i23',\n",
       "  '_i24',\n",
       "  '_i25',\n",
       "  '_i26',\n",
       "  '_i27',\n",
       "  '_i28',\n",
       "  '_i29',\n",
       "  '_i3',\n",
       "  '_i30',\n",
       "  '_i31',\n",
       "  '_i32',\n",
       "  '_i33',\n",
       "  '_i34',\n",
       "  '_i4',\n",
       "  '_i5',\n",
       "  '_i6',\n",
       "  '_i7',\n",
       "  '_i8',\n",
       "  '_i9',\n",
       "  '_ih',\n",
       "  '_ii',\n",
       "  '_iii',\n",
       "  '_oh',\n",
       "  'apple',\n",
       "  'cost',\n",
       "  'cpo',\n",
       "  'exit',\n",
       "  'gazornin',\n",
       "  'get_ipython',\n",
       "  'open',\n",
       "  'quit',\n",
       "  't',\n",
       "  'thing',\n",
       "  'year'],\n",
       " '_i35': '2 + 3',\n",
       " '_35': 5,\n",
       " '_i36': 'import math',\n",
       " 'math': <module 'math' from '/Library/Frameworks/Python.framework/Versions/3.12/lib/python3.12/lib-dynload/math.cpython-312-darwin.so'>,\n",
       " '_i37': 'dir()',\n",
       " '_37': ['In',\n",
       "  'Out',\n",
       "  '_',\n",
       "  '_12',\n",
       "  '_13',\n",
       "  '_15',\n",
       "  '_16',\n",
       "  '_18',\n",
       "  '_2',\n",
       "  '_24',\n",
       "  '_25',\n",
       "  '_27',\n",
       "  '_28',\n",
       "  '_29',\n",
       "  '_30',\n",
       "  '_32',\n",
       "  '_34',\n",
       "  '_35',\n",
       "  '_4',\n",
       "  '_5',\n",
       "  '_8',\n",
       "  '_9',\n",
       "  '__',\n",
       "  '___',\n",
       "  '__builtin__',\n",
       "  '__builtins__',\n",
       "  '__doc__',\n",
       "  '__loader__',\n",
       "  '__name__',\n",
       "  '__package__',\n",
       "  '__session__',\n",
       "  '__spec__',\n",
       "  '_dh',\n",
       "  '_i',\n",
       "  '_i1',\n",
       "  '_i10',\n",
       "  '_i11',\n",
       "  '_i12',\n",
       "  '_i13',\n",
       "  '_i14',\n",
       "  '_i15',\n",
       "  '_i16',\n",
       "  '_i17',\n",
       "  '_i18',\n",
       "  '_i19',\n",
       "  '_i2',\n",
       "  '_i20',\n",
       "  '_i21',\n",
       "  '_i22',\n",
       "  '_i23',\n",
       "  '_i24',\n",
       "  '_i25',\n",
       "  '_i26',\n",
       "  '_i27',\n",
       "  '_i28',\n",
       "  '_i29',\n",
       "  '_i3',\n",
       "  '_i30',\n",
       "  '_i31',\n",
       "  '_i32',\n",
       "  '_i33',\n",
       "  '_i34',\n",
       "  '_i35',\n",
       "  '_i36',\n",
       "  '_i37',\n",
       "  '_i4',\n",
       "  '_i5',\n",
       "  '_i6',\n",
       "  '_i7',\n",
       "  '_i8',\n",
       "  '_i9',\n",
       "  '_ih',\n",
       "  '_ii',\n",
       "  '_iii',\n",
       "  '_oh',\n",
       "  'apple',\n",
       "  'cost',\n",
       "  'cpo',\n",
       "  'exit',\n",
       "  'gazornin',\n",
       "  'get_ipython',\n",
       "  'math',\n",
       "  'open',\n",
       "  'quit',\n",
       "  't',\n",
       "  'thing',\n",
       "  'year'],\n",
       " '_i38': 'dir(math)',\n",
       " '_38': ['__doc__',\n",
       "  '__file__',\n",
       "  '__loader__',\n",
       "  '__name__',\n",
       "  '__package__',\n",
       "  '__spec__',\n",
       "  'acos',\n",
       "  'acosh',\n",
       "  'asin',\n",
       "  'asinh',\n",
       "  'atan',\n",
       "  'atan2',\n",
       "  'atanh',\n",
       "  'cbrt',\n",
       "  'ceil',\n",
       "  'comb',\n",
       "  'copysign',\n",
       "  'cos',\n",
       "  'cosh',\n",
       "  'degrees',\n",
       "  'dist',\n",
       "  'e',\n",
       "  'erf',\n",
       "  'erfc',\n",
       "  'exp',\n",
       "  'exp2',\n",
       "  'expm1',\n",
       "  'fabs',\n",
       "  'factorial',\n",
       "  'floor',\n",
       "  'fmod',\n",
       "  'frexp',\n",
       "  'fsum',\n",
       "  'gamma',\n",
       "  'gcd',\n",
       "  'hypot',\n",
       "  'inf',\n",
       "  'isclose',\n",
       "  'isfinite',\n",
       "  'isinf',\n",
       "  'isnan',\n",
       "  'isqrt',\n",
       "  'lcm',\n",
       "  'ldexp',\n",
       "  'lgamma',\n",
       "  'log',\n",
       "  'log10',\n",
       "  'log1p',\n",
       "  'log2',\n",
       "  'modf',\n",
       "  'nan',\n",
       "  'nextafter',\n",
       "  'perm',\n",
       "  'pi',\n",
       "  'pow',\n",
       "  'prod',\n",
       "  'radians',\n",
       "  'remainder',\n",
       "  'sin',\n",
       "  'sinh',\n",
       "  'sqrt',\n",
       "  'sumprod',\n",
       "  'tan',\n",
       "  'tanh',\n",
       "  'tau',\n",
       "  'trunc',\n",
       "  'ulp'],\n",
       " '_i39': 'type(math.cos)',\n",
       " '_39': builtin_function_or_method,\n",
       " '_i40': 'type(math.pi)',\n",
       " '_40': float,\n",
       " '_i41': 'help(math)',\n",
       " '_i42': 'help(math.factorial)',\n",
       " '_i43': 'type(dir)',\n",
       " '_43': builtin_function_or_method,\n",
       " '_i44': 'type(math)',\n",
       " '_44': module,\n",
       " '_i45': 'type(type)',\n",
       " '_45': type,\n",
       " '_i46': 'type(print)',\n",
       " '_46': builtin_function_or_method,\n",
       " '_i47': 'import keyword\\nkeyword.kwlist',\n",
       " 'keyword': <module 'keyword' from '/Library/Frameworks/Python.framework/Versions/3.12/lib/python3.12/keyword.py'>,\n",
       " '_47': ['False',\n",
       "  'None',\n",
       "  'True',\n",
       "  'and',\n",
       "  'as',\n",
       "  'assert',\n",
       "  'async',\n",
       "  'await',\n",
       "  'break',\n",
       "  'class',\n",
       "  'continue',\n",
       "  'def',\n",
       "  'del',\n",
       "  'elif',\n",
       "  'else',\n",
       "  'except',\n",
       "  'finally',\n",
       "  'for',\n",
       "  'from',\n",
       "  'global',\n",
       "  'if',\n",
       "  'import',\n",
       "  'in',\n",
       "  'is',\n",
       "  'lambda',\n",
       "  'nonlocal',\n",
       "  'not',\n",
       "  'or',\n",
       "  'pass',\n",
       "  'raise',\n",
       "  'return',\n",
       "  'try',\n",
       "  'while',\n",
       "  'with',\n",
       "  'yield'],\n",
       " '_i48': 'raise = 22',\n",
       " '_i49': 'raised = 22',\n",
       " 'raised': 22,\n",
       " '_i50': 'globals()'}"
      ]
     },
     "execution_count": 50,
     "metadata": {},
     "output_type": "execute_result"
    }
   ],
   "source": [
    "globals()"
   ]
  },
  {
   "cell_type": "code",
   "execution_count": 51,
   "id": "8b86b2b4-8892-4685-8459-cc96e59bfd13",
   "metadata": {},
   "outputs": [
    {
     "data": {
      "text/plain": [
       "['In',\n",
       " 'Out',\n",
       " '_',\n",
       " '_12',\n",
       " '_13',\n",
       " '_15',\n",
       " '_16',\n",
       " '_18',\n",
       " '_2',\n",
       " '_24',\n",
       " '_25',\n",
       " '_27',\n",
       " '_28',\n",
       " '_29',\n",
       " '_30',\n",
       " '_32',\n",
       " '_34',\n",
       " '_35',\n",
       " '_37',\n",
       " '_38',\n",
       " '_39',\n",
       " '_4',\n",
       " '_40',\n",
       " '_43',\n",
       " '_44',\n",
       " '_45',\n",
       " '_46',\n",
       " '_47',\n",
       " '_5',\n",
       " '_50',\n",
       " '_8',\n",
       " '_9',\n",
       " '__',\n",
       " '___',\n",
       " '__builtin__',\n",
       " '__builtins__',\n",
       " '__doc__',\n",
       " '__loader__',\n",
       " '__name__',\n",
       " '__package__',\n",
       " '__session__',\n",
       " '__spec__',\n",
       " '_dh',\n",
       " '_i',\n",
       " '_i1',\n",
       " '_i10',\n",
       " '_i11',\n",
       " '_i12',\n",
       " '_i13',\n",
       " '_i14',\n",
       " '_i15',\n",
       " '_i16',\n",
       " '_i17',\n",
       " '_i18',\n",
       " '_i19',\n",
       " '_i2',\n",
       " '_i20',\n",
       " '_i21',\n",
       " '_i22',\n",
       " '_i23',\n",
       " '_i24',\n",
       " '_i25',\n",
       " '_i26',\n",
       " '_i27',\n",
       " '_i28',\n",
       " '_i29',\n",
       " '_i3',\n",
       " '_i30',\n",
       " '_i31',\n",
       " '_i32',\n",
       " '_i33',\n",
       " '_i34',\n",
       " '_i35',\n",
       " '_i36',\n",
       " '_i37',\n",
       " '_i38',\n",
       " '_i39',\n",
       " '_i4',\n",
       " '_i40',\n",
       " '_i41',\n",
       " '_i42',\n",
       " '_i43',\n",
       " '_i44',\n",
       " '_i45',\n",
       " '_i46',\n",
       " '_i47',\n",
       " '_i48',\n",
       " '_i49',\n",
       " '_i5',\n",
       " '_i50',\n",
       " '_i51',\n",
       " '_i6',\n",
       " '_i7',\n",
       " '_i8',\n",
       " '_i9',\n",
       " '_ih',\n",
       " '_ii',\n",
       " '_iii',\n",
       " '_oh',\n",
       " 'apple',\n",
       " 'cost',\n",
       " 'cpo',\n",
       " 'exit',\n",
       " 'gazornin',\n",
       " 'get_ipython',\n",
       " 'keyword',\n",
       " 'math',\n",
       " 'open',\n",
       " 'quit',\n",
       " 'raised',\n",
       " 't',\n",
       " 'thing',\n",
       " 'year']"
      ]
     },
     "execution_count": 51,
     "metadata": {},
     "output_type": "execute_result"
    }
   ],
   "source": [
    "dir()"
   ]
  },
  {
   "cell_type": "code",
   "execution_count": 54,
   "id": "88f57b21-8f4d-48c9-ad5c-e864aaaf3db0",
   "metadata": {},
   "outputs": [
    {
     "name": "stdout",
     "output_type": "stream",
     "text": [
      "Help on built-in function print in module builtins:\n",
      "\n",
      "print(*args, sep=' ', end='\\n', file=None, flush=False)\n",
      "    Prints the values to a stream, or to sys.stdout by default.\n",
      "\n",
      "    sep\n",
      "      string inserted between values, default a space.\n",
      "    end\n",
      "      string appended after the last value, default a newline.\n",
      "    file\n",
      "      a file-like object (stream); defaults to the current sys.stdout.\n",
      "    flush\n",
      "      whether to forcibly flush the stream.\n",
      "\n"
     ]
    }
   ],
   "source": [
    "help(print)"
   ]
  },
  {
   "cell_type": "code",
   "execution_count": 55,
   "id": "ce54ec8e-0d36-4888-9c92-07bae8f8413a",
   "metadata": {},
   "outputs": [
    {
     "data": {
      "text/plain": [
       "\"<module 'math' from '/Library/Frameworks/Python.framework/Versions/3.12/lib/python3.12/lib-dynload/math.cpython-312-darwin.so'>\""
      ]
     },
     "execution_count": 55,
     "metadata": {},
     "output_type": "execute_result"
    }
   ],
   "source": [
    "str(math)"
   ]
  },
  {
   "cell_type": "code",
   "execution_count": 56,
   "id": "ffbec4d0-e0ec-4f46-9f90-0fefea551b17",
   "metadata": {},
   "outputs": [
    {
     "data": {
      "text/plain": [
       "'<built-in function print>'"
      ]
     },
     "execution_count": 56,
     "metadata": {},
     "output_type": "execute_result"
    }
   ],
   "source": [
    "str(print)"
   ]
  },
  {
   "cell_type": "code",
   "execution_count": 57,
   "id": "775c57e0-5f5c-466f-92aa-e5ee68dac0ef",
   "metadata": {},
   "outputs": [
    {
     "data": {
      "text/plain": [
       "'5'"
      ]
     },
     "execution_count": 57,
     "metadata": {},
     "output_type": "execute_result"
    }
   ],
   "source": [
    "str(5)"
   ]
  },
  {
   "cell_type": "code",
   "execution_count": 58,
   "id": "31b355f1-4125-4127-8418-e746520b4727",
   "metadata": {},
   "outputs": [
    {
     "data": {
      "text/plain": [
       "1"
      ]
     },
     "execution_count": 58,
     "metadata": {},
     "output_type": "execute_result"
    }
   ],
   "source": [
    "int(1.33)"
   ]
  },
  {
   "cell_type": "code",
   "execution_count": 59,
   "id": "cdaa3c0d-3388-4a7c-a952-804be65620c4",
   "metadata": {},
   "outputs": [
    {
     "data": {
      "text/plain": [
       "1"
      ]
     },
     "execution_count": 59,
     "metadata": {},
     "output_type": "execute_result"
    }
   ],
   "source": [
    "int(1.78)"
   ]
  },
  {
   "cell_type": "code",
   "execution_count": 61,
   "id": "2de330b8-f28c-4fd2-8252-0487d5662a81",
   "metadata": {},
   "outputs": [
    {
     "data": {
      "text/plain": [
       "123"
      ]
     },
     "execution_count": 61,
     "metadata": {},
     "output_type": "execute_result"
    }
   ],
   "source": [
    "int('    123   ')"
   ]
  },
  {
   "cell_type": "code",
   "execution_count": 62,
   "id": "69cf69d5-c1da-4a69-862c-768cd96ef482",
   "metadata": {},
   "outputs": [],
   "source": [
    "first, last = 'Grace', 'Hopper'"
   ]
  },
  {
   "cell_type": "code",
   "execution_count": 63,
   "id": "2907f257-cf88-473f-a5bd-539c657422ae",
   "metadata": {},
   "outputs": [
    {
     "data": {
      "text/plain": [
       "'Grace'"
      ]
     },
     "execution_count": 63,
     "metadata": {},
     "output_type": "execute_result"
    }
   ],
   "source": [
    "first"
   ]
  },
  {
   "cell_type": "code",
   "execution_count": 64,
   "id": "9df9184b-83a1-4ac4-b182-fd0e1c48558a",
   "metadata": {},
   "outputs": [],
   "source": [
    "name, birth_year = 'Grace Hopper', 1906"
   ]
  },
  {
   "cell_type": "code",
   "execution_count": 65,
   "id": "0199196e-a0a2-4ef9-b6e8-22f7606566a6",
   "metadata": {},
   "outputs": [],
   "source": [
    "name = 'Grace Hopper'\n",
    "birth_year = 1906"
   ]
  },
  {
   "cell_type": "code",
   "execution_count": 75,
   "id": "fa86ee19-d787-4103-be9b-1fbb7167923a",
   "metadata": {},
   "outputs": [
    {
     "data": {
      "text/plain": [
       "'53.3'"
      ]
     },
     "execution_count": 75,
     "metadata": {},
     "output_type": "execute_result"
    }
   ],
   "source": [
    "str(53.3)"
   ]
  },
  {
   "cell_type": "code",
   "execution_count": 76,
   "id": "f749e35e-9a3c-43ff-aa3a-5eb1c83ce616",
   "metadata": {},
   "outputs": [
    {
     "data": {
      "text/plain": [
       "'False'"
      ]
     },
     "execution_count": 76,
     "metadata": {},
     "output_type": "execute_result"
    }
   ],
   "source": [
    "str(False)"
   ]
  },
  {
   "cell_type": "code",
   "execution_count": 80,
   "id": "b56f799a-8e87-42cc-87a3-a568238d0c7c",
   "metadata": {},
   "outputs": [
    {
     "ename": "NameError",
     "evalue": "name 'abcdef' is not defined",
     "output_type": "error",
     "traceback": [
      "\u001b[0;31m---------------------------------------------------------------------------\u001b[0m",
      "\u001b[0;31mNameError\u001b[0m                                 Traceback (most recent call last)",
      "Cell \u001b[0;32mIn[80], line 1\u001b[0m\n\u001b[0;32m----> 1\u001b[0m \u001b[38;5;28mstr\u001b[39m(\u001b[43mabcdef\u001b[49m)\n",
      "\u001b[0;31mNameError\u001b[0m: name 'abcdef' is not defined"
     ]
    }
   ],
   "source": [
    "str(abcdef)"
   ]
  },
  {
   "cell_type": "code",
   "execution_count": 82,
   "id": "65e3ca41-9d1e-4094-9375-6b614651a8cb",
   "metadata": {},
   "outputs": [
    {
     "data": {
      "text/plain": [
       "300"
      ]
     },
     "execution_count": 82,
     "metadata": {},
     "output_type": "execute_result"
    }
   ],
   "source": [
    "int('300')"
   ]
  },
  {
   "cell_type": "code",
   "execution_count": 83,
   "id": "cc3b5c15-a76e-4aab-b1f9-1aba52ddc884",
   "metadata": {},
   "outputs": [
    {
     "ename": "ValueError",
     "evalue": "invalid literal for int() with base 10: '30x'",
     "output_type": "error",
     "traceback": [
      "\u001b[0;31m---------------------------------------------------------------------------\u001b[0m",
      "\u001b[0;31mValueError\u001b[0m                                Traceback (most recent call last)",
      "Cell \u001b[0;32mIn[83], line 1\u001b[0m\n\u001b[0;32m----> 1\u001b[0m \u001b[38;5;28;43mint\u001b[39;49m\u001b[43m(\u001b[49m\u001b[38;5;124;43m'\u001b[39;49m\u001b[38;5;124;43m30x\u001b[39;49m\u001b[38;5;124;43m'\u001b[39;49m\u001b[43m)\u001b[49m\n",
      "\u001b[0;31mValueError\u001b[0m: invalid literal for int() with base 10: '30x'"
     ]
    }
   ],
   "source": [
    "int('30x')"
   ]
  },
  {
   "cell_type": "code",
   "execution_count": 84,
   "id": "c8f715fa-2ef4-4085-bf88-c3153e5551c0",
   "metadata": {},
   "outputs": [
    {
     "data": {
      "text/plain": [
       "bool"
      ]
     },
     "execution_count": 84,
     "metadata": {},
     "output_type": "execute_result"
    }
   ],
   "source": [
    "type(False)"
   ]
  },
  {
   "cell_type": "code",
   "execution_count": 85,
   "id": "aa40c01b-50c3-4c03-834d-342bbc3594b1",
   "metadata": {},
   "outputs": [
    {
     "data": {
      "text/plain": [
       "str"
      ]
     },
     "execution_count": 85,
     "metadata": {},
     "output_type": "execute_result"
    }
   ],
   "source": [
    "type('False')"
   ]
  },
  {
   "cell_type": "code",
   "execution_count": 86,
   "id": "b6a4a5bd-3769-4ec1-b152-ff6d681fdd22",
   "metadata": {},
   "outputs": [
    {
     "data": {
      "text/plain": [
       "float"
      ]
     },
     "execution_count": 86,
     "metadata": {},
     "output_type": "execute_result"
    }
   ],
   "source": [
    "type(3.5)"
   ]
  },
  {
   "cell_type": "code",
   "execution_count": 66,
   "id": "d6dc7bf1-8b51-4c42-a38c-ee21a1d585f7",
   "metadata": {},
   "outputs": [
    {
     "data": {
      "text/plain": [
       "11"
      ]
     },
     "execution_count": 66,
     "metadata": {},
     "output_type": "execute_result"
    }
   ],
   "source": [
    "1 + 2\n",
    "3 + 4\n",
    "5 + 6"
   ]
  },
  {
   "cell_type": "code",
   "execution_count": 67,
   "id": "c973b6d7-b02d-472b-b86f-c3f0ed65744c",
   "metadata": {},
   "outputs": [
    {
     "data": {
      "text/plain": [
       "4"
      ]
     },
     "execution_count": 67,
     "metadata": {},
     "output_type": "execute_result"
    }
   ],
   "source": [
    "2 * 2"
   ]
  },
  {
   "cell_type": "code",
   "execution_count": 69,
   "id": "85dcf9d5-81fc-4c3d-9357-7f48f200f5f5",
   "metadata": {},
   "outputs": [
    {
     "name": "stdout",
     "output_type": "stream",
     "text": [
      "3\n",
      "7\n",
      "11\n"
     ]
    }
   ],
   "source": [
    "print(1 + 2)\n",
    "print(3 + 4)\n",
    "print(5 + 6)"
   ]
  },
  {
   "cell_type": "code",
   "execution_count": 74,
   "id": "35668749-9bba-43eb-992b-1011278c6106",
   "metadata": {},
   "outputs": [
    {
     "name": "stdout",
     "output_type": "stream",
     "text": [
      "36\n",
      "last line\n"
     ]
    }
   ],
   "source": [
    "print(2 + 34)\n",
    "print('last line')"
   ]
  },
  {
   "cell_type": "code",
   "execution_count": 81,
   "id": "1f1618d9-90cb-438a-a120-8d20758ea4a8",
   "metadata": {},
   "outputs": [
    {
     "data": {
      "text/plain": [
       "['In',\n",
       " 'Out',\n",
       " '_',\n",
       " '_12',\n",
       " '_13',\n",
       " '_15',\n",
       " '_16',\n",
       " '_18',\n",
       " '_2',\n",
       " '_24',\n",
       " '_25',\n",
       " '_27',\n",
       " '_28',\n",
       " '_29',\n",
       " '_30',\n",
       " '_32',\n",
       " '_34',\n",
       " '_35',\n",
       " '_37',\n",
       " '_38',\n",
       " '_39',\n",
       " '_4',\n",
       " '_40',\n",
       " '_43',\n",
       " '_44',\n",
       " '_45',\n",
       " '_46',\n",
       " '_47',\n",
       " '_5',\n",
       " '_50',\n",
       " '_51',\n",
       " '_55',\n",
       " '_56',\n",
       " '_57',\n",
       " '_58',\n",
       " '_59',\n",
       " '_60',\n",
       " '_61',\n",
       " '_63',\n",
       " '_66',\n",
       " '_67',\n",
       " '_68',\n",
       " '_70',\n",
       " '_73',\n",
       " '_75',\n",
       " '_76',\n",
       " '_78',\n",
       " '_8',\n",
       " '_9',\n",
       " '__',\n",
       " '___',\n",
       " '__builtin__',\n",
       " '__builtins__',\n",
       " '__doc__',\n",
       " '__loader__',\n",
       " '__name__',\n",
       " '__package__',\n",
       " '__session__',\n",
       " '__spec__',\n",
       " '_dh',\n",
       " '_i',\n",
       " '_i1',\n",
       " '_i10',\n",
       " '_i11',\n",
       " '_i12',\n",
       " '_i13',\n",
       " '_i14',\n",
       " '_i15',\n",
       " '_i16',\n",
       " '_i17',\n",
       " '_i18',\n",
       " '_i19',\n",
       " '_i2',\n",
       " '_i20',\n",
       " '_i21',\n",
       " '_i22',\n",
       " '_i23',\n",
       " '_i24',\n",
       " '_i25',\n",
       " '_i26',\n",
       " '_i27',\n",
       " '_i28',\n",
       " '_i29',\n",
       " '_i3',\n",
       " '_i30',\n",
       " '_i31',\n",
       " '_i32',\n",
       " '_i33',\n",
       " '_i34',\n",
       " '_i35',\n",
       " '_i36',\n",
       " '_i37',\n",
       " '_i38',\n",
       " '_i39',\n",
       " '_i4',\n",
       " '_i40',\n",
       " '_i41',\n",
       " '_i42',\n",
       " '_i43',\n",
       " '_i44',\n",
       " '_i45',\n",
       " '_i46',\n",
       " '_i47',\n",
       " '_i48',\n",
       " '_i49',\n",
       " '_i5',\n",
       " '_i50',\n",
       " '_i51',\n",
       " '_i52',\n",
       " '_i53',\n",
       " '_i54',\n",
       " '_i55',\n",
       " '_i56',\n",
       " '_i57',\n",
       " '_i58',\n",
       " '_i59',\n",
       " '_i6',\n",
       " '_i60',\n",
       " '_i61',\n",
       " '_i62',\n",
       " '_i63',\n",
       " '_i64',\n",
       " '_i65',\n",
       " '_i66',\n",
       " '_i67',\n",
       " '_i68',\n",
       " '_i69',\n",
       " '_i7',\n",
       " '_i70',\n",
       " '_i71',\n",
       " '_i72',\n",
       " '_i73',\n",
       " '_i74',\n",
       " '_i75',\n",
       " '_i76',\n",
       " '_i77',\n",
       " '_i78',\n",
       " '_i79',\n",
       " '_i8',\n",
       " '_i80',\n",
       " '_i81',\n",
       " '_i9',\n",
       " '_ih',\n",
       " '_ii',\n",
       " '_iii',\n",
       " '_oh',\n",
       " 'apple',\n",
       " 'birth_year',\n",
       " 'cost',\n",
       " 'cpo',\n",
       " 'exit',\n",
       " 'false',\n",
       " 'first',\n",
       " 'gazornin',\n",
       " 'get_ipython',\n",
       " 'keyword',\n",
       " 'last',\n",
       " 'math',\n",
       " 'name',\n",
       " 'open',\n",
       " 'quit',\n",
       " 'raised',\n",
       " 't',\n",
       " 'thing',\n",
       " 'year']"
      ]
     },
     "execution_count": 81,
     "metadata": {},
     "output_type": "execute_result"
    }
   ],
   "source": [
    "dir()"
   ]
  },
  {
   "cell_type": "code",
   "execution_count": 87,
   "id": "b96bb760-5f77-47e2-8e50-0b1b2b43535f",
   "metadata": {},
   "outputs": [
    {
     "data": {
      "text/plain": [
       "3"
      ]
     },
     "execution_count": 87,
     "metadata": {},
     "output_type": "execute_result"
    }
   ],
   "source": [
    "15 % 6"
   ]
  },
  {
   "cell_type": "code",
   "execution_count": 88,
   "id": "bc67e261-fb82-4895-b072-56d07b3a7531",
   "metadata": {},
   "outputs": [
    {
     "data": {
      "text/plain": [
       "0"
      ]
     },
     "execution_count": 88,
     "metadata": {},
     "output_type": "execute_result"
    }
   ],
   "source": [
    "15 % 3"
   ]
  },
  {
   "cell_type": "code",
   "execution_count": 89,
   "id": "9f982f77-5d35-427d-b3a1-0ee4b327300e",
   "metadata": {},
   "outputs": [
    {
     "data": {
      "text/plain": [
       "'thisthat'"
      ]
     },
     "execution_count": 89,
     "metadata": {},
     "output_type": "execute_result"
    }
   ],
   "source": [
    "'this' + 'that'"
   ]
  },
  {
   "cell_type": "code",
   "execution_count": 90,
   "id": "1dc120e9-4969-4701-8edb-529b6528eae1",
   "metadata": {},
   "outputs": [],
   "source": [
    "first, last = 'Grace', 'Hopper'"
   ]
  },
  {
   "cell_type": "code",
   "execution_count": 91,
   "id": "511996f1-9f1c-4305-8f85-b99a97912966",
   "metadata": {},
   "outputs": [],
   "source": [
    "name = 'Grace Hopper'\n",
    "birth_year = 1906"
   ]
  },
  {
   "cell_type": "code",
   "execution_count": 95,
   "id": "e20465c1-7fec-4f95-9ed7-1cf8d10d9a83",
   "metadata": {},
   "outputs": [],
   "source": [
    "x, y, z = 1, 2, 3"
   ]
  },
  {
   "cell_type": "code",
   "execution_count": 96,
   "id": "ef54b87b-79a5-4f19-b66f-0a1d866dbd8d",
   "metadata": {},
   "outputs": [],
   "source": [
    "a, b, o, p = 'b', 'a', 'p', 'o'"
   ]
  },
  {
   "cell_type": "code",
   "execution_count": 97,
   "id": "3a7a899a-c0a4-45d0-b403-6bb720e4e0b3",
   "metadata": {},
   "outputs": [
    {
     "data": {
      "text/plain": [
       "'pop'"
      ]
     },
     "execution_count": 97,
     "metadata": {},
     "output_type": "execute_result"
    }
   ],
   "source": [
    "o + p + o"
   ]
  },
  {
   "cell_type": "code",
   "execution_count": 98,
   "id": "fe1d5dcf-6118-4077-87eb-fb3d0fdca375",
   "metadata": {},
   "outputs": [
    {
     "data": {
      "text/plain": [
       "'bbba'"
      ]
     },
     "execution_count": 98,
     "metadata": {},
     "output_type": "execute_result"
    }
   ],
   "source": [
    "a * 3 + b"
   ]
  },
  {
   "cell_type": "code",
   "execution_count": 99,
   "id": "70992c77-b225-44ed-a430-c2b87246707a",
   "metadata": {},
   "outputs": [
    {
     "data": {
      "text/plain": [
       "'bookkeeper'"
      ]
     },
     "execution_count": 99,
     "metadata": {},
     "output_type": "execute_result"
    }
   ],
   "source": [
    "a + p * 2 + 'k' * 2 + 'e' * 2 + o + 'er'"
   ]
  },
  {
   "cell_type": "code",
   "execution_count": 100,
   "id": "d424951c-51ac-43fb-b3b6-f4295cc211ba",
   "metadata": {},
   "outputs": [
    {
     "data": {
      "text/plain": [
       "4"
      ]
     },
     "execution_count": 100,
     "metadata": {},
     "output_type": "execute_result"
    }
   ],
   "source": [
    "2 * 2"
   ]
  },
  {
   "cell_type": "code",
   "execution_count": 101,
   "id": "eb26f76e-89e9-4015-8dd3-2a5d5d51edbb",
   "metadata": {},
   "outputs": [
    {
     "data": {
      "text/plain": [
       "'22'"
      ]
     },
     "execution_count": 101,
     "metadata": {},
     "output_type": "execute_result"
    }
   ],
   "source": [
    "'2' * 2"
   ]
  },
  {
   "cell_type": "code",
   "execution_count": 102,
   "id": "79f6dbf7-4317-4c28-a310-fba15474dd3b",
   "metadata": {},
   "outputs": [],
   "source": [
    "name = 'Bruce Lee'"
   ]
  },
  {
   "cell_type": "code",
   "execution_count": 103,
   "id": "13a752ae-6cc5-4395-b6c4-34c9808624b4",
   "metadata": {},
   "outputs": [
    {
     "data": {
      "text/plain": [
       "2"
      ]
     },
     "execution_count": 103,
     "metadata": {},
     "output_type": "execute_result"
    }
   ],
   "source": [
    "len('ok')"
   ]
  },
  {
   "cell_type": "code",
   "execution_count": 104,
   "id": "79ca192c-0604-466e-8dec-a543623eb5cb",
   "metadata": {},
   "outputs": [],
   "source": [
    "ok = 2 # int, scalar"
   ]
  },
  {
   "cell_type": "code",
   "execution_count": 105,
   "id": "0beb9a84-4b3c-432b-ae60-80db7a335921",
   "metadata": {},
   "outputs": [
    {
     "ename": "TypeError",
     "evalue": "object of type 'int' has no len()",
     "output_type": "error",
     "traceback": [
      "\u001b[0;31m---------------------------------------------------------------------------\u001b[0m",
      "\u001b[0;31mTypeError\u001b[0m                                 Traceback (most recent call last)",
      "Cell \u001b[0;32mIn[105], line 1\u001b[0m\n\u001b[0;32m----> 1\u001b[0m \u001b[38;5;28;43mlen\u001b[39;49m\u001b[43m(\u001b[49m\u001b[43mok\u001b[49m\u001b[43m)\u001b[49m \u001b[38;5;66;03m# length of a scalar?\u001b[39;00m\n",
      "\u001b[0;31mTypeError\u001b[0m: object of type 'int' has no len()"
     ]
    }
   ],
   "source": [
    "len(ok) # length of a scalar?"
   ]
  },
  {
   "cell_type": "code",
   "execution_count": 106,
   "id": "7db376b3-dc38-4602-919a-9b6d79d234ec",
   "metadata": {},
   "outputs": [],
   "source": [
    "name = 'Dave'"
   ]
  },
  {
   "cell_type": "code",
   "execution_count": 107,
   "id": "a831aaeb-1f2f-44d3-a9b5-1141731ad7e8",
   "metadata": {},
   "outputs": [
    {
     "data": {
      "text/plain": [
       "True"
      ]
     },
     "execution_count": 107,
     "metadata": {},
     "output_type": "execute_result"
    }
   ],
   "source": [
    "'C' in 'Cigna'"
   ]
  },
  {
   "cell_type": "code",
   "execution_count": 108,
   "id": "44e19c24-04c4-4836-bf27-ce8b9f7a07f2",
   "metadata": {},
   "outputs": [
    {
     "ename": "TypeError",
     "evalue": "argument of type 'int' is not iterable",
     "output_type": "error",
     "traceback": [
      "\u001b[0;31m---------------------------------------------------------------------------\u001b[0m",
      "\u001b[0;31mTypeError\u001b[0m                                 Traceback (most recent call last)",
      "Cell \u001b[0;32mIn[108], line 1\u001b[0m\n\u001b[0;32m----> 1\u001b[0m \u001b[38;5;241;43m1\u001b[39;49m\u001b[43m \u001b[49m\u001b[38;5;129;43;01min\u001b[39;49;00m\u001b[43m \u001b[49m\u001b[38;5;241;43m12345\u001b[39;49m\n",
      "\u001b[0;31mTypeError\u001b[0m: argument of type 'int' is not iterable"
     ]
    }
   ],
   "source": [
    "1 in 12345"
   ]
  },
  {
   "cell_type": "code",
   "execution_count": 109,
   "id": "32c6d757-ba55-4fb4-b0f8-18b45ffaf067",
   "metadata": {},
   "outputs": [
    {
     "data": {
      "text/plain": [
       "True"
      ]
     },
     "execution_count": 109,
     "metadata": {},
     "output_type": "execute_result"
    }
   ],
   "source": [
    "'C' in 'Cigna'"
   ]
  },
  {
   "cell_type": "code",
   "execution_count": 110,
   "id": "9528adde-867d-4163-829d-a67620de209b",
   "metadata": {},
   "outputs": [
    {
     "data": {
      "text/plain": [
       "True"
      ]
     },
     "execution_count": 110,
     "metadata": {},
     "output_type": "execute_result"
    }
   ],
   "source": [
    "'Cig' in 'Cigna'"
   ]
  },
  {
   "cell_type": "code",
   "execution_count": 111,
   "id": "46313f35-0d86-4829-aafd-2d5b76b5c7ba",
   "metadata": {},
   "outputs": [
    {
     "data": {
      "text/plain": [
       "True"
      ]
     },
     "execution_count": 111,
     "metadata": {},
     "output_type": "execute_result"
    }
   ],
   "source": [
    "'3' in '12345'"
   ]
  },
  {
   "cell_type": "code",
   "execution_count": 112,
   "id": "d5d7c65f-38f0-410c-969d-7b0b40625b02",
   "metadata": {},
   "outputs": [],
   "source": [
    "count = 12345"
   ]
  },
  {
   "cell_type": "code",
   "execution_count": 114,
   "id": "193309c4-94a9-4925-9704-1d20e7940715",
   "metadata": {},
   "outputs": [
    {
     "data": {
      "text/plain": [
       "False"
      ]
     },
     "execution_count": 114,
     "metadata": {},
     "output_type": "execute_result"
    }
   ],
   "source": [
    "'7' in str(count)"
   ]
  },
  {
   "cell_type": "code",
   "execution_count": 118,
   "id": "5d083c74-5273-43b0-84b0-5a016ebf0839",
   "metadata": {},
   "outputs": [],
   "source": [
    "import random"
   ]
  },
  {
   "cell_type": "code",
   "execution_count": 119,
   "id": "4e538948-c4d6-4281-9a19-7b45197c2ec5",
   "metadata": {},
   "outputs": [
    {
     "data": {
      "text/plain": [
       "['BPF',\n",
       " 'LOG4',\n",
       " 'NV_MAGICCONST',\n",
       " 'RECIP_BPF',\n",
       " 'Random',\n",
       " 'SG_MAGICCONST',\n",
       " 'SystemRandom',\n",
       " 'TWOPI',\n",
       " '_ONE',\n",
       " '_Sequence',\n",
       " '__all__',\n",
       " '__builtins__',\n",
       " '__cached__',\n",
       " '__doc__',\n",
       " '__file__',\n",
       " '__loader__',\n",
       " '__name__',\n",
       " '__package__',\n",
       " '__spec__',\n",
       " '_accumulate',\n",
       " '_acos',\n",
       " '_bisect',\n",
       " '_ceil',\n",
       " '_cos',\n",
       " '_e',\n",
       " '_exp',\n",
       " '_fabs',\n",
       " '_floor',\n",
       " '_index',\n",
       " '_inst',\n",
       " '_isfinite',\n",
       " '_lgamma',\n",
       " '_log',\n",
       " '_log2',\n",
       " '_os',\n",
       " '_pi',\n",
       " '_random',\n",
       " '_repeat',\n",
       " '_sha512',\n",
       " '_sin',\n",
       " '_sqrt',\n",
       " '_test',\n",
       " '_test_generator',\n",
       " '_urandom',\n",
       " '_warn',\n",
       " 'betavariate',\n",
       " 'binomialvariate',\n",
       " 'choice',\n",
       " 'choices',\n",
       " 'expovariate',\n",
       " 'gammavariate',\n",
       " 'gauss',\n",
       " 'getrandbits',\n",
       " 'getstate',\n",
       " 'lognormvariate',\n",
       " 'normalvariate',\n",
       " 'paretovariate',\n",
       " 'randbytes',\n",
       " 'randint',\n",
       " 'random',\n",
       " 'randrange',\n",
       " 'sample',\n",
       " 'seed',\n",
       " 'setstate',\n",
       " 'shuffle',\n",
       " 'triangular',\n",
       " 'uniform',\n",
       " 'vonmisesvariate',\n",
       " 'weibullvariate']"
      ]
     },
     "execution_count": 119,
     "metadata": {},
     "output_type": "execute_result"
    }
   ],
   "source": [
    "dir(random)"
   ]
  },
  {
   "cell_type": "code",
   "execution_count": 120,
   "id": "f3a70381-f999-44b8-9fb2-51010bc9770c",
   "metadata": {},
   "outputs": [
    {
     "name": "stdout",
     "output_type": "stream",
     "text": [
      "Help on method randint in module random:\n",
      "\n",
      "randint(a, b) method of random.Random instance\n",
      "    Return random integer in range [a, b], including both end points.\n",
      "\n"
     ]
    }
   ],
   "source": [
    "help(random.randint)"
   ]
  },
  {
   "cell_type": "code",
   "execution_count": 131,
   "id": "2fad6e15-d519-49d5-ae7e-3153fa21fc6b",
   "metadata": {},
   "outputs": [
    {
     "data": {
      "text/plain": [
       "4"
      ]
     },
     "execution_count": 131,
     "metadata": {},
     "output_type": "execute_result"
    }
   ],
   "source": [
    "random.randint(1, 6)"
   ]
  },
  {
   "cell_type": "code",
   "execution_count": 135,
   "id": "0f614a05-6e7a-452e-82cb-3ecb9f52ea5e",
   "metadata": {},
   "outputs": [
    {
     "data": {
      "text/plain": [
       "4"
      ]
     },
     "execution_count": 135,
     "metadata": {},
     "output_type": "execute_result"
    }
   ],
   "source": [
    "2 + 2"
   ]
  },
  {
   "cell_type": "code",
   "execution_count": 136,
   "id": "98260296-fcec-4a70-be82-16f2aefdf8ec",
   "metadata": {},
   "outputs": [
    {
     "ename": "TypeError",
     "evalue": "'int' object is not iterable",
     "output_type": "error",
     "traceback": [
      "\u001b[0;31m---------------------------------------------------------------------------\u001b[0m",
      "\u001b[0;31mTypeError\u001b[0m                                 Traceback (most recent call last)",
      "Cell \u001b[0;32mIn[136], line 1\u001b[0m\n\u001b[0;32m----> 1\u001b[0m \u001b[38;5;28;43;01mfor\u001b[39;49;00m\u001b[43m \u001b[49m\u001b[43mdigit\u001b[49m\u001b[43m \u001b[49m\u001b[38;5;129;43;01min\u001b[39;49;00m\u001b[43m \u001b[49m\u001b[38;5;241;43m12345\u001b[39;49m\u001b[43m:\u001b[49m\n\u001b[1;32m      2\u001b[0m \u001b[43m    \u001b[49m\u001b[38;5;28;43mprint\u001b[39;49m\u001b[43m(\u001b[49m\u001b[43mdigit\u001b[49m\u001b[43m)\u001b[49m\n",
      "\u001b[0;31mTypeError\u001b[0m: 'int' object is not iterable"
     ]
    }
   ],
   "source": [
    "for digit in 12345:\n",
    "    print(digit)"
   ]
  },
  {
   "cell_type": "code",
   "execution_count": 137,
   "id": "5016fe62-3aed-4cb7-86b4-e5da728ebc4c",
   "metadata": {},
   "outputs": [
    {
     "name": "stdout",
     "output_type": "stream",
     "text": [
      "1\n",
      "2\n",
      "3\n",
      "4\n",
      "5\n"
     ]
    }
   ],
   "source": [
    "for digit in '12345':\n",
    "    print(digit)"
   ]
  },
  {
   "cell_type": "markdown",
   "id": "a71717c7-559b-4e7e-9525-5161ae8cbe82",
   "metadata": {},
   "source": [
    "## Quick Lab: Loops/Strings\n",
    "* have the user enter a string, then loop through the string to generate (or print) a new string in which every character is duplicated, e.g., \"Python\" => \"PPyytthhoonn\""
   ]
  },
  {
   "cell_type": "code",
   "execution_count": 141,
   "id": "0b42dcc5-a564-4139-9745-6ac3c74c3a6c",
   "metadata": {},
   "outputs": [
    {
     "name": "stdin",
     "output_type": "stream",
     "text": [
      "Enter a string:  try ahain\n"
     ]
    },
    {
     "name": "stdout",
     "output_type": "stream",
     "text": [
      "ttrryy  aahhaaiinn"
     ]
    }
   ],
   "source": [
    "# steps, just to be 100% clear\n",
    "# 1. get a string from the user\n",
    "# 2. for each letter in the string:\n",
    "# 3.    print the letter twice\n",
    "\n",
    "word = input('Enter a string: ') # 1\n",
    "for letter in word: # 2\n",
    "    print(letter * 2, end='') # 3...note we need end='' to prevent going to next line"
   ]
  },
  {
   "cell_type": "raw",
   "id": "45f9033e-8589-40e5-a765-d3d1c8302d8b",
   "metadata": {},
   "source": [
    "## (Group) Lab: Loops\n",
    "* Loop through the numbers from 2 to 25 and print out which numbers are prime, and for those numbers which are not prime numbers, you should print them as a product of two factors\n",
    "* prime = no divisors other than 1 and itself\n",
    "* example output:\n",
    "<pre>\n",
    "2 is PRIME\n",
    "3 is PRIME\n",
    "4 is divisible by 2\n",
    "5 is PRIME\n",
    "6 is divisible by 2\n",
    "7 is PRIME\n",
    "8 is divisible by 2\n",
    "9 is divisible by 3\n",
    "10 is divisible by 2\n",
    "11 is PRIME\n",
    "12 is divisible by 2\n",
    "13 is PRIME\n",
    "14 is divisible by 2\n",
    "15 is divisible by 3\n",
    "16 is divisible by 2\n",
    "17 is PRIME\n",
    "18 is divisible by 2\n",
    "19 is PRIMEs\n",
    "20 is divisible by 2\n",
    "21 is divisible by 3\n",
    "22 is divisible by 2\n",
    "23 is PRIME\n",
    "24 is divisible by 2\n",
    "25 is divisible by 5\n",
    "</pre>"
   ]
  },
  {
   "cell_type": "code",
   "execution_count": null,
   "id": "7950e29f-b84c-41c1-8292-094c70dc82f0",
   "metadata": {},
   "outputs": [],
   "source": [
    "# steps for a human\n",
    "# 1. consider each number from 2 up to 25 one at a time\n",
    "# 2. see if any number >= 2 divides into it\n",
    "# 3. if no numbers divide into it, say \"PRIME\"\n",
    "# 4. otherwise, say \"divisible by\" whatever number\n",
    "#       divides in"
   ]
  },
  {
   "cell_type": "code",
   "execution_count": null,
   "id": "0d07638c-976a-4f62-8c9d-4dcd439f1727",
   "metadata": {},
   "outputs": [],
   "source": [
    "# refined steps...what we call \"pseudocode\"\n",
    "# 1. for each number from 2..25:\n",
    "# 2.     for each possible divisor 2..number - 1\n",
    "# 3.          if possible divisor divides in:\n",
    "# 4.                print \"divisible by\", possible divisor\n",
    "# 5.                stop checking\n",
    "# 6.\n",
    "# 7.     if no numbers divide into it, say \"PRIME\""
   ]
  },
  {
   "cell_type": "code",
   "execution_count": null,
   "id": "a29c8e2d-e72e-4ce0-9690-02bd973720b8",
   "metadata": {},
   "outputs": [],
   "source": [
    "# pseudocode\n",
    "# 1. for number in 2..25:\n",
    "# 2.     for potential divisors from 2..number - 1:\n",
    "# 3.          if potential divisor divides in to the number:\n",
    "# 4.                print \"divisible by\" + potential divisor\n",
    "# 4a.               stop checking (break)\n",
    "# 5.     if all divisors fail to divide in:\n",
    "# 6.         print PRIME"
   ]
  },
  {
   "cell_type": "code",
   "execution_count": 173,
   "id": "69f1aac9-c0e0-475d-8a76-b76c4357e90f",
   "metadata": {},
   "outputs": [
    {
     "name": "stdout",
     "output_type": "stream",
     "text": [
      "2 is is PRIME\n",
      "3 is is PRIME\n",
      "4 is divisible by 2\n",
      "5 is is PRIME\n",
      "6 is divisible by 2\n",
      "7 is is PRIME\n",
      "8 is divisible by 2\n",
      "9 is divisible by 3\n",
      "10 is divisible by 2\n",
      "11 is is PRIME\n",
      "12 is divisible by 2\n",
      "13 is is PRIME\n",
      "14 is divisible by 2\n",
      "15 is divisible by 3\n",
      "16 is divisible by 2\n",
      "17 is is PRIME\n",
      "18 is divisible by 2\n",
      "19 is is PRIME\n",
      "20 is divisible by 2\n",
      "21 is divisible by 3\n",
      "22 is divisible by 2\n",
      "23 is is PRIME\n",
      "24 is divisible by 2\n",
      "25 is divisible by 5\n",
      "26 is divisible by 2\n",
      "27 is divisible by 3\n",
      "28 is divisible by 2\n",
      "29 is is PRIME\n",
      "30 is divisible by 2\n",
      "31 is is PRIME\n",
      "32 is divisible by 2\n",
      "33 is divisible by 3\n",
      "34 is divisible by 2\n",
      "35 is divisible by 5\n",
      "36 is divisible by 2\n",
      "37 is is PRIME\n",
      "38 is divisible by 2\n",
      "39 is divisible by 3\n",
      "40 is divisible by 2\n",
      "41 is is PRIME\n",
      "42 is divisible by 2\n",
      "43 is is PRIME\n",
      "44 is divisible by 2\n",
      "45 is divisible by 3\n",
      "46 is divisible by 2\n",
      "47 is is PRIME\n",
      "48 is divisible by 2\n",
      "49 is divisible by 7\n",
      "50 is divisible by 2\n",
      "51 is divisible by 3\n",
      "52 is divisible by 2\n",
      "53 is is PRIME\n",
      "54 is divisible by 2\n",
      "55 is divisible by 5\n",
      "56 is divisible by 2\n",
      "57 is divisible by 3\n",
      "58 is divisible by 2\n",
      "59 is is PRIME\n",
      "60 is divisible by 2\n",
      "61 is is PRIME\n",
      "62 is divisible by 2\n",
      "63 is divisible by 3\n",
      "64 is divisible by 2\n",
      "65 is divisible by 5\n",
      "66 is divisible by 2\n",
      "67 is is PRIME\n",
      "68 is divisible by 2\n",
      "69 is divisible by 3\n",
      "70 is divisible by 2\n",
      "71 is is PRIME\n",
      "72 is divisible by 2\n",
      "73 is is PRIME\n",
      "74 is divisible by 2\n",
      "75 is divisible by 3\n",
      "76 is divisible by 2\n",
      "77 is divisible by 7\n",
      "78 is divisible by 2\n",
      "79 is is PRIME\n",
      "80 is divisible by 2\n",
      "81 is divisible by 3\n",
      "82 is divisible by 2\n",
      "83 is is PRIME\n",
      "84 is divisible by 2\n",
      "85 is divisible by 5\n",
      "86 is divisible by 2\n",
      "87 is divisible by 3\n",
      "88 is divisible by 2\n",
      "89 is is PRIME\n",
      "90 is divisible by 2\n",
      "91 is divisible by 7\n",
      "92 is divisible by 2\n",
      "93 is divisible by 3\n",
      "94 is divisible by 2\n",
      "95 is divisible by 5\n",
      "96 is divisible by 2\n",
      "97 is is PRIME\n",
      "98 is divisible by 2\n",
      "99 is divisible by 3\n",
      "100 is divisible by 2\n",
      "101 is is PRIME\n",
      "102 is divisible by 2\n",
      "103 is is PRIME\n",
      "104 is divisible by 2\n",
      "105 is divisible by 3\n",
      "106 is divisible by 2\n",
      "107 is is PRIME\n",
      "108 is divisible by 2\n",
      "109 is is PRIME\n",
      "110 is divisible by 2\n",
      "111 is divisible by 3\n",
      "112 is divisible by 2\n",
      "113 is is PRIME\n",
      "114 is divisible by 2\n",
      "115 is divisible by 5\n",
      "116 is divisible by 2\n",
      "117 is divisible by 3\n",
      "118 is divisible by 2\n",
      "119 is divisible by 7\n",
      "120 is divisible by 2\n",
      "121 is divisible by 11\n",
      "122 is divisible by 2\n",
      "123 is divisible by 3\n",
      "124 is divisible by 2\n",
      "125 is divisible by 5\n",
      "126 is divisible by 2\n",
      "127 is is PRIME\n",
      "128 is divisible by 2\n",
      "129 is divisible by 3\n",
      "130 is divisible by 2\n",
      "131 is is PRIME\n",
      "132 is divisible by 2\n",
      "133 is divisible by 7\n",
      "134 is divisible by 2\n",
      "135 is divisible by 3\n",
      "136 is divisible by 2\n",
      "137 is is PRIME\n",
      "138 is divisible by 2\n",
      "139 is is PRIME\n",
      "140 is divisible by 2\n",
      "141 is divisible by 3\n",
      "142 is divisible by 2\n",
      "143 is divisible by 11\n",
      "144 is divisible by 2\n",
      "145 is divisible by 5\n",
      "146 is divisible by 2\n",
      "147 is divisible by 3\n",
      "148 is divisible by 2\n",
      "149 is is PRIME\n",
      "150 is divisible by 2\n",
      "151 is is PRIME\n",
      "152 is divisible by 2\n",
      "153 is divisible by 3\n",
      "154 is divisible by 2\n",
      "155 is divisible by 5\n",
      "156 is divisible by 2\n",
      "157 is is PRIME\n",
      "158 is divisible by 2\n",
      "159 is divisible by 3\n",
      "160 is divisible by 2\n",
      "161 is divisible by 7\n",
      "162 is divisible by 2\n",
      "163 is is PRIME\n",
      "164 is divisible by 2\n",
      "165 is divisible by 3\n",
      "166 is divisible by 2\n",
      "167 is is PRIME\n",
      "168 is divisible by 2\n",
      "169 is divisible by 13\n",
      "170 is divisible by 2\n",
      "171 is divisible by 3\n",
      "172 is divisible by 2\n",
      "173 is is PRIME\n",
      "174 is divisible by 2\n",
      "175 is divisible by 5\n",
      "176 is divisible by 2\n",
      "177 is divisible by 3\n",
      "178 is divisible by 2\n",
      "179 is is PRIME\n",
      "180 is divisible by 2\n",
      "181 is is PRIME\n",
      "182 is divisible by 2\n",
      "183 is divisible by 3\n",
      "184 is divisible by 2\n",
      "185 is divisible by 5\n",
      "186 is divisible by 2\n",
      "187 is divisible by 11\n",
      "188 is divisible by 2\n",
      "189 is divisible by 3\n",
      "190 is divisible by 2\n",
      "191 is is PRIME\n",
      "192 is divisible by 2\n",
      "193 is is PRIME\n",
      "194 is divisible by 2\n",
      "195 is divisible by 3\n",
      "196 is divisible by 2\n",
      "197 is is PRIME\n",
      "198 is divisible by 2\n",
      "199 is is PRIME\n",
      "200 is divisible by 2\n",
      "201 is divisible by 3\n",
      "202 is divisible by 2\n",
      "203 is divisible by 7\n",
      "204 is divisible by 2\n",
      "205 is divisible by 5\n",
      "206 is divisible by 2\n",
      "207 is divisible by 3\n",
      "208 is divisible by 2\n",
      "209 is divisible by 11\n",
      "210 is divisible by 2\n",
      "211 is is PRIME\n",
      "212 is divisible by 2\n",
      "213 is divisible by 3\n",
      "214 is divisible by 2\n",
      "215 is divisible by 5\n",
      "216 is divisible by 2\n",
      "217 is divisible by 7\n",
      "218 is divisible by 2\n",
      "219 is divisible by 3\n",
      "220 is divisible by 2\n",
      "221 is divisible by 13\n",
      "222 is divisible by 2\n",
      "223 is is PRIME\n",
      "224 is divisible by 2\n",
      "225 is divisible by 3\n",
      "226 is divisible by 2\n",
      "227 is is PRIME\n",
      "228 is divisible by 2\n",
      "229 is is PRIME\n",
      "230 is divisible by 2\n",
      "231 is divisible by 3\n",
      "232 is divisible by 2\n",
      "233 is is PRIME\n",
      "234 is divisible by 2\n",
      "235 is divisible by 5\n",
      "236 is divisible by 2\n",
      "237 is divisible by 3\n",
      "238 is divisible by 2\n",
      "239 is is PRIME\n",
      "240 is divisible by 2\n",
      "241 is is PRIME\n",
      "242 is divisible by 2\n",
      "243 is divisible by 3\n",
      "244 is divisible by 2\n",
      "245 is divisible by 5\n",
      "246 is divisible by 2\n",
      "247 is divisible by 13\n",
      "248 is divisible by 2\n",
      "249 is divisible by 3\n",
      "250 is divisible by 2\n",
      "251 is is PRIME\n",
      "252 is divisible by 2\n",
      "253 is divisible by 11\n",
      "254 is divisible by 2\n",
      "255 is divisible by 3\n",
      "256 is divisible by 2\n",
      "257 is is PRIME\n",
      "258 is divisible by 2\n",
      "259 is divisible by 7\n",
      "260 is divisible by 2\n",
      "261 is divisible by 3\n",
      "262 is divisible by 2\n",
      "263 is is PRIME\n",
      "264 is divisible by 2\n",
      "265 is divisible by 5\n",
      "266 is divisible by 2\n",
      "267 is divisible by 3\n",
      "268 is divisible by 2\n",
      "269 is is PRIME\n",
      "270 is divisible by 2\n",
      "271 is is PRIME\n",
      "272 is divisible by 2\n",
      "273 is divisible by 3\n",
      "274 is divisible by 2\n",
      "275 is divisible by 5\n",
      "276 is divisible by 2\n",
      "277 is is PRIME\n",
      "278 is divisible by 2\n",
      "279 is divisible by 3\n",
      "280 is divisible by 2\n",
      "281 is is PRIME\n",
      "282 is divisible by 2\n",
      "283 is is PRIME\n",
      "284 is divisible by 2\n",
      "285 is divisible by 3\n",
      "286 is divisible by 2\n",
      "287 is divisible by 7\n",
      "288 is divisible by 2\n",
      "289 is divisible by 17\n",
      "290 is divisible by 2\n",
      "291 is divisible by 3\n",
      "292 is divisible by 2\n",
      "293 is is PRIME\n",
      "294 is divisible by 2\n",
      "295 is divisible by 5\n",
      "296 is divisible by 2\n",
      "297 is divisible by 3\n",
      "298 is divisible by 2\n",
      "299 is divisible by 13\n",
      "300 is divisible by 2\n",
      "301 is divisible by 7\n",
      "302 is divisible by 2\n",
      "303 is divisible by 3\n",
      "304 is divisible by 2\n",
      "305 is divisible by 5\n",
      "306 is divisible by 2\n",
      "307 is is PRIME\n",
      "308 is divisible by 2\n",
      "309 is divisible by 3\n",
      "310 is divisible by 2\n",
      "311 is is PRIME\n",
      "312 is divisible by 2\n",
      "313 is is PRIME\n",
      "314 is divisible by 2\n",
      "315 is divisible by 3\n",
      "316 is divisible by 2\n",
      "317 is is PRIME\n",
      "318 is divisible by 2\n",
      "319 is divisible by 11\n",
      "320 is divisible by 2\n",
      "321 is divisible by 3\n",
      "322 is divisible by 2\n",
      "323 is divisible by 17\n",
      "324 is divisible by 2\n",
      "325 is divisible by 5\n",
      "326 is divisible by 2\n",
      "327 is divisible by 3\n",
      "328 is divisible by 2\n",
      "329 is divisible by 7\n",
      "330 is divisible by 2\n",
      "331 is is PRIME\n",
      "332 is divisible by 2\n",
      "333 is divisible by 3\n",
      "334 is divisible by 2\n",
      "335 is divisible by 5\n",
      "336 is divisible by 2\n",
      "337 is is PRIME\n",
      "338 is divisible by 2\n",
      "339 is divisible by 3\n",
      "340 is divisible by 2\n",
      "341 is divisible by 11\n",
      "342 is divisible by 2\n",
      "343 is divisible by 7\n",
      "344 is divisible by 2\n",
      "345 is divisible by 3\n",
      "346 is divisible by 2\n",
      "347 is is PRIME\n",
      "348 is divisible by 2\n",
      "349 is is PRIME\n",
      "350 is divisible by 2\n",
      "351 is divisible by 3\n",
      "352 is divisible by 2\n",
      "353 is is PRIME\n",
      "354 is divisible by 2\n",
      "355 is divisible by 5\n",
      "356 is divisible by 2\n",
      "357 is divisible by 3\n",
      "358 is divisible by 2\n",
      "359 is is PRIME\n",
      "360 is divisible by 2\n",
      "361 is divisible by 19\n",
      "362 is divisible by 2\n",
      "363 is divisible by 3\n",
      "364 is divisible by 2\n",
      "365 is divisible by 5\n",
      "366 is divisible by 2\n",
      "367 is is PRIME\n",
      "368 is divisible by 2\n",
      "369 is divisible by 3\n",
      "370 is divisible by 2\n",
      "371 is divisible by 7\n",
      "372 is divisible by 2\n",
      "373 is is PRIME\n",
      "374 is divisible by 2\n",
      "375 is divisible by 3\n",
      "376 is divisible by 2\n",
      "377 is divisible by 13\n",
      "378 is divisible by 2\n",
      "379 is is PRIME\n",
      "380 is divisible by 2\n",
      "381 is divisible by 3\n",
      "382 is divisible by 2\n",
      "383 is is PRIME\n",
      "384 is divisible by 2\n",
      "385 is divisible by 5\n",
      "386 is divisible by 2\n",
      "387 is divisible by 3\n",
      "388 is divisible by 2\n",
      "389 is is PRIME\n",
      "390 is divisible by 2\n",
      "391 is divisible by 17\n",
      "392 is divisible by 2\n",
      "393 is divisible by 3\n",
      "394 is divisible by 2\n",
      "395 is divisible by 5\n",
      "396 is divisible by 2\n",
      "397 is is PRIME\n",
      "398 is divisible by 2\n",
      "399 is divisible by 3\n",
      "400 is divisible by 2\n",
      "401 is is PRIME\n",
      "402 is divisible by 2\n",
      "403 is divisible by 13\n",
      "404 is divisible by 2\n",
      "405 is divisible by 3\n",
      "406 is divisible by 2\n",
      "407 is divisible by 11\n",
      "408 is divisible by 2\n",
      "409 is is PRIME\n",
      "410 is divisible by 2\n",
      "411 is divisible by 3\n",
      "412 is divisible by 2\n",
      "413 is divisible by 7\n",
      "414 is divisible by 2\n",
      "415 is divisible by 5\n",
      "416 is divisible by 2\n",
      "417 is divisible by 3\n",
      "418 is divisible by 2\n",
      "419 is is PRIME\n",
      "420 is divisible by 2\n",
      "421 is is PRIME\n",
      "422 is divisible by 2\n",
      "423 is divisible by 3\n",
      "424 is divisible by 2\n",
      "425 is divisible by 5\n",
      "426 is divisible by 2\n",
      "427 is divisible by 7\n",
      "428 is divisible by 2\n",
      "429 is divisible by 3\n",
      "430 is divisible by 2\n",
      "431 is is PRIME\n",
      "432 is divisible by 2\n",
      "433 is is PRIME\n",
      "434 is divisible by 2\n",
      "435 is divisible by 3\n",
      "436 is divisible by 2\n",
      "437 is divisible by 19\n",
      "438 is divisible by 2\n",
      "439 is is PRIME\n",
      "440 is divisible by 2\n",
      "441 is divisible by 3\n",
      "442 is divisible by 2\n",
      "443 is is PRIME\n",
      "444 is divisible by 2\n",
      "445 is divisible by 5\n",
      "446 is divisible by 2\n",
      "447 is divisible by 3\n",
      "448 is divisible by 2\n",
      "449 is is PRIME\n",
      "450 is divisible by 2\n",
      "451 is divisible by 11\n",
      "452 is divisible by 2\n",
      "453 is divisible by 3\n",
      "454 is divisible by 2\n",
      "455 is divisible by 5\n",
      "456 is divisible by 2\n",
      "457 is is PRIME\n",
      "458 is divisible by 2\n",
      "459 is divisible by 3\n",
      "460 is divisible by 2\n",
      "461 is is PRIME\n",
      "462 is divisible by 2\n",
      "463 is is PRIME\n",
      "464 is divisible by 2\n",
      "465 is divisible by 3\n",
      "466 is divisible by 2\n",
      "467 is is PRIME\n",
      "468 is divisible by 2\n",
      "469 is divisible by 7\n",
      "470 is divisible by 2\n",
      "471 is divisible by 3\n",
      "472 is divisible by 2\n",
      "473 is divisible by 11\n",
      "474 is divisible by 2\n",
      "475 is divisible by 5\n",
      "476 is divisible by 2\n",
      "477 is divisible by 3\n",
      "478 is divisible by 2\n",
      "479 is is PRIME\n",
      "480 is divisible by 2\n",
      "481 is divisible by 13\n",
      "482 is divisible by 2\n",
      "483 is divisible by 3\n",
      "484 is divisible by 2\n",
      "485 is divisible by 5\n",
      "486 is divisible by 2\n",
      "487 is is PRIME\n",
      "488 is divisible by 2\n",
      "489 is divisible by 3\n",
      "490 is divisible by 2\n",
      "491 is is PRIME\n",
      "492 is divisible by 2\n",
      "493 is divisible by 17\n",
      "494 is divisible by 2\n",
      "495 is divisible by 3\n",
      "496 is divisible by 2\n",
      "497 is divisible by 7\n",
      "498 is divisible by 2\n",
      "499 is is PRIME\n",
      "500 is divisible by 2\n",
      "501 is divisible by 3\n",
      "502 is divisible by 2\n",
      "503 is is PRIME\n",
      "504 is divisible by 2\n",
      "505 is divisible by 5\n",
      "506 is divisible by 2\n",
      "507 is divisible by 3\n",
      "508 is divisible by 2\n",
      "509 is is PRIME\n",
      "510 is divisible by 2\n",
      "511 is divisible by 7\n",
      "512 is divisible by 2\n",
      "513 is divisible by 3\n",
      "514 is divisible by 2\n",
      "515 is divisible by 5\n",
      "516 is divisible by 2\n",
      "517 is divisible by 11\n",
      "518 is divisible by 2\n",
      "519 is divisible by 3\n",
      "520 is divisible by 2\n",
      "521 is is PRIME\n",
      "522 is divisible by 2\n",
      "523 is is PRIME\n",
      "524 is divisible by 2\n",
      "525 is divisible by 3\n",
      "526 is divisible by 2\n",
      "527 is divisible by 17\n",
      "528 is divisible by 2\n",
      "529 is divisible by 23\n",
      "530 is divisible by 2\n",
      "531 is divisible by 3\n",
      "532 is divisible by 2\n",
      "533 is divisible by 13\n",
      "534 is divisible by 2\n",
      "535 is divisible by 5\n",
      "536 is divisible by 2\n",
      "537 is divisible by 3\n",
      "538 is divisible by 2\n",
      "539 is divisible by 7\n",
      "540 is divisible by 2\n",
      "541 is is PRIME\n",
      "542 is divisible by 2\n",
      "543 is divisible by 3\n",
      "544 is divisible by 2\n",
      "545 is divisible by 5\n",
      "546 is divisible by 2\n",
      "547 is is PRIME\n",
      "548 is divisible by 2\n",
      "549 is divisible by 3\n",
      "550 is divisible by 2\n",
      "551 is divisible by 19\n",
      "552 is divisible by 2\n",
      "553 is divisible by 7\n",
      "554 is divisible by 2\n",
      "555 is divisible by 3\n",
      "556 is divisible by 2\n",
      "557 is is PRIME\n",
      "558 is divisible by 2\n",
      "559 is divisible by 13\n",
      "560 is divisible by 2\n",
      "561 is divisible by 3\n",
      "562 is divisible by 2\n",
      "563 is is PRIME\n",
      "564 is divisible by 2\n",
      "565 is divisible by 5\n",
      "566 is divisible by 2\n",
      "567 is divisible by 3\n",
      "568 is divisible by 2\n",
      "569 is is PRIME\n",
      "570 is divisible by 2\n",
      "571 is is PRIME\n",
      "572 is divisible by 2\n",
      "573 is divisible by 3\n",
      "574 is divisible by 2\n",
      "575 is divisible by 5\n",
      "576 is divisible by 2\n",
      "577 is is PRIME\n",
      "578 is divisible by 2\n",
      "579 is divisible by 3\n",
      "580 is divisible by 2\n",
      "581 is divisible by 7\n",
      "582 is divisible by 2\n",
      "583 is divisible by 11\n",
      "584 is divisible by 2\n",
      "585 is divisible by 3\n",
      "586 is divisible by 2\n",
      "587 is is PRIME\n",
      "588 is divisible by 2\n",
      "589 is divisible by 19\n",
      "590 is divisible by 2\n",
      "591 is divisible by 3\n",
      "592 is divisible by 2\n",
      "593 is is PRIME\n",
      "594 is divisible by 2\n",
      "595 is divisible by 5\n",
      "596 is divisible by 2\n",
      "597 is divisible by 3\n",
      "598 is divisible by 2\n",
      "599 is is PRIME\n",
      "600 is divisible by 2\n",
      "601 is is PRIME\n",
      "602 is divisible by 2\n",
      "603 is divisible by 3\n",
      "604 is divisible by 2\n",
      "605 is divisible by 5\n",
      "606 is divisible by 2\n",
      "607 is is PRIME\n",
      "608 is divisible by 2\n",
      "609 is divisible by 3\n",
      "610 is divisible by 2\n",
      "611 is divisible by 13\n",
      "612 is divisible by 2\n",
      "613 is is PRIME\n",
      "614 is divisible by 2\n",
      "615 is divisible by 3\n",
      "616 is divisible by 2\n",
      "617 is is PRIME\n",
      "618 is divisible by 2\n",
      "619 is is PRIME\n",
      "620 is divisible by 2\n",
      "621 is divisible by 3\n",
      "622 is divisible by 2\n",
      "623 is divisible by 7\n",
      "624 is divisible by 2\n",
      "625 is divisible by 5\n",
      "626 is divisible by 2\n",
      "627 is divisible by 3\n",
      "628 is divisible by 2\n",
      "629 is divisible by 17\n",
      "630 is divisible by 2\n",
      "631 is is PRIME\n",
      "632 is divisible by 2\n",
      "633 is divisible by 3\n",
      "634 is divisible by 2\n",
      "635 is divisible by 5\n",
      "636 is divisible by 2\n",
      "637 is divisible by 7\n",
      "638 is divisible by 2\n",
      "639 is divisible by 3\n",
      "640 is divisible by 2\n",
      "641 is is PRIME\n",
      "642 is divisible by 2\n",
      "643 is is PRIME\n",
      "644 is divisible by 2\n",
      "645 is divisible by 3\n",
      "646 is divisible by 2\n",
      "647 is is PRIME\n",
      "648 is divisible by 2\n",
      "649 is divisible by 11\n",
      "650 is divisible by 2\n",
      "651 is divisible by 3\n",
      "652 is divisible by 2\n",
      "653 is is PRIME\n",
      "654 is divisible by 2\n",
      "655 is divisible by 5\n",
      "656 is divisible by 2\n",
      "657 is divisible by 3\n",
      "658 is divisible by 2\n",
      "659 is is PRIME\n",
      "660 is divisible by 2\n",
      "661 is is PRIME\n",
      "662 is divisible by 2\n",
      "663 is divisible by 3\n",
      "664 is divisible by 2\n",
      "665 is divisible by 5\n",
      "666 is divisible by 2\n",
      "667 is divisible by 23\n",
      "668 is divisible by 2\n",
      "669 is divisible by 3\n",
      "670 is divisible by 2\n",
      "671 is divisible by 11\n",
      "672 is divisible by 2\n",
      "673 is is PRIME\n",
      "674 is divisible by 2\n",
      "675 is divisible by 3\n",
      "676 is divisible by 2\n",
      "677 is is PRIME\n",
      "678 is divisible by 2\n",
      "679 is divisible by 7\n",
      "680 is divisible by 2\n",
      "681 is divisible by 3\n",
      "682 is divisible by 2\n",
      "683 is is PRIME\n",
      "684 is divisible by 2\n",
      "685 is divisible by 5\n",
      "686 is divisible by 2\n",
      "687 is divisible by 3\n",
      "688 is divisible by 2\n",
      "689 is divisible by 13\n",
      "690 is divisible by 2\n",
      "691 is is PRIME\n",
      "692 is divisible by 2\n",
      "693 is divisible by 3\n",
      "694 is divisible by 2\n",
      "695 is divisible by 5\n",
      "696 is divisible by 2\n",
      "697 is divisible by 17\n",
      "698 is divisible by 2\n",
      "699 is divisible by 3\n",
      "700 is divisible by 2\n",
      "701 is is PRIME\n",
      "702 is divisible by 2\n",
      "703 is divisible by 19\n",
      "704 is divisible by 2\n",
      "705 is divisible by 3\n",
      "706 is divisible by 2\n",
      "707 is divisible by 7\n",
      "708 is divisible by 2\n",
      "709 is is PRIME\n",
      "710 is divisible by 2\n",
      "711 is divisible by 3\n",
      "712 is divisible by 2\n",
      "713 is divisible by 23\n",
      "714 is divisible by 2\n",
      "715 is divisible by 5\n",
      "716 is divisible by 2\n",
      "717 is divisible by 3\n",
      "718 is divisible by 2\n",
      "719 is is PRIME\n",
      "720 is divisible by 2\n",
      "721 is divisible by 7\n",
      "722 is divisible by 2\n",
      "723 is divisible by 3\n",
      "724 is divisible by 2\n",
      "725 is divisible by 5\n",
      "726 is divisible by 2\n",
      "727 is is PRIME\n",
      "728 is divisible by 2\n",
      "729 is divisible by 3\n",
      "730 is divisible by 2\n",
      "731 is divisible by 17\n",
      "732 is divisible by 2\n",
      "733 is is PRIME\n",
      "734 is divisible by 2\n",
      "735 is divisible by 3\n",
      "736 is divisible by 2\n",
      "737 is divisible by 11\n",
      "738 is divisible by 2\n",
      "739 is is PRIME\n",
      "740 is divisible by 2\n",
      "741 is divisible by 3\n",
      "742 is divisible by 2\n",
      "743 is is PRIME\n",
      "744 is divisible by 2\n",
      "745 is divisible by 5\n",
      "746 is divisible by 2\n",
      "747 is divisible by 3\n",
      "748 is divisible by 2\n",
      "749 is divisible by 7\n",
      "750 is divisible by 2\n",
      "751 is is PRIME\n",
      "752 is divisible by 2\n",
      "753 is divisible by 3\n",
      "754 is divisible by 2\n",
      "755 is divisible by 5\n",
      "756 is divisible by 2\n",
      "757 is is PRIME\n",
      "758 is divisible by 2\n",
      "759 is divisible by 3\n",
      "760 is divisible by 2\n",
      "761 is is PRIME\n",
      "762 is divisible by 2\n",
      "763 is divisible by 7\n",
      "764 is divisible by 2\n",
      "765 is divisible by 3\n",
      "766 is divisible by 2\n",
      "767 is divisible by 13\n",
      "768 is divisible by 2\n",
      "769 is is PRIME\n",
      "770 is divisible by 2\n",
      "771 is divisible by 3\n",
      "772 is divisible by 2\n",
      "773 is is PRIME\n",
      "774 is divisible by 2\n",
      "775 is divisible by 5\n",
      "776 is divisible by 2\n",
      "777 is divisible by 3\n",
      "778 is divisible by 2\n",
      "779 is divisible by 19\n",
      "780 is divisible by 2\n",
      "781 is divisible by 11\n",
      "782 is divisible by 2\n",
      "783 is divisible by 3\n",
      "784 is divisible by 2\n",
      "785 is divisible by 5\n",
      "786 is divisible by 2\n",
      "787 is is PRIME\n",
      "788 is divisible by 2\n",
      "789 is divisible by 3\n",
      "790 is divisible by 2\n",
      "791 is divisible by 7\n",
      "792 is divisible by 2\n",
      "793 is divisible by 13\n",
      "794 is divisible by 2\n",
      "795 is divisible by 3\n",
      "796 is divisible by 2\n",
      "797 is is PRIME\n",
      "798 is divisible by 2\n",
      "799 is divisible by 17\n",
      "800 is divisible by 2\n",
      "801 is divisible by 3\n",
      "802 is divisible by 2\n",
      "803 is divisible by 11\n",
      "804 is divisible by 2\n",
      "805 is divisible by 5\n",
      "806 is divisible by 2\n",
      "807 is divisible by 3\n",
      "808 is divisible by 2\n",
      "809 is is PRIME\n",
      "810 is divisible by 2\n",
      "811 is is PRIME\n",
      "812 is divisible by 2\n",
      "813 is divisible by 3\n",
      "814 is divisible by 2\n",
      "815 is divisible by 5\n",
      "816 is divisible by 2\n",
      "817 is divisible by 19\n",
      "818 is divisible by 2\n",
      "819 is divisible by 3\n",
      "820 is divisible by 2\n",
      "821 is is PRIME\n",
      "822 is divisible by 2\n",
      "823 is is PRIME\n",
      "824 is divisible by 2\n",
      "825 is divisible by 3\n",
      "826 is divisible by 2\n",
      "827 is is PRIME\n",
      "828 is divisible by 2\n",
      "829 is is PRIME\n",
      "830 is divisible by 2\n",
      "831 is divisible by 3\n",
      "832 is divisible by 2\n",
      "833 is divisible by 7\n",
      "834 is divisible by 2\n",
      "835 is divisible by 5\n",
      "836 is divisible by 2\n",
      "837 is divisible by 3\n",
      "838 is divisible by 2\n",
      "839 is is PRIME\n",
      "840 is divisible by 2\n",
      "841 is divisible by 29\n",
      "842 is divisible by 2\n",
      "843 is divisible by 3\n",
      "844 is divisible by 2\n",
      "845 is divisible by 5\n",
      "846 is divisible by 2\n",
      "847 is divisible by 7\n",
      "848 is divisible by 2\n",
      "849 is divisible by 3\n",
      "850 is divisible by 2\n",
      "851 is divisible by 23\n",
      "852 is divisible by 2\n",
      "853 is is PRIME\n",
      "854 is divisible by 2\n",
      "855 is divisible by 3\n",
      "856 is divisible by 2\n",
      "857 is is PRIME\n",
      "858 is divisible by 2\n",
      "859 is is PRIME\n",
      "860 is divisible by 2\n",
      "861 is divisible by 3\n",
      "862 is divisible by 2\n",
      "863 is is PRIME\n",
      "864 is divisible by 2\n",
      "865 is divisible by 5\n",
      "866 is divisible by 2\n",
      "867 is divisible by 3\n",
      "868 is divisible by 2\n",
      "869 is divisible by 11\n",
      "870 is divisible by 2\n",
      "871 is divisible by 13\n",
      "872 is divisible by 2\n",
      "873 is divisible by 3\n",
      "874 is divisible by 2\n",
      "875 is divisible by 5\n",
      "876 is divisible by 2\n",
      "877 is is PRIME\n",
      "878 is divisible by 2\n",
      "879 is divisible by 3\n",
      "880 is divisible by 2\n",
      "881 is is PRIME\n",
      "882 is divisible by 2\n",
      "883 is is PRIME\n",
      "884 is divisible by 2\n",
      "885 is divisible by 3\n",
      "886 is divisible by 2\n",
      "887 is is PRIME\n",
      "888 is divisible by 2\n",
      "889 is divisible by 7\n",
      "890 is divisible by 2\n",
      "891 is divisible by 3\n",
      "892 is divisible by 2\n",
      "893 is divisible by 19\n",
      "894 is divisible by 2\n",
      "895 is divisible by 5\n",
      "896 is divisible by 2\n",
      "897 is divisible by 3\n",
      "898 is divisible by 2\n",
      "899 is divisible by 29\n",
      "900 is divisible by 2\n",
      "901 is divisible by 17\n",
      "902 is divisible by 2\n",
      "903 is divisible by 3\n",
      "904 is divisible by 2\n",
      "905 is divisible by 5\n",
      "906 is divisible by 2\n",
      "907 is is PRIME\n",
      "908 is divisible by 2\n",
      "909 is divisible by 3\n",
      "910 is divisible by 2\n",
      "911 is is PRIME\n",
      "912 is divisible by 2\n",
      "913 is divisible by 11\n",
      "914 is divisible by 2\n",
      "915 is divisible by 3\n",
      "916 is divisible by 2\n",
      "917 is divisible by 7\n",
      "918 is divisible by 2\n",
      "919 is is PRIME\n",
      "920 is divisible by 2\n",
      "921 is divisible by 3\n",
      "922 is divisible by 2\n",
      "923 is divisible by 13\n",
      "924 is divisible by 2\n",
      "925 is divisible by 5\n",
      "926 is divisible by 2\n",
      "927 is divisible by 3\n",
      "928 is divisible by 2\n",
      "929 is is PRIME\n",
      "930 is divisible by 2\n",
      "931 is divisible by 7\n",
      "932 is divisible by 2\n",
      "933 is divisible by 3\n",
      "934 is divisible by 2\n",
      "935 is divisible by 5\n",
      "936 is divisible by 2\n",
      "937 is is PRIME\n",
      "938 is divisible by 2\n",
      "939 is divisible by 3\n",
      "940 is divisible by 2\n",
      "941 is is PRIME\n",
      "942 is divisible by 2\n",
      "943 is divisible by 23\n",
      "944 is divisible by 2\n",
      "945 is divisible by 3\n",
      "946 is divisible by 2\n",
      "947 is is PRIME\n",
      "948 is divisible by 2\n",
      "949 is divisible by 13\n",
      "950 is divisible by 2\n",
      "951 is divisible by 3\n",
      "952 is divisible by 2\n",
      "953 is is PRIME\n",
      "954 is divisible by 2\n",
      "955 is divisible by 5\n",
      "956 is divisible by 2\n",
      "957 is divisible by 3\n",
      "958 is divisible by 2\n",
      "959 is divisible by 7\n",
      "960 is divisible by 2\n",
      "961 is divisible by 31\n",
      "962 is divisible by 2\n",
      "963 is divisible by 3\n",
      "964 is divisible by 2\n",
      "965 is divisible by 5\n",
      "966 is divisible by 2\n",
      "967 is is PRIME\n",
      "968 is divisible by 2\n",
      "969 is divisible by 3\n",
      "970 is divisible by 2\n",
      "971 is is PRIME\n",
      "972 is divisible by 2\n",
      "973 is divisible by 7\n",
      "974 is divisible by 2\n",
      "975 is divisible by 3\n",
      "976 is divisible by 2\n",
      "977 is is PRIME\n",
      "978 is divisible by 2\n",
      "979 is divisible by 11\n",
      "980 is divisible by 2\n",
      "981 is divisible by 3\n",
      "982 is divisible by 2\n",
      "983 is is PRIME\n",
      "984 is divisible by 2\n",
      "985 is divisible by 5\n",
      "986 is divisible by 2\n",
      "987 is divisible by 3\n",
      "988 is divisible by 2\n",
      "989 is divisible by 23\n",
      "990 is divisible by 2\n",
      "991 is is PRIME\n",
      "992 is divisible by 2\n",
      "993 is divisible by 3\n",
      "994 is divisible by 2\n",
      "995 is divisible by 5\n",
      "996 is divisible by 2\n",
      "997 is is PRIME\n",
      "998 is divisible by 2\n",
      "999 is divisible by 3\n",
      "1000 is divisible by 2\n",
      "1001 is divisible by 7\n",
      "1002 is divisible by 2\n",
      "1003 is divisible by 17\n",
      "1004 is divisible by 2\n",
      "1005 is divisible by 3\n",
      "1006 is divisible by 2\n",
      "1007 is divisible by 19\n",
      "1008 is divisible by 2\n",
      "1009 is is PRIME\n",
      "1010 is divisible by 2\n",
      "1011 is divisible by 3\n",
      "1012 is divisible by 2\n",
      "1013 is is PRIME\n",
      "1014 is divisible by 2\n",
      "1015 is divisible by 5\n",
      "1016 is divisible by 2\n",
      "1017 is divisible by 3\n",
      "1018 is divisible by 2\n",
      "1019 is is PRIME\n",
      "1020 is divisible by 2\n",
      "1021 is is PRIME\n",
      "1022 is divisible by 2\n",
      "1023 is divisible by 3\n",
      "1024 is divisible by 2\n",
      "1025 is divisible by 5\n",
      "1026 is divisible by 2\n",
      "1027 is divisible by 13\n",
      "1028 is divisible by 2\n",
      "1029 is divisible by 3\n",
      "1030 is divisible by 2\n",
      "1031 is is PRIME\n",
      "1032 is divisible by 2\n",
      "1033 is is PRIME\n",
      "1034 is divisible by 2\n",
      "1035 is divisible by 3\n",
      "1036 is divisible by 2\n",
      "1037 is divisible by 17\n",
      "1038 is divisible by 2\n",
      "1039 is is PRIME\n",
      "1040 is divisible by 2\n",
      "1041 is divisible by 3\n",
      "1042 is divisible by 2\n",
      "1043 is divisible by 7\n",
      "1044 is divisible by 2\n",
      "1045 is divisible by 5\n",
      "1046 is divisible by 2\n",
      "1047 is divisible by 3\n",
      "1048 is divisible by 2\n",
      "1049 is is PRIME\n",
      "1050 is divisible by 2\n",
      "1051 is is PRIME\n",
      "1052 is divisible by 2\n",
      "1053 is divisible by 3\n",
      "1054 is divisible by 2\n",
      "1055 is divisible by 5\n",
      "1056 is divisible by 2\n",
      "1057 is divisible by 7\n",
      "1058 is divisible by 2\n",
      "1059 is divisible by 3\n",
      "1060 is divisible by 2\n",
      "1061 is is PRIME\n",
      "1062 is divisible by 2\n",
      "1063 is is PRIME\n",
      "1064 is divisible by 2\n",
      "1065 is divisible by 3\n",
      "1066 is divisible by 2\n",
      "1067 is divisible by 11\n",
      "1068 is divisible by 2\n",
      "1069 is is PRIME\n",
      "1070 is divisible by 2\n",
      "1071 is divisible by 3\n",
      "1072 is divisible by 2\n",
      "1073 is divisible by 29\n",
      "1074 is divisible by 2\n",
      "1075 is divisible by 5\n",
      "1076 is divisible by 2\n",
      "1077 is divisible by 3\n",
      "1078 is divisible by 2\n",
      "1079 is divisible by 13\n",
      "1080 is divisible by 2\n",
      "1081 is divisible by 23\n",
      "1082 is divisible by 2\n",
      "1083 is divisible by 3\n",
      "1084 is divisible by 2\n",
      "1085 is divisible by 5\n",
      "1086 is divisible by 2\n",
      "1087 is is PRIME\n",
      "1088 is divisible by 2\n",
      "1089 is divisible by 3\n",
      "1090 is divisible by 2\n",
      "1091 is is PRIME\n",
      "1092 is divisible by 2\n",
      "1093 is is PRIME\n",
      "1094 is divisible by 2\n",
      "1095 is divisible by 3\n",
      "1096 is divisible by 2\n",
      "1097 is is PRIME\n",
      "1098 is divisible by 2\n",
      "1099 is divisible by 7\n",
      "1100 is divisible by 2\n",
      "1101 is divisible by 3\n",
      "1102 is divisible by 2\n",
      "1103 is is PRIME\n",
      "1104 is divisible by 2\n",
      "1105 is divisible by 5\n",
      "1106 is divisible by 2\n",
      "1107 is divisible by 3\n",
      "1108 is divisible by 2\n",
      "1109 is is PRIME\n",
      "1110 is divisible by 2\n",
      "1111 is divisible by 11\n",
      "1112 is divisible by 2\n",
      "1113 is divisible by 3\n",
      "1114 is divisible by 2\n",
      "1115 is divisible by 5\n",
      "1116 is divisible by 2\n",
      "1117 is is PRIME\n",
      "1118 is divisible by 2\n",
      "1119 is divisible by 3\n",
      "1120 is divisible by 2\n",
      "1121 is divisible by 19\n",
      "1122 is divisible by 2\n",
      "1123 is is PRIME\n",
      "1124 is divisible by 2\n",
      "1125 is divisible by 3\n",
      "1126 is divisible by 2\n",
      "1127 is divisible by 7\n",
      "1128 is divisible by 2\n",
      "1129 is is PRIME\n",
      "1130 is divisible by 2\n",
      "1131 is divisible by 3\n",
      "1132 is divisible by 2\n",
      "1133 is divisible by 11\n",
      "1134 is divisible by 2\n",
      "1135 is divisible by 5\n",
      "1136 is divisible by 2\n",
      "1137 is divisible by 3\n",
      "1138 is divisible by 2\n",
      "1139 is divisible by 17\n",
      "1140 is divisible by 2\n",
      "1141 is divisible by 7\n",
      "1142 is divisible by 2\n",
      "1143 is divisible by 3\n",
      "1144 is divisible by 2\n",
      "1145 is divisible by 5\n",
      "1146 is divisible by 2\n",
      "1147 is divisible by 31\n",
      "1148 is divisible by 2\n",
      "1149 is divisible by 3\n",
      "1150 is divisible by 2\n",
      "1151 is is PRIME\n",
      "1152 is divisible by 2\n",
      "1153 is is PRIME\n",
      "1154 is divisible by 2\n",
      "1155 is divisible by 3\n",
      "1156 is divisible by 2\n",
      "1157 is divisible by 13\n",
      "1158 is divisible by 2\n",
      "1159 is divisible by 19\n",
      "1160 is divisible by 2\n",
      "1161 is divisible by 3\n",
      "1162 is divisible by 2\n",
      "1163 is is PRIME\n",
      "1164 is divisible by 2\n",
      "1165 is divisible by 5\n",
      "1166 is divisible by 2\n",
      "1167 is divisible by 3\n",
      "1168 is divisible by 2\n",
      "1169 is divisible by 7\n",
      "1170 is divisible by 2\n",
      "1171 is is PRIME\n",
      "1172 is divisible by 2\n",
      "1173 is divisible by 3\n",
      "1174 is divisible by 2\n",
      "1175 is divisible by 5\n",
      "1176 is divisible by 2\n",
      "1177 is divisible by 11\n",
      "1178 is divisible by 2\n",
      "1179 is divisible by 3\n",
      "1180 is divisible by 2\n",
      "1181 is is PRIME\n",
      "1182 is divisible by 2\n",
      "1183 is divisible by 7\n",
      "1184 is divisible by 2\n",
      "1185 is divisible by 3\n",
      "1186 is divisible by 2\n",
      "1187 is is PRIME\n",
      "1188 is divisible by 2\n",
      "1189 is divisible by 29\n",
      "1190 is divisible by 2\n",
      "1191 is divisible by 3\n",
      "1192 is divisible by 2\n",
      "1193 is is PRIME\n",
      "1194 is divisible by 2\n",
      "1195 is divisible by 5\n",
      "1196 is divisible by 2\n",
      "1197 is divisible by 3\n",
      "1198 is divisible by 2\n",
      "1199 is divisible by 11\n",
      "1200 is divisible by 2\n",
      "1201 is is PRIME\n",
      "1202 is divisible by 2\n",
      "1203 is divisible by 3\n",
      "1204 is divisible by 2\n",
      "1205 is divisible by 5\n",
      "1206 is divisible by 2\n",
      "1207 is divisible by 17\n",
      "1208 is divisible by 2\n",
      "1209 is divisible by 3\n",
      "1210 is divisible by 2\n",
      "1211 is divisible by 7\n",
      "1212 is divisible by 2\n",
      "1213 is is PRIME\n",
      "1214 is divisible by 2\n",
      "1215 is divisible by 3\n",
      "1216 is divisible by 2\n",
      "1217 is is PRIME\n",
      "1218 is divisible by 2\n",
      "1219 is divisible by 23\n",
      "1220 is divisible by 2\n",
      "1221 is divisible by 3\n",
      "1222 is divisible by 2\n",
      "1223 is is PRIME\n",
      "1224 is divisible by 2\n",
      "1225 is divisible by 5\n",
      "1226 is divisible by 2\n",
      "1227 is divisible by 3\n",
      "1228 is divisible by 2\n",
      "1229 is is PRIME\n",
      "1230 is divisible by 2\n",
      "1231 is is PRIME\n",
      "1232 is divisible by 2\n",
      "1233 is divisible by 3\n",
      "1234 is divisible by 2\n",
      "1235 is divisible by 5\n",
      "1236 is divisible by 2\n",
      "1237 is is PRIME\n",
      "1238 is divisible by 2\n",
      "1239 is divisible by 3\n",
      "1240 is divisible by 2\n",
      "1241 is divisible by 17\n",
      "1242 is divisible by 2\n",
      "1243 is divisible by 11\n",
      "1244 is divisible by 2\n",
      "1245 is divisible by 3\n",
      "1246 is divisible by 2\n",
      "1247 is divisible by 29\n",
      "1248 is divisible by 2\n",
      "1249 is is PRIME\n",
      "1250 is divisible by 2\n",
      "1251 is divisible by 3\n",
      "1252 is divisible by 2\n",
      "1253 is divisible by 7\n",
      "1254 is divisible by 2\n",
      "1255 is divisible by 5\n",
      "1256 is divisible by 2\n",
      "1257 is divisible by 3\n",
      "1258 is divisible by 2\n",
      "1259 is is PRIME\n",
      "1260 is divisible by 2\n",
      "1261 is divisible by 13\n",
      "1262 is divisible by 2\n",
      "1263 is divisible by 3\n",
      "1264 is divisible by 2\n",
      "1265 is divisible by 5\n",
      "1266 is divisible by 2\n",
      "1267 is divisible by 7\n",
      "1268 is divisible by 2\n",
      "1269 is divisible by 3\n",
      "1270 is divisible by 2\n",
      "1271 is divisible by 31\n",
      "1272 is divisible by 2\n",
      "1273 is divisible by 19\n",
      "1274 is divisible by 2\n",
      "1275 is divisible by 3\n",
      "1276 is divisible by 2\n",
      "1277 is is PRIME\n",
      "1278 is divisible by 2\n",
      "1279 is is PRIME\n",
      "1280 is divisible by 2\n",
      "1281 is divisible by 3\n",
      "1282 is divisible by 2\n",
      "1283 is is PRIME\n",
      "1284 is divisible by 2\n",
      "1285 is divisible by 5\n",
      "1286 is divisible by 2\n",
      "1287 is divisible by 3\n",
      "1288 is divisible by 2\n",
      "1289 is is PRIME\n",
      "1290 is divisible by 2\n",
      "1291 is is PRIME\n",
      "1292 is divisible by 2\n",
      "1293 is divisible by 3\n",
      "1294 is divisible by 2\n",
      "1295 is divisible by 5\n",
      "1296 is divisible by 2\n",
      "1297 is is PRIME\n",
      "1298 is divisible by 2\n",
      "1299 is divisible by 3\n",
      "1300 is divisible by 2\n",
      "1301 is is PRIME\n",
      "1302 is divisible by 2\n",
      "1303 is is PRIME\n",
      "1304 is divisible by 2\n",
      "1305 is divisible by 3\n",
      "1306 is divisible by 2\n",
      "1307 is is PRIME\n",
      "1308 is divisible by 2\n",
      "1309 is divisible by 7\n",
      "1310 is divisible by 2\n",
      "1311 is divisible by 3\n",
      "1312 is divisible by 2\n",
      "1313 is divisible by 13\n",
      "1314 is divisible by 2\n",
      "1315 is divisible by 5\n",
      "1316 is divisible by 2\n",
      "1317 is divisible by 3\n",
      "1318 is divisible by 2\n",
      "1319 is is PRIME\n",
      "1320 is divisible by 2\n",
      "1321 is is PRIME\n",
      "1322 is divisible by 2\n",
      "1323 is divisible by 3\n",
      "1324 is divisible by 2\n",
      "1325 is divisible by 5\n",
      "1326 is divisible by 2\n",
      "1327 is is PRIME\n",
      "1328 is divisible by 2\n",
      "1329 is divisible by 3\n",
      "1330 is divisible by 2\n",
      "1331 is divisible by 11\n",
      "1332 is divisible by 2\n",
      "1333 is divisible by 31\n",
      "1334 is divisible by 2\n",
      "1335 is divisible by 3\n",
      "1336 is divisible by 2\n",
      "1337 is divisible by 7\n",
      "1338 is divisible by 2\n",
      "1339 is divisible by 13\n",
      "1340 is divisible by 2\n",
      "1341 is divisible by 3\n",
      "1342 is divisible by 2\n",
      "1343 is divisible by 17\n",
      "1344 is divisible by 2\n",
      "1345 is divisible by 5\n",
      "1346 is divisible by 2\n",
      "1347 is divisible by 3\n",
      "1348 is divisible by 2\n",
      "1349 is divisible by 19\n",
      "1350 is divisible by 2\n",
      "1351 is divisible by 7\n",
      "1352 is divisible by 2\n",
      "1353 is divisible by 3\n",
      "1354 is divisible by 2\n",
      "1355 is divisible by 5\n",
      "1356 is divisible by 2\n",
      "1357 is divisible by 23\n",
      "1358 is divisible by 2\n",
      "1359 is divisible by 3\n",
      "1360 is divisible by 2\n",
      "1361 is is PRIME\n",
      "1362 is divisible by 2\n",
      "1363 is divisible by 29\n",
      "1364 is divisible by 2\n",
      "1365 is divisible by 3\n",
      "1366 is divisible by 2\n",
      "1367 is is PRIME\n",
      "1368 is divisible by 2\n",
      "1369 is divisible by 37\n",
      "1370 is divisible by 2\n",
      "1371 is divisible by 3\n",
      "1372 is divisible by 2\n",
      "1373 is is PRIME\n",
      "1374 is divisible by 2\n",
      "1375 is divisible by 5\n",
      "1376 is divisible by 2\n",
      "1377 is divisible by 3\n",
      "1378 is divisible by 2\n",
      "1379 is divisible by 7\n",
      "1380 is divisible by 2\n",
      "1381 is is PRIME\n",
      "1382 is divisible by 2\n",
      "1383 is divisible by 3\n",
      "1384 is divisible by 2\n",
      "1385 is divisible by 5\n",
      "1386 is divisible by 2\n",
      "1387 is divisible by 19\n",
      "1388 is divisible by 2\n",
      "1389 is divisible by 3\n",
      "1390 is divisible by 2\n",
      "1391 is divisible by 13\n",
      "1392 is divisible by 2\n",
      "1393 is divisible by 7\n",
      "1394 is divisible by 2\n",
      "1395 is divisible by 3\n",
      "1396 is divisible by 2\n",
      "1397 is divisible by 11\n",
      "1398 is divisible by 2\n",
      "1399 is is PRIME\n",
      "1400 is divisible by 2\n",
      "1401 is divisible by 3\n",
      "1402 is divisible by 2\n",
      "1403 is divisible by 23\n",
      "1404 is divisible by 2\n",
      "1405 is divisible by 5\n",
      "1406 is divisible by 2\n",
      "1407 is divisible by 3\n",
      "1408 is divisible by 2\n",
      "1409 is is PRIME\n",
      "1410 is divisible by 2\n",
      "1411 is divisible by 17\n",
      "1412 is divisible by 2\n",
      "1413 is divisible by 3\n",
      "1414 is divisible by 2\n",
      "1415 is divisible by 5\n",
      "1416 is divisible by 2\n",
      "1417 is divisible by 13\n",
      "1418 is divisible by 2\n",
      "1419 is divisible by 3\n",
      "1420 is divisible by 2\n",
      "1421 is divisible by 7\n",
      "1422 is divisible by 2\n",
      "1423 is is PRIME\n",
      "1424 is divisible by 2\n",
      "1425 is divisible by 3\n",
      "1426 is divisible by 2\n",
      "1427 is is PRIME\n",
      "1428 is divisible by 2\n",
      "1429 is is PRIME\n",
      "1430 is divisible by 2\n",
      "1431 is divisible by 3\n",
      "1432 is divisible by 2\n",
      "1433 is is PRIME\n",
      "1434 is divisible by 2\n",
      "1435 is divisible by 5\n",
      "1436 is divisible by 2\n",
      "1437 is divisible by 3\n",
      "1438 is divisible by 2\n",
      "1439 is is PRIME\n",
      "1440 is divisible by 2\n",
      "1441 is divisible by 11\n",
      "1442 is divisible by 2\n",
      "1443 is divisible by 3\n",
      "1444 is divisible by 2\n",
      "1445 is divisible by 5\n",
      "1446 is divisible by 2\n",
      "1447 is is PRIME\n",
      "1448 is divisible by 2\n",
      "1449 is divisible by 3\n",
      "1450 is divisible by 2\n",
      "1451 is is PRIME\n",
      "1452 is divisible by 2\n",
      "1453 is is PRIME\n",
      "1454 is divisible by 2\n",
      "1455 is divisible by 3\n",
      "1456 is divisible by 2\n",
      "1457 is divisible by 31\n",
      "1458 is divisible by 2\n",
      "1459 is is PRIME\n",
      "1460 is divisible by 2\n",
      "1461 is divisible by 3\n",
      "1462 is divisible by 2\n",
      "1463 is divisible by 7\n",
      "1464 is divisible by 2\n",
      "1465 is divisible by 5\n",
      "1466 is divisible by 2\n",
      "1467 is divisible by 3\n",
      "1468 is divisible by 2\n",
      "1469 is divisible by 13\n",
      "1470 is divisible by 2\n",
      "1471 is is PRIME\n",
      "1472 is divisible by 2\n",
      "1473 is divisible by 3\n",
      "1474 is divisible by 2\n",
      "1475 is divisible by 5\n",
      "1476 is divisible by 2\n",
      "1477 is divisible by 7\n",
      "1478 is divisible by 2\n",
      "1479 is divisible by 3\n",
      "1480 is divisible by 2\n",
      "1481 is is PRIME\n",
      "1482 is divisible by 2\n",
      "1483 is is PRIME\n",
      "1484 is divisible by 2\n",
      "1485 is divisible by 3\n",
      "1486 is divisible by 2\n",
      "1487 is is PRIME\n",
      "1488 is divisible by 2\n",
      "1489 is is PRIME\n",
      "1490 is divisible by 2\n",
      "1491 is divisible by 3\n",
      "1492 is divisible by 2\n",
      "1493 is is PRIME\n",
      "1494 is divisible by 2\n",
      "1495 is divisible by 5\n",
      "1496 is divisible by 2\n",
      "1497 is divisible by 3\n",
      "1498 is divisible by 2\n",
      "1499 is is PRIME\n",
      "1500 is divisible by 2\n",
      "1501 is divisible by 19\n",
      "1502 is divisible by 2\n",
      "1503 is divisible by 3\n",
      "1504 is divisible by 2\n",
      "1505 is divisible by 5\n",
      "1506 is divisible by 2\n",
      "1507 is divisible by 11\n",
      "1508 is divisible by 2\n",
      "1509 is divisible by 3\n",
      "1510 is divisible by 2\n",
      "1511 is is PRIME\n",
      "1512 is divisible by 2\n",
      "1513 is divisible by 17\n",
      "1514 is divisible by 2\n",
      "1515 is divisible by 3\n",
      "1516 is divisible by 2\n",
      "1517 is divisible by 37\n",
      "1518 is divisible by 2\n",
      "1519 is divisible by 7\n",
      "1520 is divisible by 2\n",
      "1521 is divisible by 3\n",
      "1522 is divisible by 2\n",
      "1523 is is PRIME\n",
      "1524 is divisible by 2\n",
      "1525 is divisible by 5\n",
      "1526 is divisible by 2\n",
      "1527 is divisible by 3\n",
      "1528 is divisible by 2\n",
      "1529 is divisible by 11\n",
      "1530 is divisible by 2\n",
      "1531 is is PRIME\n",
      "1532 is divisible by 2\n",
      "1533 is divisible by 3\n",
      "1534 is divisible by 2\n",
      "1535 is divisible by 5\n",
      "1536 is divisible by 2\n",
      "1537 is divisible by 29\n",
      "1538 is divisible by 2\n",
      "1539 is divisible by 3\n",
      "1540 is divisible by 2\n",
      "1541 is divisible by 23\n",
      "1542 is divisible by 2\n",
      "1543 is is PRIME\n",
      "1544 is divisible by 2\n",
      "1545 is divisible by 3\n",
      "1546 is divisible by 2\n",
      "1547 is divisible by 7\n",
      "1548 is divisible by 2\n",
      "1549 is is PRIME\n",
      "1550 is divisible by 2\n",
      "1551 is divisible by 3\n",
      "1552 is divisible by 2\n",
      "1553 is is PRIME\n",
      "1554 is divisible by 2\n",
      "1555 is divisible by 5\n",
      "1556 is divisible by 2\n",
      "1557 is divisible by 3\n",
      "1558 is divisible by 2\n",
      "1559 is is PRIME\n",
      "1560 is divisible by 2\n",
      "1561 is divisible by 7\n",
      "1562 is divisible by 2\n",
      "1563 is divisible by 3\n",
      "1564 is divisible by 2\n",
      "1565 is divisible by 5\n",
      "1566 is divisible by 2\n",
      "1567 is is PRIME\n",
      "1568 is divisible by 2\n",
      "1569 is divisible by 3\n",
      "1570 is divisible by 2\n",
      "1571 is is PRIME\n",
      "1572 is divisible by 2\n",
      "1573 is divisible by 11\n",
      "1574 is divisible by 2\n",
      "1575 is divisible by 3\n",
      "1576 is divisible by 2\n",
      "1577 is divisible by 19\n",
      "1578 is divisible by 2\n",
      "1579 is is PRIME\n",
      "1580 is divisible by 2\n",
      "1581 is divisible by 3\n",
      "1582 is divisible by 2\n",
      "1583 is is PRIME\n",
      "1584 is divisible by 2\n",
      "1585 is divisible by 5\n",
      "1586 is divisible by 2\n",
      "1587 is divisible by 3\n",
      "1588 is divisible by 2\n",
      "1589 is divisible by 7\n",
      "1590 is divisible by 2\n",
      "1591 is divisible by 37\n",
      "1592 is divisible by 2\n",
      "1593 is divisible by 3\n",
      "1594 is divisible by 2\n",
      "1595 is divisible by 5\n",
      "1596 is divisible by 2\n",
      "1597 is is PRIME\n",
      "1598 is divisible by 2\n",
      "1599 is divisible by 3\n",
      "1600 is divisible by 2\n",
      "1601 is is PRIME\n",
      "1602 is divisible by 2\n",
      "1603 is divisible by 7\n",
      "1604 is divisible by 2\n",
      "1605 is divisible by 3\n",
      "1606 is divisible by 2\n",
      "1607 is is PRIME\n",
      "1608 is divisible by 2\n",
      "1609 is is PRIME\n",
      "1610 is divisible by 2\n",
      "1611 is divisible by 3\n",
      "1612 is divisible by 2\n",
      "1613 is is PRIME\n",
      "1614 is divisible by 2\n",
      "1615 is divisible by 5\n",
      "1616 is divisible by 2\n",
      "1617 is divisible by 3\n",
      "1618 is divisible by 2\n",
      "1619 is is PRIME\n",
      "1620 is divisible by 2\n",
      "1621 is is PRIME\n",
      "1622 is divisible by 2\n",
      "1623 is divisible by 3\n",
      "1624 is divisible by 2\n",
      "1625 is divisible by 5\n",
      "1626 is divisible by 2\n",
      "1627 is is PRIME\n",
      "1628 is divisible by 2\n",
      "1629 is divisible by 3\n",
      "1630 is divisible by 2\n",
      "1631 is divisible by 7\n",
      "1632 is divisible by 2\n",
      "1633 is divisible by 23\n",
      "1634 is divisible by 2\n",
      "1635 is divisible by 3\n",
      "1636 is divisible by 2\n",
      "1637 is is PRIME\n",
      "1638 is divisible by 2\n",
      "1639 is divisible by 11\n",
      "1640 is divisible by 2\n",
      "1641 is divisible by 3\n",
      "1642 is divisible by 2\n",
      "1643 is divisible by 31\n",
      "1644 is divisible by 2\n",
      "1645 is divisible by 5\n",
      "1646 is divisible by 2\n",
      "1647 is divisible by 3\n",
      "1648 is divisible by 2\n",
      "1649 is divisible by 17\n",
      "1650 is divisible by 2\n",
      "1651 is divisible by 13\n",
      "1652 is divisible by 2\n",
      "1653 is divisible by 3\n",
      "1654 is divisible by 2\n",
      "1655 is divisible by 5\n",
      "1656 is divisible by 2\n",
      "1657 is is PRIME\n",
      "1658 is divisible by 2\n",
      "1659 is divisible by 3\n",
      "1660 is divisible by 2\n",
      "1661 is divisible by 11\n",
      "1662 is divisible by 2\n",
      "1663 is is PRIME\n",
      "1664 is divisible by 2\n",
      "1665 is divisible by 3\n",
      "1666 is divisible by 2\n",
      "1667 is is PRIME\n",
      "1668 is divisible by 2\n",
      "1669 is is PRIME\n",
      "1670 is divisible by 2\n",
      "1671 is divisible by 3\n",
      "1672 is divisible by 2\n",
      "1673 is divisible by 7\n",
      "1674 is divisible by 2\n",
      "1675 is divisible by 5\n",
      "1676 is divisible by 2\n",
      "1677 is divisible by 3\n",
      "1678 is divisible by 2\n",
      "1679 is divisible by 23\n",
      "1680 is divisible by 2\n",
      "1681 is divisible by 41\n",
      "1682 is divisible by 2\n",
      "1683 is divisible by 3\n",
      "1684 is divisible by 2\n",
      "1685 is divisible by 5\n",
      "1686 is divisible by 2\n",
      "1687 is divisible by 7\n",
      "1688 is divisible by 2\n",
      "1689 is divisible by 3\n",
      "1690 is divisible by 2\n",
      "1691 is divisible by 19\n",
      "1692 is divisible by 2\n",
      "1693 is is PRIME\n",
      "1694 is divisible by 2\n",
      "1695 is divisible by 3\n",
      "1696 is divisible by 2\n",
      "1697 is is PRIME\n",
      "1698 is divisible by 2\n",
      "1699 is is PRIME\n",
      "1700 is divisible by 2\n",
      "1701 is divisible by 3\n",
      "1702 is divisible by 2\n",
      "1703 is divisible by 13\n",
      "1704 is divisible by 2\n",
      "1705 is divisible by 5\n",
      "1706 is divisible by 2\n",
      "1707 is divisible by 3\n",
      "1708 is divisible by 2\n",
      "1709 is is PRIME\n",
      "1710 is divisible by 2\n",
      "1711 is divisible by 29\n",
      "1712 is divisible by 2\n",
      "1713 is divisible by 3\n",
      "1714 is divisible by 2\n",
      "1715 is divisible by 5\n",
      "1716 is divisible by 2\n",
      "1717 is divisible by 17\n",
      "1718 is divisible by 2\n",
      "1719 is divisible by 3\n",
      "1720 is divisible by 2\n",
      "1721 is is PRIME\n",
      "1722 is divisible by 2\n",
      "1723 is is PRIME\n",
      "1724 is divisible by 2\n",
      "1725 is divisible by 3\n",
      "1726 is divisible by 2\n",
      "1727 is divisible by 11\n",
      "1728 is divisible by 2\n",
      "1729 is divisible by 7\n",
      "1730 is divisible by 2\n",
      "1731 is divisible by 3\n",
      "1732 is divisible by 2\n",
      "1733 is is PRIME\n",
      "1734 is divisible by 2\n",
      "1735 is divisible by 5\n",
      "1736 is divisible by 2\n",
      "1737 is divisible by 3\n",
      "1738 is divisible by 2\n",
      "1739 is divisible by 37\n",
      "1740 is divisible by 2\n",
      "1741 is is PRIME\n",
      "1742 is divisible by 2\n",
      "1743 is divisible by 3\n",
      "1744 is divisible by 2\n",
      "1745 is divisible by 5\n",
      "1746 is divisible by 2\n",
      "1747 is is PRIME\n",
      "1748 is divisible by 2\n",
      "1749 is divisible by 3\n",
      "1750 is divisible by 2\n",
      "1751 is divisible by 17\n",
      "1752 is divisible by 2\n",
      "1753 is is PRIME\n",
      "1754 is divisible by 2\n",
      "1755 is divisible by 3\n",
      "1756 is divisible by 2\n",
      "1757 is divisible by 7\n",
      "1758 is divisible by 2\n",
      "1759 is is PRIME\n",
      "1760 is divisible by 2\n",
      "1761 is divisible by 3\n",
      "1762 is divisible by 2\n",
      "1763 is divisible by 41\n",
      "1764 is divisible by 2\n",
      "1765 is divisible by 5\n",
      "1766 is divisible by 2\n",
      "1767 is divisible by 3\n",
      "1768 is divisible by 2\n",
      "1769 is divisible by 29\n",
      "1770 is divisible by 2\n",
      "1771 is divisible by 7\n",
      "1772 is divisible by 2\n",
      "1773 is divisible by 3\n",
      "1774 is divisible by 2\n",
      "1775 is divisible by 5\n",
      "1776 is divisible by 2\n",
      "1777 is is PRIME\n",
      "1778 is divisible by 2\n",
      "1779 is divisible by 3\n",
      "1780 is divisible by 2\n",
      "1781 is divisible by 13\n",
      "1782 is divisible by 2\n",
      "1783 is is PRIME\n",
      "1784 is divisible by 2\n",
      "1785 is divisible by 3\n",
      "1786 is divisible by 2\n",
      "1787 is is PRIME\n",
      "1788 is divisible by 2\n",
      "1789 is is PRIME\n",
      "1790 is divisible by 2\n",
      "1791 is divisible by 3\n",
      "1792 is divisible by 2\n",
      "1793 is divisible by 11\n",
      "1794 is divisible by 2\n",
      "1795 is divisible by 5\n",
      "1796 is divisible by 2\n",
      "1797 is divisible by 3\n",
      "1798 is divisible by 2\n",
      "1799 is divisible by 7\n",
      "1800 is divisible by 2\n",
      "1801 is is PRIME\n",
      "1802 is divisible by 2\n",
      "1803 is divisible by 3\n",
      "1804 is divisible by 2\n",
      "1805 is divisible by 5\n",
      "1806 is divisible by 2\n",
      "1807 is divisible by 13\n",
      "1808 is divisible by 2\n",
      "1809 is divisible by 3\n",
      "1810 is divisible by 2\n",
      "1811 is is PRIME\n",
      "1812 is divisible by 2\n",
      "1813 is divisible by 7\n",
      "1814 is divisible by 2\n",
      "1815 is divisible by 3\n",
      "1816 is divisible by 2\n",
      "1817 is divisible by 23\n",
      "1818 is divisible by 2\n",
      "1819 is divisible by 17\n",
      "1820 is divisible by 2\n",
      "1821 is divisible by 3\n",
      "1822 is divisible by 2\n",
      "1823 is is PRIME\n",
      "1824 is divisible by 2\n",
      "1825 is divisible by 5\n",
      "1826 is divisible by 2\n",
      "1827 is divisible by 3\n",
      "1828 is divisible by 2\n",
      "1829 is divisible by 31\n",
      "1830 is divisible by 2\n",
      "1831 is is PRIME\n",
      "1832 is divisible by 2\n",
      "1833 is divisible by 3\n",
      "1834 is divisible by 2\n",
      "1835 is divisible by 5\n",
      "1836 is divisible by 2\n",
      "1837 is divisible by 11\n",
      "1838 is divisible by 2\n",
      "1839 is divisible by 3\n",
      "1840 is divisible by 2\n",
      "1841 is divisible by 7\n",
      "1842 is divisible by 2\n",
      "1843 is divisible by 19\n",
      "1844 is divisible by 2\n",
      "1845 is divisible by 3\n",
      "1846 is divisible by 2\n",
      "1847 is is PRIME\n",
      "1848 is divisible by 2\n",
      "1849 is divisible by 43\n",
      "1850 is divisible by 2\n",
      "1851 is divisible by 3\n",
      "1852 is divisible by 2\n",
      "1853 is divisible by 17\n",
      "1854 is divisible by 2\n",
      "1855 is divisible by 5\n",
      "1856 is divisible by 2\n",
      "1857 is divisible by 3\n",
      "1858 is divisible by 2\n",
      "1859 is divisible by 11\n",
      "1860 is divisible by 2\n",
      "1861 is is PRIME\n",
      "1862 is divisible by 2\n",
      "1863 is divisible by 3\n",
      "1864 is divisible by 2\n",
      "1865 is divisible by 5\n",
      "1866 is divisible by 2\n",
      "1867 is is PRIME\n",
      "1868 is divisible by 2\n",
      "1869 is divisible by 3\n",
      "1870 is divisible by 2\n",
      "1871 is is PRIME\n",
      "1872 is divisible by 2\n",
      "1873 is is PRIME\n",
      "1874 is divisible by 2\n",
      "1875 is divisible by 3\n",
      "1876 is divisible by 2\n",
      "1877 is is PRIME\n",
      "1878 is divisible by 2\n",
      "1879 is is PRIME\n",
      "1880 is divisible by 2\n",
      "1881 is divisible by 3\n",
      "1882 is divisible by 2\n",
      "1883 is divisible by 7\n",
      "1884 is divisible by 2\n",
      "1885 is divisible by 5\n",
      "1886 is divisible by 2\n",
      "1887 is divisible by 3\n",
      "1888 is divisible by 2\n",
      "1889 is is PRIME\n",
      "1890 is divisible by 2\n",
      "1891 is divisible by 31\n",
      "1892 is divisible by 2\n",
      "1893 is divisible by 3\n",
      "1894 is divisible by 2\n",
      "1895 is divisible by 5\n",
      "1896 is divisible by 2\n",
      "1897 is divisible by 7\n",
      "1898 is divisible by 2\n",
      "1899 is divisible by 3\n",
      "1900 is divisible by 2\n",
      "1901 is is PRIME\n",
      "1902 is divisible by 2\n",
      "1903 is divisible by 11\n",
      "1904 is divisible by 2\n",
      "1905 is divisible by 3\n",
      "1906 is divisible by 2\n",
      "1907 is is PRIME\n",
      "1908 is divisible by 2\n",
      "1909 is divisible by 23\n",
      "1910 is divisible by 2\n",
      "1911 is divisible by 3\n",
      "1912 is divisible by 2\n",
      "1913 is is PRIME\n",
      "1914 is divisible by 2\n",
      "1915 is divisible by 5\n",
      "1916 is divisible by 2\n",
      "1917 is divisible by 3\n",
      "1918 is divisible by 2\n",
      "1919 is divisible by 19\n",
      "1920 is divisible by 2\n",
      "1921 is divisible by 17\n",
      "1922 is divisible by 2\n",
      "1923 is divisible by 3\n",
      "1924 is divisible by 2\n",
      "1925 is divisible by 5\n",
      "1926 is divisible by 2\n",
      "1927 is divisible by 41\n",
      "1928 is divisible by 2\n",
      "1929 is divisible by 3\n",
      "1930 is divisible by 2\n",
      "1931 is is PRIME\n",
      "1932 is divisible by 2\n",
      "1933 is is PRIME\n",
      "1934 is divisible by 2\n",
      "1935 is divisible by 3\n",
      "1936 is divisible by 2\n",
      "1937 is divisible by 13\n",
      "1938 is divisible by 2\n",
      "1939 is divisible by 7\n",
      "1940 is divisible by 2\n",
      "1941 is divisible by 3\n",
      "1942 is divisible by 2\n",
      "1943 is divisible by 29\n",
      "1944 is divisible by 2\n",
      "1945 is divisible by 5\n",
      "1946 is divisible by 2\n",
      "1947 is divisible by 3\n",
      "1948 is divisible by 2\n",
      "1949 is is PRIME\n",
      "1950 is divisible by 2\n",
      "1951 is is PRIME\n",
      "1952 is divisible by 2\n",
      "1953 is divisible by 3\n",
      "1954 is divisible by 2\n",
      "1955 is divisible by 5\n",
      "1956 is divisible by 2\n",
      "1957 is divisible by 19\n",
      "1958 is divisible by 2\n",
      "1959 is divisible by 3\n",
      "1960 is divisible by 2\n",
      "1961 is divisible by 37\n",
      "1962 is divisible by 2\n",
      "1963 is divisible by 13\n",
      "1964 is divisible by 2\n",
      "1965 is divisible by 3\n",
      "1966 is divisible by 2\n",
      "1967 is divisible by 7\n",
      "1968 is divisible by 2\n",
      "1969 is divisible by 11\n",
      "1970 is divisible by 2\n",
      "1971 is divisible by 3\n",
      "1972 is divisible by 2\n",
      "1973 is is PRIME\n",
      "1974 is divisible by 2\n",
      "1975 is divisible by 5\n",
      "1976 is divisible by 2\n",
      "1977 is divisible by 3\n",
      "1978 is divisible by 2\n",
      "1979 is is PRIME\n",
      "1980 is divisible by 2\n",
      "1981 is divisible by 7\n",
      "1982 is divisible by 2\n",
      "1983 is divisible by 3\n",
      "1984 is divisible by 2\n",
      "1985 is divisible by 5\n",
      "1986 is divisible by 2\n",
      "1987 is is PRIME\n",
      "1988 is divisible by 2\n",
      "1989 is divisible by 3\n",
      "1990 is divisible by 2\n",
      "1991 is divisible by 11\n",
      "1992 is divisible by 2\n",
      "1993 is is PRIME\n",
      "1994 is divisible by 2\n",
      "1995 is divisible by 3\n",
      "1996 is divisible by 2\n",
      "1997 is is PRIME\n",
      "1998 is divisible by 2\n",
      "1999 is is PRIME\n",
      "2000 is divisible by 2\n",
      "2001 is divisible by 3\n",
      "2002 is divisible by 2\n",
      "2003 is is PRIME\n",
      "2004 is divisible by 2\n",
      "2005 is divisible by 5\n",
      "2006 is divisible by 2\n",
      "2007 is divisible by 3\n",
      "2008 is divisible by 2\n",
      "2009 is divisible by 7\n",
      "2010 is divisible by 2\n",
      "2011 is is PRIME\n",
      "2012 is divisible by 2\n",
      "2013 is divisible by 3\n",
      "2014 is divisible by 2\n",
      "2015 is divisible by 5\n",
      "2016 is divisible by 2\n",
      "2017 is is PRIME\n",
      "2018 is divisible by 2\n",
      "2019 is divisible by 3\n",
      "2020 is divisible by 2\n",
      "2021 is divisible by 43\n",
      "2022 is divisible by 2\n",
      "2023 is divisible by 7\n",
      "2024 is divisible by 2\n",
      "2025 is divisible by 3\n",
      "2026 is divisible by 2\n",
      "2027 is is PRIME\n",
      "2028 is divisible by 2\n",
      "2029 is is PRIME\n",
      "2030 is divisible by 2\n",
      "2031 is divisible by 3\n",
      "2032 is divisible by 2\n",
      "2033 is divisible by 19\n",
      "2034 is divisible by 2\n",
      "2035 is divisible by 5\n",
      "2036 is divisible by 2\n",
      "2037 is divisible by 3\n",
      "2038 is divisible by 2\n",
      "2039 is is PRIME\n",
      "2040 is divisible by 2\n",
      "2041 is divisible by 13\n",
      "2042 is divisible by 2\n",
      "2043 is divisible by 3\n",
      "2044 is divisible by 2\n",
      "2045 is divisible by 5\n",
      "2046 is divisible by 2\n",
      "2047 is divisible by 23\n",
      "2048 is divisible by 2\n",
      "2049 is divisible by 3\n",
      "2050 is divisible by 2\n",
      "2051 is divisible by 7\n",
      "2052 is divisible by 2\n",
      "2053 is is PRIME\n",
      "2054 is divisible by 2\n",
      "2055 is divisible by 3\n",
      "2056 is divisible by 2\n",
      "2057 is divisible by 11\n",
      "2058 is divisible by 2\n",
      "2059 is divisible by 29\n",
      "2060 is divisible by 2\n",
      "2061 is divisible by 3\n",
      "2062 is divisible by 2\n",
      "2063 is is PRIME\n",
      "2064 is divisible by 2\n",
      "2065 is divisible by 5\n",
      "2066 is divisible by 2\n",
      "2067 is divisible by 3\n",
      "2068 is divisible by 2\n",
      "2069 is is PRIME\n",
      "2070 is divisible by 2\n",
      "2071 is divisible by 19\n",
      "2072 is divisible by 2\n",
      "2073 is divisible by 3\n",
      "2074 is divisible by 2\n",
      "2075 is divisible by 5\n",
      "2076 is divisible by 2\n",
      "2077 is divisible by 31\n",
      "2078 is divisible by 2\n",
      "2079 is divisible by 3\n",
      "2080 is divisible by 2\n",
      "2081 is is PRIME\n",
      "2082 is divisible by 2\n",
      "2083 is is PRIME\n",
      "2084 is divisible by 2\n",
      "2085 is divisible by 3\n",
      "2086 is divisible by 2\n",
      "2087 is is PRIME\n",
      "2088 is divisible by 2\n",
      "2089 is is PRIME\n",
      "2090 is divisible by 2\n",
      "2091 is divisible by 3\n",
      "2092 is divisible by 2\n",
      "2093 is divisible by 7\n",
      "2094 is divisible by 2\n",
      "2095 is divisible by 5\n",
      "2096 is divisible by 2\n",
      "2097 is divisible by 3\n",
      "2098 is divisible by 2\n",
      "2099 is is PRIME\n",
      "2100 is divisible by 2\n",
      "2101 is divisible by 11\n",
      "2102 is divisible by 2\n",
      "2103 is divisible by 3\n",
      "2104 is divisible by 2\n",
      "2105 is divisible by 5\n",
      "2106 is divisible by 2\n",
      "2107 is divisible by 7\n",
      "2108 is divisible by 2\n",
      "2109 is divisible by 3\n",
      "2110 is divisible by 2\n",
      "2111 is is PRIME\n",
      "2112 is divisible by 2\n",
      "2113 is is PRIME\n",
      "2114 is divisible by 2\n",
      "2115 is divisible by 3\n",
      "2116 is divisible by 2\n",
      "2117 is divisible by 29\n",
      "2118 is divisible by 2\n",
      "2119 is divisible by 13\n",
      "2120 is divisible by 2\n",
      "2121 is divisible by 3\n",
      "2122 is divisible by 2\n",
      "2123 is divisible by 11\n",
      "2124 is divisible by 2\n",
      "2125 is divisible by 5\n",
      "2126 is divisible by 2\n",
      "2127 is divisible by 3\n",
      "2128 is divisible by 2\n",
      "2129 is is PRIME\n",
      "2130 is divisible by 2\n",
      "2131 is is PRIME\n",
      "2132 is divisible by 2\n",
      "2133 is divisible by 3\n",
      "2134 is divisible by 2\n",
      "2135 is divisible by 5\n",
      "2136 is divisible by 2\n",
      "2137 is is PRIME\n",
      "2138 is divisible by 2\n",
      "2139 is divisible by 3\n",
      "2140 is divisible by 2\n",
      "2141 is is PRIME\n",
      "2142 is divisible by 2\n",
      "2143 is is PRIME\n",
      "2144 is divisible by 2\n",
      "2145 is divisible by 3\n",
      "2146 is divisible by 2\n",
      "2147 is divisible by 19\n",
      "2148 is divisible by 2\n",
      "2149 is divisible by 7\n",
      "2150 is divisible by 2\n",
      "2151 is divisible by 3\n",
      "2152 is divisible by 2\n",
      "2153 is is PRIME\n",
      "2154 is divisible by 2\n",
      "2155 is divisible by 5\n",
      "2156 is divisible by 2\n",
      "2157 is divisible by 3\n",
      "2158 is divisible by 2\n",
      "2159 is divisible by 17\n",
      "2160 is divisible by 2\n",
      "2161 is is PRIME\n",
      "2162 is divisible by 2\n",
      "2163 is divisible by 3\n",
      "2164 is divisible by 2\n",
      "2165 is divisible by 5\n",
      "2166 is divisible by 2\n",
      "2167 is divisible by 11\n",
      "2168 is divisible by 2\n",
      "2169 is divisible by 3\n",
      "2170 is divisible by 2\n",
      "2171 is divisible by 13\n",
      "2172 is divisible by 2\n",
      "2173 is divisible by 41\n",
      "2174 is divisible by 2\n",
      "2175 is divisible by 3\n",
      "2176 is divisible by 2\n",
      "2177 is divisible by 7\n",
      "2178 is divisible by 2\n",
      "2179 is is PRIME\n",
      "2180 is divisible by 2\n",
      "2181 is divisible by 3\n",
      "2182 is divisible by 2\n",
      "2183 is divisible by 37\n",
      "2184 is divisible by 2\n",
      "2185 is divisible by 5\n",
      "2186 is divisible by 2\n",
      "2187 is divisible by 3\n",
      "2188 is divisible by 2\n",
      "2189 is divisible by 11\n",
      "2190 is divisible by 2\n",
      "2191 is divisible by 7\n",
      "2192 is divisible by 2\n",
      "2193 is divisible by 3\n",
      "2194 is divisible by 2\n",
      "2195 is divisible by 5\n",
      "2196 is divisible by 2\n",
      "2197 is divisible by 13\n",
      "2198 is divisible by 2\n",
      "2199 is divisible by 3\n",
      "2200 is divisible by 2\n",
      "2201 is divisible by 31\n",
      "2202 is divisible by 2\n",
      "2203 is is PRIME\n",
      "2204 is divisible by 2\n",
      "2205 is divisible by 3\n",
      "2206 is divisible by 2\n",
      "2207 is is PRIME\n",
      "2208 is divisible by 2\n",
      "2209 is divisible by 47\n",
      "2210 is divisible by 2\n",
      "2211 is divisible by 3\n",
      "2212 is divisible by 2\n",
      "2213 is is PRIME\n",
      "2214 is divisible by 2\n",
      "2215 is divisible by 5\n",
      "2216 is divisible by 2\n",
      "2217 is divisible by 3\n",
      "2218 is divisible by 2\n",
      "2219 is divisible by 7\n",
      "2220 is divisible by 2\n",
      "2221 is is PRIME\n",
      "2222 is divisible by 2\n",
      "2223 is divisible by 3\n",
      "2224 is divisible by 2\n",
      "2225 is divisible by 5\n",
      "2226 is divisible by 2\n",
      "2227 is divisible by 17\n",
      "2228 is divisible by 2\n",
      "2229 is divisible by 3\n",
      "2230 is divisible by 2\n",
      "2231 is divisible by 23\n",
      "2232 is divisible by 2\n",
      "2233 is divisible by 7\n",
      "2234 is divisible by 2\n",
      "2235 is divisible by 3\n",
      "2236 is divisible by 2\n",
      "2237 is is PRIME\n",
      "2238 is divisible by 2\n",
      "2239 is is PRIME\n",
      "2240 is divisible by 2\n",
      "2241 is divisible by 3\n",
      "2242 is divisible by 2\n",
      "2243 is is PRIME\n",
      "2244 is divisible by 2\n",
      "2245 is divisible by 5\n",
      "2246 is divisible by 2\n",
      "2247 is divisible by 3\n",
      "2248 is divisible by 2\n",
      "2249 is divisible by 13\n",
      "2250 is divisible by 2\n",
      "2251 is is PRIME\n",
      "2252 is divisible by 2\n",
      "2253 is divisible by 3\n",
      "2254 is divisible by 2\n",
      "2255 is divisible by 5\n",
      "2256 is divisible by 2\n",
      "2257 is divisible by 37\n",
      "2258 is divisible by 2\n",
      "2259 is divisible by 3\n",
      "2260 is divisible by 2\n",
      "2261 is divisible by 7\n",
      "2262 is divisible by 2\n",
      "2263 is divisible by 31\n",
      "2264 is divisible by 2\n",
      "2265 is divisible by 3\n",
      "2266 is divisible by 2\n",
      "2267 is is PRIME\n",
      "2268 is divisible by 2\n",
      "2269 is is PRIME\n",
      "2270 is divisible by 2\n",
      "2271 is divisible by 3\n",
      "2272 is divisible by 2\n",
      "2273 is is PRIME\n",
      "2274 is divisible by 2\n",
      "2275 is divisible by 5\n",
      "2276 is divisible by 2\n",
      "2277 is divisible by 3\n",
      "2278 is divisible by 2\n",
      "2279 is divisible by 43\n",
      "2280 is divisible by 2\n",
      "2281 is is PRIME\n",
      "2282 is divisible by 2\n",
      "2283 is divisible by 3\n",
      "2284 is divisible by 2\n",
      "2285 is divisible by 5\n",
      "2286 is divisible by 2\n",
      "2287 is is PRIME\n",
      "2288 is divisible by 2\n",
      "2289 is divisible by 3\n",
      "2290 is divisible by 2\n",
      "2291 is divisible by 29\n",
      "2292 is divisible by 2\n",
      "2293 is is PRIME\n",
      "2294 is divisible by 2\n",
      "2295 is divisible by 3\n",
      "2296 is divisible by 2\n",
      "2297 is is PRIME\n",
      "2298 is divisible by 2\n",
      "2299 is divisible by 11\n",
      "2300 is divisible by 2\n",
      "2301 is divisible by 3\n",
      "2302 is divisible by 2\n",
      "2303 is divisible by 7\n",
      "2304 is divisible by 2\n",
      "2305 is divisible by 5\n",
      "2306 is divisible by 2\n",
      "2307 is divisible by 3\n",
      "2308 is divisible by 2\n",
      "2309 is is PRIME\n",
      "2310 is divisible by 2\n",
      "2311 is is PRIME\n",
      "2312 is divisible by 2\n",
      "2313 is divisible by 3\n",
      "2314 is divisible by 2\n",
      "2315 is divisible by 5\n",
      "2316 is divisible by 2\n",
      "2317 is divisible by 7\n",
      "2318 is divisible by 2\n",
      "2319 is divisible by 3\n",
      "2320 is divisible by 2\n",
      "2321 is divisible by 11\n",
      "2322 is divisible by 2\n",
      "2323 is divisible by 23\n",
      "2324 is divisible by 2\n",
      "2325 is divisible by 3\n",
      "2326 is divisible by 2\n",
      "2327 is divisible by 13\n",
      "2328 is divisible by 2\n",
      "2329 is divisible by 17\n",
      "2330 is divisible by 2\n",
      "2331 is divisible by 3\n",
      "2332 is divisible by 2\n",
      "2333 is is PRIME\n",
      "2334 is divisible by 2\n",
      "2335 is divisible by 5\n",
      "2336 is divisible by 2\n",
      "2337 is divisible by 3\n",
      "2338 is divisible by 2\n",
      "2339 is is PRIME\n",
      "2340 is divisible by 2\n",
      "2341 is is PRIME\n",
      "2342 is divisible by 2\n",
      "2343 is divisible by 3\n",
      "2344 is divisible by 2\n",
      "2345 is divisible by 5\n",
      "2346 is divisible by 2\n",
      "2347 is is PRIME\n",
      "2348 is divisible by 2\n",
      "2349 is divisible by 3\n",
      "2350 is divisible by 2\n",
      "2351 is is PRIME\n",
      "2352 is divisible by 2\n",
      "2353 is divisible by 13\n",
      "2354 is divisible by 2\n",
      "2355 is divisible by 3\n",
      "2356 is divisible by 2\n",
      "2357 is is PRIME\n",
      "2358 is divisible by 2\n",
      "2359 is divisible by 7\n",
      "2360 is divisible by 2\n",
      "2361 is divisible by 3\n",
      "2362 is divisible by 2\n",
      "2363 is divisible by 17\n",
      "2364 is divisible by 2\n",
      "2365 is divisible by 5\n",
      "2366 is divisible by 2\n",
      "2367 is divisible by 3\n",
      "2368 is divisible by 2\n",
      "2369 is divisible by 23\n",
      "2370 is divisible by 2\n",
      "2371 is is PRIME\n",
      "2372 is divisible by 2\n",
      "2373 is divisible by 3\n",
      "2374 is divisible by 2\n",
      "2375 is divisible by 5\n",
      "2376 is divisible by 2\n",
      "2377 is is PRIME\n",
      "2378 is divisible by 2\n",
      "2379 is divisible by 3\n",
      "2380 is divisible by 2\n",
      "2381 is is PRIME\n",
      "2382 is divisible by 2\n",
      "2383 is is PRIME\n",
      "2384 is divisible by 2\n",
      "2385 is divisible by 3\n",
      "2386 is divisible by 2\n",
      "2387 is divisible by 7\n",
      "2388 is divisible by 2\n",
      "2389 is is PRIME\n",
      "2390 is divisible by 2\n",
      "2391 is divisible by 3\n",
      "2392 is divisible by 2\n",
      "2393 is is PRIME\n",
      "2394 is divisible by 2\n",
      "2395 is divisible by 5\n",
      "2396 is divisible by 2\n",
      "2397 is divisible by 3\n",
      "2398 is divisible by 2\n",
      "2399 is is PRIME\n",
      "2400 is divisible by 2\n",
      "2401 is divisible by 7\n",
      "2402 is divisible by 2\n",
      "2403 is divisible by 3\n",
      "2404 is divisible by 2\n",
      "2405 is divisible by 5\n",
      "2406 is divisible by 2\n",
      "2407 is divisible by 29\n",
      "2408 is divisible by 2\n",
      "2409 is divisible by 3\n",
      "2410 is divisible by 2\n",
      "2411 is is PRIME\n",
      "2412 is divisible by 2\n",
      "2413 is divisible by 19\n",
      "2414 is divisible by 2\n",
      "2415 is divisible by 3\n",
      "2416 is divisible by 2\n",
      "2417 is is PRIME\n",
      "2418 is divisible by 2\n",
      "2419 is divisible by 41\n",
      "2420 is divisible by 2\n",
      "2421 is divisible by 3\n",
      "2422 is divisible by 2\n",
      "2423 is is PRIME\n",
      "2424 is divisible by 2\n",
      "2425 is divisible by 5\n",
      "2426 is divisible by 2\n",
      "2427 is divisible by 3\n",
      "2428 is divisible by 2\n",
      "2429 is divisible by 7\n",
      "2430 is divisible by 2\n",
      "2431 is divisible by 11\n",
      "2432 is divisible by 2\n",
      "2433 is divisible by 3\n",
      "2434 is divisible by 2\n",
      "2435 is divisible by 5\n",
      "2436 is divisible by 2\n",
      "2437 is is PRIME\n",
      "2438 is divisible by 2\n",
      "2439 is divisible by 3\n",
      "2440 is divisible by 2\n",
      "2441 is is PRIME\n",
      "2442 is divisible by 2\n",
      "2443 is divisible by 7\n",
      "2444 is divisible by 2\n",
      "2445 is divisible by 3\n",
      "2446 is divisible by 2\n",
      "2447 is is PRIME\n",
      "2448 is divisible by 2\n",
      "2449 is divisible by 31\n",
      "2450 is divisible by 2\n",
      "2451 is divisible by 3\n",
      "2452 is divisible by 2\n",
      "2453 is divisible by 11\n",
      "2454 is divisible by 2\n",
      "2455 is divisible by 5\n",
      "2456 is divisible by 2\n",
      "2457 is divisible by 3\n",
      "2458 is divisible by 2\n",
      "2459 is is PRIME\n",
      "2460 is divisible by 2\n",
      "2461 is divisible by 23\n",
      "2462 is divisible by 2\n",
      "2463 is divisible by 3\n",
      "2464 is divisible by 2\n",
      "2465 is divisible by 5\n",
      "2466 is divisible by 2\n",
      "2467 is is PRIME\n",
      "2468 is divisible by 2\n",
      "2469 is divisible by 3\n",
      "2470 is divisible by 2\n",
      "2471 is divisible by 7\n",
      "2472 is divisible by 2\n",
      "2473 is is PRIME\n",
      "2474 is divisible by 2\n",
      "2475 is divisible by 3\n",
      "2476 is divisible by 2\n",
      "2477 is is PRIME\n",
      "2478 is divisible by 2\n",
      "2479 is divisible by 37\n",
      "2480 is divisible by 2\n",
      "2481 is divisible by 3\n",
      "2482 is divisible by 2\n",
      "2483 is divisible by 13\n",
      "2484 is divisible by 2\n",
      "2485 is divisible by 5\n",
      "2486 is divisible by 2\n",
      "2487 is divisible by 3\n",
      "2488 is divisible by 2\n",
      "2489 is divisible by 19\n",
      "2490 is divisible by 2\n",
      "2491 is divisible by 47\n",
      "2492 is divisible by 2\n",
      "2493 is divisible by 3\n",
      "2494 is divisible by 2\n",
      "2495 is divisible by 5\n",
      "2496 is divisible by 2\n",
      "2497 is divisible by 11\n",
      "2498 is divisible by 2\n",
      "2499 is divisible by 3\n",
      "2500 is divisible by 2\n",
      "2501 is divisible by 41\n",
      "2502 is divisible by 2\n",
      "2503 is is PRIME\n",
      "2504 is divisible by 2\n",
      "2505 is divisible by 3\n",
      "2506 is divisible by 2\n",
      "2507 is divisible by 23\n",
      "2508 is divisible by 2\n",
      "2509 is divisible by 13\n",
      "2510 is divisible by 2\n",
      "2511 is divisible by 3\n",
      "2512 is divisible by 2\n",
      "2513 is divisible by 7\n",
      "2514 is divisible by 2\n",
      "2515 is divisible by 5\n",
      "2516 is divisible by 2\n",
      "2517 is divisible by 3\n",
      "2518 is divisible by 2\n",
      "2519 is divisible by 11\n",
      "2520 is divisible by 2\n",
      "2521 is is PRIME\n",
      "2522 is divisible by 2\n",
      "2523 is divisible by 3\n",
      "2524 is divisible by 2\n",
      "2525 is divisible by 5\n",
      "2526 is divisible by 2\n",
      "2527 is divisible by 7\n",
      "2528 is divisible by 2\n",
      "2529 is divisible by 3\n",
      "2530 is divisible by 2\n",
      "2531 is is PRIME\n",
      "2532 is divisible by 2\n",
      "2533 is divisible by 17\n",
      "2534 is divisible by 2\n",
      "2535 is divisible by 3\n",
      "2536 is divisible by 2\n",
      "2537 is divisible by 43\n",
      "2538 is divisible by 2\n",
      "2539 is is PRIME\n",
      "2540 is divisible by 2\n",
      "2541 is divisible by 3\n",
      "2542 is divisible by 2\n",
      "2543 is is PRIME\n",
      "2544 is divisible by 2\n",
      "2545 is divisible by 5\n",
      "2546 is divisible by 2\n",
      "2547 is divisible by 3\n",
      "2548 is divisible by 2\n",
      "2549 is is PRIME\n",
      "2550 is divisible by 2\n",
      "2551 is is PRIME\n",
      "2552 is divisible by 2\n",
      "2553 is divisible by 3\n",
      "2554 is divisible by 2\n",
      "2555 is divisible by 5\n",
      "2556 is divisible by 2\n",
      "2557 is is PRIME\n",
      "2558 is divisible by 2\n",
      "2559 is divisible by 3\n",
      "2560 is divisible by 2\n",
      "2561 is divisible by 13\n",
      "2562 is divisible by 2\n",
      "2563 is divisible by 11\n",
      "2564 is divisible by 2\n",
      "2565 is divisible by 3\n",
      "2566 is divisible by 2\n",
      "2567 is divisible by 17\n",
      "2568 is divisible by 2\n",
      "2569 is divisible by 7\n",
      "2570 is divisible by 2\n",
      "2571 is divisible by 3\n",
      "2572 is divisible by 2\n",
      "2573 is divisible by 31\n",
      "2574 is divisible by 2\n",
      "2575 is divisible by 5\n",
      "2576 is divisible by 2\n",
      "2577 is divisible by 3\n",
      "2578 is divisible by 2\n",
      "2579 is is PRIME\n",
      "2580 is divisible by 2\n",
      "2581 is divisible by 29\n",
      "2582 is divisible by 2\n",
      "2583 is divisible by 3\n",
      "2584 is divisible by 2\n",
      "2585 is divisible by 5\n",
      "2586 is divisible by 2\n",
      "2587 is divisible by 13\n",
      "2588 is divisible by 2\n",
      "2589 is divisible by 3\n",
      "2590 is divisible by 2\n",
      "2591 is is PRIME\n",
      "2592 is divisible by 2\n",
      "2593 is is PRIME\n",
      "2594 is divisible by 2\n",
      "2595 is divisible by 3\n",
      "2596 is divisible by 2\n",
      "2597 is divisible by 7\n",
      "2598 is divisible by 2\n",
      "2599 is divisible by 23\n"
     ]
    }
   ],
   "source": [
    "for number in range(2, 2600): # 1\n",
    "    divisors_found = 0\n",
    "    print(number, 'is', end=' ')\n",
    "    for divisor in range(2, number): # 2\n",
    "        quotient, remainder = divmod(number, divisor) # 3\n",
    "        if remainder == 0: # 3, divides in\n",
    "            print('divisible by', divisor) # 4\n",
    "            divisors_found += 1 # add 1\n",
    "            break # 4a\n",
    "    if divisors_found == 0: # no divisors found\n",
    "        print('is PRIME')"
   ]
  },
  {
   "cell_type": "code",
   "execution_count": 177,
   "id": "3723c82c-bb96-4d21-a5e7-ab61d541d6f4",
   "metadata": {},
   "outputs": [
    {
     "name": "stdout",
     "output_type": "stream",
     "text": [
      "2 is PRIME\n",
      "3 is PRIME\n",
      "4 is 2 * 2\n",
      "5 is PRIME\n",
      "6 is 2 * 3\n",
      "7 is PRIME\n",
      "8 is 2 * 4\n",
      "9 is 3 * 3\n",
      "10 is 2 * 5\n",
      "11 is PRIME\n",
      "12 is 2 * 6\n",
      "13 is PRIME\n",
      "14 is 2 * 7\n",
      "15 is 3 * 5\n",
      "16 is 2 * 8\n",
      "17 is PRIME\n",
      "18 is 2 * 9\n",
      "19 is PRIME\n",
      "20 is 2 * 10\n",
      "21 is 3 * 7\n",
      "22 is 2 * 11\n",
      "23 is PRIME\n",
      "24 is 2 * 12\n",
      "25 is 5 * 5\n",
      "26 is 2 * 13\n",
      "27 is 3 * 9\n",
      "28 is 2 * 14\n",
      "29 is PRIME\n",
      "30 is 2 * 15\n",
      "31 is PRIME\n",
      "32 is 2 * 16\n",
      "33 is 3 * 11\n",
      "34 is 2 * 17\n",
      "35 is 5 * 7\n",
      "36 is 2 * 18\n",
      "37 is PRIME\n",
      "38 is 2 * 19\n",
      "39 is 3 * 13\n",
      "40 is 2 * 20\n",
      "41 is PRIME\n",
      "42 is 2 * 21\n",
      "43 is PRIME\n",
      "44 is 2 * 22\n",
      "45 is 3 * 15\n",
      "46 is 2 * 23\n",
      "47 is PRIME\n",
      "48 is 2 * 24\n",
      "49 is 7 * 7\n",
      "50 is 2 * 25\n",
      "51 is 3 * 17\n",
      "52 is 2 * 26\n",
      "53 is PRIME\n",
      "54 is 2 * 27\n",
      "55 is 5 * 11\n",
      "56 is 2 * 28\n",
      "57 is 3 * 19\n",
      "58 is 2 * 29\n",
      "59 is PRIME\n",
      "60 is 2 * 30\n",
      "61 is PRIME\n",
      "62 is 2 * 31\n",
      "63 is 3 * 21\n",
      "64 is 2 * 32\n",
      "65 is 5 * 13\n",
      "66 is 2 * 33\n",
      "67 is PRIME\n",
      "68 is 2 * 34\n",
      "69 is 3 * 23\n",
      "70 is 2 * 35\n",
      "71 is PRIME\n",
      "72 is 2 * 36\n",
      "73 is PRIME\n",
      "74 is 2 * 37\n",
      "75 is 3 * 25\n",
      "76 is 2 * 38\n",
      "77 is 7 * 11\n",
      "78 is 2 * 39\n",
      "79 is PRIME\n",
      "80 is 2 * 40\n",
      "81 is 3 * 27\n",
      "82 is 2 * 41\n",
      "83 is PRIME\n",
      "84 is 2 * 42\n",
      "85 is 5 * 17\n",
      "86 is 2 * 43\n",
      "87 is 3 * 29\n",
      "88 is 2 * 44\n",
      "89 is PRIME\n",
      "90 is 2 * 45\n",
      "91 is 7 * 13\n",
      "92 is 2 * 46\n",
      "93 is 3 * 31\n",
      "94 is 2 * 47\n",
      "95 is 5 * 19\n",
      "96 is 2 * 48\n",
      "97 is PRIME\n",
      "98 is 2 * 49\n",
      "99 is 3 * 33\n",
      "100 is 2 * 50\n",
      "101 is PRIME\n",
      "102 is 2 * 51\n",
      "103 is PRIME\n",
      "104 is 2 * 52\n",
      "105 is 3 * 35\n",
      "106 is 2 * 53\n",
      "107 is PRIME\n",
      "108 is 2 * 54\n",
      "109 is PRIME\n",
      "110 is 2 * 55\n",
      "111 is 3 * 37\n",
      "112 is 2 * 56\n",
      "113 is PRIME\n",
      "114 is 2 * 57\n",
      "115 is 5 * 23\n",
      "116 is 2 * 58\n",
      "117 is 3 * 39\n",
      "118 is 2 * 59\n",
      "119 is 7 * 17\n",
      "120 is 2 * 60\n",
      "121 is 11 * 11\n",
      "122 is 2 * 61\n",
      "123 is 3 * 41\n",
      "124 is 2 * 62\n",
      "125 is 5 * 25\n",
      "126 is 2 * 63\n",
      "127 is PRIME\n",
      "128 is 2 * 64\n",
      "129 is 3 * 43\n",
      "130 is 2 * 65\n",
      "131 is PRIME\n",
      "132 is 2 * 66\n",
      "133 is 7 * 19\n",
      "134 is 2 * 67\n",
      "135 is 3 * 45\n",
      "136 is 2 * 68\n",
      "137 is PRIME\n",
      "138 is 2 * 69\n",
      "139 is PRIME\n",
      "140 is 2 * 70\n",
      "141 is 3 * 47\n",
      "142 is 2 * 71\n",
      "143 is 11 * 13\n",
      "144 is 2 * 72\n",
      "145 is 5 * 29\n",
      "146 is 2 * 73\n",
      "147 is 3 * 49\n",
      "148 is 2 * 74\n",
      "149 is PRIME\n",
      "150 is 2 * 75\n",
      "151 is PRIME\n",
      "152 is 2 * 76\n",
      "153 is 3 * 51\n",
      "154 is 2 * 77\n",
      "155 is 5 * 31\n",
      "156 is 2 * 78\n",
      "157 is PRIME\n",
      "158 is 2 * 79\n",
      "159 is 3 * 53\n",
      "160 is 2 * 80\n",
      "161 is 7 * 23\n",
      "162 is 2 * 81\n",
      "163 is PRIME\n",
      "164 is 2 * 82\n",
      "165 is 3 * 55\n",
      "166 is 2 * 83\n",
      "167 is PRIME\n",
      "168 is 2 * 84\n",
      "169 is 13 * 13\n",
      "170 is 2 * 85\n",
      "171 is 3 * 57\n",
      "172 is 2 * 86\n",
      "173 is PRIME\n",
      "174 is 2 * 87\n",
      "175 is 5 * 35\n",
      "176 is 2 * 88\n",
      "177 is 3 * 59\n",
      "178 is 2 * 89\n",
      "179 is PRIME\n",
      "180 is 2 * 90\n",
      "181 is PRIME\n",
      "182 is 2 * 91\n",
      "183 is 3 * 61\n",
      "184 is 2 * 92\n",
      "185 is 5 * 37\n",
      "186 is 2 * 93\n",
      "187 is 11 * 17\n",
      "188 is 2 * 94\n",
      "189 is 3 * 63\n",
      "190 is 2 * 95\n",
      "191 is PRIME\n",
      "192 is 2 * 96\n",
      "193 is PRIME\n",
      "194 is 2 * 97\n",
      "195 is 3 * 65\n",
      "196 is 2 * 98\n",
      "197 is PRIME\n",
      "198 is 2 * 99\n",
      "199 is PRIME\n",
      "200 is 2 * 100\n",
      "201 is 3 * 67\n",
      "202 is 2 * 101\n",
      "203 is 7 * 29\n",
      "204 is 2 * 102\n",
      "205 is 5 * 41\n",
      "206 is 2 * 103\n",
      "207 is 3 * 69\n",
      "208 is 2 * 104\n",
      "209 is 11 * 19\n",
      "210 is 2 * 105\n",
      "211 is PRIME\n",
      "212 is 2 * 106\n",
      "213 is 3 * 71\n",
      "214 is 2 * 107\n",
      "215 is 5 * 43\n",
      "216 is 2 * 108\n",
      "217 is 7 * 31\n",
      "218 is 2 * 109\n",
      "219 is 3 * 73\n",
      "220 is 2 * 110\n",
      "221 is 13 * 17\n",
      "222 is 2 * 111\n",
      "223 is PRIME\n",
      "224 is 2 * 112\n",
      "225 is 3 * 75\n",
      "226 is 2 * 113\n",
      "227 is PRIME\n",
      "228 is 2 * 114\n",
      "229 is PRIME\n",
      "230 is 2 * 115\n",
      "231 is 3 * 77\n",
      "232 is 2 * 116\n",
      "233 is PRIME\n",
      "234 is 2 * 117\n",
      "235 is 5 * 47\n",
      "236 is 2 * 118\n",
      "237 is 3 * 79\n",
      "238 is 2 * 119\n",
      "239 is PRIME\n",
      "240 is 2 * 120\n",
      "241 is PRIME\n",
      "242 is 2 * 121\n",
      "243 is 3 * 81\n",
      "244 is 2 * 122\n",
      "245 is 5 * 49\n",
      "246 is 2 * 123\n",
      "247 is 13 * 19\n",
      "248 is 2 * 124\n",
      "249 is 3 * 83\n",
      "250 is 2 * 125\n",
      "251 is PRIME\n",
      "252 is 2 * 126\n",
      "253 is 11 * 23\n",
      "254 is 2 * 127\n",
      "255 is 3 * 85\n",
      "256 is 2 * 128\n",
      "257 is PRIME\n",
      "258 is 2 * 129\n",
      "259 is 7 * 37\n",
      "260 is 2 * 130\n",
      "261 is 3 * 87\n",
      "262 is 2 * 131\n",
      "263 is PRIME\n",
      "264 is 2 * 132\n",
      "265 is 5 * 53\n",
      "266 is 2 * 133\n",
      "267 is 3 * 89\n",
      "268 is 2 * 134\n",
      "269 is PRIME\n",
      "270 is 2 * 135\n",
      "271 is PRIME\n",
      "272 is 2 * 136\n",
      "273 is 3 * 91\n",
      "274 is 2 * 137\n",
      "275 is 5 * 55\n",
      "276 is 2 * 138\n",
      "277 is PRIME\n",
      "278 is 2 * 139\n",
      "279 is 3 * 93\n",
      "280 is 2 * 140\n",
      "281 is PRIME\n",
      "282 is 2 * 141\n",
      "283 is PRIME\n",
      "284 is 2 * 142\n",
      "285 is 3 * 95\n",
      "286 is 2 * 143\n",
      "287 is 7 * 41\n",
      "288 is 2 * 144\n",
      "289 is 17 * 17\n",
      "290 is 2 * 145\n",
      "291 is 3 * 97\n",
      "292 is 2 * 146\n",
      "293 is PRIME\n",
      "294 is 2 * 147\n",
      "295 is 5 * 59\n",
      "296 is 2 * 148\n",
      "297 is 3 * 99\n",
      "298 is 2 * 149\n",
      "299 is 13 * 23\n"
     ]
    }
   ],
   "source": [
    "# 2nd iteration, leveraging quotient\n",
    "for number in range(2, 300): # 1\n",
    "    divisors_found = 0\n",
    "    print(number, 'is', end=' ')\n",
    "    for divisor in range(2, number): # 2\n",
    "        quotient, remainder = divmod(number, divisor) # 3\n",
    "        if remainder == 0: # 3, divides in\n",
    "            print(divisor, '*', quotient) # 4\n",
    "            divisors_found += 1 # add 1\n",
    "            break # 4a\n",
    "    if divisors_found == 0: # no divisors found\n",
    "        print('PRIME')"
   ]
  },
  {
   "cell_type": "code",
   "execution_count": 178,
   "id": "68bb9381-85ee-4a33-98b7-17cf4d203788",
   "metadata": {},
   "outputs": [
    {
     "name": "stdout",
     "output_type": "stream",
     "text": [
      "2 is PRIME\n",
      "3 is PRIME\n",
      "4 is 2 * 2\n",
      "5 is PRIME\n",
      "6 is 2 * 3\n",
      "7 is PRIME\n",
      "8 is 2 * 4\n",
      "9 is 3 * 3\n",
      "10 is 2 * 5\n",
      "11 is PRIME\n",
      "12 is 2 * 6\n",
      "13 is PRIME\n",
      "14 is 2 * 7\n",
      "15 is 3 * 5\n",
      "16 is 2 * 8\n",
      "17 is PRIME\n",
      "18 is 2 * 9\n",
      "19 is PRIME\n",
      "20 is 2 * 10\n",
      "21 is 3 * 7\n",
      "22 is 2 * 11\n",
      "23 is PRIME\n",
      "24 is 2 * 12\n",
      "25 is 5 * 5\n",
      "26 is 2 * 13\n",
      "27 is 3 * 9\n",
      "28 is 2 * 14\n",
      "29 is PRIME\n",
      "30 is 2 * 15\n",
      "31 is PRIME\n",
      "32 is 2 * 16\n",
      "33 is 3 * 11\n",
      "34 is 2 * 17\n",
      "35 is 5 * 7\n",
      "36 is 2 * 18\n",
      "37 is PRIME\n",
      "38 is 2 * 19\n",
      "39 is 3 * 13\n",
      "40 is 2 * 20\n",
      "41 is PRIME\n",
      "42 is 2 * 21\n",
      "43 is PRIME\n",
      "44 is 2 * 22\n",
      "45 is 3 * 15\n",
      "46 is 2 * 23\n",
      "47 is PRIME\n",
      "48 is 2 * 24\n",
      "49 is 7 * 7\n",
      "50 is 2 * 25\n",
      "51 is 3 * 17\n",
      "52 is 2 * 26\n",
      "53 is PRIME\n",
      "54 is 2 * 27\n",
      "55 is 5 * 11\n",
      "56 is 2 * 28\n",
      "57 is 3 * 19\n",
      "58 is 2 * 29\n",
      "59 is PRIME\n",
      "60 is 2 * 30\n",
      "61 is PRIME\n",
      "62 is 2 * 31\n",
      "63 is 3 * 21\n",
      "64 is 2 * 32\n",
      "65 is 5 * 13\n",
      "66 is 2 * 33\n",
      "67 is PRIME\n",
      "68 is 2 * 34\n",
      "69 is 3 * 23\n",
      "70 is 2 * 35\n",
      "71 is PRIME\n",
      "72 is 2 * 36\n",
      "73 is PRIME\n",
      "74 is 2 * 37\n",
      "75 is 3 * 25\n",
      "76 is 2 * 38\n",
      "77 is 7 * 11\n",
      "78 is 2 * 39\n",
      "79 is PRIME\n",
      "80 is 2 * 40\n",
      "81 is 3 * 27\n",
      "82 is 2 * 41\n",
      "83 is PRIME\n",
      "84 is 2 * 42\n",
      "85 is 5 * 17\n",
      "86 is 2 * 43\n",
      "87 is 3 * 29\n",
      "88 is 2 * 44\n",
      "89 is PRIME\n",
      "90 is 2 * 45\n",
      "91 is 7 * 13\n",
      "92 is 2 * 46\n",
      "93 is 3 * 31\n",
      "94 is 2 * 47\n",
      "95 is 5 * 19\n",
      "96 is 2 * 48\n",
      "97 is PRIME\n",
      "98 is 2 * 49\n",
      "99 is 3 * 33\n",
      "100 is 2 * 50\n",
      "101 is PRIME\n",
      "102 is 2 * 51\n",
      "103 is PRIME\n",
      "104 is 2 * 52\n",
      "105 is 3 * 35\n",
      "106 is 2 * 53\n",
      "107 is PRIME\n",
      "108 is 2 * 54\n",
      "109 is PRIME\n",
      "110 is 2 * 55\n",
      "111 is 3 * 37\n",
      "112 is 2 * 56\n",
      "113 is PRIME\n",
      "114 is 2 * 57\n",
      "115 is 5 * 23\n",
      "116 is 2 * 58\n",
      "117 is 3 * 39\n",
      "118 is 2 * 59\n",
      "119 is 7 * 17\n",
      "120 is 2 * 60\n",
      "121 is 11 * 11\n",
      "122 is 2 * 61\n",
      "123 is 3 * 41\n",
      "124 is 2 * 62\n",
      "125 is 5 * 25\n",
      "126 is 2 * 63\n",
      "127 is PRIME\n",
      "128 is 2 * 64\n",
      "129 is 3 * 43\n",
      "130 is 2 * 65\n",
      "131 is PRIME\n",
      "132 is 2 * 66\n",
      "133 is 7 * 19\n",
      "134 is 2 * 67\n",
      "135 is 3 * 45\n",
      "136 is 2 * 68\n",
      "137 is PRIME\n",
      "138 is 2 * 69\n",
      "139 is PRIME\n",
      "140 is 2 * 70\n",
      "141 is 3 * 47\n",
      "142 is 2 * 71\n",
      "143 is 11 * 13\n",
      "144 is 2 * 72\n",
      "145 is 5 * 29\n",
      "146 is 2 * 73\n",
      "147 is 3 * 49\n",
      "148 is 2 * 74\n",
      "149 is PRIME\n",
      "150 is 2 * 75\n",
      "151 is PRIME\n",
      "152 is 2 * 76\n",
      "153 is 3 * 51\n",
      "154 is 2 * 77\n",
      "155 is 5 * 31\n",
      "156 is 2 * 78\n",
      "157 is PRIME\n",
      "158 is 2 * 79\n",
      "159 is 3 * 53\n",
      "160 is 2 * 80\n",
      "161 is 7 * 23\n",
      "162 is 2 * 81\n",
      "163 is PRIME\n",
      "164 is 2 * 82\n",
      "165 is 3 * 55\n",
      "166 is 2 * 83\n",
      "167 is PRIME\n",
      "168 is 2 * 84\n",
      "169 is 13 * 13\n",
      "170 is 2 * 85\n",
      "171 is 3 * 57\n",
      "172 is 2 * 86\n",
      "173 is PRIME\n",
      "174 is 2 * 87\n",
      "175 is 5 * 35\n",
      "176 is 2 * 88\n",
      "177 is 3 * 59\n",
      "178 is 2 * 89\n",
      "179 is PRIME\n",
      "180 is 2 * 90\n",
      "181 is PRIME\n",
      "182 is 2 * 91\n",
      "183 is 3 * 61\n",
      "184 is 2 * 92\n",
      "185 is 5 * 37\n",
      "186 is 2 * 93\n",
      "187 is 11 * 17\n",
      "188 is 2 * 94\n",
      "189 is 3 * 63\n",
      "190 is 2 * 95\n",
      "191 is PRIME\n",
      "192 is 2 * 96\n",
      "193 is PRIME\n",
      "194 is 2 * 97\n",
      "195 is 3 * 65\n",
      "196 is 2 * 98\n",
      "197 is PRIME\n",
      "198 is 2 * 99\n",
      "199 is PRIME\n",
      "200 is 2 * 100\n",
      "201 is 3 * 67\n",
      "202 is 2 * 101\n",
      "203 is 7 * 29\n",
      "204 is 2 * 102\n",
      "205 is 5 * 41\n",
      "206 is 2 * 103\n",
      "207 is 3 * 69\n",
      "208 is 2 * 104\n",
      "209 is 11 * 19\n",
      "210 is 2 * 105\n",
      "211 is PRIME\n",
      "212 is 2 * 106\n",
      "213 is 3 * 71\n",
      "214 is 2 * 107\n",
      "215 is 5 * 43\n",
      "216 is 2 * 108\n",
      "217 is 7 * 31\n",
      "218 is 2 * 109\n",
      "219 is 3 * 73\n",
      "220 is 2 * 110\n",
      "221 is 13 * 17\n",
      "222 is 2 * 111\n",
      "223 is PRIME\n",
      "224 is 2 * 112\n",
      "225 is 3 * 75\n",
      "226 is 2 * 113\n",
      "227 is PRIME\n",
      "228 is 2 * 114\n",
      "229 is PRIME\n",
      "230 is 2 * 115\n",
      "231 is 3 * 77\n",
      "232 is 2 * 116\n",
      "233 is PRIME\n",
      "234 is 2 * 117\n",
      "235 is 5 * 47\n",
      "236 is 2 * 118\n",
      "237 is 3 * 79\n",
      "238 is 2 * 119\n",
      "239 is PRIME\n",
      "240 is 2 * 120\n",
      "241 is PRIME\n",
      "242 is 2 * 121\n",
      "243 is 3 * 81\n",
      "244 is 2 * 122\n",
      "245 is 5 * 49\n",
      "246 is 2 * 123\n",
      "247 is 13 * 19\n",
      "248 is 2 * 124\n",
      "249 is 3 * 83\n",
      "250 is 2 * 125\n",
      "251 is PRIME\n",
      "252 is 2 * 126\n",
      "253 is 11 * 23\n",
      "254 is 2 * 127\n",
      "255 is 3 * 85\n",
      "256 is 2 * 128\n",
      "257 is PRIME\n",
      "258 is 2 * 129\n",
      "259 is 7 * 37\n",
      "260 is 2 * 130\n",
      "261 is 3 * 87\n",
      "262 is 2 * 131\n",
      "263 is PRIME\n",
      "264 is 2 * 132\n",
      "265 is 5 * 53\n",
      "266 is 2 * 133\n",
      "267 is 3 * 89\n",
      "268 is 2 * 134\n",
      "269 is PRIME\n",
      "270 is 2 * 135\n",
      "271 is PRIME\n",
      "272 is 2 * 136\n",
      "273 is 3 * 91\n",
      "274 is 2 * 137\n",
      "275 is 5 * 55\n",
      "276 is 2 * 138\n",
      "277 is PRIME\n",
      "278 is 2 * 139\n",
      "279 is 3 * 93\n",
      "280 is 2 * 140\n",
      "281 is PRIME\n",
      "282 is 2 * 141\n",
      "283 is PRIME\n",
      "284 is 2 * 142\n",
      "285 is 3 * 95\n",
      "286 is 2 * 143\n",
      "287 is 7 * 41\n",
      "288 is 2 * 144\n",
      "289 is 17 * 17\n",
      "290 is 2 * 145\n",
      "291 is 3 * 97\n",
      "292 is 2 * 146\n",
      "293 is PRIME\n",
      "294 is 2 * 147\n",
      "295 is 5 * 59\n",
      "296 is 2 * 148\n",
      "297 is 3 * 99\n",
      "298 is 2 * 149\n",
      "299 is 13 * 23\n"
     ]
    }
   ],
   "source": [
    "# 2nd iteration, leveraging quotient\n",
    "for number in range(2, 300): # 1\n",
    "    is_prime = True # start by assuming primality\n",
    "    print(number, 'is', end=' ')\n",
    "    for divisor in range(2, number): # 2\n",
    "        quotient, remainder = divmod(number, divisor) # 3\n",
    "        if remainder == 0: # 3, divides in\n",
    "            print(divisor, '*', quotient) # 4\n",
    "            is_prime = False # add 1\n",
    "            break # 4a\n",
    "    if is_prime: # == True: # no divisors found\n",
    "        print('PRIME')"
   ]
  },
  {
   "cell_type": "code",
   "execution_count": 179,
   "id": "bb2a89b8-f7de-475d-8860-191abe0fb656",
   "metadata": {
    "scrolled": true
   },
   "outputs": [
    {
     "name": "stdout",
     "output_type": "stream",
     "text": [
      "2 is PRIME\n",
      "3 is PRIME\n",
      "4 is 2 * 2\n",
      "5 is PRIME\n",
      "6 is 2 * 3\n",
      "7 is PRIME\n",
      "8 is 2 * 4\n",
      "9 is 3 * 3\n",
      "10 is 2 * 5\n",
      "11 is PRIME\n",
      "12 is 2 * 6\n",
      "13 is PRIME\n",
      "14 is 2 * 7\n",
      "15 is 3 * 5\n",
      "16 is 2 * 8\n",
      "17 is PRIME\n",
      "18 is 2 * 9\n",
      "19 is PRIME\n",
      "20 is 2 * 10\n",
      "21 is 3 * 7\n",
      "22 is 2 * 11\n",
      "23 is PRIME\n",
      "24 is 2 * 12\n",
      "25 is 5 * 5\n",
      "26 is 2 * 13\n",
      "27 is 3 * 9\n",
      "28 is 2 * 14\n",
      "29 is PRIME\n",
      "30 is 2 * 15\n",
      "31 is PRIME\n",
      "32 is 2 * 16\n",
      "33 is 3 * 11\n",
      "34 is 2 * 17\n",
      "35 is 5 * 7\n",
      "36 is 2 * 18\n",
      "37 is PRIME\n",
      "38 is 2 * 19\n",
      "39 is 3 * 13\n",
      "40 is 2 * 20\n",
      "41 is PRIME\n",
      "42 is 2 * 21\n",
      "43 is PRIME\n",
      "44 is 2 * 22\n",
      "45 is 3 * 15\n",
      "46 is 2 * 23\n",
      "47 is PRIME\n",
      "48 is 2 * 24\n",
      "49 is 7 * 7\n",
      "50 is 2 * 25\n",
      "51 is 3 * 17\n",
      "52 is 2 * 26\n",
      "53 is PRIME\n",
      "54 is 2 * 27\n",
      "55 is 5 * 11\n",
      "56 is 2 * 28\n",
      "57 is 3 * 19\n",
      "58 is 2 * 29\n",
      "59 is PRIME\n",
      "60 is 2 * 30\n",
      "61 is PRIME\n",
      "62 is 2 * 31\n",
      "63 is 3 * 21\n",
      "64 is 2 * 32\n",
      "65 is 5 * 13\n",
      "66 is 2 * 33\n",
      "67 is PRIME\n",
      "68 is 2 * 34\n",
      "69 is 3 * 23\n",
      "70 is 2 * 35\n",
      "71 is PRIME\n",
      "72 is 2 * 36\n",
      "73 is PRIME\n",
      "74 is 2 * 37\n",
      "75 is 3 * 25\n",
      "76 is 2 * 38\n",
      "77 is 7 * 11\n",
      "78 is 2 * 39\n",
      "79 is PRIME\n",
      "80 is 2 * 40\n",
      "81 is 3 * 27\n",
      "82 is 2 * 41\n",
      "83 is PRIME\n",
      "84 is 2 * 42\n",
      "85 is 5 * 17\n",
      "86 is 2 * 43\n",
      "87 is 3 * 29\n",
      "88 is 2 * 44\n",
      "89 is PRIME\n",
      "90 is 2 * 45\n",
      "91 is 7 * 13\n",
      "92 is 2 * 46\n",
      "93 is 3 * 31\n",
      "94 is 2 * 47\n",
      "95 is 5 * 19\n",
      "96 is 2 * 48\n",
      "97 is PRIME\n",
      "98 is 2 * 49\n",
      "99 is 3 * 33\n",
      "100 is 2 * 50\n",
      "101 is PRIME\n",
      "102 is 2 * 51\n",
      "103 is PRIME\n",
      "104 is 2 * 52\n",
      "105 is 3 * 35\n",
      "106 is 2 * 53\n",
      "107 is PRIME\n",
      "108 is 2 * 54\n",
      "109 is PRIME\n",
      "110 is 2 * 55\n",
      "111 is 3 * 37\n",
      "112 is 2 * 56\n",
      "113 is PRIME\n",
      "114 is 2 * 57\n",
      "115 is 5 * 23\n",
      "116 is 2 * 58\n",
      "117 is 3 * 39\n",
      "118 is 2 * 59\n",
      "119 is 7 * 17\n",
      "120 is 2 * 60\n",
      "121 is 11 * 11\n",
      "122 is 2 * 61\n",
      "123 is 3 * 41\n",
      "124 is 2 * 62\n",
      "125 is 5 * 25\n",
      "126 is 2 * 63\n",
      "127 is PRIME\n",
      "128 is 2 * 64\n",
      "129 is 3 * 43\n",
      "130 is 2 * 65\n",
      "131 is PRIME\n",
      "132 is 2 * 66\n",
      "133 is 7 * 19\n",
      "134 is 2 * 67\n",
      "135 is 3 * 45\n",
      "136 is 2 * 68\n",
      "137 is PRIME\n",
      "138 is 2 * 69\n",
      "139 is PRIME\n",
      "140 is 2 * 70\n",
      "141 is 3 * 47\n",
      "142 is 2 * 71\n",
      "143 is 11 * 13\n",
      "144 is 2 * 72\n",
      "145 is 5 * 29\n",
      "146 is 2 * 73\n",
      "147 is 3 * 49\n",
      "148 is 2 * 74\n",
      "149 is PRIME\n",
      "150 is 2 * 75\n",
      "151 is PRIME\n",
      "152 is 2 * 76\n",
      "153 is 3 * 51\n",
      "154 is 2 * 77\n",
      "155 is 5 * 31\n",
      "156 is 2 * 78\n",
      "157 is PRIME\n",
      "158 is 2 * 79\n",
      "159 is 3 * 53\n",
      "160 is 2 * 80\n",
      "161 is 7 * 23\n",
      "162 is 2 * 81\n",
      "163 is PRIME\n",
      "164 is 2 * 82\n",
      "165 is 3 * 55\n",
      "166 is 2 * 83\n",
      "167 is PRIME\n",
      "168 is 2 * 84\n",
      "169 is 13 * 13\n",
      "170 is 2 * 85\n",
      "171 is 3 * 57\n",
      "172 is 2 * 86\n",
      "173 is PRIME\n",
      "174 is 2 * 87\n",
      "175 is 5 * 35\n",
      "176 is 2 * 88\n",
      "177 is 3 * 59\n",
      "178 is 2 * 89\n",
      "179 is PRIME\n",
      "180 is 2 * 90\n",
      "181 is PRIME\n",
      "182 is 2 * 91\n",
      "183 is 3 * 61\n",
      "184 is 2 * 92\n",
      "185 is 5 * 37\n",
      "186 is 2 * 93\n",
      "187 is 11 * 17\n",
      "188 is 2 * 94\n",
      "189 is 3 * 63\n",
      "190 is 2 * 95\n",
      "191 is PRIME\n",
      "192 is 2 * 96\n",
      "193 is PRIME\n",
      "194 is 2 * 97\n",
      "195 is 3 * 65\n",
      "196 is 2 * 98\n",
      "197 is PRIME\n",
      "198 is 2 * 99\n",
      "199 is PRIME\n",
      "200 is 2 * 100\n",
      "201 is 3 * 67\n",
      "202 is 2 * 101\n",
      "203 is 7 * 29\n",
      "204 is 2 * 102\n",
      "205 is 5 * 41\n",
      "206 is 2 * 103\n",
      "207 is 3 * 69\n",
      "208 is 2 * 104\n",
      "209 is 11 * 19\n",
      "210 is 2 * 105\n",
      "211 is PRIME\n",
      "212 is 2 * 106\n",
      "213 is 3 * 71\n",
      "214 is 2 * 107\n",
      "215 is 5 * 43\n",
      "216 is 2 * 108\n",
      "217 is 7 * 31\n",
      "218 is 2 * 109\n",
      "219 is 3 * 73\n",
      "220 is 2 * 110\n",
      "221 is 13 * 17\n",
      "222 is 2 * 111\n",
      "223 is PRIME\n",
      "224 is 2 * 112\n",
      "225 is 3 * 75\n",
      "226 is 2 * 113\n",
      "227 is PRIME\n",
      "228 is 2 * 114\n",
      "229 is PRIME\n",
      "230 is 2 * 115\n",
      "231 is 3 * 77\n",
      "232 is 2 * 116\n",
      "233 is PRIME\n",
      "234 is 2 * 117\n",
      "235 is 5 * 47\n",
      "236 is 2 * 118\n",
      "237 is 3 * 79\n",
      "238 is 2 * 119\n",
      "239 is PRIME\n",
      "240 is 2 * 120\n",
      "241 is PRIME\n",
      "242 is 2 * 121\n",
      "243 is 3 * 81\n",
      "244 is 2 * 122\n",
      "245 is 5 * 49\n",
      "246 is 2 * 123\n",
      "247 is 13 * 19\n",
      "248 is 2 * 124\n",
      "249 is 3 * 83\n",
      "250 is 2 * 125\n",
      "251 is PRIME\n",
      "252 is 2 * 126\n",
      "253 is 11 * 23\n",
      "254 is 2 * 127\n",
      "255 is 3 * 85\n",
      "256 is 2 * 128\n",
      "257 is PRIME\n",
      "258 is 2 * 129\n",
      "259 is 7 * 37\n",
      "260 is 2 * 130\n",
      "261 is 3 * 87\n",
      "262 is 2 * 131\n",
      "263 is PRIME\n",
      "264 is 2 * 132\n",
      "265 is 5 * 53\n",
      "266 is 2 * 133\n",
      "267 is 3 * 89\n",
      "268 is 2 * 134\n",
      "269 is PRIME\n",
      "270 is 2 * 135\n",
      "271 is PRIME\n",
      "272 is 2 * 136\n",
      "273 is 3 * 91\n",
      "274 is 2 * 137\n",
      "275 is 5 * 55\n",
      "276 is 2 * 138\n",
      "277 is PRIME\n",
      "278 is 2 * 139\n",
      "279 is 3 * 93\n",
      "280 is 2 * 140\n",
      "281 is PRIME\n",
      "282 is 2 * 141\n",
      "283 is PRIME\n",
      "284 is 2 * 142\n",
      "285 is 3 * 95\n",
      "286 is 2 * 143\n",
      "287 is 7 * 41\n",
      "288 is 2 * 144\n",
      "289 is 17 * 17\n",
      "290 is 2 * 145\n",
      "291 is 3 * 97\n",
      "292 is 2 * 146\n",
      "293 is PRIME\n",
      "294 is 2 * 147\n",
      "295 is 5 * 59\n",
      "296 is 2 * 148\n",
      "297 is 3 * 99\n",
      "298 is 2 * 149\n",
      "299 is 13 * 23\n"
     ]
    }
   ],
   "source": [
    "# 3rd iteration, leveraging else clause\n",
    "# issue is, when inner for loop finishes, we don't know how\n",
    "# ...either we used break to get out, or we terminated normally (no break)\n",
    "for number in range(2, 300): # 1\n",
    "    print(number, 'is', end=' ')\n",
    "    for divisor in range(2, number): # 2\n",
    "        quotient, remainder = divmod(number, divisor) # 3\n",
    "        if remainder == 0: # 3, divides in\n",
    "            print(divisor, '*', quotient) # 4\n",
    "            break # 4a (abnormal termination)\n",
    "    else: # the code in the else clause is only run if loop terminated normally\n",
    "        print('PRIME')"
   ]
  },
  {
   "cell_type": "code",
   "execution_count": 142,
   "id": "fa1d9192-bf92-49e2-a772-367d3d9c968b",
   "metadata": {},
   "outputs": [
    {
     "name": "stdout",
     "output_type": "stream",
     "text": [
      "2 is is PRIME\n",
      "3 is is PRIME\n",
      "4 is divisible by 2\n",
      "5 is is PRIME\n",
      "6 is divisible by 2\n",
      "7 is is PRIME\n",
      "8 is divisible by 2\n",
      "9 is divisible by 3\n",
      "10 is divisible by 2\n",
      "11 is is PRIME\n",
      "12 is divisible by 2\n",
      "13 is is PRIME\n",
      "14 is divisible by 2\n",
      "15 is divisible by 3\n",
      "16 is divisible by 2\n",
      "17 is is PRIME\n",
      "18 is divisible by 2\n",
      "19 is is PRIME\n",
      "20 is divisible by 2\n",
      "21 is divisible by 3\n",
      "22 is divisible by 2\n",
      "23 is is PRIME\n",
      "24 is divisible by 2\n",
      "25 is divisible by 5\n"
     ]
    }
   ],
   "source": [
    "# What I did in class...\n",
    "for number in range(2, 26): # 1\n",
    "    print(number, 'is', end=' ')\n",
    "    is_prime = True # start by asssuming prime\n",
    "    \n",
    "    for possible_divisor in range(2, number): # 2\n",
    "        if number % possible_divisor == 0: # 3\n",
    "            print('divisible by', possible_divisor)\n",
    "            is_prime = False # not prime\n",
    "            break\n",
    "            \n",
    "    # how did we get here?\n",
    "    if is_prime: # == True\n",
    "        print('is PRIME')"
   ]
  },
  {
   "cell_type": "code",
   "execution_count": 163,
   "id": "c236a16d-d311-4708-83d3-ee11fcf364d3",
   "metadata": {},
   "outputs": [
    {
     "data": {
      "text/plain": [
       "1"
      ]
     },
     "execution_count": 163,
     "metadata": {},
     "output_type": "execute_result"
    }
   ],
   "source": [
    "23 % 2"
   ]
  },
  {
   "cell_type": "code",
   "execution_count": 164,
   "id": "10de2ad7-ff86-41ee-8c26-caec39525834",
   "metadata": {},
   "outputs": [
    {
     "data": {
      "text/plain": [
       "11.5"
      ]
     },
     "execution_count": 164,
     "metadata": {},
     "output_type": "execute_result"
    }
   ],
   "source": [
    "23 / 2"
   ]
  },
  {
   "cell_type": "code",
   "execution_count": 165,
   "id": "c98d7851-6953-430c-aca1-5b06fc06ae24",
   "metadata": {},
   "outputs": [
    {
     "data": {
      "text/plain": [
       "11.0"
      ]
     },
     "execution_count": 165,
     "metadata": {},
     "output_type": "execute_result"
    }
   ],
   "source": [
    "22 / 2"
   ]
  },
  {
   "cell_type": "code",
   "execution_count": 166,
   "id": "22e68e30-1a45-45ab-b7c7-c450baba4f08",
   "metadata": {},
   "outputs": [
    {
     "data": {
      "text/plain": [
       "0"
      ]
     },
     "execution_count": 166,
     "metadata": {},
     "output_type": "execute_result"
    }
   ],
   "source": [
    "22 % 2"
   ]
  },
  {
   "cell_type": "code",
   "execution_count": 167,
   "id": "e1fabffa-5bf6-4bb2-a1d2-d38d649596a9",
   "metadata": {},
   "outputs": [
    {
     "data": {
      "text/plain": [
       "1"
      ]
     },
     "execution_count": 167,
     "metadata": {},
     "output_type": "execute_result"
    }
   ],
   "source": [
    "23 % 2"
   ]
  },
  {
   "cell_type": "code",
   "execution_count": 168,
   "id": "3034e58f-4127-409c-a57c-2e834a70ce06",
   "metadata": {},
   "outputs": [
    {
     "data": {
      "text/plain": [
       "(11, 1)"
      ]
     },
     "execution_count": 168,
     "metadata": {},
     "output_type": "execute_result"
    }
   ],
   "source": [
    "divmod(23, 2)"
   ]
  },
  {
   "cell_type": "code",
   "execution_count": 169,
   "id": "86a4b981-c76a-4bf1-92f9-5e36a29c0e54",
   "metadata": {},
   "outputs": [
    {
     "data": {
      "text/plain": [
       "(3, 0)"
      ]
     },
     "execution_count": 169,
     "metadata": {},
     "output_type": "execute_result"
    }
   ],
   "source": [
    "divmod(9, 3)"
   ]
  },
  {
   "cell_type": "code",
   "execution_count": 180,
   "id": "d761732f-7e60-4a40-864f-a1bff0ee0dbb",
   "metadata": {},
   "outputs": [
    {
     "data": {
      "text/plain": [
       "'C'"
      ]
     },
     "execution_count": 180,
     "metadata": {},
     "output_type": "execute_result"
    }
   ],
   "source": [
    "'Cigna'[0]"
   ]
  },
  {
   "cell_type": "code",
   "execution_count": 181,
   "id": "30b8c0a4-404d-4c97-aa31-25878630d279",
   "metadata": {},
   "outputs": [
    {
     "data": {
      "text/plain": [
       "'a'"
      ]
     },
     "execution_count": 181,
     "metadata": {},
     "output_type": "execute_result"
    }
   ],
   "source": [
    "'Cigna'[-1]"
   ]
  },
  {
   "cell_type": "code",
   "execution_count": 182,
   "id": "cf6f9ddf-44c8-43be-9403-610a1e569743",
   "metadata": {},
   "outputs": [],
   "source": [
    "alphabet = 'abcdefghijklmnopqrstuvwxyz'"
   ]
  },
  {
   "cell_type": "code",
   "execution_count": 185,
   "id": "f0ad9863-0878-44ae-8edb-e5ad687c27c6",
   "metadata": {},
   "outputs": [
    {
     "data": {
      "text/plain": [
       "('a', 'k')"
      ]
     },
     "execution_count": 185,
     "metadata": {},
     "output_type": "execute_result"
    }
   ],
   "source": [
    "alphabet[0], alphabet[10]"
   ]
  },
  {
   "cell_type": "code",
   "execution_count": 186,
   "id": "34f83870-5c94-40c5-839d-6df2641c6958",
   "metadata": {},
   "outputs": [
    {
     "data": {
      "text/plain": [
       "'1'"
      ]
     },
     "execution_count": 186,
     "metadata": {},
     "output_type": "execute_result"
    }
   ],
   "source": [
    "str(1)"
   ]
  },
  {
   "cell_type": "code",
   "execution_count": 187,
   "id": "12ed700e-3e07-4631-940d-806d2e8b9117",
   "metadata": {},
   "outputs": [
    {
     "data": {
      "text/plain": [
       "'1.1'"
      ]
     },
     "execution_count": 187,
     "metadata": {},
     "output_type": "execute_result"
    }
   ],
   "source": [
    "str(1.1)"
   ]
  },
  {
   "cell_type": "code",
   "execution_count": 188,
   "id": "37cbe6e4-9e45-4673-b27f-c3747f39cba9",
   "metadata": {},
   "outputs": [
    {
     "data": {
      "text/plain": [
       "'True'"
      ]
     },
     "execution_count": 188,
     "metadata": {},
     "output_type": "execute_result"
    }
   ],
   "source": [
    "str(True)"
   ]
  },
  {
   "cell_type": "code",
   "execution_count": 189,
   "id": "610d2ef9-15af-4dff-a74e-ad9d5e1769ff",
   "metadata": {},
   "outputs": [
    {
     "data": {
      "text/plain": [
       "'string'"
      ]
     },
     "execution_count": 189,
     "metadata": {},
     "output_type": "execute_result"
    }
   ],
   "source": [
    "str('string')"
   ]
  },
  {
   "cell_type": "code",
   "execution_count": 190,
   "id": "f9797f64-4d4b-4bb8-8546-69a5aac7fe5f",
   "metadata": {},
   "outputs": [],
   "source": [
    "import random"
   ]
  },
  {
   "cell_type": "code",
   "execution_count": 191,
   "id": "5217b00a-755e-4eb9-8737-87ec645f2ae9",
   "metadata": {},
   "outputs": [
    {
     "data": {
      "text/plain": [
       "\"<module 'random' from '/Library/Frameworks/Python.framework/Versions/3.12/lib/python3.12/random.py'>\""
      ]
     },
     "execution_count": 191,
     "metadata": {},
     "output_type": "execute_result"
    }
   ],
   "source": [
    "str(random)"
   ]
  },
  {
   "cell_type": "code",
   "execution_count": 192,
   "id": "faf3e212-287b-4885-9ebd-97594223362b",
   "metadata": {},
   "outputs": [
    {
     "name": "stdout",
     "output_type": "stream",
     "text": [
      "1\n"
     ]
    }
   ],
   "source": [
    "print(1)"
   ]
  },
  {
   "cell_type": "code",
   "execution_count": 193,
   "id": "76ba8940-5ee9-4ce0-85ec-1c37d943067b",
   "metadata": {},
   "outputs": [
    {
     "name": "stdout",
     "output_type": "stream",
     "text": [
      "1.1\n"
     ]
    }
   ],
   "source": [
    "print(1.1)"
   ]
  },
  {
   "cell_type": "code",
   "execution_count": 194,
   "id": "90617800-a7db-4521-86ef-e28356157a7e",
   "metadata": {},
   "outputs": [
    {
     "name": "stdout",
     "output_type": "stream",
     "text": [
      "<module 'random' from '/Library/Frameworks/Python.framework/Versions/3.12/lib/python3.12/random.py'>\n"
     ]
    }
   ],
   "source": [
    "print(random)"
   ]
  },
  {
   "cell_type": "code",
   "execution_count": 195,
   "id": "35da9508-67fc-4beb-ba89-935110c93532",
   "metadata": {},
   "outputs": [
    {
     "name": "stdout",
     "output_type": "stream",
     "text": [
      "1 2 3 4.5 6\n"
     ]
    }
   ],
   "source": [
    "print(1, 2, 3, 4.5, '6')"
   ]
  },
  {
   "cell_type": "code",
   "execution_count": 196,
   "id": "0247cd43-2eb4-493a-a54b-c3b12d0ecac7",
   "metadata": {},
   "outputs": [
    {
     "data": {
      "text/plain": [
       "6"
      ]
     },
     "execution_count": 196,
     "metadata": {},
     "output_type": "execute_result"
    }
   ],
   "source": [
    "len('string')"
   ]
  },
  {
   "cell_type": "code",
   "execution_count": 197,
   "id": "84fa0265-7d87-404f-b00d-7f06c2bc0ce3",
   "metadata": {},
   "outputs": [
    {
     "ename": "TypeError",
     "evalue": "object of type 'int' has no len()",
     "output_type": "error",
     "traceback": [
      "\u001b[0;31m---------------------------------------------------------------------------\u001b[0m",
      "\u001b[0;31mTypeError\u001b[0m                                 Traceback (most recent call last)",
      "Cell \u001b[0;32mIn[197], line 1\u001b[0m\n\u001b[0;32m----> 1\u001b[0m \u001b[38;5;28;43mlen\u001b[39;49m\u001b[43m(\u001b[49m\u001b[38;5;241;43m4\u001b[39;49m\u001b[43m)\u001b[49m\n",
      "\u001b[0;31mTypeError\u001b[0m: object of type 'int' has no len()"
     ]
    }
   ],
   "source": [
    "len(4)"
   ]
  },
  {
   "cell_type": "code",
   "execution_count": 198,
   "id": "cff207c0-d6b4-4ac7-a373-367d77a4e3a0",
   "metadata": {},
   "outputs": [
    {
     "data": {
      "text/plain": [
       "-2"
      ]
     },
     "execution_count": 198,
     "metadata": {},
     "output_type": "execute_result"
    }
   ],
   "source": [
    "min(1, -2)"
   ]
  },
  {
   "cell_type": "code",
   "execution_count": 199,
   "id": "52b7eb63-a702-4dc7-a06a-6a3dbeb137bf",
   "metadata": {},
   "outputs": [
    {
     "data": {
      "text/plain": [
       "-2.1"
      ]
     },
     "execution_count": 199,
     "metadata": {},
     "output_type": "execute_result"
    }
   ],
   "source": [
    "min(1.1, -2.1, 0.0)"
   ]
  },
  {
   "cell_type": "code",
   "execution_count": 200,
   "id": "8b61253c-5f0a-43c5-9262-92bf1f8240ee",
   "metadata": {},
   "outputs": [
    {
     "data": {
      "text/plain": [
       "'apple'"
      ]
     },
     "execution_count": 200,
     "metadata": {},
     "output_type": "execute_result"
    }
   ],
   "source": [
    "min('apple', 'pear')"
   ]
  },
  {
   "cell_type": "code",
   "execution_count": 203,
   "id": "01475e98-3800-41eb-807d-acfb5677a2ab",
   "metadata": {},
   "outputs": [],
   "source": [
    "s = 'this'"
   ]
  },
  {
   "cell_type": "code",
   "execution_count": 205,
   "id": "a7982581-20a0-4a45-8a0d-4bf032891772",
   "metadata": {},
   "outputs": [
    {
     "data": {
      "text/plain": [
       "'THIS'"
      ]
     },
     "execution_count": 205,
     "metadata": {},
     "output_type": "execute_result"
    }
   ],
   "source": [
    "s.upper() # string-specific"
   ]
  },
  {
   "cell_type": "code",
   "execution_count": null,
   "id": "6fe23b1d-f721-496f-ba6f-8d91dbc0e38b",
   "metadata": {},
   "outputs": [],
   "source": [
    "s."
   ]
  },
  {
   "cell_type": "code",
   "execution_count": 206,
   "id": "ba0a7e81-fb32-4ceb-8e61-8c69e49c9824",
   "metadata": {},
   "outputs": [],
   "source": [
    "num = 1234"
   ]
  },
  {
   "cell_type": "code",
   "execution_count": 207,
   "id": "289c8e98-f25f-4a8f-b459-ad4eb43961c1",
   "metadata": {},
   "outputs": [
    {
     "ename": "AttributeError",
     "evalue": "'int' object has no attribute 'upper'",
     "output_type": "error",
     "traceback": [
      "\u001b[0;31m---------------------------------------------------------------------------\u001b[0m",
      "\u001b[0;31mAttributeError\u001b[0m                            Traceback (most recent call last)",
      "Cell \u001b[0;32mIn[207], line 1\u001b[0m\n\u001b[0;32m----> 1\u001b[0m \u001b[43mnum\u001b[49m\u001b[38;5;241;43m.\u001b[39;49m\u001b[43mupper\u001b[49m()\n",
      "\u001b[0;31mAttributeError\u001b[0m: 'int' object has no attribute 'upper'"
     ]
    }
   ],
   "source": [
    "num.upper()"
   ]
  },
  {
   "cell_type": "code",
   "execution_count": 209,
   "id": "1576b49e-f52e-4216-90f7-5c99611820fe",
   "metadata": {},
   "outputs": [
    {
     "name": "stdout",
     "output_type": "stream",
     "text": [
      "Help on built-in function rfind:\n",
      "\n",
      "rfind(...) method of builtins.str instance\n",
      "    S.rfind(sub[, start[, end]]) -> int\n",
      "\n",
      "    Return the highest index in S where substring sub is found,\n",
      "    such that sub is contained within S[start:end].  Optional\n",
      "    arguments start and end are interpreted as in slice notation.\n",
      "\n",
      "    Return -1 on failure.\n",
      "\n"
     ]
    }
   ],
   "source": [
    "help(s.rfind)"
   ]
  },
  {
   "cell_type": "code",
   "execution_count": 210,
   "id": "4b08abb6-69ca-461a-9922-6aa3e92079b1",
   "metadata": {},
   "outputs": [
    {
     "name": "stdout",
     "output_type": "stream",
     "text": [
      "Help on built-in function count:\n",
      "\n",
      "count(...) method of builtins.str instance\n",
      "    S.count(sub[, start[, end]]) -> int\n",
      "\n",
      "    Return the number of non-overlapping occurrences of substring sub in\n",
      "    string S[start:end].  Optional arguments start and end are\n",
      "    interpreted as in slice notation.\n",
      "\n"
     ]
    }
   ],
   "source": [
    "help(s.count)"
   ]
  },
  {
   "cell_type": "code",
   "execution_count": 211,
   "id": "422a0832-b59f-4c6f-a807-ce63c4f6cbcf",
   "metadata": {},
   "outputs": [
    {
     "data": {
      "text/plain": [
       "'this'"
      ]
     },
     "execution_count": 211,
     "metadata": {},
     "output_type": "execute_result"
    }
   ],
   "source": [
    "s"
   ]
  },
  {
   "cell_type": "code",
   "execution_count": null,
   "id": "458c307f-f010-4bc6-8ac0-50310c738eac",
   "metadata": {},
   "outputs": [],
   "source": [
    "str."
   ]
  },
  {
   "cell_type": "code",
   "execution_count": 213,
   "id": "48df76f0-9fa5-4e9a-9264-300d8559434d",
   "metadata": {},
   "outputs": [],
   "source": [
    "name = 'dave'"
   ]
  },
  {
   "cell_type": "code",
   "execution_count": 214,
   "id": "e941bfbb-3ffc-4483-843f-891edb8f8212",
   "metadata": {},
   "outputs": [
    {
     "ename": "TypeError",
     "evalue": "'str' object does not support item assignment",
     "output_type": "error",
     "traceback": [
      "\u001b[0;31m---------------------------------------------------------------------------\u001b[0m",
      "\u001b[0;31mTypeError\u001b[0m                                 Traceback (most recent call last)",
      "Cell \u001b[0;32mIn[214], line 1\u001b[0m\n\u001b[0;32m----> 1\u001b[0m \u001b[43mname\u001b[49m\u001b[43m[\u001b[49m\u001b[38;5;241;43m0\u001b[39;49m\u001b[43m]\u001b[49m \u001b[38;5;241m=\u001b[39m \u001b[38;5;124m'\u001b[39m\u001b[38;5;124mD\u001b[39m\u001b[38;5;124m'\u001b[39m\n",
      "\u001b[0;31mTypeError\u001b[0m: 'str' object does not support item assignment"
     ]
    }
   ],
   "source": [
    "name[0] = 'D'"
   ]
  },
  {
   "cell_type": "code",
   "execution_count": 215,
   "id": "5afc0bae-9ca0-41f8-b168-61ca1a6ce2ce",
   "metadata": {},
   "outputs": [],
   "source": [
    "name = 'Dave' # changes are OK \"en masse\""
   ]
  },
  {
   "cell_type": "code",
   "execution_count": 216,
   "id": "ce97fc1d-0180-4232-9a15-4c806f1cd4ca",
   "metadata": {},
   "outputs": [],
   "source": [
    "num = 5"
   ]
  },
  {
   "cell_type": "code",
   "execution_count": 217,
   "id": "45cb76eb-53cd-436e-9b84-decd58334d1c",
   "metadata": {},
   "outputs": [],
   "source": [
    "num = 7"
   ]
  },
  {
   "cell_type": "code",
   "execution_count": 218,
   "id": "0415d6f9-226e-408f-adb8-d3efc43897cc",
   "metadata": {},
   "outputs": [],
   "source": [
    "s = 'this'"
   ]
  },
  {
   "cell_type": "code",
   "execution_count": 219,
   "id": "6a069ea5-fc79-4696-b7b4-742b5cf61a66",
   "metadata": {},
   "outputs": [],
   "source": [
    "s = 'that'"
   ]
  },
  {
   "cell_type": "code",
   "execution_count": 220,
   "id": "bc683008-c439-4a96-924e-5e69115053e8",
   "metadata": {},
   "outputs": [],
   "source": [
    "b = 34"
   ]
  },
  {
   "cell_type": "code",
   "execution_count": 221,
   "id": "a254a9b8-fcf9-42d9-980e-701e96182a5b",
   "metadata": {},
   "outputs": [
    {
     "name": "stdout",
     "output_type": "stream",
     "text": [
      "34\n"
     ]
    }
   ],
   "source": [
    "print(b)"
   ]
  },
  {
   "cell_type": "code",
   "execution_count": 222,
   "id": "575f379f-472f-45d2-9d55-8e4f438308e9",
   "metadata": {
    "jupyter": {
     "source_hidden": true
    }
   },
   "outputs": [
    {
     "data": {
      "text/plain": [
       "34"
      ]
     },
     "execution_count": 222,
     "metadata": {},
     "output_type": "execute_result"
    }
   ],
   "source": [
    "b"
   ]
  },
  {
   "cell_type": "code",
   "execution_count": 223,
   "id": "b6567b8b-1a31-40e2-90d5-f69681b05b07",
   "metadata": {},
   "outputs": [
    {
     "data": {
      "text/plain": [
       "'34'"
      ]
     },
     "execution_count": 223,
     "metadata": {},
     "output_type": "execute_result"
    }
   ],
   "source": [
    "str(b)"
   ]
  },
  {
   "cell_type": "code",
   "execution_count": 224,
   "id": "700ed00d-8f59-4bdf-82cb-bb5c8ca6e7f4",
   "metadata": {
    "scrolled": true
   },
   "outputs": [
    {
     "data": {
      "text/plain": [
       "34"
      ]
     },
     "execution_count": 224,
     "metadata": {},
     "output_type": "execute_result"
    }
   ],
   "source": [
    "b"
   ]
  },
  {
   "cell_type": "code",
   "execution_count": 225,
   "id": "2ae38186-48f1-4630-9754-792682366cf5",
   "metadata": {},
   "outputs": [
    {
     "name": "stdout",
     "output_type": "stream",
     "text": [
      "34\n"
     ]
    }
   ],
   "source": [
    "print(b) # will not change b"
   ]
  },
  {
   "cell_type": "code",
   "execution_count": 226,
   "id": "2a4ccf76-12e1-491e-a3d8-27301d0c593f",
   "metadata": {},
   "outputs": [
    {
     "data": {
      "text/plain": [
       "'34'"
      ]
     },
     "execution_count": 226,
     "metadata": {},
     "output_type": "execute_result"
    }
   ],
   "source": [
    "str(b) # \"stringifies\" b, meaning it generates/returns a string version of b"
   ]
  },
  {
   "cell_type": "code",
   "execution_count": 227,
   "id": "428fe6dd-6cc2-4025-9816-11da2f35f27b",
   "metadata": {},
   "outputs": [
    {
     "data": {
      "text/plain": [
       "34"
      ]
     },
     "execution_count": 227,
     "metadata": {},
     "output_type": "execute_result"
    }
   ],
   "source": [
    "b"
   ]
  },
  {
   "cell_type": "code",
   "execution_count": 228,
   "id": "3783aa9c-310f-4942-a848-1a55abd4007b",
   "metadata": {},
   "outputs": [],
   "source": [
    "name = 'Bharat'"
   ]
  },
  {
   "cell_type": "code",
   "execution_count": 229,
   "id": "d509ccb5-9e34-489a-afdb-cd711568a69e",
   "metadata": {},
   "outputs": [
    {
     "name": "stdout",
     "output_type": "stream",
     "text": [
      "My name is Bharat\n"
     ]
    }
   ],
   "source": [
    "print('My name is', name)"
   ]
  },
  {
   "cell_type": "code",
   "execution_count": 230,
   "id": "e085cec1-bfb3-4a08-ba4d-e69050965653",
   "metadata": {},
   "outputs": [
    {
     "data": {
      "text/plain": [
       "'Bharat'"
      ]
     },
     "execution_count": 230,
     "metadata": {},
     "output_type": "execute_result"
    }
   ],
   "source": [
    "name # hey Python, tell me the value of the variable name"
   ]
  },
  {
   "cell_type": "code",
   "execution_count": 231,
   "id": "bb2c6015-725a-4f6e-b37f-87d86a1258be",
   "metadata": {},
   "outputs": [],
   "source": [
    "is_done = True"
   ]
  },
  {
   "cell_type": "code",
   "execution_count": 232,
   "id": "5a74495c-f1c7-4788-9359-9259f4ac2689",
   "metadata": {},
   "outputs": [
    {
     "data": {
      "text/plain": [
       "True"
      ]
     },
     "execution_count": 232,
     "metadata": {},
     "output_type": "execute_result"
    }
   ],
   "source": [
    "is_done"
   ]
  },
  {
   "cell_type": "code",
   "execution_count": 233,
   "id": "25c343e2-c687-41fc-9b6d-f73034bd0c95",
   "metadata": {},
   "outputs": [],
   "source": [
    "something = 'True'"
   ]
  },
  {
   "cell_type": "code",
   "execution_count": 234,
   "id": "49b38faa-c076-49a3-9c06-92fcd11e4f39",
   "metadata": {},
   "outputs": [
    {
     "data": {
      "text/plain": [
       "'True'"
      ]
     },
     "execution_count": 234,
     "metadata": {},
     "output_type": "execute_result"
    }
   ],
   "source": [
    "something"
   ]
  },
  {
   "cell_type": "markdown",
   "id": "505dbf60-2125-4572-a273-a1abc224e721",
   "metadata": {},
   "source": [
    "## Quick Lab: String Functions\n",
    "* write a Python program to read in a string and then print it out as\n",
    "  * a title\n",
    "  * all upper case\n",
    "  * all lower case\n",
    "* also, replace all vowels in the string with the letter 'x'\n",
    "   * you can use the __`.replace()`__ method to replace each vowel, one at a time"
   ]
  },
  {
   "cell_type": "code",
   "execution_count": 245,
   "id": "7638cd34-b171-4405-8376-2c43687c9949",
   "metadata": {},
   "outputs": [
    {
     "name": "stdin",
     "output_type": "stream",
     "text": [
      "Enter:  The wizard quickly jinxed the gnomes before they evaporated\n"
     ]
    },
    {
     "name": "stdout",
     "output_type": "stream",
     "text": [
      "The Wizard Quickly Jinxed The Gnomes Before They Evaporated\n",
      "the wizard quickly jinxed the gnomes before they evaporated\n",
      "THE WIZARD QUICKLY JINXED THE GNOMES BEFORE THEY EVAPORATED\n"
     ]
    }
   ],
   "source": [
    "string = input('Enter: ')\n",
    "print(string.title(), string.lower(), string.upper(), sep='\\n')"
   ]
  },
  {
   "cell_type": "code",
   "execution_count": 246,
   "id": "ea60da72-c738-4c26-a2b7-6f9c7c28c3ec",
   "metadata": {},
   "outputs": [
    {
     "name": "stdout",
     "output_type": "stream",
     "text": [
      "after replacing all a ... The wizxrd quickly jinxed the gnomes before they evxporxted\n",
      "after replacing all e ... Thx wizxrd quickly jinxxd thx gnomxs bxforx thxy xvxporxtxd\n",
      "after replacing all i ... Thx wxzxrd quxckly jxnxxd thx gnomxs bxforx thxy xvxporxtxd\n",
      "after replacing all o ... Thx wxzxrd quxckly jxnxxd thx gnxmxs bxfxrx thxy xvxpxrxtxd\n",
      "after replacing all u ... Thx wxzxrd qxxckly jxnxxd thx gnxmxs bxfxrx thxy xvxpxrxtxd\n"
     ]
    }
   ],
   "source": [
    "# replace each vowel with 'x'\n",
    "# for each vowel 'a', 'e', ...\n",
    "\n",
    "for vowel in 'aeiou': # a, e, i, o, u\n",
    "    string = string.replace(vowel, 'x') # replace this vowel with 'x'\n",
    "    print(\"after replacing all\", vowel, '...', string)"
   ]
  },
  {
   "cell_type": "markdown",
   "id": "e82eb665-1ca0-40dd-a040-579b189f016e",
   "metadata": {},
   "source": [
    "## Lab: String Functions\n",
    "* write a Python program to read in a string and print it out such that\n",
    "  * the first, third, fifth, etc. letters are **lower** case\n",
    "  * the second, fourth, sixth, etc. letters are **UPPER** case\n",
    "  * e.g., if the input is __Guido van Rossum__, the output would be:\n",
    "    * __gUiDo vAn rOsSuM__"
   ]
  },
  {
   "cell_type": "code",
   "execution_count": null,
   "id": "83716afa-ad29-4f4f-a1e5-b0fcc07619ae",
   "metadata": {},
   "outputs": [],
   "source": [
    "# steps\n",
    "# 1. get a phrase from the user\n",
    "# 2. look at each character in the phrase\n",
    "# 3. if it's an odd-numbered character (1st, 3rd, 5th, etc)\n",
    "# 4. ...then write that character in lower case\n",
    "# 5. otherwise write in upper case\n",
    "# 6. write any other characters as they were"
   ]
  },
  {
   "cell_type": "code",
   "execution_count": null,
   "id": "e4a09be4-7f0b-4503-af76-ab4a54fe80b8",
   "metadata": {},
   "outputs": [],
   "source": [
    "# pseudocode\n",
    "# 1. get string from user\n",
    "# 2. for each character in the string:\n",
    "# 3.     if numerical index of character is odd, print it as lower\n",
    "# 4.     else print it as upper\n",
    "\n",
    "# or...\n",
    "\n",
    "# 1a. set a Boolean to determine what to do next\n",
    "#     ...e.g., make_lower = True\n",
    "# 2. for each character in the string:\n",
    "# 3.     if make_lower, then print the character as lower\n",
    "# 4.         make_lower = False\n",
    "# 5.     else\n",
    "# 6.         print the character as upper\n",
    "# 7.         make_lower = True\n"
   ]
  },
  {
   "cell_type": "code",
   "execution_count": 255,
   "id": "d7ccc73e-c878-4e4c-9998-30201e861216",
   "metadata": {},
   "outputs": [
    {
     "name": "stdin",
     "output_type": "stream",
     "text": [
      "Enter:  Guido van Rossum\n"
     ]
    },
    {
     "name": "stdout",
     "output_type": "stream",
     "text": [
      "gUiDo vAn rOsSuM"
     ]
    }
   ],
   "source": [
    "string = input('Enter: ') # 1\n",
    "make_lower = True # 1a, next char printed should be lower if True\n",
    "\n",
    "for character in string:\n",
    "    if make_lower: # == True, 3\n",
    "        print(character.lower(), end='') # 3\n",
    "        make_lower = False # 4\n",
    "    else: # 5 \n",
    "        print(character.upper(), end='') # 6\n",
    "        make_lower = True"
   ]
  },
  {
   "cell_type": "code",
   "execution_count": 256,
   "id": "1fdb6e45-7db0-44e1-9463-ea3b3b878dba",
   "metadata": {},
   "outputs": [
    {
     "name": "stdin",
     "output_type": "stream",
     "text": [
      "Enter:  Guido van Rossum\n"
     ]
    },
    {
     "name": "stdout",
     "output_type": "stream",
     "text": [
      "gUiDo vAn rOsSuM"
     ]
    }
   ],
   "source": [
    "# pseudocode\n",
    "# 1. get string from user\n",
    "# 2. for each character in the string:\n",
    "# 3.     if numerical index of character is even, print it as lower\n",
    "# 4.     else print it as upper\n",
    "\n",
    "string = input('Enter: ') # 1\n",
    "index = 0 # our count of the index in the string\n",
    "\n",
    "for character in string: # 2\n",
    "    if index % 2 == 0: # 3, even\n",
    "        print(character.lower(), end='') # 3\n",
    "    else:\n",
    "        print(character.upper(), end='') # 4\n",
    "    index += 1 # this variable is independent of the for loop"
   ]
  },
  {
   "cell_type": "code",
   "execution_count": 270,
   "id": "de3eec83-9a64-4015-b785-44c2191fff20",
   "metadata": {},
   "outputs": [
    {
     "name": "stdin",
     "output_type": "stream",
     "text": [
      "Enter:  Great\n"
     ]
    },
    {
     "name": "stdout",
     "output_type": "stream",
     "text": [
      "gReAt"
     ]
    }
   ],
   "source": [
    "# pseudocode\n",
    "# 1. get string from user\n",
    "# 2. for each character in the string:\n",
    "# 3.     if numerical index of character is even, print it as lower\n",
    "# 4.     else print it as upper\n",
    "\n",
    "string = input('Enter: ') # \n",
    "\n",
    "# ranges starting from 0 do not need to specify 0 as the start point\n",
    "for index in range(len(string)): # 2 \n",
    "    if index % 2 == 0: # 3, even\n",
    "        print(string[index].lower(), end='') # 3\n",
    "    else:\n",
    "        print(string[index].upper(), end='') # 4"
   ]
  },
  {
   "cell_type": "code",
   "execution_count": null,
   "id": "970c126f-2d01-4480-8447-ea045865582e",
   "metadata": {},
   "outputs": [],
   "source": []
  },
  {
   "cell_type": "code",
   "execution_count": 235,
   "id": "d8fa5514-e1fc-4680-bc0f-c71c87562436",
   "metadata": {},
   "outputs": [
    {
     "name": "stdout",
     "output_type": "stream",
     "text": [
      "Help on method_descriptor:\n",
      "\n",
      "replace(self, old, new, count=-1, /)\n",
      "    Return a copy with all occurrences of substring old replaced by new.\n",
      "\n",
      "      count\n",
      "        Maximum number of occurrences to replace.\n",
      "        -1 (the default value) means replace all occurrences.\n",
      "\n",
      "    If the optional argument count is given, only the first count occurrences are\n",
      "    replaced.\n",
      "\n"
     ]
    }
   ],
   "source": [
    "help(str.replace)"
   ]
  },
  {
   "cell_type": "code",
   "execution_count": 236,
   "id": "46f407d7-3370-4676-b305-bea00d68bd5a",
   "metadata": {},
   "outputs": [
    {
     "name": "stdout",
     "output_type": "stream",
     "text": [
      "do a\n",
      "do e\n",
      "do i\n",
      "do o\n",
      "do u\n"
     ]
    }
   ],
   "source": [
    "for vowel in 'aeiou':\n",
    "    print('do', vowel)"
   ]
  },
  {
   "cell_type": "code",
   "execution_count": 237,
   "id": "f64f8508-5f51-40e0-9400-3c70224f95d1",
   "metadata": {},
   "outputs": [
    {
     "data": {
      "text/plain": [
       "'HELLO THERE'"
      ]
     },
     "execution_count": 237,
     "metadata": {},
     "output_type": "execute_result"
    }
   ],
   "source": [
    "'hello there'.upper()"
   ]
  },
  {
   "cell_type": "code",
   "execution_count": 259,
   "id": "8c5d074f-b44a-4449-8688-1feb20e4731d",
   "metadata": {},
   "outputs": [
    {
     "name": "stdout",
     "output_type": "stream",
     "text": [
      "t is at index 0\n",
      "h is at index 0\n",
      "i is at index 0\n",
      "s is at index 0\n",
      "  is at index 0\n",
      "o is at index 0\n",
      "r is at index 0\n",
      "  is at index 0\n",
      "t is at index 0\n",
      "h is at index 0\n",
      "a is at index 0\n",
      "t is at index 0\n"
     ]
    }
   ],
   "source": [
    "index = 0\n",
    "for character in 'this or that':\n",
    "    print(character, 'is at index', index)\n",
    "    index += 1"
   ]
  },
  {
   "cell_type": "code",
   "execution_count": 261,
   "id": "45211e99-6333-4ce2-a3bd-f0fa8ae4edc6",
   "metadata": {},
   "outputs": [
    {
     "data": {
      "text/plain": [
       "'Passcode'"
      ]
     },
     "execution_count": 261,
     "metadata": {},
     "output_type": "execute_result"
    }
   ],
   "source": [
    "'Passing'[:4] + 'Decode'[-4:] = str(2 + 3) + '!&%' + 'C'.lower() + 'ugq'.upper()"
   ]
  },
  {
   "cell_type": "code",
   "execution_count": 263,
   "id": "04572ddc-ac39-42b5-8a14-ecd26157094b",
   "metadata": {},
   "outputs": [
    {
     "data": {
      "text/plain": [
       "'5!&%cUGQ'"
      ]
     },
     "execution_count": 263,
     "metadata": {},
     "output_type": "execute_result"
    }
   ],
   "source": [
    "str(2 + 3) + '!&%' + 'C'.lower() + 'ugq'.upper()"
   ]
  },
  {
   "cell_type": "code",
   "execution_count": 265,
   "id": "d7bb4ea2-552c-4204-993b-51c67b2c7daf",
   "metadata": {},
   "outputs": [
    {
     "data": {
      "text/plain": [
       "'5!&%cUGQ'"
      ]
     },
     "execution_count": 265,
     "metadata": {},
     "output_type": "execute_result"
    }
   ],
   "source": [
    "str(2 + 3) + '!&%' + 'C'.lower() + 'ugq'.upper()"
   ]
  },
  {
   "cell_type": "code",
   "execution_count": 271,
   "id": "09225589-5b28-4ca6-b4ee-e565fab9ded6",
   "metadata": {},
   "outputs": [],
   "source": [
    "name = 'Dave'"
   ]
  },
  {
   "cell_type": "code",
   "execution_count": 272,
   "id": "97129299-5d88-4ca7-8b7e-a225895e7038",
   "metadata": {},
   "outputs": [
    {
     "name": "stdout",
     "output_type": "stream",
     "text": [
      "Help on built-in function split:\n",
      "\n",
      "split(sep=None, maxsplit=-1) method of builtins.str instance\n",
      "    Return a list of the substrings in the string, using sep as the separator string.\n",
      "\n",
      "      sep\n",
      "        The separator used to split the string.\n",
      "\n",
      "        When set to None (the default value), will split on any whitespace\n",
      "        character (including \\n \\r \\t \\f and spaces) and will discard\n",
      "        empty strings from the result.\n",
      "      maxsplit\n",
      "        Maximum number of splits.\n",
      "        -1 (the default value) means no limit.\n",
      "\n",
      "    Splitting starts at the front of the string and works to the end.\n",
      "\n",
      "    Note, str.split() is mainly useful for data that has been intentionally\n",
      "    delimited.  With natural text that includes punctuation, consider using\n",
      "    the regular expression module.\n",
      "\n"
     ]
    }
   ],
   "source": [
    "help(name.split)"
   ]
  },
  {
   "cell_type": "code",
   "execution_count": 275,
   "id": "abc8df3d-2039-4577-a0b7-3e8704bd31c3",
   "metadata": {},
   "outputs": [
    {
     "data": {
      "text/plain": [
       "['Guido', 'van', 'Rossum']"
      ]
     },
     "execution_count": 275,
     "metadata": {},
     "output_type": "execute_result"
    }
   ],
   "source": [
    "'Guido van Rossum'.split()"
   ]
  },
  {
   "cell_type": "code",
   "execution_count": 276,
   "id": "653dcc4b-0dc8-48c9-b4c4-f29093d56e24",
   "metadata": {},
   "outputs": [
    {
     "ename": "AttributeError",
     "evalue": "'list' object has no attribute 'join'",
     "output_type": "error",
     "traceback": [
      "\u001b[0;31m---------------------------------------------------------------------------\u001b[0m",
      "\u001b[0;31mAttributeError\u001b[0m                            Traceback (most recent call last)",
      "Cell \u001b[0;32mIn[276], line 1\u001b[0m\n\u001b[0;32m----> 1\u001b[0m \u001b[43m[\u001b[49m\u001b[38;5;124;43m'\u001b[39;49m\u001b[38;5;124;43mGuido\u001b[39;49m\u001b[38;5;124;43m'\u001b[39;49m\u001b[43m,\u001b[49m\u001b[43m \u001b[49m\u001b[38;5;124;43m'\u001b[39;49m\u001b[38;5;124;43mvan\u001b[39;49m\u001b[38;5;124;43m'\u001b[39;49m\u001b[43m,\u001b[49m\u001b[43m \u001b[49m\u001b[38;5;124;43m'\u001b[39;49m\u001b[38;5;124;43mRossum\u001b[39;49m\u001b[38;5;124;43m'\u001b[39;49m\u001b[43m]\u001b[49m\u001b[38;5;241;43m.\u001b[39;49m\u001b[43mjoin\u001b[49m(\u001b[38;5;124m'\u001b[39m\u001b[38;5;124m \u001b[39m\u001b[38;5;124m'\u001b[39m)\n",
      "\u001b[0;31mAttributeError\u001b[0m: 'list' object has no attribute 'join'"
     ]
    }
   ],
   "source": [
    "['Guido', 'van', 'Rossum'].join(' ')"
   ]
  },
  {
   "cell_type": "code",
   "execution_count": 278,
   "id": "7e2ca3e0-abc3-4df4-957f-a7c55446aa8c",
   "metadata": {},
   "outputs": [
    {
     "data": {
      "text/plain": [
       "'Guido van Rossum'"
      ]
     },
     "execution_count": 278,
     "metadata": {},
     "output_type": "execute_result"
    }
   ],
   "source": [
    "' '.join(['Guido', 'van', 'Rossum'])"
   ]
  },
  {
   "cell_type": "code",
   "execution_count": 281,
   "id": "8f0035c6-51ed-4e75-8df0-e00eb94543e4",
   "metadata": {},
   "outputs": [],
   "source": [
    "separator = ', '\n",
    "words = ['apple', 'fig', 'pear']"
   ]
  },
  {
   "cell_type": "code",
   "execution_count": 282,
   "id": "40041111-2773-4e97-bef0-05bc1e671cf2",
   "metadata": {},
   "outputs": [
    {
     "data": {
      "text/plain": [
       "'apple, fig, pear'"
      ]
     },
     "execution_count": 282,
     "metadata": {},
     "output_type": "execute_result"
    }
   ],
   "source": [
    "separator.join(words)"
   ]
  },
  {
   "cell_type": "code",
   "execution_count": 283,
   "id": "e5f35485-6a2b-4b81-987d-100c99d17cb8",
   "metadata": {},
   "outputs": [],
   "source": [
    "name = 'grace'"
   ]
  },
  {
   "cell_type": "code",
   "execution_count": 284,
   "id": "866c65e6-e3f0-4049-8be5-0f8bebf27650",
   "metadata": {},
   "outputs": [
    {
     "ename": "TypeError",
     "evalue": "'str' object does not support item assignment",
     "output_type": "error",
     "traceback": [
      "\u001b[0;31m---------------------------------------------------------------------------\u001b[0m",
      "\u001b[0;31mTypeError\u001b[0m                                 Traceback (most recent call last)",
      "Cell \u001b[0;32mIn[284], line 1\u001b[0m\n\u001b[0;32m----> 1\u001b[0m \u001b[43mname\u001b[49m\u001b[43m[\u001b[49m\u001b[38;5;241;43m0\u001b[39;49m\u001b[43m]\u001b[49m \u001b[38;5;241m=\u001b[39m \u001b[38;5;124m'\u001b[39m\u001b[38;5;124mG\u001b[39m\u001b[38;5;124m'\u001b[39m \u001b[38;5;66;03m# works in tons of languages\u001b[39;00m\n",
      "\u001b[0;31mTypeError\u001b[0m: 'str' object does not support item assignment"
     ]
    }
   ],
   "source": [
    "name[0] = 'G' # works in tons of languages"
   ]
  },
  {
   "cell_type": "code",
   "execution_count": 285,
   "id": "8feeddba-347a-45de-87b7-0530383fed96",
   "metadata": {},
   "outputs": [
    {
     "data": {
      "text/plain": [
       "['s', 't', 'r', 'i', 'n', 'g']"
      ]
     },
     "execution_count": 285,
     "metadata": {},
     "output_type": "execute_result"
    }
   ],
   "source": [
    "list('string')"
   ]
  },
  {
   "cell_type": "code",
   "execution_count": 286,
   "id": "43d03253-56cb-4b8c-b2c3-23d4d6c88e29",
   "metadata": {},
   "outputs": [
    {
     "ename": "TypeError",
     "evalue": "'int' object is not iterable",
     "output_type": "error",
     "traceback": [
      "\u001b[0;31m---------------------------------------------------------------------------\u001b[0m",
      "\u001b[0;31mTypeError\u001b[0m                                 Traceback (most recent call last)",
      "Cell \u001b[0;32mIn[286], line 1\u001b[0m\n\u001b[0;32m----> 1\u001b[0m \u001b[38;5;28;43mlist\u001b[39;49m\u001b[43m(\u001b[49m\u001b[38;5;241;43m4\u001b[39;49m\u001b[43m)\u001b[49m\n",
      "\u001b[0;31mTypeError\u001b[0m: 'int' object is not iterable"
     ]
    }
   ],
   "source": [
    "list(4)"
   ]
  },
  {
   "cell_type": "code",
   "execution_count": 287,
   "id": "becaefb4-8dd1-44d8-ac11-49996c917e30",
   "metadata": {},
   "outputs": [
    {
     "data": {
      "text/plain": [
       "[1, 3, 5]"
      ]
     },
     "execution_count": 287,
     "metadata": {},
     "output_type": "execute_result"
    }
   ],
   "source": [
    "list([1, 3, 5])"
   ]
  },
  {
   "cell_type": "code",
   "execution_count": 288,
   "id": "34325178-1bf0-450a-8e6d-8326e737d9e8",
   "metadata": {
    "scrolled": true
   },
   "outputs": [
    {
     "ename": "TypeError",
     "evalue": "object of type 'int' has no len()",
     "output_type": "error",
     "traceback": [
      "\u001b[0;31m---------------------------------------------------------------------------\u001b[0m",
      "\u001b[0;31mTypeError\u001b[0m                                 Traceback (most recent call last)",
      "Cell \u001b[0;32mIn[288], line 1\u001b[0m\n\u001b[0;32m----> 1\u001b[0m \u001b[38;5;28;43mlen\u001b[39;49m\u001b[43m(\u001b[49m\u001b[38;5;241;43m4\u001b[39;49m\u001b[43m)\u001b[49m\n",
      "\u001b[0;31mTypeError\u001b[0m: object of type 'int' has no len()"
     ]
    }
   ],
   "source": [
    "len(4)"
   ]
  },
  {
   "cell_type": "code",
   "execution_count": 289,
   "id": "8f6bc439-6cff-4004-8edf-1156a7a2697f",
   "metadata": {},
   "outputs": [
    {
     "data": {
      "text/plain": [
       "1"
      ]
     },
     "execution_count": 289,
     "metadata": {},
     "output_type": "execute_result"
    }
   ],
   "source": [
    "len('4')"
   ]
  },
  {
   "cell_type": "code",
   "execution_count": 290,
   "id": "01e96431-1f6c-4b54-96eb-cebc6e1af3f4",
   "metadata": {},
   "outputs": [
    {
     "data": {
      "text/plain": [
       "3"
      ]
     },
     "execution_count": 290,
     "metadata": {},
     "output_type": "execute_result"
    }
   ],
   "source": [
    "len([1, 2, 3])"
   ]
  },
  {
   "cell_type": "code",
   "execution_count": 292,
   "id": "09eb7e2e-6e16-45c4-bddb-39971ed58fef",
   "metadata": {
    "scrolled": true
   },
   "outputs": [
    {
     "data": {
      "text/plain": [
       "['4', '3', '2', '1']"
      ]
     },
     "execution_count": 292,
     "metadata": {},
     "output_type": "execute_result"
    }
   ],
   "source": [
    "list('4321')"
   ]
  },
  {
   "cell_type": "code",
   "execution_count": 293,
   "id": "16ac745b-a286-45d7-a359-0912b69616df",
   "metadata": {},
   "outputs": [
    {
     "data": {
      "text/plain": [
       "'one two tree'"
      ]
     },
     "execution_count": 293,
     "metadata": {},
     "output_type": "execute_result"
    }
   ],
   "source": [
    "' '.join(['one', 'two', 'tree'])"
   ]
  },
  {
   "cell_type": "code",
   "execution_count": 295,
   "id": "802193bc-9e1d-4bba-90d7-01197da6787f",
   "metadata": {},
   "outputs": [
    {
     "data": {
      "text/plain": [
       "'s*t*r*i*n*g'"
      ]
     },
     "execution_count": 295,
     "metadata": {},
     "output_type": "execute_result"
    }
   ],
   "source": [
    "'*'.join('string')"
   ]
  },
  {
   "cell_type": "code",
   "execution_count": 296,
   "id": "c08326ca-ed5d-45c4-9c35-8a390268934f",
   "metadata": {},
   "outputs": [
    {
     "ename": "TypeError",
     "evalue": "can only join an iterable",
     "output_type": "error",
     "traceback": [
      "\u001b[0;31m---------------------------------------------------------------------------\u001b[0m",
      "\u001b[0;31mTypeError\u001b[0m                                 Traceback (most recent call last)",
      "Cell \u001b[0;32mIn[296], line 1\u001b[0m\n\u001b[0;32m----> 1\u001b[0m \u001b[38;5;124;43m'\u001b[39;49m\u001b[38;5;124;43m \u001b[39;49m\u001b[38;5;124;43m'\u001b[39;49m\u001b[38;5;241;43m.\u001b[39;49m\u001b[43mjoin\u001b[49m\u001b[43m(\u001b[49m\u001b[38;5;241;43m1234\u001b[39;49m\u001b[43m)\u001b[49m\n",
      "\u001b[0;31mTypeError\u001b[0m: can only join an iterable"
     ]
    }
   ],
   "source": [
    "' '.join(1234)"
   ]
  },
  {
   "cell_type": "code",
   "execution_count": 297,
   "id": "444b38c0-bf50-4186-aa2c-fc75c38f771c",
   "metadata": {},
   "outputs": [
    {
     "data": {
      "text/plain": [
       "'1 2 3 4'"
      ]
     },
     "execution_count": 297,
     "metadata": {},
     "output_type": "execute_result"
    }
   ],
   "source": [
    "' '.join('1234')"
   ]
  },
  {
   "cell_type": "code",
   "execution_count": 298,
   "id": "19f0ce01-9723-4760-a21c-f5316defe699",
   "metadata": {},
   "outputs": [
    {
     "ename": "TypeError",
     "evalue": "object of type 'int' has no len()",
     "output_type": "error",
     "traceback": [
      "\u001b[0;31m---------------------------------------------------------------------------\u001b[0m",
      "\u001b[0;31mTypeError\u001b[0m                                 Traceback (most recent call last)",
      "Cell \u001b[0;32mIn[298], line 1\u001b[0m\n\u001b[0;32m----> 1\u001b[0m \u001b[38;5;28;43mlen\u001b[39;49m\u001b[43m(\u001b[49m\u001b[38;5;241;43m4\u001b[39;49m\u001b[43m)\u001b[49m\n",
      "\u001b[0;31mTypeError\u001b[0m: object of type 'int' has no len()"
     ]
    }
   ],
   "source": [
    "len(4)"
   ]
  },
  {
   "cell_type": "code",
   "execution_count": 299,
   "id": "66f48014-550e-4fd8-a04d-ef71487b3325",
   "metadata": {},
   "outputs": [
    {
     "data": {
      "text/plain": [
       "5"
      ]
     },
     "execution_count": 299,
     "metadata": {},
     "output_type": "execute_result"
    }
   ],
   "source": [
    "len('12345')"
   ]
  },
  {
   "cell_type": "code",
   "execution_count": 300,
   "id": "99fbf2d4-ae71-4f2e-a4fb-a0e931a53cd9",
   "metadata": {},
   "outputs": [
    {
     "data": {
      "text/plain": [
       "5"
      ]
     },
     "execution_count": 300,
     "metadata": {},
     "output_type": "execute_result"
    }
   ],
   "source": [
    "len([1, 2, 3, 4, 5])"
   ]
  },
  {
   "cell_type": "code",
   "execution_count": null,
   "id": "91c8e039-552d-46d6-927f-9ae764ba5f71",
   "metadata": {},
   "outputs": [],
   "source": [
    "list."
   ]
  },
  {
   "cell_type": "code",
   "execution_count": 301,
   "id": "866beffc-8b12-4914-ae7a-63701412191b",
   "metadata": {},
   "outputs": [],
   "source": [
    "nums = [1, 2, 3]"
   ]
  },
  {
   "cell_type": "code",
   "execution_count": 302,
   "id": "ad70dd41-00bf-459c-8729-0d2eb7021eed",
   "metadata": {},
   "outputs": [],
   "source": [
    "nums.append(4)"
   ]
  },
  {
   "cell_type": "code",
   "execution_count": 303,
   "id": "e4eedb89-f014-4369-8abe-9a139b7d3096",
   "metadata": {},
   "outputs": [
    {
     "data": {
      "text/plain": [
       "[1, 2, 3, 4]"
      ]
     },
     "execution_count": 303,
     "metadata": {},
     "output_type": "execute_result"
    }
   ],
   "source": [
    "nums"
   ]
  },
  {
   "cell_type": "code",
   "execution_count": 304,
   "id": "c0859b55-f78d-48b6-8281-b11b634f320e",
   "metadata": {},
   "outputs": [],
   "source": [
    "nums.append(6)"
   ]
  },
  {
   "cell_type": "code",
   "execution_count": 305,
   "id": "23bc2b84-594d-4487-b04d-85438809013c",
   "metadata": {},
   "outputs": [
    {
     "data": {
      "text/plain": [
       "[1, 2, 3, 4, 6]"
      ]
     },
     "execution_count": 305,
     "metadata": {},
     "output_type": "execute_result"
    }
   ],
   "source": [
    "nums"
   ]
  },
  {
   "cell_type": "code",
   "execution_count": 306,
   "id": "17a2e6a5-05bd-4831-8101-752440b41e3d",
   "metadata": {},
   "outputs": [],
   "source": [
    "string = 'this'"
   ]
  },
  {
   "cell_type": "code",
   "execution_count": 307,
   "id": "bc1f3787-d68d-4078-b7be-882894fcd16b",
   "metadata": {},
   "outputs": [
    {
     "data": {
      "text/plain": [
       "'THIS'"
      ]
     },
     "execution_count": 307,
     "metadata": {},
     "output_type": "execute_result"
    }
   ],
   "source": [
    "string.upper()"
   ]
  },
  {
   "cell_type": "code",
   "execution_count": 308,
   "id": "89142651-5c93-4a6c-ae3e-cce29d0326cb",
   "metadata": {},
   "outputs": [
    {
     "data": {
      "text/plain": [
       "'this'"
      ]
     },
     "execution_count": 308,
     "metadata": {},
     "output_type": "execute_result"
    }
   ],
   "source": [
    "string"
   ]
  },
  {
   "cell_type": "code",
   "execution_count": 309,
   "id": "f25053f4-796b-42f9-86db-2ac60ca0ddc8",
   "metadata": {},
   "outputs": [],
   "source": [
    "string = string.upper()"
   ]
  },
  {
   "cell_type": "code",
   "execution_count": 310,
   "id": "55012914-354f-4281-a887-057194954c60",
   "metadata": {},
   "outputs": [
    {
     "data": {
      "text/plain": [
       "'THIS'"
      ]
     },
     "execution_count": 310,
     "metadata": {},
     "output_type": "execute_result"
    }
   ],
   "source": [
    "string"
   ]
  },
  {
   "cell_type": "code",
   "execution_count": 312,
   "id": "1787e6d0-dee3-4afc-8540-be339c1fa1d8",
   "metadata": {},
   "outputs": [],
   "source": [
    "import logging"
   ]
  },
  {
   "cell_type": "code",
   "execution_count": 316,
   "id": "30b32455-6264-408f-a52d-ff4ff739ddd1",
   "metadata": {},
   "outputs": [
    {
     "name": "stdout",
     "output_type": "stream",
     "text": [
      "hello 0\n",
      "hello 1\n",
      "hello 2\n",
      "hello 3\n",
      "hello 4\n",
      "hello 5\n",
      "hello 6\n",
      "hello 7\n",
      "hello 8\n",
      "hello 9\n"
     ]
    }
   ],
   "source": [
    "for count in range(10):\n",
    "    print('hello', count)"
   ]
  },
  {
   "cell_type": "code",
   "execution_count": 314,
   "id": "a3357c86-a3c8-4b22-b645-279a0d14e891",
   "metadata": {},
   "outputs": [
    {
     "name": "stdout",
     "output_type": "stream",
     "text": [
      "hello\n",
      "hello\n",
      "hello\n",
      "hello\n",
      "hello\n",
      "hello\n",
      "hello\n",
      "hello\n",
      "hello\n",
      "hello\n"
     ]
    }
   ],
   "source": [
    "for count in range(10):\n",
    "    print('hello')"
   ]
  },
  {
   "cell_type": "code",
   "execution_count": 328,
   "id": "dd02e836-37fa-42c3-a4c3-9fa49b12b2c6",
   "metadata": {
    "scrolled": true
   },
   "outputs": [
    {
     "name": "stdout",
     "output_type": "stream",
     "text": [
      "hello\n",
      "hello\n",
      "hello\n",
      "hello\n",
      "hello\n"
     ]
    }
   ],
   "source": [
    "for _ in range(5): # only possible interpretation is \"do this 5 times\"\n",
    "    print('hello')"
   ]
  },
  {
   "cell_type": "code",
   "execution_count": 321,
   "id": "29358b64-4cb9-4842-b311-edf3a796797f",
   "metadata": {},
   "outputs": [],
   "source": [
    "this_name = 'William'"
   ]
  },
  {
   "cell_type": "code",
   "execution_count": 322,
   "id": "e286b1c9-eb98-479c-9498-916f1a36095f",
   "metadata": {
    "scrolled": true
   },
   "outputs": [
    {
     "data": {
      "text/plain": [
       "'William'"
      ]
     },
     "execution_count": 322,
     "metadata": {},
     "output_type": "execute_result"
    }
   ],
   "source": [
    "this_name"
   ]
  },
  {
   "cell_type": "code",
   "execution_count": 334,
   "id": "695e9f49-080c-4fe2-8dd5-d30f91bbed5f",
   "metadata": {},
   "outputs": [],
   "source": [
    "for times in range(0):\n",
    "    print(times)"
   ]
  },
  {
   "cell_type": "code",
   "execution_count": 354,
   "id": "3971c794-5049-458a-9a13-7bcb6f75e9ff",
   "metadata": {},
   "outputs": [],
   "source": [
    "mylist = [1, 3, -2, -4, 2, 6]"
   ]
  },
  {
   "cell_type": "code",
   "execution_count": 355,
   "id": "50214188-8477-4e72-8aeb-a0ab66302db3",
   "metadata": {},
   "outputs": [
    {
     "data": {
      "text/plain": [
       "[-4, -2, 1, 2, 3, 6]"
      ]
     },
     "execution_count": 355,
     "metadata": {},
     "output_type": "execute_result"
    }
   ],
   "source": [
    "sorted(mylist) # sorted is a built-in function and WILL NOT change mylist"
   ]
  },
  {
   "cell_type": "code",
   "execution_count": 342,
   "id": "c4df5027-07d9-4d02-be2c-90cb87c068c9",
   "metadata": {},
   "outputs": [
    {
     "data": {
      "text/plain": [
       "[1, 3, -2, -4, 2, 6]"
      ]
     },
     "execution_count": 342,
     "metadata": {},
     "output_type": "execute_result"
    }
   ],
   "source": [
    "mylist"
   ]
  },
  {
   "cell_type": "code",
   "execution_count": 343,
   "id": "61623ccc-3219-4e0e-9d65-b7685fda1d75",
   "metadata": {},
   "outputs": [],
   "source": [
    "sorted_mylist = sorted(mylist)"
   ]
  },
  {
   "cell_type": "code",
   "execution_count": 345,
   "id": "03f989f4-c455-4568-bfb5-d83d9a13cac9",
   "metadata": {},
   "outputs": [
    {
     "data": {
      "text/plain": [
       "[-4, -2, 1, 2, 3, 6]"
      ]
     },
     "execution_count": 345,
     "metadata": {},
     "output_type": "execute_result"
    }
   ],
   "source": [
    "sorted_mylist"
   ]
  },
  {
   "cell_type": "code",
   "execution_count": 346,
   "id": "ecc071d8-614f-4070-b785-8d1f03487e5c",
   "metadata": {},
   "outputs": [
    {
     "data": {
      "text/plain": [
       "[1, 3, -2, -4, 2, 6]"
      ]
     },
     "execution_count": 346,
     "metadata": {},
     "output_type": "execute_result"
    }
   ],
   "source": [
    "mylist"
   ]
  },
  {
   "cell_type": "code",
   "execution_count": 347,
   "id": "6efe7d0f-c74c-4758-a10d-fc30da421a61",
   "metadata": {},
   "outputs": [
    {
     "data": {
      "text/plain": [
       "[1, 3, -2, -4, 2, 6]"
      ]
     },
     "execution_count": 347,
     "metadata": {},
     "output_type": "execute_result"
    }
   ],
   "source": [
    "mylist"
   ]
  },
  {
   "cell_type": "code",
   "execution_count": 353,
   "id": "62cb55df-8f1b-403b-91e4-09d5ae6a84b4",
   "metadata": {},
   "outputs": [],
   "source": [
    "mylist.sort()"
   ]
  },
  {
   "cell_type": "code",
   "execution_count": 349,
   "id": "68ff2d7b-7f2e-4137-84fe-cc93ba55cf68",
   "metadata": {},
   "outputs": [
    {
     "data": {
      "text/plain": [
       "[-4, -2, 1, 2, 3, 6]"
      ]
     },
     "execution_count": 349,
     "metadata": {},
     "output_type": "execute_result"
    }
   ],
   "source": [
    "mylist"
   ]
  },
  {
   "cell_type": "code",
   "execution_count": 350,
   "id": "cb9a1a35-92c8-43bf-8a98-d96437746cf8",
   "metadata": {},
   "outputs": [
    {
     "name": "stdout",
     "output_type": "stream",
     "text": [
      "Help on built-in function sort:\n",
      "\n",
      "sort(*, key=None, reverse=False) method of builtins.list instance\n",
      "    Sort the list in ascending order and return None.\n",
      "\n",
      "    The sort is in-place (i.e. the list itself is modified) and stable (i.e. the\n",
      "    order of two equal elements is maintained).\n",
      "\n",
      "    If a key function is given, apply it once to each list item and sort them,\n",
      "    ascending or descending, according to their function values.\n",
      "\n",
      "    The reverse flag can be set to sort in descending order.\n",
      "\n"
     ]
    }
   ],
   "source": [
    "help(mylist.sort)"
   ]
  },
  {
   "cell_type": "code",
   "execution_count": 351,
   "id": "00962d9b-ab61-4db1-a6a9-21d59311a06f",
   "metadata": {},
   "outputs": [
    {
     "name": "stdout",
     "output_type": "stream",
     "text": [
      "Help on built-in function sorted in module builtins:\n",
      "\n",
      "sorted(iterable, /, *, key=None, reverse=False)\n",
      "    Return a new list containing all items from the iterable in ascending order.\n",
      "\n",
      "    A custom key function can be supplied to customize the sort order, and the\n",
      "    reverse flag can be set to request the result in descending order.\n",
      "\n"
     ]
    }
   ],
   "source": [
    "help(sorted)"
   ]
  },
  {
   "cell_type": "code",
   "execution_count": 357,
   "id": "b2a74990-7c7a-458c-af44-7e082713ddec",
   "metadata": {},
   "outputs": [
    {
     "name": "stdin",
     "output_type": "stream",
     "text": [
      "Name:  Dave Wade-Stein\n"
     ]
    }
   ],
   "source": [
    "name = input('Name: ')"
   ]
  },
  {
   "cell_type": "code",
   "execution_count": 358,
   "id": "4c27a568-a408-4f2d-a5da-ed666634e613",
   "metadata": {},
   "outputs": [
    {
     "data": {
      "text/plain": [
       "'Dave Wade-Stein'"
      ]
     },
     "execution_count": 358,
     "metadata": {},
     "output_type": "execute_result"
    }
   ],
   "source": [
    "name"
   ]
  },
  {
   "cell_type": "code",
   "execution_count": 359,
   "id": "0978d928-3d7e-4810-917a-08faa0951a8c",
   "metadata": {},
   "outputs": [
    {
     "data": {
      "text/plain": [
       "['D', 'a', 'v', 'e', ' ', 'W', 'a', 'd', 'e', '-', 'S', 't', 'e', 'i', 'n']"
      ]
     },
     "execution_count": 359,
     "metadata": {},
     "output_type": "execute_result"
    }
   ],
   "source": [
    "list(name)"
   ]
  },
  {
   "cell_type": "code",
   "execution_count": 360,
   "id": "05ed6b70-dcfc-442a-b375-e5a842d52d57",
   "metadata": {},
   "outputs": [
    {
     "data": {
      "text/plain": [
       "['Dave', 'Wade-Stein']"
      ]
     },
     "execution_count": 360,
     "metadata": {},
     "output_type": "execute_result"
    }
   ],
   "source": [
    "name.split()"
   ]
  },
  {
   "cell_type": "code",
   "execution_count": 366,
   "id": "846c1b31-2170-4005-b21c-74a357bf1d1c",
   "metadata": {},
   "outputs": [
    {
     "name": "stdin",
     "output_type": "stream",
     "text": [
      "Enter some words:  This that other ALL CAPS SOMe Caps\n"
     ]
    }
   ],
   "source": [
    "words = input('Enter some words: ').lower().split()"
   ]
  },
  {
   "cell_type": "code",
   "execution_count": 367,
   "id": "9a0ee015-d653-4496-9c81-aa1855c086dc",
   "metadata": {},
   "outputs": [
    {
     "data": {
      "text/plain": [
       "['this', 'that', 'other', 'all', 'caps', 'some', 'caps']"
      ]
     },
     "execution_count": 367,
     "metadata": {},
     "output_type": "execute_result"
    }
   ],
   "source": [
    "words"
   ]
  },
  {
   "cell_type": "markdown",
   "id": "105d7518-09c9-4b16-9cf3-b419a3d03064",
   "metadata": {},
   "source": [
    "## Quick Lab: Lists\n",
    "* Write a Python program to read in a list of items possibly containing duplicates, and then constructs a __new__ list containing the elements from the original list, in the order they were entered, but with duplicates only occurring ONCE in the new list, e.g.,\n",
    "<p/>\n",
    "<pre>\n",
    "Enter a list of items: <b>apple cherry banana apple lemon cherry lemon</b>\n",
    "apple cherry banana lemon"
   ]
  },
  {
   "cell_type": "code",
   "execution_count": 368,
   "id": "43c17020-888a-4f6c-a793-a0bc9430d8cd",
   "metadata": {},
   "outputs": [
    {
     "name": "stdin",
     "output_type": "stream",
     "text": [
      "Enter a list of items:  apple cherry banana apple lemon cherry lemon\n"
     ]
    }
   ],
   "source": [
    "items = input('Enter a list of items: ').split() # make input into a list"
   ]
  },
  {
   "cell_type": "code",
   "execution_count": 369,
   "id": "1cdfb4da-8d75-44c1-b8c8-0eec75d13f77",
   "metadata": {},
   "outputs": [
    {
     "data": {
      "text/plain": [
       "['apple', 'cherry', 'banana', 'apple', 'lemon', 'cherry', 'lemon']"
      ]
     },
     "execution_count": 369,
     "metadata": {},
     "output_type": "execute_result"
    }
   ],
   "source": [
    "items"
   ]
  },
  {
   "cell_type": "code",
   "execution_count": 370,
   "id": "c13502f7-ed85-4d98-b9dd-d11f6992359a",
   "metadata": {},
   "outputs": [],
   "source": [
    "new_list = [] # create a brand new list"
   ]
  },
  {
   "cell_type": "code",
   "execution_count": 371,
   "id": "77639dfe-f1e9-442a-9cf3-a55b550d7907",
   "metadata": {},
   "outputs": [],
   "source": [
    "# now we need to look at each item in the original list...\n",
    "# ...and put it into the new list iff the item is NOT ALREADY in the new list"
   ]
  },
  {
   "cell_type": "code",
   "execution_count": null,
   "id": "0b3f567e-7c4c-4aef-925d-cbc3876b2393",
   "metadata": {},
   "outputs": [],
   "source": [
    "# 1. for each item in the original list\n",
    "# 2.   if the item is NOT in the new list\n",
    "# 3.      add/append it to the new list"
   ]
  },
  {
   "cell_type": "code",
   "execution_count": 377,
   "id": "72f0734b-c018-4122-95cf-bbba41a99cb7",
   "metadata": {},
   "outputs": [
    {
     "name": "stdout",
     "output_type": "stream",
     "text": [
      "['apple', 'cherry', 'banana', 'lemon']\n"
     ]
    }
   ],
   "source": [
    "for item in items: # 1\n",
    "    if item not in new_list: # 2\n",
    "        new_list.append(item) # 3\n",
    "\n",
    "print(new_list) # there are other ways we can print this and we'll go over them..."
   ]
  },
  {
   "cell_type": "code",
   "execution_count": 388,
   "id": "2ebcfd14-55f6-4129-a517-2675d0ea6fb0",
   "metadata": {},
   "outputs": [
    {
     "name": "stdout",
     "output_type": "stream",
     "text": [
      "apple, cherry, banana, lemon\n"
     ]
    }
   ],
   "source": [
    "print(', '.join(new_list))"
   ]
  },
  {
   "cell_type": "code",
   "execution_count": 387,
   "id": "3e1b3842-e540-4c11-8844-df58dbd151b7",
   "metadata": {},
   "outputs": [
    {
     "name": "stdout",
     "output_type": "stream",
     "text": [
      "apple, cherry, banana, lemon\n"
     ]
    }
   ],
   "source": [
    "print(*new_list, sep=', ')"
   ]
  },
  {
   "cell_type": "code",
   "execution_count": 373,
   "id": "22d5dc25-dc43-47a2-b722-6dee2743cd95",
   "metadata": {},
   "outputs": [
    {
     "data": {
      "text/plain": [
       "False"
      ]
     },
     "execution_count": 373,
     "metadata": {},
     "output_type": "execute_result"
    }
   ],
   "source": [
    "'thing' in ['that', 'this', 'other']"
   ]
  },
  {
   "cell_type": "code",
   "execution_count": 374,
   "id": "17c8782d-3ab1-4e4c-8eb1-c3bed538f557",
   "metadata": {},
   "outputs": [
    {
     "data": {
      "text/plain": [
       "True"
      ]
     },
     "execution_count": 374,
     "metadata": {},
     "output_type": "execute_result"
    }
   ],
   "source": [
    "'thing' not in ['that', 'this', 'other']"
   ]
  },
  {
   "cell_type": "markdown",
   "id": "c431c584-8448-45db-bedc-75f28ff2278a",
   "metadata": {},
   "source": [
    "## Group Lab: Lists\n",
    "* Write a Python program to maintain a list \n",
    "  * Read input until the user enters 'quit'\n",
    "  * Words that the user enters should be added to the list\n",
    "  * If a word begins with '-' (e.g., '-foo') it should be removed from the list\n",
    "  * If the user enters only a '-', the list should be reversed\n",
    "  * After each operation, print the list\n",
    "  * Extras:\n",
    "      * If user enters more than one word (e.g, __foo bar__), add \"foo\" and \"bar\" to the list, rather than \"foo bar\"\n",
    "      * Same for \"-\", i.e., __-foo bar__ would remove \"foo\" and \"bar\" from the  list"
   ]
  },
  {
   "cell_type": "code",
   "execution_count": 3,
   "id": "46390346-8de6-40a4-855d-f310fcfa4b39",
   "metadata": {},
   "outputs": [
    {
     "name": "stdin",
     "output_type": "stream",
     "text": [
      "What? (Enter \"quit\" to stop...)?  quit\n"
     ]
    }
   ],
   "source": [
    "# 1st attempt\n",
    "response = ''\n",
    "\n",
    "while response != 'quit':\n",
    "    response = input('What? (Enter \"quit\" to stop...)? ')\n",
    "    if response == 'quit':\n",
    "        break\n",
    "    # process response\n",
    "    print('process', response)"
   ]
  },
  {
   "cell_type": "code",
   "execution_count": 6,
   "id": "442c00a8-9f11-48e0-a25d-01c091f0dc7d",
   "metadata": {},
   "outputs": [
    {
     "name": "stdin",
     "output_type": "stream",
     "text": [
      "What? (Enter \"quit\" to stop...)?  apple\n"
     ]
    },
    {
     "name": "stdout",
     "output_type": "stream",
     "text": [
      "process apple\n"
     ]
    },
    {
     "name": "stdin",
     "output_type": "stream",
     "text": [
      "What? (Enter \"quit\" to stop...)?  fig\n"
     ]
    },
    {
     "name": "stdout",
     "output_type": "stream",
     "text": [
      "process fig\n"
     ]
    },
    {
     "name": "stdin",
     "output_type": "stream",
     "text": [
      "What? (Enter \"quit\" to stop...)?  quit\n"
     ]
    }
   ],
   "source": [
    "# 2nd attempt, as per Paul\n",
    "prompt = 'What? (Enter \"quit\" to stop...)? '\n",
    "response = input(prompt)\n",
    "\n",
    "while response != 'quit':\n",
    "    # process response\n",
    "    print('process', response)\n",
    "    response = input(prompt)"
   ]
  },
  {
   "cell_type": "code",
   "execution_count": 7,
   "id": "dc810203-8cc6-443d-847b-dc7365bf896c",
   "metadata": {},
   "outputs": [
    {
     "name": "stdin",
     "output_type": "stream",
     "text": [
      "What? (Enter \"quit\" to stop...)?  apple\n"
     ]
    },
    {
     "name": "stdout",
     "output_type": "stream",
     "text": [
      "process apple\n"
     ]
    },
    {
     "name": "stdin",
     "output_type": "stream",
     "text": [
      "What? (Enter \"quit\" to stop...)?  fig\n"
     ]
    },
    {
     "name": "stdout",
     "output_type": "stream",
     "text": [
      "process fig\n"
     ]
    },
    {
     "name": "stdin",
     "output_type": "stream",
     "text": [
      "What? (Enter \"quit\" to stop...)?  quit\n"
     ]
    }
   ],
   "source": [
    "# 3rd attempt, as per Internet\n",
    "response = ''\n",
    "\n",
    "while True: # infinite loop\n",
    "    response = input('What? (Enter \"quit\" to stop...)? ')\n",
    "    if response == 'quit': # middle test loop\n",
    "        break\n",
    "    # process response\n",
    "    print('process', response)"
   ]
  },
  {
   "cell_type": "code",
   "execution_count": 10,
   "id": "5046a9ae-0c7f-48fa-b839-e713746134bc",
   "metadata": {},
   "outputs": [
    {
     "name": "stdin",
     "output_type": "stream",
     "text": [
      "What? (Enter \"quit\" to stop...)?  apple\n"
     ]
    },
    {
     "name": "stdout",
     "output_type": "stream",
     "text": [
      "apple\n"
     ]
    },
    {
     "name": "stdin",
     "output_type": "stream",
     "text": [
      "What? (Enter \"quit\" to stop...)?  fig\n"
     ]
    },
    {
     "name": "stdout",
     "output_type": "stream",
     "text": [
      "apple, fig\n"
     ]
    },
    {
     "name": "stdin",
     "output_type": "stream",
     "text": [
      "What? (Enter \"quit\" to stop...)?  pear\n"
     ]
    },
    {
     "name": "stdout",
     "output_type": "stream",
     "text": [
      "apple, fig, pear\n"
     ]
    },
    {
     "name": "stdin",
     "output_type": "stream",
     "text": [
      "What? (Enter \"quit\" to stop...)?  something\n"
     ]
    },
    {
     "name": "stdout",
     "output_type": "stream",
     "text": [
      "apple, fig, pear, something\n"
     ]
    },
    {
     "name": "stdin",
     "output_type": "stream",
     "text": [
      "What? (Enter \"quit\" to stop...)?  else\n"
     ]
    },
    {
     "name": "stdout",
     "output_type": "stream",
     "text": [
      "apple, fig, pear, something, else\n"
     ]
    },
    {
     "name": "stdin",
     "output_type": "stream",
     "text": [
      "What? (Enter \"quit\" to stop...)?  quit\n"
     ]
    }
   ],
   "source": [
    "# 4th and final attempt, as per walrus operator (Python 3.8+)\n",
    "# plus we'll add the first feature...\n",
    "# Words that the user enters should be added to the list\n",
    "# After each operation, print the list\n",
    "\n",
    "words = []\n",
    "\n",
    "while (response := input('What? (Enter \"quit\" to stop...)? ')) != 'quit':\n",
    "    words.append(response)\n",
    "    print(*words, sep=', ')"
   ]
  },
  {
   "cell_type": "code",
   "execution_count": 24,
   "id": "a9d73f7d-99fd-440e-b573-7c0e8402a9ca",
   "metadata": {},
   "outputs": [
    {
     "name": "stdin",
     "output_type": "stream",
     "text": [
      "What? (Enter \"quit\" to stop...)?  \n",
      "What? (Enter \"quit\" to stop...)?  \n",
      "What? (Enter \"quit\" to stop...)?  \n",
      "What? (Enter \"quit\" to stop...)?  \n",
      "What? (Enter \"quit\" to stop...)?  quit\n"
     ]
    }
   ],
   "source": [
    "# plus we'll add the first feature...\n",
    "# Words that the user enters should be added to the list\n",
    "# NEW ... If a word begins with '-' (e.g., '-foo') it should be removed from the list\n",
    "# After each operation, print the list\n",
    "\n",
    "words = []\n",
    "\n",
    "while (response := input('What? (Enter \"quit\" to stop...)? ')) != 'quit':\n",
    "    # \"peel off\" the \"error\" case that they enter nothing\n",
    "    if response == '':\n",
    "        continue\n",
    "    if response[0] == '-': # begins with a hyphen\n",
    "        if response[1:] in words:\n",
    "            words.remove(response[1:]) # removing the word without the '-' which we \"slice off\"\n",
    "        else: # not in list\n",
    "            print(response[1:], 'is not in the list!')\n",
    "    else:\n",
    "        words.append(response)\n",
    "    print(*words, sep=', ')"
   ]
  },
  {
   "cell_type": "code",
   "execution_count": 30,
   "id": "3f5003a0-38f5-4dc7-b2b3-d9ed53badabb",
   "metadata": {},
   "outputs": [
    {
     "name": "stdin",
     "output_type": "stream",
     "text": [
      "What? (Enter \"quit\" to stop...)?  -\n"
     ]
    },
    {
     "name": "stdout",
     "output_type": "stream",
     "text": [
      "Can't reverse a list with fewer than 2 items!\n",
      "\n"
     ]
    },
    {
     "name": "stdin",
     "output_type": "stream",
     "text": [
      "What? (Enter \"quit\" to stop...)?  apple\n"
     ]
    },
    {
     "name": "stdout",
     "output_type": "stream",
     "text": [
      "apple\n"
     ]
    },
    {
     "name": "stdin",
     "output_type": "stream",
     "text": [
      "What? (Enter \"quit\" to stop...)?  -\n"
     ]
    },
    {
     "name": "stdout",
     "output_type": "stream",
     "text": [
      "Can't reverse a list with fewer than 2 items!\n",
      "apple\n"
     ]
    },
    {
     "name": "stdin",
     "output_type": "stream",
     "text": [
      "What? (Enter \"quit\" to stop...)?  apple fig\n"
     ]
    },
    {
     "name": "stdout",
     "output_type": "stream",
     "text": [
      "apple, apple fig\n"
     ]
    },
    {
     "name": "stdin",
     "output_type": "stream",
     "text": [
      "What? (Enter \"quit\" to stop...)?  -\n"
     ]
    },
    {
     "name": "stdout",
     "output_type": "stream",
     "text": [
      "apple fig, apple\n"
     ]
    },
    {
     "name": "stdin",
     "output_type": "stream",
     "text": [
      "What? (Enter \"quit\" to stop...)?  quit\n"
     ]
    }
   ],
   "source": [
    "# plus we'll add the first feature...\n",
    "# Words that the user enters should be added to the list\n",
    "# If a word begins with '-' (e.g., '-foo') it should be removed from the list\n",
    "# NEW ... If the user enters only a '-', the list should be reversed\n",
    "# After each operation, print the list\n",
    "\n",
    "words = []\n",
    "\n",
    "while (response := input('What? (Enter \"quit\" to stop...)? ')) != 'quit':\n",
    "    # \"peel off\" the \"error\" case that they enter nothing\n",
    "    if response == '':\n",
    "        continue\n",
    "    if response[0] == '-': # begins with a hyphen\n",
    "        if response == '-': # exactly a -\n",
    "            if len(words) >= 2:\n",
    "                words.reverse() # reverse the list IN PLACE\n",
    "            else:\n",
    "                print(\"Can't reverse a list with fewer than 2 items!\")\n",
    "        elif response[1:] in words:\n",
    "            words.remove(response[1:]) # removing the word without the '-' which we \"slice off\"\n",
    "        else: # not in list\n",
    "            print(response[1:], 'is not in the list!')\n",
    "    else: # does not begin with a hyphen\n",
    "        words.append(response)\n",
    "    print(*words, sep=', ')"
   ]
  },
  {
   "cell_type": "code",
   "execution_count": 15,
   "id": "ed949e83-c821-4d61-80ee-f9605eac8ec0",
   "metadata": {},
   "outputs": [
    {
     "data": {
      "text/plain": [
       "'t'"
      ]
     },
     "execution_count": 15,
     "metadata": {},
     "output_type": "execute_result"
    }
   ],
   "source": [
    "'thing'[0]"
   ]
  },
  {
   "cell_type": "code",
   "execution_count": 16,
   "id": "6bbb2e70-e174-4b62-aea3-1a6ad73ce1f5",
   "metadata": {},
   "outputs": [
    {
     "data": {
      "text/plain": [
       "'t'"
      ]
     },
     "execution_count": 16,
     "metadata": {},
     "output_type": "execute_result"
    }
   ],
   "source": [
    "'t'[0]"
   ]
  },
  {
   "cell_type": "code",
   "execution_count": 25,
   "id": "500bee2c-7889-45d3-a317-772a0ad2f054",
   "metadata": {},
   "outputs": [],
   "source": [
    "stuff = [1, 2, 3]"
   ]
  },
  {
   "cell_type": "code",
   "execution_count": 26,
   "id": "4a1c5871-4a9c-4523-90bc-b289df9ee055",
   "metadata": {},
   "outputs": [
    {
     "data": {
      "text/plain": [
       "[3, 2, 1]"
      ]
     },
     "execution_count": 26,
     "metadata": {},
     "output_type": "execute_result"
    }
   ],
   "source": [
    "stuff[::-1]"
   ]
  },
  {
   "cell_type": "code",
   "execution_count": 31,
   "id": "c928f75c-23cf-4612-9a98-9685f3183f2b",
   "metadata": {},
   "outputs": [],
   "source": [
    "import math"
   ]
  },
  {
   "cell_type": "code",
   "execution_count": 32,
   "id": "5ccf63dd-0af1-4de5-ae00-a68e366ce3bc",
   "metadata": {},
   "outputs": [
    {
     "data": {
      "text/plain": [
       "3.141592653589793"
      ]
     },
     "execution_count": 32,
     "metadata": {},
     "output_type": "execute_result"
    }
   ],
   "source": [
    "math.pi"
   ]
  },
  {
   "cell_type": "code",
   "execution_count": 34,
   "id": "e8b34126-0d32-4097-b76b-dbf68677557c",
   "metadata": {},
   "outputs": [
    {
     "data": {
      "text/plain": [
       "1.0"
      ]
     },
     "execution_count": 34,
     "metadata": {},
     "output_type": "execute_result"
    }
   ],
   "source": [
    "math.sin(math.pi / 2.0)"
   ]
  },
  {
   "cell_type": "code",
   "execution_count": 35,
   "id": "886ca791-8978-4e5d-971b-b9162ce8e073",
   "metadata": {},
   "outputs": [],
   "source": [
    "from math import sin, cos, pi"
   ]
  },
  {
   "cell_type": "code",
   "execution_count": 36,
   "id": "4c959c14-3a15-4139-b065-9d834cfa51cb",
   "metadata": {},
   "outputs": [
    {
     "data": {
      "text/plain": [
       "1.0"
      ]
     },
     "execution_count": 36,
     "metadata": {},
     "output_type": "execute_result"
    }
   ],
   "source": [
    "sin(pi / 2.0)"
   ]
  },
  {
   "cell_type": "code",
   "execution_count": 37,
   "id": "39dcafaa-7416-4aa2-8019-5cd5a3d32f08",
   "metadata": {},
   "outputs": [],
   "source": [
    "import sys"
   ]
  },
  {
   "cell_type": "code",
   "execution_count": 38,
   "id": "bd81b572-f27e-453e-9055-30a684e33be2",
   "metadata": {},
   "outputs": [
    {
     "data": {
      "text/plain": [
       "'3.12.2 (v3.12.2:6abddd9f6a, Feb  6 2024, 17:02:06) [Clang 13.0.0 (clang-1300.0.29.30)]'"
      ]
     },
     "execution_count": 38,
     "metadata": {},
     "output_type": "execute_result"
    }
   ],
   "source": [
    "sys.version"
   ]
  },
  {
   "cell_type": "code",
   "execution_count": 43,
   "id": "25f2052a-2624-456f-adeb-c466ffd08905",
   "metadata": {},
   "outputs": [],
   "source": [
    "word = 'milk'"
   ]
  },
  {
   "cell_type": "code",
   "execution_count": 44,
   "id": "2d2b69c6-7e0c-4a35-8de4-0eb2e1cd87b1",
   "metadata": {},
   "outputs": [
    {
     "data": {
      "text/plain": [
       "False"
      ]
     },
     "execution_count": 44,
     "metadata": {},
     "output_type": "execute_result"
    }
   ],
   "source": [
    "word[-1] in 'aeiouy'"
   ]
  },
  {
   "cell_type": "markdown",
   "id": "924e5b01-bf05-4aea-9e54-c31ad9417641",
   "metadata": {},
   "source": [
    "## Lab: List Comprehensions\n",
    "*  Start with Cartesian product example (colors x sizes of t-shirts) and a\n",
    "*  dd a third list, __`sleeves = ['short', 'long']`__ then write a new listcomp which generates the Cartesian product __`colors x sizes x sleeves`__. __`tshirts`__ should look like this:<pre><b>\n",
    "    [['black', 'S', 'short'],\n",
    "     ['black', 'S', 'long'],\n",
    "     ['black', 'M', 'short'],\n",
    "     ['black', 'M', 'long'],\n",
    "     ['black', 'L', 'short'],\n",
    "     ['black', 'L', 'long'],\n",
    "     ['white', 'S', 'short'],\n",
    "     ['white', 'S', 'long'],\n",
    "     ['white', 'M', 'short'],\n",
    "     ['white', 'M', 'long'],\n",
    "     ['white', 'L', 'short'],\n",
    "     ['white', 'L', 'long']]\n",
    "     \n",
    " </b></pre>\n",
    "* Use a list comprehension to create a list of the squares of the integers from 1 to 25 (i.e, 1, 4, 9, 16, …, 625)\n",
    "* Given a list of words, create a second list which contains all the words from the first list which do not end with a vowel\n",
    "* Use a list comprehension to create a list of the integers from 1 to 100 which are not divisible by 5\n",
    "* Use a list comprehension and __`zip()`__ to create a list of lists, where the list items are name and ID number that you grabbed from separate lists of names and ID numbers\n",
    "  * start with a list of, say, 5 names ['John', 'Mary', 'Edward', 'Linda', 'Dinesh']\n",
    "  * and a list of, say, 5 ID numbers [1003, 2043, 8762, 7862, 1093]\n",
    "  * additional wrinkle: do not include any names whose corresponding ID is -1"
   ]
  },
  {
   "cell_type": "code",
   "execution_count": 63,
   "id": "7f1ee144-8fbd-4697-bbc6-9479b083236f",
   "metadata": {},
   "outputs": [
    {
     "data": {
      "text/plain": [
       "[['black', 'S', 'short'],\n",
       " ['black', 'M', 'short'],\n",
       " ['black', 'L', 'short'],\n",
       " ['black', 'XL', 'short'],\n",
       " ['white', 'S', 'short'],\n",
       " ['white', 'M', 'short'],\n",
       " ['white', 'L', 'short'],\n",
       " ['white', 'XL', 'short'],\n",
       " ['black', 'S', 'long'],\n",
       " ['black', 'M', 'long'],\n",
       " ['black', 'L', 'long'],\n",
       " ['black', 'XL', 'long'],\n",
       " ['white', 'S', 'long'],\n",
       " ['white', 'M', 'long'],\n",
       " ['white', 'L', 'long'],\n",
       " ['white', 'XL', 'long']]"
      ]
     },
     "execution_count": 63,
     "metadata": {},
     "output_type": "execute_result"
    }
   ],
   "source": [
    "colors = ['black', 'white'] # list names should always be plural\n",
    "sizes = ['S', 'M', 'L', 'XL']\n",
    "sleeves = ['short', 'long']\n",
    "\n",
    "# for thing in container ... thing is singular, container is plural\n",
    "# for fruit in fruits\n",
    "# for employee in employees\n",
    "# for word in words\n",
    "\n",
    "# note that each item/element should be singular (i.e., \"sleeve\" NOT \"sleeves\")\n",
    "# in other words, dimension/attributes should be singular, but there should be a\n",
    "# list of them, each sleeve in the sleeves list\n",
    "tshirts = [[color, size, sleeve] for sleeve in sleeves\n",
    "                                    for color in colors\n",
    "                                       for size in sizes]\n",
    "\n",
    "tshirts"
   ]
  },
  {
   "cell_type": "code",
   "execution_count": 47,
   "id": "82955d64-cf5b-4173-a1ab-5af7ffbade77",
   "metadata": {},
   "outputs": [
    {
     "name": "stdout",
     "output_type": "stream",
     "text": [
      "[['John', 1003], ['Mary', 2043], ['Edward', 8762], ['Linda', 7862], ['Dinesh', 1093]]\n"
     ]
    }
   ],
   "source": [
    "names = ['John', 'Mary', 'Edward', 'Linda', 'Dinesh']\n",
    "id_nums = [1003, 2043, 8762, 7862, 1093]\n",
    "employees = [[name, id_num] for name, id_num in zip(names, id_nums)]\n",
    "print(employees)"
   ]
  },
  {
   "cell_type": "code",
   "execution_count": null,
   "id": "c865d1d0-5675-4004-8002-937da3cd0869",
   "metadata": {},
   "outputs": [],
   "source": []
  },
  {
   "cell_type": "code",
   "execution_count": 53,
   "id": "3e6dacbe-3f72-4bb1-973c-bdd78a82487b",
   "metadata": {},
   "outputs": [],
   "source": [
    "colors = ['black', 'white']"
   ]
  },
  {
   "cell_type": "code",
   "execution_count": 54,
   "id": "6a3ca000-305b-491a-8971-eeee9d9e93f2",
   "metadata": {},
   "outputs": [
    {
     "name": "stdout",
     "output_type": "stream",
     "text": [
      "black\n",
      "white\n"
     ]
    }
   ],
   "source": [
    "for thing in colors: # \"for each thing in the colors list \"\n",
    "    print(thing)"
   ]
  },
  {
   "cell_type": "code",
   "execution_count": 55,
   "id": "1e8add34-199d-4e91-99d8-d2fea286dd4d",
   "metadata": {},
   "outputs": [
    {
     "name": "stdout",
     "output_type": "stream",
     "text": [
      "black\n",
      "white\n"
     ]
    }
   ],
   "source": [
    "for color in colors: # better represents what each \"thing\" is\n",
    "    print(color)"
   ]
  },
  {
   "cell_type": "code",
   "execution_count": 61,
   "id": "482c1ea8-5803-452c-b352-2e57ec954d96",
   "metadata": {},
   "outputs": [
    {
     "name": "stdout",
     "output_type": "stream",
     "text": [
      "apple\n",
      "fig\n",
      "pear\n",
      "guava\n",
      "lemon\n"
     ]
    }
   ],
   "source": [
    "# I'd argue these names are BAD\n",
    "stuff = 'apple fig pear guava lemon'.split()\n",
    "\n",
    "for xyz in stuff:\n",
    "    print(xyz)"
   ]
  },
  {
   "cell_type": "code",
   "execution_count": 64,
   "id": "b0fe56a7-3dd3-4105-8370-e4c85f16aa86",
   "metadata": {},
   "outputs": [
    {
     "name": "stdout",
     "output_type": "stream",
     "text": [
      "[1, 4, 9, 16, 25, 36, 49, 64, 81, 100, 121, 144, 169, 196, 225, 256, 289, 324, 361, 400, 441, 484, 529, 576, 625]\n"
     ]
    }
   ],
   "source": [
    "# unroll the list comprehension back to \"regular old\" python\n",
    "# grab the for loop\n",
    "\n",
    "squares = [] # create this empty, so that\n",
    "for num in range(1, 26):\n",
    "    squares.append(num ** 2)\n",
    "print(squares)"
   ]
  },
  {
   "cell_type": "code",
   "execution_count": 65,
   "id": "d84b4726-a0c9-4f84-9337-c0a5505dd497",
   "metadata": {},
   "outputs": [
    {
     "name": "stdout",
     "output_type": "stream",
     "text": [
      "[1, 4, 9, 16, 25, 36, 49, 64, 81, 100, 121, 144, 169, 196, 225, 256, 289, 324, 361, 400, 441, 484, 529, 576, 625]\n"
     ]
    }
   ],
   "source": [
    "squares = [num ** 2 for num in range(1, 26)]\n",
    "print(squares)"
   ]
  },
  {
   "cell_type": "code",
   "execution_count": 66,
   "id": "f976cb42-3f3b-462d-ae26-9c8fed56a0db",
   "metadata": {},
   "outputs": [
    {
     "name": "stdout",
     "output_type": "stream",
     "text": [
      "['apple', 'fig', 'pear', 'banana', 'cherry', 'milk', 'guava', 'bread']\n"
     ]
    }
   ],
   "source": [
    "words = 'apple fig pear banana cherry milk guava bread'.split()\n",
    "print(words)"
   ]
  },
  {
   "cell_type": "code",
   "execution_count": 68,
   "id": "8ba942e7-5681-4a39-bce2-c54c8da566e2",
   "metadata": {},
   "outputs": [],
   "source": [
    "words_that_do_not_end_in_vowel = []\n",
    "for word in words:\n",
    "    if word[-1] not in 'aeiouy':\n",
    "        words_that_do_not_end_in_vowel.append(word)"
   ]
  },
  {
   "cell_type": "code",
   "execution_count": 69,
   "id": "6b272f35-48ff-4924-876d-c49fa003df70",
   "metadata": {},
   "outputs": [
    {
     "data": {
      "text/plain": [
       "['fig', 'pear', 'milk', 'bread']"
      ]
     },
     "execution_count": 69,
     "metadata": {},
     "output_type": "execute_result"
    }
   ],
   "source": [
    "words_that_do_not_end_in_vowel"
   ]
  },
  {
   "cell_type": "code",
   "execution_count": 71,
   "id": "2c82a9f5-aafe-468e-b18b-b6abe08b12c8",
   "metadata": {},
   "outputs": [
    {
     "name": "stdout",
     "output_type": "stream",
     "text": [
      "[1, 2, 3, 4, 5, 6, 7, 8, 9, 10, 11, 12, 13, 14, 15, 16, 17, 18, 19, 20, 21, 22, 23, 24, 25, 26, 27, 28, 29, 30, 31, 32, 33, 34, 35, 36, 37, 38, 39, 40, 41, 42, 43, 44, 45, 46, 47, 48, 49, 50]\n"
     ]
    }
   ],
   "source": [
    "# I want a list of consecutive numbers\n",
    "# 1..50\n",
    "numbers = list(range(1, 51))\n",
    "print(numbers)"
   ]
  },
  {
   "cell_type": "code",
   "execution_count": 73,
   "id": "8aae1819-cbcf-4f39-8862-449d578b66d5",
   "metadata": {},
   "outputs": [
    {
     "name": "stdout",
     "output_type": "stream",
     "text": [
      "[5, 10, 15, 20, 25, 30, 35, 40, 45, 50, 55, 60, 65, 70, 75, 80, 85, 90, 95, 100]\n"
     ]
    }
   ],
   "source": [
    "print(list(range(5, 101, 5)))"
   ]
  },
  {
   "cell_type": "code",
   "execution_count": null,
   "id": "03c8281f-15bf-49bd-872a-fd7cfac09a9e",
   "metadata": {},
   "outputs": [],
   "source": [
    "# squares\n",
    "# this is a \"normal\" or \"straight up\" listcomp\n",
    "squares = [num ** 2 for num in range(1, 26)]\n",
    "print(squares)"
   ]
  },
  {
   "cell_type": "code",
   "execution_count": 74,
   "id": "9bc53f9a-2976-46dd-8544-4468e9a5c310",
   "metadata": {},
   "outputs": [
    {
     "name": "stdout",
     "output_type": "stream",
     "text": [
      "['apple', 'fig', 'pear', 'banana', 'cherry', 'milk', 'guava', 'bread']\n"
     ]
    }
   ],
   "source": [
    "words = 'apple fig pear banana cherry milk guava bread'.split()\n",
    "print(words)"
   ]
  },
  {
   "cell_type": "code",
   "execution_count": 75,
   "id": "53433bbf-2443-47b9-acfa-1c760c71d2c7",
   "metadata": {},
   "outputs": [
    {
     "name": "stdout",
     "output_type": "stream",
     "text": [
      "['fig', 'pear', 'milk', 'bread']\n"
     ]
    }
   ],
   "source": [
    "# FILTER into new list only words that DON'T END IN A VOWEL\n",
    "no_vowel_words = [word for word in words # here comes the filter\n",
    "                         if word[-1] not in 'aeiouy']\n",
    "print(no_vowel_words)"
   ]
  },
  {
   "cell_type": "code",
   "execution_count": 76,
   "id": "5fed1f6a-1c7f-470c-8df1-d01fc1f9a1b6",
   "metadata": {},
   "outputs": [
    {
     "name": "stdout",
     "output_type": "stream",
     "text": [
      "[1, 2, 3, 4, 6, 7, 8, 9, 11, 12, 13, 14, 16, 17, 18, 19, 21, 22, 23, 24, 26, 27, 28, 29, 31, 32, 33, 34, 36, 37, 38, 39, 41, 42, 43, 44, 46, 47, 48, 49, 51, 52, 53, 54, 56, 57, 58, 59, 61, 62, 63, 64, 66, 67, 68, 69, 71, 72, 73, 74, 76, 77, 78, 79, 81, 82, 83, 84, 86, 87, 88, 89, 91, 92, 93, 94, 96, 97, 98, 99]\n"
     ]
    }
   ],
   "source": [
    "no_divis_by_5 = [num for num in range(1, 101) # ...filter\n",
    "                         if num % 5 > 0]\n",
    "print(no_divis_by_5)"
   ]
  },
  {
   "cell_type": "code",
   "execution_count": null,
   "id": "3ecd1a4b-9095-4433-b084-fbd206ff48b7",
   "metadata": {},
   "outputs": [],
   "source": []
  }
 ],
 "metadata": {
  "kernelspec": {
   "display_name": "Python 3 (ipykernel)",
   "language": "python",
   "name": "python3"
  },
  "language_info": {
   "codemirror_mode": {
    "name": "ipython",
    "version": 3
   },
   "file_extension": ".py",
   "mimetype": "text/x-python",
   "name": "python",
   "nbconvert_exporter": "python",
   "pygments_lexer": "ipython3",
   "version": "3.12.2"
  }
 },
 "nbformat": 4,
 "nbformat_minor": 5
}
