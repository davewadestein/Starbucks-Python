{
 "cells": [
  {
   "cell_type": "markdown",
   "id": "a71937dd-0cba-4723-b8c2-cb7eed118413",
   "metadata": {},
   "source": [
    "# Some thoughts\n",
    "* scripting vs. programming\n",
    "  * programs are compiled\n",
    "  * scripts are interpreted (e.g., Bash, PowerShell)\n",
    "  * scripts are \"basic\", shorter\n",
    "  * scripts can be \"sloppier\""
   ]
  },
  {
   "cell_type": "markdown",
   "id": "e1b6f337-687e-4cb6-9565-70ed70acec5e",
   "metadata": {},
   "source": [
    "# General Programming Ideas\n",
    "* Hal Abelson: \"Programs are written for others to read, and only incidentally for computers to execute\"\n",
    "  * we are telling a story, so tell a good one\n",
    "* Eagleson's Law: \"Any code you wrote more than 6 months ago might as well have been written by someone else\"\n",
    "* pick good variable names\n",
    "  * e.g., __`cost_per_ounce`__, __`quantity`__\n",
    "    * vs. __`cpo`__, __`q`__\n",
    "  * don't reuse variable names\n",
    "* you read code 10x more than you write code\n",
    "* programming can be defined in the following way:\n",
    "  * write down the steps required for you to solve the problem\n",
    "  * convert each step to Python/...\n",
    "* DRY = Don't Repeat Yourself\n",
    "* \"For best results\" Don't modify a container while you are iterating through it\n",
    "* DWS \"patented\" way to get better at coding:\n",
    "  * once you have a working solution, try to solve it another way\n",
    "  * once you have a working solution, add features, no matter how silly"
   ]
  },
  {
   "cell_type": "markdown",
   "id": "e99e898e-3bc0-4c1e-8683-c46f66d70883",
   "metadata": {},
   "source": [
    "# Important stuff about Python\n",
    "* EVERYTHING in Python is an object\n",
    "  * they live in memory and they can be inspected (e.g., with __`id()`__ function)\n",
    "* basic types (scalar): int, float, bool\n",
    "   * scalar: single value\n",
    "   * ...plus str\n",
    "* scalars vs. containers\n",
    "  * scalars = holds 1 value, e.g, int, float, bool\n",
    "  * containers = holds 0+ values, e.g., str (e.g., '', 'a', 'abcd')\n",
    "  * containers: str, list\n",
    "* mutable vs. immutable objects\n",
    "  * immutable: str,\n",
    "  * mutable: list\n",
    "* built-in functions (e.g., __`str`__, __`print`__, __`type`__) DO NOT change the objects that are passed into them\n",
    "   * corollary 1: If you want to change an object, you must call/invoke a method on that object\n",
    "   * corollary 2: Not every method changes the object it has been applied to/invoked upon"
   ]
  },
  {
   "cell_type": "markdown",
   "id": "2c65f9ab-6616-489a-b9ad-7c79753d81b3",
   "metadata": {},
   "source": [
    "# Pythonic\n",
    "* \"My name is Rick and I'm a Java programmer and I've been teaching myself Python, but my Python looks like Java\"\n",
    "* using constructs and idioms that other programmers expect\n",
    "    * function composition, e.g., __`int(input(...))`__\n",
    "    * __`container[-n]`__ is the nth item from end of container\n",
    "    * __`container[:n]`__ is the first n elements of the container\n",
    "    * __`container[-n:]`__ is the last n element of the container\n",
    "    * __`container[::-1]`__ yields a reversed version of the container\n",
    "* if any object is difficult to work with, consider changing its type\n",
    "* don't use indexing unless you need it, instead do __`for thing in container`__\n",
    "* for loops that don't need their loop variable in the body of the loop are technically \"do this n times\" loops and can be written clearer as __`for _ in range(n)`__\n",
    "* to create a list, consider making it a string and splitting it, e.g., __`'fig pear apple'.split()`__\n",
    "* composing functions (\"function composition), e.g., __`input('prompt: ').split()`__\n",
    "  * split the result of the input() function (which we know is a string)\n",
    "* Python adheres to this idea of \"truthiness\"\n",
    "   * Python allows you to use non-Boolean values in a Boolean context\n",
    "     * 0 or 0.0 is considered False in a Boolean context; non-zero values are considered True\n",
    "     * empty containers are considered False in a Boolean context; non-empty are considered True\n",
    "     * None is considered False in a Boolean context"
   ]
  },
  {
   "cell_type": "code",
   "execution_count": 5,
   "id": "daad6a79-e3f5-4e4c-8689-9d4c175725d5",
   "metadata": {},
   "outputs": [],
   "source": [
    "num = 3. # direct Python to create a variable called num w/value of 3.0"
   ]
  },
  {
   "cell_type": "code",
   "execution_count": 6,
   "id": "0e14ad21-d763-4f32-902a-d602877f7b37",
   "metadata": {},
   "outputs": [
    {
     "data": {
      "text/plain": [
       "3.0"
      ]
     },
     "execution_count": 6,
     "metadata": {},
     "output_type": "execute_result"
    }
   ],
   "source": [
    "num # hey, Python, tell me the value of num"
   ]
  },
  {
   "cell_type": "code",
   "execution_count": 7,
   "id": "97ef16ba-1bf0-4b56-b7c7-055d39b27ec8",
   "metadata": {},
   "outputs": [
    {
     "name": "stdout",
     "output_type": "stream",
     "text": [
      "3.0\n"
     ]
    }
   ],
   "source": [
    "print(num) # printing the value of num"
   ]
  },
  {
   "cell_type": "code",
   "execution_count": 8,
   "id": "78485d19-6934-4da6-8cba-e11009af1a5b",
   "metadata": {},
   "outputs": [
    {
     "data": {
      "text/plain": [
       "'Starbucks'"
      ]
     },
     "execution_count": 8,
     "metadata": {},
     "output_type": "execute_result"
    }
   ],
   "source": [
    "'Star' + 'bucks'"
   ]
  },
  {
   "cell_type": "code",
   "execution_count": 9,
   "id": "186fca1a-d08b-4c60-ae86-f1ed431d2a62",
   "metadata": {},
   "outputs": [],
   "source": [
    "name = 'Dave'"
   ]
  },
  {
   "cell_type": "code",
   "execution_count": 10,
   "id": "ac7f51c7-bd28-41cd-ab40-b62f520091f7",
   "metadata": {},
   "outputs": [
    {
     "data": {
      "text/plain": [
       "'Dave'"
      ]
     },
     "execution_count": 10,
     "metadata": {},
     "output_type": "execute_result"
    }
   ],
   "source": [
    "name # tell me the value of..."
   ]
  },
  {
   "cell_type": "code",
   "execution_count": 12,
   "id": "6a10261d-27d0-4b9b-ab25-accb9e8c9fd2",
   "metadata": {},
   "outputs": [
    {
     "name": "stdout",
     "output_type": "stream",
     "text": [
      "Hello, my name is Dave\n"
     ]
    }
   ],
   "source": [
    "print('Hello, my name is', name) # print the value of ..."
   ]
  },
  {
   "cell_type": "code",
   "execution_count": 13,
   "id": "feca5fa5-84ad-4274-8586-760660e80b60",
   "metadata": {},
   "outputs": [
    {
     "data": {
      "text/plain": [
       "5"
      ]
     },
     "execution_count": 13,
     "metadata": {},
     "output_type": "execute_result"
    }
   ],
   "source": [
    "2 + 3"
   ]
  },
  {
   "cell_type": "code",
   "execution_count": 21,
   "id": "751d6681-dd57-416e-a08b-c12613cf4d5f",
   "metadata": {
    "scrolled": true
   },
   "outputs": [
    {
     "data": {
      "text/plain": [
       "1"
      ]
     },
     "execution_count": 21,
     "metadata": {},
     "output_type": "execute_result"
    }
   ],
   "source": [
    "number = 1\n",
    "something_else = 'blah'\n",
    "number # only the last line of a cell is run as \"interactive mode\""
   ]
  },
  {
   "cell_type": "code",
   "execution_count": 25,
   "id": "64b366bf-f0e6-42cc-99b8-74a89439ef5e",
   "metadata": {},
   "outputs": [
    {
     "name": "stdout",
     "output_type": "stream",
     "text": [
      "3\n",
      "something else\n"
     ]
    }
   ],
   "source": [
    "number + 2 # still does this, but throws it away\n",
    "print('something else')"
   ]
  },
  {
   "cell_type": "code",
   "execution_count": 28,
   "id": "176391bd-6579-48a6-977c-cbc66cc9e61b",
   "metadata": {},
   "outputs": [
    {
     "name": "stdout",
     "output_type": "stream",
     "text": [
      "blah\n",
      "add other stuff\n"
     ]
    }
   ],
   "source": [
    "print(something_else)\n",
    "print('add other stuff')"
   ]
  },
  {
   "cell_type": "code",
   "execution_count": 30,
   "id": "fa3fd40f-1ed3-4e2f-9baf-888c43e15c13",
   "metadata": {},
   "outputs": [
    {
     "name": "stdout",
     "output_type": "stream",
     "text": [
      "5\n"
     ]
    }
   ],
   "source": [
    "print(2 + 3)"
   ]
  },
  {
   "cell_type": "code",
   "execution_count": 35,
   "id": "c8ff204c-e159-4087-a4d5-b864ff6af1da",
   "metadata": {},
   "outputs": [
    {
     "data": {
      "text/plain": [
       "16"
      ]
     },
     "execution_count": 35,
     "metadata": {},
     "output_type": "execute_result"
    }
   ],
   "source": [
    "4 ** 2 # exponentiation"
   ]
  },
  {
   "cell_type": "code",
   "execution_count": 32,
   "id": "a02b321f-e097-48f3-8e39-3cf5e7e7e1a7",
   "metadata": {},
   "outputs": [
    {
     "name": "stdout",
     "output_type": "stream",
     "text": [
      "8\n"
     ]
    }
   ],
   "source": [
    "print(2 + 6)"
   ]
  },
  {
   "cell_type": "code",
   "execution_count": 33,
   "id": "7c5118dd-e3e4-47da-b521-e2ba8321db9a",
   "metadata": {},
   "outputs": [
    {
     "data": {
      "text/plain": [
       "8"
      ]
     },
     "execution_count": 33,
     "metadata": {},
     "output_type": "execute_result"
    }
   ],
   "source": [
    "2 + 6"
   ]
  },
  {
   "cell_type": "code",
   "execution_count": 36,
   "id": "6ad14815-3b38-4196-95ba-ab84bc57606f",
   "metadata": {},
   "outputs": [],
   "source": [
    "name = 'Dave'"
   ]
  },
  {
   "cell_type": "code",
   "execution_count": 37,
   "id": "f994f3c0-e4fd-4891-b221-39668a1a2edc",
   "metadata": {},
   "outputs": [
    {
     "data": {
      "text/plain": [
       "'Dave'"
      ]
     },
     "execution_count": 37,
     "metadata": {},
     "output_type": "execute_result"
    }
   ],
   "source": [
    "name"
   ]
  },
  {
   "cell_type": "code",
   "execution_count": 38,
   "id": "9eed2250-a42d-4b68-ba94-94ee31b734fe",
   "metadata": {},
   "outputs": [
    {
     "name": "stdout",
     "output_type": "stream",
     "text": [
      "Dave\n"
     ]
    }
   ],
   "source": [
    "print(name)"
   ]
  },
  {
   "cell_type": "code",
   "execution_count": 39,
   "id": "2d4df2c7-7561-4d6e-974f-9fccb18999ef",
   "metadata": {},
   "outputs": [],
   "source": [
    "import math"
   ]
  },
  {
   "cell_type": "code",
   "execution_count": 40,
   "id": "116f4323-3b4d-4c30-bede-5d2f80f43d9e",
   "metadata": {},
   "outputs": [
    {
     "data": {
      "text/plain": [
       "['__doc__',\n",
       " '__file__',\n",
       " '__loader__',\n",
       " '__name__',\n",
       " '__package__',\n",
       " '__spec__',\n",
       " 'acos',\n",
       " 'acosh',\n",
       " 'asin',\n",
       " 'asinh',\n",
       " 'atan',\n",
       " 'atan2',\n",
       " 'atanh',\n",
       " 'cbrt',\n",
       " 'ceil',\n",
       " 'comb',\n",
       " 'copysign',\n",
       " 'cos',\n",
       " 'cosh',\n",
       " 'degrees',\n",
       " 'dist',\n",
       " 'e',\n",
       " 'erf',\n",
       " 'erfc',\n",
       " 'exp',\n",
       " 'exp2',\n",
       " 'expm1',\n",
       " 'fabs',\n",
       " 'factorial',\n",
       " 'floor',\n",
       " 'fmod',\n",
       " 'frexp',\n",
       " 'fsum',\n",
       " 'gamma',\n",
       " 'gcd',\n",
       " 'hypot',\n",
       " 'inf',\n",
       " 'isclose',\n",
       " 'isfinite',\n",
       " 'isinf',\n",
       " 'isnan',\n",
       " 'isqrt',\n",
       " 'lcm',\n",
       " 'ldexp',\n",
       " 'lgamma',\n",
       " 'log',\n",
       " 'log10',\n",
       " 'log1p',\n",
       " 'log2',\n",
       " 'modf',\n",
       " 'nan',\n",
       " 'nextafter',\n",
       " 'perm',\n",
       " 'pi',\n",
       " 'pow',\n",
       " 'prod',\n",
       " 'radians',\n",
       " 'remainder',\n",
       " 'sin',\n",
       " 'sinh',\n",
       " 'sqrt',\n",
       " 'sumprod',\n",
       " 'tan',\n",
       " 'tanh',\n",
       " 'tau',\n",
       " 'trunc',\n",
       " 'ulp']"
      ]
     },
     "execution_count": 40,
     "metadata": {},
     "output_type": "execute_result"
    }
   ],
   "source": [
    "dir(math)"
   ]
  },
  {
   "cell_type": "code",
   "execution_count": 41,
   "id": "f5a83ce5-2e56-4cfc-9373-e6c13256128e",
   "metadata": {},
   "outputs": [
    {
     "name": "stdout",
     "output_type": "stream",
     "text": [
      "Help on module math:\n",
      "\n",
      "NAME\n",
      "    math\n",
      "\n",
      "MODULE REFERENCE\n",
      "    https://docs.python.org/3.12/library/math.html\n",
      "\n",
      "    The following documentation is automatically generated from the Python\n",
      "    source files.  It may be incomplete, incorrect or include features that\n",
      "    are considered implementation detail and may vary between Python\n",
      "    implementations.  When in doubt, consult the module reference at the\n",
      "    location listed above.\n",
      "\n",
      "DESCRIPTION\n",
      "    This module provides access to the mathematical functions\n",
      "    defined by the C standard.\n",
      "\n",
      "FUNCTIONS\n",
      "    acos(x, /)\n",
      "        Return the arc cosine (measured in radians) of x.\n",
      "\n",
      "        The result is between 0 and pi.\n",
      "\n",
      "    acosh(x, /)\n",
      "        Return the inverse hyperbolic cosine of x.\n",
      "\n",
      "    asin(x, /)\n",
      "        Return the arc sine (measured in radians) of x.\n",
      "\n",
      "        The result is between -pi/2 and pi/2.\n",
      "\n",
      "    asinh(x, /)\n",
      "        Return the inverse hyperbolic sine of x.\n",
      "\n",
      "    atan(x, /)\n",
      "        Return the arc tangent (measured in radians) of x.\n",
      "\n",
      "        The result is between -pi/2 and pi/2.\n",
      "\n",
      "    atan2(y, x, /)\n",
      "        Return the arc tangent (measured in radians) of y/x.\n",
      "\n",
      "        Unlike atan(y/x), the signs of both x and y are considered.\n",
      "\n",
      "    atanh(x, /)\n",
      "        Return the inverse hyperbolic tangent of x.\n",
      "\n",
      "    cbrt(x, /)\n",
      "        Return the cube root of x.\n",
      "\n",
      "    ceil(x, /)\n",
      "        Return the ceiling of x as an Integral.\n",
      "\n",
      "        This is the smallest integer >= x.\n",
      "\n",
      "    comb(n, k, /)\n",
      "        Number of ways to choose k items from n items without repetition and without order.\n",
      "\n",
      "        Evaluates to n! / (k! * (n - k)!) when k <= n and evaluates\n",
      "        to zero when k > n.\n",
      "\n",
      "        Also called the binomial coefficient because it is equivalent\n",
      "        to the coefficient of k-th term in polynomial expansion of the\n",
      "        expression (1 + x)**n.\n",
      "\n",
      "        Raises TypeError if either of the arguments are not integers.\n",
      "        Raises ValueError if either of the arguments are negative.\n",
      "\n",
      "    copysign(x, y, /)\n",
      "        Return a float with the magnitude (absolute value) of x but the sign of y.\n",
      "\n",
      "        On platforms that support signed zeros, copysign(1.0, -0.0)\n",
      "        returns -1.0.\n",
      "\n",
      "    cos(x, /)\n",
      "        Return the cosine of x (measured in radians).\n",
      "\n",
      "    cosh(x, /)\n",
      "        Return the hyperbolic cosine of x.\n",
      "\n",
      "    degrees(x, /)\n",
      "        Convert angle x from radians to degrees.\n",
      "\n",
      "    dist(p, q, /)\n",
      "        Return the Euclidean distance between two points p and q.\n",
      "\n",
      "        The points should be specified as sequences (or iterables) of\n",
      "        coordinates.  Both inputs must have the same dimension.\n",
      "\n",
      "        Roughly equivalent to:\n",
      "            sqrt(sum((px - qx) ** 2.0 for px, qx in zip(p, q)))\n",
      "\n",
      "    erf(x, /)\n",
      "        Error function at x.\n",
      "\n",
      "    erfc(x, /)\n",
      "        Complementary error function at x.\n",
      "\n",
      "    exp(x, /)\n",
      "        Return e raised to the power of x.\n",
      "\n",
      "    exp2(x, /)\n",
      "        Return 2 raised to the power of x.\n",
      "\n",
      "    expm1(x, /)\n",
      "        Return exp(x)-1.\n",
      "\n",
      "        This function avoids the loss of precision involved in the direct evaluation of exp(x)-1 for small x.\n",
      "\n",
      "    fabs(x, /)\n",
      "        Return the absolute value of the float x.\n",
      "\n",
      "    factorial(n, /)\n",
      "        Find n!.\n",
      "\n",
      "        Raise a ValueError if x is negative or non-integral.\n",
      "\n",
      "    floor(x, /)\n",
      "        Return the floor of x as an Integral.\n",
      "\n",
      "        This is the largest integer <= x.\n",
      "\n",
      "    fmod(x, y, /)\n",
      "        Return fmod(x, y), according to platform C.\n",
      "\n",
      "        x % y may differ.\n",
      "\n",
      "    frexp(x, /)\n",
      "        Return the mantissa and exponent of x, as pair (m, e).\n",
      "\n",
      "        m is a float and e is an int, such that x = m * 2.**e.\n",
      "        If x is 0, m and e are both 0.  Else 0.5 <= abs(m) < 1.0.\n",
      "\n",
      "    fsum(seq, /)\n",
      "        Return an accurate floating point sum of values in the iterable seq.\n",
      "\n",
      "        Assumes IEEE-754 floating point arithmetic.\n",
      "\n",
      "    gamma(x, /)\n",
      "        Gamma function at x.\n",
      "\n",
      "    gcd(*integers)\n",
      "        Greatest Common Divisor.\n",
      "\n",
      "    hypot(...)\n",
      "        hypot(*coordinates) -> value\n",
      "\n",
      "        Multidimensional Euclidean distance from the origin to a point.\n",
      "\n",
      "        Roughly equivalent to:\n",
      "            sqrt(sum(x**2 for x in coordinates))\n",
      "\n",
      "        For a two dimensional point (x, y), gives the hypotenuse\n",
      "        using the Pythagorean theorem:  sqrt(x*x + y*y).\n",
      "\n",
      "        For example, the hypotenuse of a 3/4/5 right triangle is:\n",
      "\n",
      "            >>> hypot(3.0, 4.0)\n",
      "            5.0\n",
      "\n",
      "    isclose(a, b, *, rel_tol=1e-09, abs_tol=0.0)\n",
      "        Determine whether two floating point numbers are close in value.\n",
      "\n",
      "          rel_tol\n",
      "            maximum difference for being considered \"close\", relative to the\n",
      "            magnitude of the input values\n",
      "          abs_tol\n",
      "            maximum difference for being considered \"close\", regardless of the\n",
      "            magnitude of the input values\n",
      "\n",
      "        Return True if a is close in value to b, and False otherwise.\n",
      "\n",
      "        For the values to be considered close, the difference between them\n",
      "        must be smaller than at least one of the tolerances.\n",
      "\n",
      "        -inf, inf and NaN behave similarly to the IEEE 754 Standard.  That\n",
      "        is, NaN is not close to anything, even itself.  inf and -inf are\n",
      "        only close to themselves.\n",
      "\n",
      "    isfinite(x, /)\n",
      "        Return True if x is neither an infinity nor a NaN, and False otherwise.\n",
      "\n",
      "    isinf(x, /)\n",
      "        Return True if x is a positive or negative infinity, and False otherwise.\n",
      "\n",
      "    isnan(x, /)\n",
      "        Return True if x is a NaN (not a number), and False otherwise.\n",
      "\n",
      "    isqrt(n, /)\n",
      "        Return the integer part of the square root of the input.\n",
      "\n",
      "    lcm(*integers)\n",
      "        Least Common Multiple.\n",
      "\n",
      "    ldexp(x, i, /)\n",
      "        Return x * (2**i).\n",
      "\n",
      "        This is essentially the inverse of frexp().\n",
      "\n",
      "    lgamma(x, /)\n",
      "        Natural logarithm of absolute value of Gamma function at x.\n",
      "\n",
      "    log(...)\n",
      "        log(x, [base=math.e])\n",
      "        Return the logarithm of x to the given base.\n",
      "\n",
      "        If the base is not specified, returns the natural logarithm (base e) of x.\n",
      "\n",
      "    log10(x, /)\n",
      "        Return the base 10 logarithm of x.\n",
      "\n",
      "    log1p(x, /)\n",
      "        Return the natural logarithm of 1+x (base e).\n",
      "\n",
      "        The result is computed in a way which is accurate for x near zero.\n",
      "\n",
      "    log2(x, /)\n",
      "        Return the base 2 logarithm of x.\n",
      "\n",
      "    modf(x, /)\n",
      "        Return the fractional and integer parts of x.\n",
      "\n",
      "        Both results carry the sign of x and are floats.\n",
      "\n",
      "    nextafter(x, y, /, *, steps=None)\n",
      "        Return the floating-point value the given number of steps after x towards y.\n",
      "\n",
      "        If steps is not specified or is None, it defaults to 1.\n",
      "\n",
      "        Raises a TypeError, if x or y is not a double, or if steps is not an integer.\n",
      "        Raises ValueError if steps is negative.\n",
      "\n",
      "    perm(n, k=None, /)\n",
      "        Number of ways to choose k items from n items without repetition and with order.\n",
      "\n",
      "        Evaluates to n! / (n - k)! when k <= n and evaluates\n",
      "        to zero when k > n.\n",
      "\n",
      "        If k is not specified or is None, then k defaults to n\n",
      "        and the function returns n!.\n",
      "\n",
      "        Raises TypeError if either of the arguments are not integers.\n",
      "        Raises ValueError if either of the arguments are negative.\n",
      "\n",
      "    pow(x, y, /)\n",
      "        Return x**y (x to the power of y).\n",
      "\n",
      "    prod(iterable, /, *, start=1)\n",
      "        Calculate the product of all the elements in the input iterable.\n",
      "\n",
      "        The default start value for the product is 1.\n",
      "\n",
      "        When the iterable is empty, return the start value.  This function is\n",
      "        intended specifically for use with numeric values and may reject\n",
      "        non-numeric types.\n",
      "\n",
      "    radians(x, /)\n",
      "        Convert angle x from degrees to radians.\n",
      "\n",
      "    remainder(x, y, /)\n",
      "        Difference between x and the closest integer multiple of y.\n",
      "\n",
      "        Return x - n*y where n*y is the closest integer multiple of y.\n",
      "        In the case where x is exactly halfway between two multiples of\n",
      "        y, the nearest even value of n is used. The result is always exact.\n",
      "\n",
      "    sin(x, /)\n",
      "        Return the sine of x (measured in radians).\n",
      "\n",
      "    sinh(x, /)\n",
      "        Return the hyperbolic sine of x.\n",
      "\n",
      "    sqrt(x, /)\n",
      "        Return the square root of x.\n",
      "\n",
      "    sumprod(p, q, /)\n",
      "        Return the sum of products of values from two iterables p and q.\n",
      "\n",
      "        Roughly equivalent to:\n",
      "\n",
      "            sum(itertools.starmap(operator.mul, zip(p, q, strict=True)))\n",
      "\n",
      "        For float and mixed int/float inputs, the intermediate products\n",
      "        and sums are computed with extended precision.\n",
      "\n",
      "    tan(x, /)\n",
      "        Return the tangent of x (measured in radians).\n",
      "\n",
      "    tanh(x, /)\n",
      "        Return the hyperbolic tangent of x.\n",
      "\n",
      "    trunc(x, /)\n",
      "        Truncates the Real x to the nearest Integral toward 0.\n",
      "\n",
      "        Uses the __trunc__ magic method.\n",
      "\n",
      "    ulp(x, /)\n",
      "        Return the value of the least significant bit of the float x.\n",
      "\n",
      "DATA\n",
      "    e = 2.718281828459045\n",
      "    inf = inf\n",
      "    nan = nan\n",
      "    pi = 3.141592653589793\n",
      "    tau = 6.283185307179586\n",
      "\n",
      "FILE\n",
      "    /Library/Frameworks/Python.framework/Versions/3.12/lib/python3.12/lib-dynload/math.cpython-312-darwin.so\n",
      "\n",
      "\n"
     ]
    }
   ],
   "source": [
    "help(math)"
   ]
  },
  {
   "cell_type": "code",
   "execution_count": 43,
   "id": "3bb24657-f2fa-40b8-b5ff-57380e91551d",
   "metadata": {},
   "outputs": [
    {
     "name": "stdout",
     "output_type": "stream",
     "text": [
      "Help on built-in function sin in module math:\n",
      "\n",
      "sin(x, /)\n",
      "    Return the sine of x (measured in radians).\n",
      "\n"
     ]
    }
   ],
   "source": [
    "help(math.sin)"
   ]
  },
  {
   "cell_type": "code",
   "execution_count": 44,
   "id": "935545c1-2987-4796-b74c-46f0ab828e5e",
   "metadata": {
    "scrolled": true
   },
   "outputs": [
    {
     "name": "stdout",
     "output_type": "stream",
     "text": [
      "Help on built-in function print in module builtins:\n",
      "\n",
      "print(*args, sep=' ', end='\\n', file=None, flush=False)\n",
      "    Prints the values to a stream, or to sys.stdout by default.\n",
      "\n",
      "    sep\n",
      "      string inserted between values, default a space.\n",
      "    end\n",
      "      string appended after the last value, default a newline.\n",
      "    file\n",
      "      a file-like object (stream); defaults to the current sys.stdout.\n",
      "    flush\n",
      "      whether to forcibly flush the stream.\n",
      "\n"
     ]
    }
   ],
   "source": [
    "help(print)"
   ]
  },
  {
   "cell_type": "code",
   "execution_count": 48,
   "id": "8b2cbb08-db07-4307-b6eb-fa2acf57aef8",
   "metadata": {},
   "outputs": [
    {
     "data": {
      "text/plain": [
       "\"<module 'math' from '/Library/Frameworks/Python.framework/Versions/3.12/lib/python3.12/lib-dynload/math.cpython-312-darwin.so'>\""
      ]
     },
     "execution_count": 48,
     "metadata": {},
     "output_type": "execute_result"
    }
   ],
   "source": [
    "str(math)"
   ]
  },
  {
   "cell_type": "code",
   "execution_count": 46,
   "id": "bc338b78-2c97-42cc-9b41-699754a10dec",
   "metadata": {},
   "outputs": [],
   "source": [
    "num = 5"
   ]
  },
  {
   "cell_type": "code",
   "execution_count": 47,
   "id": "2f68a314-0275-41f5-88ad-c7a6775e5bea",
   "metadata": {},
   "outputs": [
    {
     "data": {
      "text/plain": [
       "'5'"
      ]
     },
     "execution_count": 47,
     "metadata": {},
     "output_type": "execute_result"
    }
   ],
   "source": [
    "str(num) # string-ify the variable whose name is num"
   ]
  },
  {
   "cell_type": "code",
   "execution_count": 49,
   "id": "2743178f-e735-42b6-b5f6-7da8eedcc92e",
   "metadata": {},
   "outputs": [
    {
     "data": {
      "text/plain": [
       "'<built-in function print>'"
      ]
     },
     "execution_count": 49,
     "metadata": {},
     "output_type": "execute_result"
    }
   ],
   "source": [
    "str(print)"
   ]
  },
  {
   "cell_type": "code",
   "execution_count": 50,
   "id": "781c01dd-3825-4a8e-af13-d174097d3690",
   "metadata": {},
   "outputs": [
    {
     "data": {
      "text/plain": [
       "'1.23'"
      ]
     },
     "execution_count": 50,
     "metadata": {},
     "output_type": "execute_result"
    }
   ],
   "source": [
    "str(1.23)"
   ]
  },
  {
   "cell_type": "code",
   "execution_count": 51,
   "id": "935954b6-c40b-4abc-be31-7ff954ef13c4",
   "metadata": {},
   "outputs": [
    {
     "data": {
      "text/plain": [
       "123"
      ]
     },
     "execution_count": 51,
     "metadata": {},
     "output_type": "execute_result"
    }
   ],
   "source": [
    "int(123)"
   ]
  },
  {
   "cell_type": "code",
   "execution_count": 53,
   "id": "bc521dac-c6fa-4fb5-91e2-565051a68193",
   "metadata": {},
   "outputs": [
    {
     "data": {
      "text/plain": [
       "4"
      ]
     },
     "execution_count": 53,
     "metadata": {},
     "output_type": "execute_result"
    }
   ],
   "source": [
    "int(4.67)"
   ]
  },
  {
   "cell_type": "code",
   "execution_count": 54,
   "id": "62cde939-c473-4ca5-957a-cad3635066db",
   "metadata": {},
   "outputs": [
    {
     "ename": "ValueError",
     "evalue": "invalid literal for int() with base 10: '4.56'",
     "output_type": "error",
     "traceback": [
      "\u001b[0;31m---------------------------------------------------------------------------\u001b[0m",
      "\u001b[0;31mValueError\u001b[0m                                Traceback (most recent call last)",
      "Cell \u001b[0;32mIn[54], line 1\u001b[0m\n\u001b[0;32m----> 1\u001b[0m \u001b[38;5;28;43mint\u001b[39;49m\u001b[43m(\u001b[49m\u001b[38;5;124;43m'\u001b[39;49m\u001b[38;5;124;43m4.56\u001b[39;49m\u001b[38;5;124;43m'\u001b[39;49m\u001b[43m)\u001b[49m\n",
      "\u001b[0;31mValueError\u001b[0m: invalid literal for int() with base 10: '4.56'"
     ]
    }
   ],
   "source": [
    "int('4.56')"
   ]
  },
  {
   "cell_type": "code",
   "execution_count": 55,
   "id": "b6caeedb-cb5e-4576-a1f3-6b282ea85539",
   "metadata": {},
   "outputs": [
    {
     "data": {
      "text/plain": [
       "4.56"
      ]
     },
     "execution_count": 55,
     "metadata": {},
     "output_type": "execute_result"
    }
   ],
   "source": [
    "float('4.56')"
   ]
  },
  {
   "cell_type": "code",
   "execution_count": 58,
   "id": "6dda5f95-96f8-4399-a941-55cc2d9bed53",
   "metadata": {},
   "outputs": [
    {
     "data": {
      "text/plain": [
       "'53.3'"
      ]
     },
     "execution_count": 58,
     "metadata": {},
     "output_type": "execute_result"
    }
   ],
   "source": [
    "str(53.3)"
   ]
  },
  {
   "cell_type": "code",
   "execution_count": 59,
   "id": "7fe83338-6b1e-4fdc-b061-f5ebfb39fb87",
   "metadata": {},
   "outputs": [
    {
     "data": {
      "text/plain": [
       "'False'"
      ]
     },
     "execution_count": 59,
     "metadata": {},
     "output_type": "execute_result"
    }
   ],
   "source": [
    "str(False)"
   ]
  },
  {
   "cell_type": "code",
   "execution_count": 68,
   "id": "b4c1c0a8-880a-4c40-b59e-e8baf96f6d94",
   "metadata": {},
   "outputs": [
    {
     "data": {
      "text/plain": [
       "'44'"
      ]
     },
     "execution_count": 68,
     "metadata": {},
     "output_type": "execute_result"
    }
   ],
   "source": [
    "something = 44\n",
    "str(something)"
   ]
  },
  {
   "cell_type": "code",
   "execution_count": 60,
   "id": "c670caab-7fb8-4adb-a19f-c0660631bc4d",
   "metadata": {},
   "outputs": [
    {
     "data": {
      "text/plain": [
       "300"
      ]
     },
     "execution_count": 60,
     "metadata": {},
     "output_type": "execute_result"
    }
   ],
   "source": [
    "int('300')"
   ]
  },
  {
   "cell_type": "code",
   "execution_count": 64,
   "id": "051d3f2c-fe3a-48c0-8e99-308167ab9cb3",
   "metadata": {},
   "outputs": [
    {
     "ename": "ValueError",
     "evalue": "invalid literal for int() with base 10: '30x'",
     "output_type": "error",
     "traceback": [
      "\u001b[0;31m---------------------------------------------------------------------------\u001b[0m",
      "\u001b[0;31mValueError\u001b[0m                                Traceback (most recent call last)",
      "Cell \u001b[0;32mIn[64], line 1\u001b[0m\n\u001b[0;32m----> 1\u001b[0m \u001b[38;5;28;43mint\u001b[39;49m\u001b[43m(\u001b[49m\u001b[38;5;124;43m'\u001b[39;49m\u001b[38;5;124;43m30x\u001b[39;49m\u001b[38;5;124;43m'\u001b[39;49m\u001b[43m)\u001b[49m\n",
      "\u001b[0;31mValueError\u001b[0m: invalid literal for int() with base 10: '30x'"
     ]
    }
   ],
   "source": [
    "int('30x')"
   ]
  },
  {
   "cell_type": "code",
   "execution_count": 61,
   "id": "9ff31f6d-a2ce-4b36-9767-d794bac44991",
   "metadata": {},
   "outputs": [
    {
     "data": {
      "text/plain": [
       "bool"
      ]
     },
     "execution_count": 61,
     "metadata": {},
     "output_type": "execute_result"
    }
   ],
   "source": [
    "type(False)"
   ]
  },
  {
   "cell_type": "code",
   "execution_count": 62,
   "id": "074534b6-14bf-4a30-a65d-7ed4d428d5f8",
   "metadata": {},
   "outputs": [
    {
     "data": {
      "text/plain": [
       "str"
      ]
     },
     "execution_count": 62,
     "metadata": {},
     "output_type": "execute_result"
    }
   ],
   "source": [
    "type('False')"
   ]
  },
  {
   "cell_type": "code",
   "execution_count": 63,
   "id": "8b43e78f-40f9-477a-bbbe-beb22807be6e",
   "metadata": {},
   "outputs": [
    {
     "data": {
      "text/plain": [
       "float"
      ]
     },
     "execution_count": 63,
     "metadata": {},
     "output_type": "execute_result"
    }
   ],
   "source": [
    "type(3.5)"
   ]
  },
  {
   "cell_type": "code",
   "execution_count": 69,
   "id": "16e6a504-6a81-4d77-8543-0c9c3ad60c81",
   "metadata": {},
   "outputs": [
    {
     "data": {
      "text/plain": [
       "4"
      ]
     },
     "execution_count": 69,
     "metadata": {},
     "output_type": "execute_result"
    }
   ],
   "source": [
    "2 + 2"
   ]
  },
  {
   "cell_type": "code",
   "execution_count": 70,
   "id": "19d46592-6540-44f4-9d18-cc2078e827f7",
   "metadata": {},
   "outputs": [
    {
     "data": {
      "text/plain": [
       "'22'"
      ]
     },
     "execution_count": 70,
     "metadata": {},
     "output_type": "execute_result"
    }
   ],
   "source": [
    "'2' + '2'"
   ]
  },
  {
   "cell_type": "code",
   "execution_count": 73,
   "id": "259b65c0-67eb-4a7f-b1fc-50814cabc0be",
   "metadata": {},
   "outputs": [
    {
     "data": {
      "text/plain": [
       "'333'"
      ]
     },
     "execution_count": 73,
     "metadata": {},
     "output_type": "execute_result"
    }
   ],
   "source": [
    "'3' * 3"
   ]
  },
  {
   "cell_type": "code",
   "execution_count": 74,
   "id": "9750a5e5-e0b3-4e1e-9116-2ebf6e9793c2",
   "metadata": {},
   "outputs": [
    {
     "name": "stdout",
     "output_type": "stream",
     "text": [
      "01234567890123456789012345678901234567890123456789012345678901234567890123456789\n",
      "--------------------------------------------------------------------------------\n"
     ]
    }
   ],
   "source": [
    "print('0123456789' * 8)\n",
    "print('-' * 80)"
   ]
  },
  {
   "cell_type": "code",
   "execution_count": 77,
   "id": "911385bc-7075-4442-9f24-0acf49dadaf3",
   "metadata": {},
   "outputs": [
    {
     "name": "stdout",
     "output_type": "stream",
     "text": [
      "1\n",
      "5\n"
     ]
    }
   ],
   "source": [
    "print(1)\n",
    "'''\n",
    "print(2)\n",
    "print(3)\n",
    "print(4)\n",
    "'''\n",
    "print(5)"
   ]
  },
  {
   "cell_type": "code",
   "execution_count": 78,
   "id": "09b8eb82-fc8f-4ca7-8478-356eae9bdb9b",
   "metadata": {},
   "outputs": [],
   "source": [
    "a, b, o, p = 'b', 'a', 'p', 'o'"
   ]
  },
  {
   "cell_type": "code",
   "execution_count": 79,
   "id": "9083edea-0cfb-4a05-8ac5-d315762b70ca",
   "metadata": {},
   "outputs": [
    {
     "data": {
      "text/plain": [
       "'pop'"
      ]
     },
     "execution_count": 79,
     "metadata": {},
     "output_type": "execute_result"
    }
   ],
   "source": [
    "o + p + o"
   ]
  },
  {
   "cell_type": "code",
   "execution_count": 80,
   "id": "9edbb833-3b0b-45d2-96b6-5c3c25fbb369",
   "metadata": {},
   "outputs": [
    {
     "data": {
      "text/plain": [
       "'bbba'"
      ]
     },
     "execution_count": 80,
     "metadata": {},
     "output_type": "execute_result"
    }
   ],
   "source": [
    "a * 3 + b"
   ]
  },
  {
   "cell_type": "code",
   "execution_count": 81,
   "id": "f09f4be8-404c-4f9c-a49a-e7006aebf30d",
   "metadata": {},
   "outputs": [
    {
     "data": {
      "text/plain": [
       "'bookkeeper'"
      ]
     },
     "execution_count": 81,
     "metadata": {},
     "output_type": "execute_result"
    }
   ],
   "source": [
    "a + p * 2 + 'k' * 2 + 'e' * 2 + o + 'er'"
   ]
  },
  {
   "cell_type": "code",
   "execution_count": 82,
   "id": "c740226b-d567-477d-a240-53cbdc7dc6d8",
   "metadata": {},
   "outputs": [
    {
     "data": {
      "text/plain": [
       "'this is a string'"
      ]
     },
     "execution_count": 82,
     "metadata": {},
     "output_type": "execute_result"
    }
   ],
   "source": [
    "'this is a string'"
   ]
  },
  {
   "cell_type": "code",
   "execution_count": 83,
   "id": "49dbe6a6-e54c-4047-acf1-22039fe10e6f",
   "metadata": {},
   "outputs": [
    {
     "data": {
      "text/plain": [
       "'123'"
      ]
     },
     "execution_count": 83,
     "metadata": {},
     "output_type": "execute_result"
    }
   ],
   "source": [
    "'123'"
   ]
  },
  {
   "cell_type": "code",
   "execution_count": 84,
   "id": "71d03f62-ae12-4263-93cb-6b6bcd112259",
   "metadata": {},
   "outputs": [
    {
     "data": {
      "text/plain": [
       "''"
      ]
     },
     "execution_count": 84,
     "metadata": {},
     "output_type": "execute_result"
    }
   ],
   "source": [
    "''"
   ]
  },
  {
   "cell_type": "code",
   "execution_count": 89,
   "id": "135385e4-4867-4fe8-8d8e-959020a28fc4",
   "metadata": {},
   "outputs": [
    {
     "name": "stdout",
     "output_type": "stream",
     "text": [
      "not indented\n"
     ]
    }
   ],
   "source": [
    "if 5 > 11:\n",
    "    print('five is greater than four!')\n",
    "    newvar = 4\n",
    "    \n",
    "print('not indented')"
   ]
  },
  {
   "cell_type": "code",
   "execution_count": 90,
   "id": "6aaa1f58-d293-4127-b3d4-3dfd00e3510c",
   "metadata": {},
   "outputs": [
    {
     "name": "stdout",
     "output_type": "stream",
     "text": [
      "ok\n"
     ]
    }
   ],
   "source": [
    "if 2 > 0:\n",
    "    print('ok')"
   ]
  },
  {
   "cell_type": "code",
   "execution_count": 97,
   "id": "bb004c82-8282-46b1-a544-d966ba933a33",
   "metadata": {},
   "outputs": [
    {
     "name": "stdout",
     "output_type": "stream",
     "text": [
      "x is greater than 10\n"
     ]
    }
   ],
   "source": [
    "x = 1\n",
    "\n",
    "if x == 1:\n",
    "    print(\"x is greater than 10\")\n",
    "elif x == 5:\n",
    "    print(\"x is equal to 5\")\n",
    "else:\n",
    "    print(\"x is less than 5\")\n"
   ]
  },
  {
   "cell_type": "code",
   "execution_count": 94,
   "id": "5dfc8129-a21c-40f6-b214-e7616f07af64",
   "metadata": {},
   "outputs": [
    {
     "name": "stderr",
     "output_type": "stream",
     "text": [
      "<>:1: SyntaxWarning: \"is\" with 'int' literal. Did you mean \"==\"?\n"
     ]
    },
    {
     "data": {
      "text/plain": [
       "True"
      ]
     },
     "execution_count": 94,
     "metadata": {},
     "output_type": "execute_result"
    }
   ],
   "source": [
    "x is 1"
   ]
  },
  {
   "cell_type": "code",
   "execution_count": 102,
   "id": "ab63fc1f-ee06-4b23-b2ec-1d6f33d4124c",
   "metadata": {},
   "outputs": [
    {
     "data": {
      "text/plain": [
       "True"
      ]
     },
     "execution_count": 102,
     "metadata": {},
     "output_type": "execute_result"
    }
   ],
   "source": [
    "'S' in 'Starbucks'"
   ]
  },
  {
   "cell_type": "code",
   "execution_count": 100,
   "id": "8483db26-04d0-484e-89b4-850ea59961e7",
   "metadata": {},
   "outputs": [
    {
     "data": {
      "text/plain": [
       "True"
      ]
     },
     "execution_count": 100,
     "metadata": {},
     "output_type": "execute_result"
    }
   ],
   "source": [
    "'Star' in 'Starbucks'"
   ]
  },
  {
   "cell_type": "code",
   "execution_count": 101,
   "id": "7c7a2c5c-f4f8-4c0e-a1de-63bca8328a14",
   "metadata": {},
   "outputs": [
    {
     "data": {
      "text/plain": [
       "False"
      ]
     },
     "execution_count": 101,
     "metadata": {},
     "output_type": "execute_result"
    }
   ],
   "source": [
    "'Sab' in 'Starbucks'"
   ]
  },
  {
   "cell_type": "code",
   "execution_count": 103,
   "id": "8175951c-36bf-4065-ba42-84fc71a6755f",
   "metadata": {},
   "outputs": [
    {
     "data": {
      "text/plain": [
       "5"
      ]
     },
     "execution_count": 103,
     "metadata": {},
     "output_type": "execute_result"
    }
   ],
   "source": [
    "2 + 3 # numeric expression"
   ]
  },
  {
   "cell_type": "code",
   "execution_count": 104,
   "id": "f058a542-4112-459c-bd3d-26a55c31f3cb",
   "metadata": {},
   "outputs": [
    {
     "data": {
      "text/plain": [
       "True"
      ]
     },
     "execution_count": 104,
     "metadata": {},
     "output_type": "execute_result"
    }
   ],
   "source": [
    "2 < 3 # Boolean expression"
   ]
  },
  {
   "cell_type": "code",
   "execution_count": 105,
   "id": "bbf2acba-f549-4435-9a6d-6270fa4b7eb0",
   "metadata": {},
   "outputs": [],
   "source": [
    "import random"
   ]
  },
  {
   "cell_type": "code",
   "execution_count": 106,
   "id": "18ef3933-b0de-411f-b6df-24241a45dc3b",
   "metadata": {},
   "outputs": [
    {
     "data": {
      "text/plain": [
       "['BPF',\n",
       " 'LOG4',\n",
       " 'NV_MAGICCONST',\n",
       " 'RECIP_BPF',\n",
       " 'Random',\n",
       " 'SG_MAGICCONST',\n",
       " 'SystemRandom',\n",
       " 'TWOPI',\n",
       " '_ONE',\n",
       " '_Sequence',\n",
       " '__all__',\n",
       " '__builtins__',\n",
       " '__cached__',\n",
       " '__doc__',\n",
       " '__file__',\n",
       " '__loader__',\n",
       " '__name__',\n",
       " '__package__',\n",
       " '__spec__',\n",
       " '_accumulate',\n",
       " '_acos',\n",
       " '_bisect',\n",
       " '_ceil',\n",
       " '_cos',\n",
       " '_e',\n",
       " '_exp',\n",
       " '_fabs',\n",
       " '_floor',\n",
       " '_index',\n",
       " '_inst',\n",
       " '_isfinite',\n",
       " '_lgamma',\n",
       " '_log',\n",
       " '_log2',\n",
       " '_os',\n",
       " '_pi',\n",
       " '_random',\n",
       " '_repeat',\n",
       " '_sha512',\n",
       " '_sin',\n",
       " '_sqrt',\n",
       " '_test',\n",
       " '_test_generator',\n",
       " '_urandom',\n",
       " '_warn',\n",
       " 'betavariate',\n",
       " 'binomialvariate',\n",
       " 'choice',\n",
       " 'choices',\n",
       " 'expovariate',\n",
       " 'gammavariate',\n",
       " 'gauss',\n",
       " 'getrandbits',\n",
       " 'getstate',\n",
       " 'lognormvariate',\n",
       " 'normalvariate',\n",
       " 'paretovariate',\n",
       " 'randbytes',\n",
       " 'randint',\n",
       " 'random',\n",
       " 'randrange',\n",
       " 'sample',\n",
       " 'seed',\n",
       " 'setstate',\n",
       " 'shuffle',\n",
       " 'triangular',\n",
       " 'uniform',\n",
       " 'vonmisesvariate',\n",
       " 'weibullvariate']"
      ]
     },
     "execution_count": 106,
     "metadata": {},
     "output_type": "execute_result"
    }
   ],
   "source": [
    "dir(random)"
   ]
  },
  {
   "cell_type": "code",
   "execution_count": 107,
   "id": "87aa16b1-0460-41e6-98b1-e5177212c343",
   "metadata": {},
   "outputs": [
    {
     "name": "stdout",
     "output_type": "stream",
     "text": [
      "Help on method randint in module random:\n",
      "\n",
      "randint(a, b) method of random.Random instance\n",
      "    Return random integer in range [a, b], including both end points.\n",
      "\n"
     ]
    }
   ],
   "source": [
    "help(random.randint)"
   ]
  },
  {
   "cell_type": "code",
   "execution_count": 112,
   "id": "4d711542-9e67-41c5-ba16-2ffa8892ebbc",
   "metadata": {},
   "outputs": [
    {
     "data": {
      "text/plain": [
       "4"
      ]
     },
     "execution_count": 112,
     "metadata": {},
     "output_type": "execute_result"
    }
   ],
   "source": [
    "random.randint(1, 100)"
   ]
  },
  {
   "cell_type": "code",
   "execution_count": 113,
   "id": "cce110c6-42b9-4266-9039-32ff58f5d91a",
   "metadata": {},
   "outputs": [],
   "source": [
    "s = 'Python'"
   ]
  },
  {
   "cell_type": "code",
   "execution_count": 114,
   "id": "40285056-f4a3-44f7-a793-37b97d7be3dc",
   "metadata": {},
   "outputs": [
    {
     "data": {
      "text/plain": [
       "6"
      ]
     },
     "execution_count": 114,
     "metadata": {},
     "output_type": "execute_result"
    }
   ],
   "source": [
    "len(s)"
   ]
  },
  {
   "cell_type": "code",
   "execution_count": 115,
   "id": "7a7f024b-f74e-48a5-b083-ddebe497d82b",
   "metadata": {},
   "outputs": [
    {
     "name": "stdout",
     "output_type": "stream",
     "text": [
      "P\n",
      "y\n",
      "t\n",
      "h\n",
      "o\n",
      "n\n"
     ]
    }
   ],
   "source": [
    "for thing in s:\n",
    "    print(thing)"
   ]
  },
  {
   "cell_type": "code",
   "execution_count": 117,
   "id": "baa2a1b1-1f81-47d2-ae8b-2d17d105bb16",
   "metadata": {},
   "outputs": [
    {
     "name": "stdout",
     "output_type": "stream",
     "text": [
      "1\n",
      "2\n",
      "3\n",
      "4\n",
      "5\n",
      "6\n"
     ]
    }
   ],
   "source": [
    "for thing in '123456':\n",
    "    print(thing)"
   ]
  },
  {
   "cell_type": "code",
   "execution_count": 119,
   "id": "fecac3b4-0d4e-449b-a862-31f7df9e336e",
   "metadata": {},
   "outputs": [
    {
     "name": "stdin",
     "output_type": "stream",
     "text": [
      "How many?  3\n"
     ]
    },
    {
     "name": "stdout",
     "output_type": "stream",
     "text": [
      "Hello!\n",
      "Hello!\n",
      "Hello!\n"
     ]
    }
   ],
   "source": [
    "count = int(input('How many? '))\n",
    "for times in range(0, count):\n",
    "    print('Hello!')"
   ]
  },
  {
   "cell_type": "markdown",
   "id": "c0e27967-b963-4aee-bdea-022be3a6c4d6",
   "metadata": {},
   "source": [
    "## Quick Lab: Loops/Strings\n",
    "* have the user enter a string, then loop through the string to generate (or print) a new string in which every character is duplicated, e.g., \"Python\" => \"PPyytthhoonn\""
   ]
  },
  {
   "cell_type": "code",
   "execution_count": 128,
   "id": "010e58b3-2d4a-49c8-99e7-bb010c3eeb49",
   "metadata": {},
   "outputs": [
    {
     "name": "stdin",
     "output_type": "stream",
     "text": [
      "Enter a string:  Guido\n"
     ]
    },
    {
     "name": "stdout",
     "output_type": "stream",
     "text": [
      "GGuuiiddoo"
     ]
    }
   ],
   "source": [
    "string = input('Enter a string: ')\n",
    "for char in string:\n",
    "    print(char * 2, end='') # end='' so we don't go to next line"
   ]
  },
  {
   "cell_type": "code",
   "execution_count": 129,
   "id": "bfcd8ab2-74a1-45ca-aed4-82e41172d0ab",
   "metadata": {},
   "outputs": [
    {
     "name": "stdout",
     "output_type": "stream",
     "text": [
      "GGuuiiddoo"
     ]
    }
   ],
   "source": [
    "# another way\n",
    "for char in string:\n",
    "    print(char + char, end='')"
   ]
  },
  {
   "cell_type": "code",
   "execution_count": 130,
   "id": "38b745b3-7600-4dfb-b787-ee964918960c",
   "metadata": {},
   "outputs": [
    {
     "name": "stdout",
     "output_type": "stream",
     "text": [
      "GGuuiiddoo"
     ]
    }
   ],
   "source": [
    "# still another...\n",
    "for char in string:\n",
    "    print(char, char, sep='', end='') # sep='' so no space between each pair"
   ]
  },
  {
   "cell_type": "code",
   "execution_count": 131,
   "id": "d6b3e7ca-fab6-4287-b1b1-5a697de82b3b",
   "metadata": {},
   "outputs": [
    {
     "name": "stdout",
     "output_type": "stream",
     "text": [
      "GGuuiiddoo"
     ]
    }
   ],
   "source": [
    "# ...\n",
    "for char in string:\n",
    "    print(char, end=char) # tricky, but it works"
   ]
  },
  {
   "cell_type": "markdown",
   "id": "a1f49349-d361-49f7-ad85-0ec22a22837b",
   "metadata": {},
   "source": [
    "## (Group) Lab: Loops\n",
    "* Loop through the numbers from 2 to 25 and print out which numbers are prime, and for those numbers which are not prime numbers, you should print them as a product of two factors\n",
    "* prime = no divisors other than 1 and itself\n",
    "* example output:\n",
    "<pre>\n",
    "2 is PRIME\n",
    "3 is PRIME\n",
    "4 is divisible by 2\n",
    "5 is PRIME\n",
    "6 is divisible by 2\n",
    "7 is PRIME\n",
    "8 is divisible by 2\n",
    "9 is divisible by 3\n",
    "10 is divisible by 2\n",
    "11 is PRIME\n",
    "12 is divisible by 2\n",
    "13 is PRIME\n",
    "14 is divisible by 2\n",
    "15 is divisible by 3\n",
    "16 is divisible by 2\n",
    "17 is PRIME\n",
    "18 is divisible by 2\n",
    "19 is PRIME\n",
    "20 is divisible by 2\n",
    "21 is divisible by 3\n",
    "22 is divisible by 2\n",
    "23 is PRIME\n",
    "24 is divisible by 2\n",
    "25 is divisible by 5\n",
    "</pre>"
   ]
  },
  {
   "cell_type": "code",
   "execution_count": null,
   "id": "7d6cd7c3-2242-48a2-b718-74c9f38102ef",
   "metadata": {},
   "outputs": [],
   "source": [
    "# FIRST: write the steps for a HUMAN audience\n",
    "# 1. consider numbers from 2 .. 25 in order in sequence\n",
    "# 2. try to divide in all numbers between 2 and the number-1 divides evenly into the number and keep going until\n",
    "#     a) you find one that divides in evenly or\n",
    "#     b) you've tried all the numbers and NONE divide in evenly\n",
    "# 3. if a) happens above, write \"(number) is divisible by (other number) (whatever number you found at 'a')\n",
    "#    otherwise if b) write \"(number) is PRIME\""
   ]
  },
  {
   "cell_type": "code",
   "execution_count": null,
   "id": "fb059973-8645-4c45-82b6-55e34ae2bc64",
   "metadata": {},
   "outputs": [],
   "source": [
    "# SECOND: write the steps in PSEUDOCODE (a mix of English and programming constructs)\n",
    "# 1. for each number from 2 to 25:\n",
    "# 2.    for each possible factor from 2 to number - 1:\n",
    "# 3.        if possible factor divides in evenly:\n",
    "# 4.            \"number is divisible by possible factor\"\n",
    "# 5.            stop checking (break)\n",
    "# 6.    if none of the possible factors divided in evenly:\n",
    "# 7.        \"number is PRIME\""
   ]
  },
  {
   "cell_type": "code",
   "execution_count": 135,
   "id": "9f0a4e1c-aac3-4fcc-abc2-9626bf23b5d1",
   "metadata": {},
   "outputs": [
    {
     "name": "stdout",
     "output_type": "stream",
     "text": [
      "2: \n",
      "3: 2 \n",
      "4: 2 3 \n",
      "5: 2 3 4 \n",
      "6: 2 3 4 5 \n",
      "7: 2 3 4 5 6 \n",
      "8: 2 3 4 5 6 7 \n",
      "9: 2 3 4 5 6 7 8 \n",
      "10: 2 3 4 5 6 7 8 9 \n",
      "11: 2 3 4 5 6 7 8 9 10 \n",
      "12: 2 3 4 5 6 7 8 9 10 11 \n",
      "13: 2 3 4 5 6 7 8 9 10 11 12 \n",
      "14: 2 3 4 5 6 7 8 9 10 11 12 13 \n",
      "15: 2 3 4 5 6 7 8 9 10 11 12 13 14 \n",
      "16: 2 3 4 5 6 7 8 9 10 11 12 13 14 15 \n",
      "17: 2 3 4 5 6 7 8 9 10 11 12 13 14 15 16 \n",
      "18: 2 3 4 5 6 7 8 9 10 11 12 13 14 15 16 17 \n",
      "19: 2 3 4 5 6 7 8 9 10 11 12 13 14 15 16 17 18 \n",
      "20: 2 3 4 5 6 7 8 9 10 11 12 13 14 15 16 17 18 19 \n",
      "21: 2 3 4 5 6 7 8 9 10 11 12 13 14 15 16 17 18 19 20 \n",
      "22: 2 3 4 5 6 7 8 9 10 11 12 13 14 15 16 17 18 19 20 21 \n",
      "23: 2 3 4 5 6 7 8 9 10 11 12 13 14 15 16 17 18 19 20 21 22 \n",
      "24: 2 3 4 5 6 7 8 9 10 11 12 13 14 15 16 17 18 19 20 21 22 23 \n",
      "25: 2 3 4 5 6 7 8 9 10 11 12 13 14 15 16 17 18 19 20 21 22 23 24 \n"
     ]
    }
   ],
   "source": [
    "for number in range(2, 26): # thanks, Michael, 1\n",
    "    print(number, end=': ')\n",
    "    for possible_factor in range(2, number): # 2\n",
    "        print(possible_factor, end=' ')\n",
    "    print() # print nothing + the final \\n"
   ]
  },
  {
   "cell_type": "code",
   "execution_count": 146,
   "id": "3e6461fc-ae52-4762-a7e7-f9ebd5a92854",
   "metadata": {},
   "outputs": [
    {
     "name": "stdout",
     "output_type": "stream",
     "text": [
      "2 is PRIME\n",
      "3 is PRIME\n",
      "4 is divisible by 2\n",
      "5 is PRIME\n",
      "6 is divisible by 2\n",
      "7 is PRIME\n",
      "8 is divisible by 2\n",
      "9 is divisible by 3\n",
      "10 is divisible by 2\n",
      "11 is PRIME\n",
      "12 is divisible by 2\n",
      "13 is PRIME\n",
      "14 is divisible by 2\n",
      "15 is divisible by 3\n",
      "16 is divisible by 2\n",
      "17 is PRIME\n",
      "18 is divisible by 2\n",
      "19 is PRIME\n",
      "20 is divisible by 2\n",
      "21 is divisible by 3\n",
      "22 is divisible by 2\n",
      "23 is PRIME\n",
      "24 is divisible by 2\n",
      "25 is divisible by 5\n"
     ]
    }
   ],
   "source": [
    "for number in range(2, 26): # 1\n",
    "    is_prime = True # start by assuming it's prime\n",
    "    for possible_factor in range(2, number): # 2\n",
    "        if number % possible_factor == 0: # 3\n",
    "            print(number, 'is divisible by', possible_factor) # 4\n",
    "            is_prime = False # we found a divisor, so it's not prime\n",
    "            break # 5\n",
    "    # we are out of the inner loop\n",
    "    if is_prime: # == True:\n",
    "        print(number, 'is PRIME')"
   ]
  },
  {
   "cell_type": "code",
   "execution_count": 145,
   "id": "1f14dd4a-9a0e-45c2-83c0-92bd1c1c2013",
   "metadata": {},
   "outputs": [
    {
     "data": {
      "text/plain": [
       "113.0"
      ]
     },
     "execution_count": 145,
     "metadata": {},
     "output_type": "execute_result"
    }
   ],
   "source": [
    "2599 / 23"
   ]
  },
  {
   "cell_type": "code",
   "execution_count": 141,
   "id": "5a2568a5-f2fe-4528-a28b-b78152aa09c4",
   "metadata": {},
   "outputs": [
    {
     "name": "stdout",
     "output_type": "stream",
     "text": [
      "2 1\n",
      "3 2\n",
      "4 3\n",
      "5 1\n",
      "6 5\n",
      "7 4\n",
      "8 3\n",
      "9 2\n",
      "10 1\n"
     ]
    }
   ],
   "source": [
    "for num in range(2, 11):\n",
    "    print(num, 11 % num)"
   ]
  },
  {
   "cell_type": "code",
   "execution_count": 142,
   "id": "d0c04590-34b2-4cda-89f6-51833e926145",
   "metadata": {},
   "outputs": [
    {
     "name": "stdout",
     "output_type": "stream",
     "text": [
      "2\n",
      "3\n",
      "4\n",
      "5\n",
      "6\n",
      "7\n",
      "8\n",
      "9\n",
      "after the loop, num = 9\n"
     ]
    }
   ],
   "source": [
    "for num in range(2, 10):\n",
    "    print(num)\n",
    "print('after the loop, num =', num)"
   ]
  },
  {
   "cell_type": "code",
   "execution_count": 147,
   "id": "fb26b0cc-585e-4916-b7a6-eb681b3c0f8c",
   "metadata": {},
   "outputs": [
    {
     "name": "stdout",
     "output_type": "stream",
     "text": [
      "2 is PRIME\n",
      "3 is PRIME\n",
      "4 is divisible by 2\n",
      "5 is PRIME\n",
      "6 is divisible by 2\n",
      "7 is PRIME\n",
      "8 is divisible by 2\n",
      "9 is divisible by 3\n",
      "10 is divisible by 2\n",
      "11 is PRIME\n",
      "12 is divisible by 2\n",
      "13 is PRIME\n",
      "14 is divisible by 2\n",
      "15 is divisible by 3\n",
      "16 is divisible by 2\n",
      "17 is PRIME\n",
      "18 is divisible by 2\n",
      "19 is PRIME\n",
      "20 is divisible by 2\n",
      "21 is divisible by 3\n",
      "22 is divisible by 2\n",
      "23 is PRIME\n",
      "24 is divisible by 2\n",
      "25 is divisible by 5\n"
     ]
    }
   ],
   "source": [
    "# turns out Python has a way to let us know how we exited a loop\n",
    "# i.e., did we break, or did we just fall out normally\n",
    "for number in range(2, 26): # 1\n",
    "    for possible_factor in range(2, number): # 2\n",
    "        if number % possible_factor == 0: # 3\n",
    "            print(number, 'is divisible by', possible_factor) # 4\n",
    "            break # 5\n",
    "    else: # the else clause is only executed if we DID NOT BREAK\n",
    "        print(number, 'is PRIME')"
   ]
  },
  {
   "cell_type": "code",
   "execution_count": 148,
   "id": "2275adc3-b152-40e5-bd50-57cb2785e4e3",
   "metadata": {},
   "outputs": [
    {
     "name": "stdout",
     "output_type": "stream",
     "text": [
      "2 is PRIME\n",
      "3 is PRIME\n",
      "4 is divisible by 2\n",
      "5 is PRIME\n",
      "6 is divisible by 2\n",
      "7 is PRIME\n",
      "8 is divisible by 2\n",
      "9 is divisible by 3\n",
      "10 is divisible by 2\n",
      "11 is PRIME\n",
      "12 is divisible by 2\n",
      "13 is PRIME\n",
      "14 is divisible by 2\n",
      "15 is divisible by 3\n",
      "16 is divisible by 2\n",
      "17 is PRIME\n",
      "18 is divisible by 2\n",
      "19 is PRIME\n",
      "20 is divisible by 2\n",
      "21 is divisible by 3\n",
      "22 is divisible by 2\n",
      "23 is PRIME\n",
      "24 is divisible by 2\n",
      "25 is divisible by 5\n"
     ]
    }
   ],
   "source": [
    "# What is instead counted the divisors/factors?\n",
    "# This is not a complete solution because we still break after the first one...\n",
    "# ...but it changes the logic from a Boolean above to an int\n",
    "for number in range(2, 26): # 1\n",
    "    num_factors = 0\n",
    "    for possible_factor in range(2, number): # 2\n",
    "        if number % possible_factor == 0: # 3\n",
    "            print(number, 'is divisible by', possible_factor) # 4\n",
    "            num_factors += 1 # increment the number of divisors\n",
    "            break # 5\n",
    "    # we are out of the inner loop\n",
    "    if num_factors == 0:\n",
    "        print(number, 'is PRIME')"
   ]
  },
  {
   "cell_type": "code",
   "execution_count": 152,
   "id": "7367575e-b12a-43e0-b941-95d49b07ece0",
   "metadata": {},
   "outputs": [
    {
     "name": "stdout",
     "output_type": "stream",
     "text": [
      "0\n",
      "1\n",
      "2\n",
      "3\n",
      "4\n",
      "5\n",
      "6\n",
      "7\n",
      "8\n",
      "9\n"
     ]
    }
   ],
   "source": [
    "for times in range(10): # range with 1 parameter\n",
    "    print(times)"
   ]
  },
  {
   "cell_type": "code",
   "execution_count": 153,
   "id": "02cf00cc-f056-4212-89cb-21d83f48089f",
   "metadata": {},
   "outputs": [
    {
     "name": "stdout",
     "output_type": "stream",
     "text": [
      "1\n",
      "2\n",
      "3\n",
      "4\n",
      "5\n",
      "6\n",
      "7\n",
      "8\n",
      "9\n"
     ]
    }
   ],
   "source": [
    "for times in range(1, 10): # range with 2 parameters\n",
    "    print(times)"
   ]
  },
  {
   "cell_type": "code",
   "execution_count": 154,
   "id": "cb12a2ec-deda-4aa3-8d19-c329a3542cf3",
   "metadata": {},
   "outputs": [
    {
     "name": "stdout",
     "output_type": "stream",
     "text": [
      "1\n",
      "3\n",
      "5\n",
      "7\n",
      "9\n"
     ]
    }
   ],
   "source": [
    "for times in range(1, 10, 2): # range with 3 parameters\n",
    "    print(times)"
   ]
  },
  {
   "cell_type": "code",
   "execution_count": 155,
   "id": "a6b02cc2-478c-4193-93f9-5511f78228b9",
   "metadata": {},
   "outputs": [
    {
     "name": "stdout",
     "output_type": "stream",
     "text": [
      "10\n",
      "11\n",
      "12\n",
      "13\n",
      "14\n"
     ]
    }
   ],
   "source": [
    "for num in range(10, 15):\n",
    "    print(num)"
   ]
  },
  {
   "cell_type": "code",
   "execution_count": 156,
   "id": "cad8fe5f-3dfe-41a6-8459-a7ea1918c140",
   "metadata": {},
   "outputs": [
    {
     "data": {
      "text/plain": [
       "'x'"
      ]
     },
     "execution_count": 156,
     "metadata": {},
     "output_type": "execute_result"
    }
   ],
   "source": [
    "alphabet = 'abcdefghijklmnopqrstuvwxyz'\n",
    "alphabet[len(alphabet) - 3]"
   ]
  },
  {
   "cell_type": "code",
   "execution_count": 158,
   "id": "4c891809-e89f-44fb-a40d-8efd915de2bd",
   "metadata": {},
   "outputs": [
    {
     "data": {
      "text/plain": [
       "'x'"
      ]
     },
     "execution_count": 158,
     "metadata": {},
     "output_type": "execute_result"
    }
   ],
   "source": [
    "alphabet[-3]"
   ]
  },
  {
   "cell_type": "code",
   "execution_count": 160,
   "id": "8b292b2f-ca4a-43ba-a3ac-33c53e57b6bd",
   "metadata": {},
   "outputs": [
    {
     "data": {
      "text/plain": [
       "14"
      ]
     },
     "execution_count": 160,
     "metadata": {},
     "output_type": "execute_result"
    }
   ],
   "source": [
    "alphabet[3:17] # how many characters? 14"
   ]
  },
  {
   "cell_type": "code",
   "execution_count": 166,
   "id": "12154426-7ba2-4de1-b8c9-79d24d65884a",
   "metadata": {},
   "outputs": [
    {
     "data": {
      "text/plain": [
       "'uvwxyz'"
      ]
     },
     "execution_count": 166,
     "metadata": {},
     "output_type": "execute_result"
    }
   ],
   "source": [
    "alphabet[20:109] # how many characters? (exception to the rule)"
   ]
  },
  {
   "cell_type": "code",
   "execution_count": 163,
   "id": "0a05f73b-c54a-4668-984f-2dc386d3808f",
   "metadata": {},
   "outputs": [
    {
     "data": {
      "text/plain": [
       "26"
      ]
     },
     "execution_count": 163,
     "metadata": {},
     "output_type": "execute_result"
    }
   ],
   "source": [
    "len(alphabet)"
   ]
  },
  {
   "cell_type": "code",
   "execution_count": 167,
   "id": "113d9c35-282a-4e74-a576-abdd80542a67",
   "metadata": {},
   "outputs": [
    {
     "name": "stdout",
     "output_type": "stream",
     "text": [
      "2\n"
     ]
    }
   ],
   "source": [
    "print(2)"
   ]
  },
  {
   "cell_type": "code",
   "execution_count": 168,
   "id": "25f3f418-b6ef-485a-a829-e216c23bebc4",
   "metadata": {},
   "outputs": [
    {
     "name": "stdout",
     "output_type": "stream",
     "text": [
      "2.2\n"
     ]
    }
   ],
   "source": [
    "print(2.2)"
   ]
  },
  {
   "cell_type": "code",
   "execution_count": 169,
   "id": "53fcf256-bd65-4042-99e7-51021fa59577",
   "metadata": {},
   "outputs": [
    {
     "name": "stdout",
     "output_type": "stream",
     "text": [
      "2\n"
     ]
    }
   ],
   "source": [
    "print('2')"
   ]
  },
  {
   "cell_type": "code",
   "execution_count": 170,
   "id": "b563b44a-1360-45ce-9eb0-dee5663cbb5b",
   "metadata": {},
   "outputs": [
    {
     "name": "stdout",
     "output_type": "stream",
     "text": [
      "1 2 3.3 4.4\n"
     ]
    }
   ],
   "source": [
    "print(1, 2, 3.3, '4.4')"
   ]
  },
  {
   "cell_type": "code",
   "execution_count": 171,
   "id": "519815b9-9609-4933-8a3f-8b622ce14c90",
   "metadata": {},
   "outputs": [
    {
     "name": "stdout",
     "output_type": "stream",
     "text": [
      "\n"
     ]
    }
   ],
   "source": [
    "print()"
   ]
  },
  {
   "cell_type": "code",
   "execution_count": 173,
   "id": "5af716d9-833a-4b6f-aea4-f02f6cb084a5",
   "metadata": {},
   "outputs": [
    {
     "name": "stdout",
     "output_type": "stream",
     "text": [
      "1 2.12 3 4 5 6 7 8.1 yep True etc.\n"
     ]
    }
   ],
   "source": [
    "print(1, 2.12, 3, 4, 5, 6, 7, 8.1, 'yep', True, 'etc.')"
   ]
  },
  {
   "cell_type": "code",
   "execution_count": 174,
   "id": "6243068a-39f7-47c4-9abf-65150de90167",
   "metadata": {},
   "outputs": [],
   "source": [
    "import math"
   ]
  },
  {
   "cell_type": "code",
   "execution_count": 175,
   "id": "d82079c5-62e0-4a71-bb9e-9145e600fa23",
   "metadata": {},
   "outputs": [
    {
     "name": "stdout",
     "output_type": "stream",
     "text": [
      "<module 'math' from '/Library/Frameworks/Python.framework/Versions/3.12/lib/python3.12/lib-dynload/math.cpython-312-darwin.so'>\n"
     ]
    }
   ],
   "source": [
    "print(math)"
   ]
  },
  {
   "cell_type": "code",
   "execution_count": 176,
   "id": "05d9c35b-6045-47a9-9037-53a103a7f372",
   "metadata": {},
   "outputs": [
    {
     "name": "stdout",
     "output_type": "stream",
     "text": [
      "<built-in function print>\n"
     ]
    }
   ],
   "source": [
    "print(print)"
   ]
  },
  {
   "cell_type": "code",
   "execution_count": 179,
   "id": "223f3c53-e237-4276-a36d-027d8acc1c59",
   "metadata": {},
   "outputs": [
    {
     "ename": "TypeError",
     "evalue": "divmod expected 2 arguments, got 3",
     "output_type": "error",
     "traceback": [
      "\u001b[0;31m---------------------------------------------------------------------------\u001b[0m",
      "\u001b[0;31mTypeError\u001b[0m                                 Traceback (most recent call last)",
      "Cell \u001b[0;32mIn[179], line 1\u001b[0m\n\u001b[0;32m----> 1\u001b[0m \u001b[38;5;28;43mdivmod\u001b[39;49m\u001b[43m(\u001b[49m\u001b[38;5;241;43m5\u001b[39;49m\u001b[43m,\u001b[49m\u001b[43m \u001b[49m\u001b[38;5;241;43m2\u001b[39;49m\u001b[43m,\u001b[49m\u001b[43m \u001b[49m\u001b[38;5;241;43m1\u001b[39;49m\u001b[43m)\u001b[49m\n",
      "\u001b[0;31mTypeError\u001b[0m: divmod expected 2 arguments, got 3"
     ]
    }
   ],
   "source": [
    "divmod(5, 2, 1)"
   ]
  },
  {
   "cell_type": "code",
   "execution_count": 180,
   "id": "0ca4993e-662e-4795-b3b6-75d11d1ec767",
   "metadata": {},
   "outputs": [
    {
     "data": {
      "text/plain": [
       "11"
      ]
     },
     "execution_count": 180,
     "metadata": {},
     "output_type": "execute_result"
    }
   ],
   "source": [
    "len('of a string')"
   ]
  },
  {
   "cell_type": "code",
   "execution_count": 181,
   "id": "10314897-f4ea-42ba-96a6-d699441fbfeb",
   "metadata": {},
   "outputs": [
    {
     "ename": "TypeError",
     "evalue": "len() takes exactly one argument (2 given)",
     "output_type": "error",
     "traceback": [
      "\u001b[0;31m---------------------------------------------------------------------------\u001b[0m",
      "\u001b[0;31mTypeError\u001b[0m                                 Traceback (most recent call last)",
      "Cell \u001b[0;32mIn[181], line 1\u001b[0m\n\u001b[0;32m----> 1\u001b[0m \u001b[38;5;28;43mlen\u001b[39;49m\u001b[43m(\u001b[49m\u001b[38;5;124;43m'\u001b[39;49m\u001b[38;5;124;43mof a string\u001b[39;49m\u001b[38;5;124;43m'\u001b[39;49m\u001b[43m,\u001b[49m\u001b[43m \u001b[49m\u001b[38;5;124;43m'\u001b[39;49m\u001b[38;5;124;43mblah\u001b[39;49m\u001b[38;5;124;43m'\u001b[39;49m\u001b[43m)\u001b[49m\n",
      "\u001b[0;31mTypeError\u001b[0m: len() takes exactly one argument (2 given)"
     ]
    }
   ],
   "source": [
    "len('of a string', 'blah')"
   ]
  },
  {
   "cell_type": "code",
   "execution_count": 182,
   "id": "874870b6-7e25-4547-b01f-2ad57f0f21d5",
   "metadata": {},
   "outputs": [
    {
     "name": "stdout",
     "output_type": "stream",
     "text": [
      "Help on built-in function len in module builtins:\n",
      "\n",
      "len(obj, /)\n",
      "    Return the number of items in a container.\n",
      "\n"
     ]
    }
   ],
   "source": [
    "help(len)"
   ]
  },
  {
   "cell_type": "code",
   "execution_count": 183,
   "id": "3d4144cb-4756-4496-b6a0-5c6d1d0eaaea",
   "metadata": {},
   "outputs": [
    {
     "ename": "TypeError",
     "evalue": "object of type 'int' has no len()",
     "output_type": "error",
     "traceback": [
      "\u001b[0;31m---------------------------------------------------------------------------\u001b[0m",
      "\u001b[0;31mTypeError\u001b[0m                                 Traceback (most recent call last)",
      "Cell \u001b[0;32mIn[183], line 1\u001b[0m\n\u001b[0;32m----> 1\u001b[0m \u001b[38;5;28;43mlen\u001b[39;49m\u001b[43m(\u001b[49m\u001b[38;5;241;43m5\u001b[39;49m\u001b[43m)\u001b[49m\n",
      "\u001b[0;31mTypeError\u001b[0m: object of type 'int' has no len()"
     ]
    }
   ],
   "source": [
    "len(5)"
   ]
  },
  {
   "cell_type": "code",
   "execution_count": 1,
   "id": "e73b0a9d-93f7-4654-9fef-204b3aaa77c9",
   "metadata": {},
   "outputs": [],
   "source": [
    "something = 5"
   ]
  },
  {
   "cell_type": "code",
   "execution_count": 2,
   "id": "a08071c9-aaf4-45bf-9b6e-c023b8d1293c",
   "metadata": {},
   "outputs": [
    {
     "data": {
      "text/plain": [
       "4400404768"
      ]
     },
     "execution_count": 2,
     "metadata": {},
     "output_type": "execute_result"
    }
   ],
   "source": [
    "id(something)"
   ]
  },
  {
   "cell_type": "code",
   "execution_count": 3,
   "id": "d84ce91b-3fcc-4b76-9079-51d130b07c07",
   "metadata": {},
   "outputs": [],
   "source": [
    "nothing = 'nope'"
   ]
  },
  {
   "cell_type": "code",
   "execution_count": 4,
   "id": "ed1cd487-082a-40dd-b987-20ac12037aa7",
   "metadata": {},
   "outputs": [
    {
     "data": {
      "text/plain": [
       "4568859632"
      ]
     },
     "execution_count": 4,
     "metadata": {},
     "output_type": "execute_result"
    }
   ],
   "source": [
    "id(nothing)"
   ]
  },
  {
   "cell_type": "code",
   "execution_count": 5,
   "id": "eed69331-491c-4fa2-8ffe-49ba0e17f65d",
   "metadata": {},
   "outputs": [],
   "source": [
    "import random"
   ]
  },
  {
   "cell_type": "code",
   "execution_count": 6,
   "id": "858653de-a687-4c6c-aae6-ece5572ed2c6",
   "metadata": {},
   "outputs": [
    {
     "data": {
      "text/plain": [
       "4379697664"
      ]
     },
     "execution_count": 6,
     "metadata": {},
     "output_type": "execute_result"
    }
   ],
   "source": [
    "id(random)"
   ]
  },
  {
   "cell_type": "code",
   "execution_count": 7,
   "id": "158b5ced-5dc5-46a1-9b94-8ddc068a4d3c",
   "metadata": {},
   "outputs": [
    {
     "data": {
      "text/plain": [
       "['BPF',\n",
       " 'LOG4',\n",
       " 'NV_MAGICCONST',\n",
       " 'RECIP_BPF',\n",
       " 'Random',\n",
       " 'SG_MAGICCONST',\n",
       " 'SystemRandom',\n",
       " 'TWOPI',\n",
       " '_ONE',\n",
       " '_Sequence',\n",
       " '__all__',\n",
       " '__builtins__',\n",
       " '__cached__',\n",
       " '__doc__',\n",
       " '__file__',\n",
       " '__loader__',\n",
       " '__name__',\n",
       " '__package__',\n",
       " '__spec__',\n",
       " '_accumulate',\n",
       " '_acos',\n",
       " '_bisect',\n",
       " '_ceil',\n",
       " '_cos',\n",
       " '_e',\n",
       " '_exp',\n",
       " '_fabs',\n",
       " '_floor',\n",
       " '_index',\n",
       " '_inst',\n",
       " '_isfinite',\n",
       " '_lgamma',\n",
       " '_log',\n",
       " '_log2',\n",
       " '_os',\n",
       " '_pi',\n",
       " '_random',\n",
       " '_repeat',\n",
       " '_sha512',\n",
       " '_sin',\n",
       " '_sqrt',\n",
       " '_test',\n",
       " '_test_generator',\n",
       " '_urandom',\n",
       " '_warn',\n",
       " 'betavariate',\n",
       " 'binomialvariate',\n",
       " 'choice',\n",
       " 'choices',\n",
       " 'expovariate',\n",
       " 'gammavariate',\n",
       " 'gauss',\n",
       " 'getrandbits',\n",
       " 'getstate',\n",
       " 'lognormvariate',\n",
       " 'normalvariate',\n",
       " 'paretovariate',\n",
       " 'randbytes',\n",
       " 'randint',\n",
       " 'random',\n",
       " 'randrange',\n",
       " 'sample',\n",
       " 'seed',\n",
       " 'setstate',\n",
       " 'shuffle',\n",
       " 'triangular',\n",
       " 'uniform',\n",
       " 'vonmisesvariate',\n",
       " 'weibullvariate']"
      ]
     },
     "execution_count": 7,
     "metadata": {},
     "output_type": "execute_result"
    }
   ],
   "source": [
    "dir(random)"
   ]
  },
  {
   "cell_type": "code",
   "execution_count": 8,
   "id": "f717c92b-83aa-446d-aa9f-86856b6a1e63",
   "metadata": {},
   "outputs": [
    {
     "data": {
      "text/plain": [
       "int"
      ]
     },
     "execution_count": 8,
     "metadata": {},
     "output_type": "execute_result"
    }
   ],
   "source": [
    "type(1)"
   ]
  },
  {
   "cell_type": "code",
   "execution_count": 9,
   "id": "3ebc83ba-d2f6-41bc-95ce-718e03f61ed5",
   "metadata": {},
   "outputs": [
    {
     "data": {
      "text/plain": [
       "float"
      ]
     },
     "execution_count": 9,
     "metadata": {},
     "output_type": "execute_result"
    }
   ],
   "source": [
    "type(1.1)"
   ]
  },
  {
   "cell_type": "code",
   "execution_count": 11,
   "id": "dc36ac01-cd0f-4fc3-b936-93fe9a34a225",
   "metadata": {},
   "outputs": [
    {
     "data": {
      "text/plain": [
       "module"
      ]
     },
     "execution_count": 11,
     "metadata": {},
     "output_type": "execute_result"
    }
   ],
   "source": [
    "import math\n",
    "type(math)"
   ]
  },
  {
   "cell_type": "code",
   "execution_count": 12,
   "id": "83471dc4-7418-496c-91a5-4c8adaa62d8e",
   "metadata": {},
   "outputs": [
    {
     "data": {
      "text/plain": [
       "builtin_function_or_method"
      ]
     },
     "execution_count": 12,
     "metadata": {},
     "output_type": "execute_result"
    }
   ],
   "source": [
    "type(print)"
   ]
  },
  {
   "cell_type": "code",
   "execution_count": 13,
   "id": "2a933811-0afa-417d-a94b-ca63135d272e",
   "metadata": {},
   "outputs": [
    {
     "data": {
      "text/plain": [
       "-1"
      ]
     },
     "execution_count": 13,
     "metadata": {},
     "output_type": "execute_result"
    }
   ],
   "source": [
    "min(2, -1)"
   ]
  },
  {
   "cell_type": "code",
   "execution_count": 14,
   "id": "ca5441f2-eb80-4934-bab1-d091b5d2e16b",
   "metadata": {},
   "outputs": [
    {
     "data": {
      "text/plain": [
       "1.22"
      ]
     },
     "execution_count": 14,
     "metadata": {},
     "output_type": "execute_result"
    }
   ],
   "source": [
    "min(2.34, 1.22)"
   ]
  },
  {
   "cell_type": "code",
   "execution_count": 15,
   "id": "93dfb9af-d770-496f-8b73-b7d07a19ce1f",
   "metadata": {},
   "outputs": [
    {
     "data": {
      "text/plain": [
       "-12.31"
      ]
     },
     "execution_count": 15,
     "metadata": {},
     "output_type": "execute_result"
    }
   ],
   "source": [
    "min(2.34, 1.22, -12.31, -1)"
   ]
  },
  {
   "cell_type": "code",
   "execution_count": 16,
   "id": "5ca16a69-b543-4d5c-a40e-5fcb08fe9c8e",
   "metadata": {},
   "outputs": [
    {
     "data": {
      "text/plain": [
       "'apple'"
      ]
     },
     "execution_count": 16,
     "metadata": {},
     "output_type": "execute_result"
    }
   ],
   "source": [
    "min('fig', 'apple', 'pear')"
   ]
  },
  {
   "cell_type": "code",
   "execution_count": 17,
   "id": "379605e2-adf2-4630-a73d-c4cd5a452897",
   "metadata": {},
   "outputs": [
    {
     "data": {
      "text/plain": [
       "8"
      ]
     },
     "execution_count": 17,
     "metadata": {},
     "output_type": "execute_result"
    }
   ],
   "source": [
    "len('argument')"
   ]
  },
  {
   "cell_type": "code",
   "execution_count": 18,
   "id": "292e0925-adca-416d-a5e8-1ffa2338cf9a",
   "metadata": {},
   "outputs": [
    {
     "name": "stdout",
     "output_type": "stream",
     "text": [
      "1 2 5\n"
     ]
    }
   ],
   "source": [
    "print(1, 2, 5)"
   ]
  },
  {
   "cell_type": "code",
   "execution_count": 19,
   "id": "78746223-d577-4181-908b-356fa497657b",
   "metadata": {},
   "outputs": [],
   "source": [
    "string = 'test'"
   ]
  },
  {
   "cell_type": "code",
   "execution_count": 21,
   "id": "2dd5ec17-628b-48ca-a94a-de4dd447b4f5",
   "metadata": {},
   "outputs": [
    {
     "ename": "NameError",
     "evalue": "name 'startswith' is not defined",
     "output_type": "error",
     "traceback": [
      "\u001b[0;31m---------------------------------------------------------------------------\u001b[0m",
      "\u001b[0;31mNameError\u001b[0m                                 Traceback (most recent call last)",
      "Cell \u001b[0;32mIn[21], line 1\u001b[0m\n\u001b[0;32m----> 1\u001b[0m \u001b[43mstartswith\u001b[49m(string, \u001b[38;5;124m'\u001b[39m\u001b[38;5;124mTWO\u001b[39m\u001b[38;5;124m'\u001b[39m)\n",
      "\u001b[0;31mNameError\u001b[0m: name 'startswith' is not defined"
     ]
    }
   ],
   "source": [
    "startswith(string, 'TWO')"
   ]
  },
  {
   "cell_type": "code",
   "execution_count": 22,
   "id": "ad888f24-395b-4fd6-bebc-211f0c12dd48",
   "metadata": {},
   "outputs": [
    {
     "data": {
      "text/plain": [
       "True"
      ]
     },
     "execution_count": 22,
     "metadata": {},
     "output_type": "execute_result"
    }
   ],
   "source": [
    "string.startswith('te')"
   ]
  },
  {
   "cell_type": "code",
   "execution_count": 23,
   "id": "9bf2c393-5be8-43e7-aeaa-e6db050b20bf",
   "metadata": {},
   "outputs": [],
   "source": [
    "number = 12345"
   ]
  },
  {
   "cell_type": "code",
   "execution_count": 24,
   "id": "03d14a80-e3cc-4aea-88b9-ba60f6052686",
   "metadata": {},
   "outputs": [
    {
     "ename": "AttributeError",
     "evalue": "'int' object has no attribute 'startswith'",
     "output_type": "error",
     "traceback": [
      "\u001b[0;31m---------------------------------------------------------------------------\u001b[0m",
      "\u001b[0;31mAttributeError\u001b[0m                            Traceback (most recent call last)",
      "Cell \u001b[0;32mIn[24], line 1\u001b[0m\n\u001b[0;32m----> 1\u001b[0m \u001b[43mnumber\u001b[49m\u001b[38;5;241;43m.\u001b[39;49m\u001b[43mstartswith\u001b[49m(\u001b[38;5;241m123\u001b[39m)\n",
      "\u001b[0;31mAttributeError\u001b[0m: 'int' object has no attribute 'startswith'"
     ]
    }
   ],
   "source": [
    "number.startswith(123)"
   ]
  },
  {
   "cell_type": "code",
   "execution_count": 25,
   "id": "9cda5a5b-8c01-458a-9588-b6b2e2f7a82b",
   "metadata": {},
   "outputs": [],
   "source": [
    "import math"
   ]
  },
  {
   "cell_type": "code",
   "execution_count": 27,
   "id": "39a59fba-5a12-49d4-8daa-dcfe714bb45a",
   "metadata": {
    "scrolled": true
   },
   "outputs": [
    {
     "name": "stdout",
     "output_type": "stream",
     "text": [
      "Help on module math:\n",
      "\n",
      "NAME\n",
      "    math\n",
      "\n",
      "MODULE REFERENCE\n",
      "    https://docs.python.org/3.12/library/math.html\n",
      "\n",
      "    The following documentation is automatically generated from the Python\n",
      "    source files.  It may be incomplete, incorrect or include features that\n",
      "    are considered implementation detail and may vary between Python\n",
      "    implementations.  When in doubt, consult the module reference at the\n",
      "    location listed above.\n",
      "\n",
      "DESCRIPTION\n",
      "    This module provides access to the mathematical functions\n",
      "    defined by the C standard.\n",
      "\n",
      "FUNCTIONS\n",
      "    acos(x, /)\n",
      "        Return the arc cosine (measured in radians) of x.\n",
      "\n",
      "        The result is between 0 and pi.\n",
      "\n",
      "    acosh(x, /)\n",
      "        Return the inverse hyperbolic cosine of x.\n",
      "\n",
      "    asin(x, /)\n",
      "        Return the arc sine (measured in radians) of x.\n",
      "\n",
      "        The result is between -pi/2 and pi/2.\n",
      "\n",
      "    asinh(x, /)\n",
      "        Return the inverse hyperbolic sine of x.\n",
      "\n",
      "    atan(x, /)\n",
      "        Return the arc tangent (measured in radians) of x.\n",
      "\n",
      "        The result is between -pi/2 and pi/2.\n",
      "\n",
      "    atan2(y, x, /)\n",
      "        Return the arc tangent (measured in radians) of y/x.\n",
      "\n",
      "        Unlike atan(y/x), the signs of both x and y are considered.\n",
      "\n",
      "    atanh(x, /)\n",
      "        Return the inverse hyperbolic tangent of x.\n",
      "\n",
      "    cbrt(x, /)\n",
      "        Return the cube root of x.\n",
      "\n",
      "    ceil(x, /)\n",
      "        Return the ceiling of x as an Integral.\n",
      "\n",
      "        This is the smallest integer >= x.\n",
      "\n",
      "    comb(n, k, /)\n",
      "        Number of ways to choose k items from n items without repetition and without order.\n",
      "\n",
      "        Evaluates to n! / (k! * (n - k)!) when k <= n and evaluates\n",
      "        to zero when k > n.\n",
      "\n",
      "        Also called the binomial coefficient because it is equivalent\n",
      "        to the coefficient of k-th term in polynomial expansion of the\n",
      "        expression (1 + x)**n.\n",
      "\n",
      "        Raises TypeError if either of the arguments are not integers.\n",
      "        Raises ValueError if either of the arguments are negative.\n",
      "\n",
      "    copysign(x, y, /)\n",
      "        Return a float with the magnitude (absolute value) of x but the sign of y.\n",
      "\n",
      "        On platforms that support signed zeros, copysign(1.0, -0.0)\n",
      "        returns -1.0.\n",
      "\n",
      "    cos(x, /)\n",
      "        Return the cosine of x (measured in radians).\n",
      "\n",
      "    cosh(x, /)\n",
      "        Return the hyperbolic cosine of x.\n",
      "\n",
      "    degrees(x, /)\n",
      "        Convert angle x from radians to degrees.\n",
      "\n",
      "    dist(p, q, /)\n",
      "        Return the Euclidean distance between two points p and q.\n",
      "\n",
      "        The points should be specified as sequences (or iterables) of\n",
      "        coordinates.  Both inputs must have the same dimension.\n",
      "\n",
      "        Roughly equivalent to:\n",
      "            sqrt(sum((px - qx) ** 2.0 for px, qx in zip(p, q)))\n",
      "\n",
      "    erf(x, /)\n",
      "        Error function at x.\n",
      "\n",
      "    erfc(x, /)\n",
      "        Complementary error function at x.\n",
      "\n",
      "    exp(x, /)\n",
      "        Return e raised to the power of x.\n",
      "\n",
      "    exp2(x, /)\n",
      "        Return 2 raised to the power of x.\n",
      "\n",
      "    expm1(x, /)\n",
      "        Return exp(x)-1.\n",
      "\n",
      "        This function avoids the loss of precision involved in the direct evaluation of exp(x)-1 for small x.\n",
      "\n",
      "    fabs(x, /)\n",
      "        Return the absolute value of the float x.\n",
      "\n",
      "    factorial(n, /)\n",
      "        Find n!.\n",
      "\n",
      "        Raise a ValueError if x is negative or non-integral.\n",
      "\n",
      "    floor(x, /)\n",
      "        Return the floor of x as an Integral.\n",
      "\n",
      "        This is the largest integer <= x.\n",
      "\n",
      "    fmod(x, y, /)\n",
      "        Return fmod(x, y), according to platform C.\n",
      "\n",
      "        x % y may differ.\n",
      "\n",
      "    frexp(x, /)\n",
      "        Return the mantissa and exponent of x, as pair (m, e).\n",
      "\n",
      "        m is a float and e is an int, such that x = m * 2.**e.\n",
      "        If x is 0, m and e are both 0.  Else 0.5 <= abs(m) < 1.0.\n",
      "\n",
      "    fsum(seq, /)\n",
      "        Return an accurate floating point sum of values in the iterable seq.\n",
      "\n",
      "        Assumes IEEE-754 floating point arithmetic.\n",
      "\n",
      "    gamma(x, /)\n",
      "        Gamma function at x.\n",
      "\n",
      "    gcd(*integers)\n",
      "        Greatest Common Divisor.\n",
      "\n",
      "    hypot(...)\n",
      "        hypot(*coordinates) -> value\n",
      "\n",
      "        Multidimensional Euclidean distance from the origin to a point.\n",
      "\n",
      "        Roughly equivalent to:\n",
      "            sqrt(sum(x**2 for x in coordinates))\n",
      "\n",
      "        For a two dimensional point (x, y), gives the hypotenuse\n",
      "        using the Pythagorean theorem:  sqrt(x*x + y*y).\n",
      "\n",
      "        For example, the hypotenuse of a 3/4/5 right triangle is:\n",
      "\n",
      "            >>> hypot(3.0, 4.0)\n",
      "            5.0\n",
      "\n",
      "    isclose(a, b, *, rel_tol=1e-09, abs_tol=0.0)\n",
      "        Determine whether two floating point numbers are close in value.\n",
      "\n",
      "          rel_tol\n",
      "            maximum difference for being considered \"close\", relative to the\n",
      "            magnitude of the input values\n",
      "          abs_tol\n",
      "            maximum difference for being considered \"close\", regardless of the\n",
      "            magnitude of the input values\n",
      "\n",
      "        Return True if a is close in value to b, and False otherwise.\n",
      "\n",
      "        For the values to be considered close, the difference between them\n",
      "        must be smaller than at least one of the tolerances.\n",
      "\n",
      "        -inf, inf and NaN behave similarly to the IEEE 754 Standard.  That\n",
      "        is, NaN is not close to anything, even itself.  inf and -inf are\n",
      "        only close to themselves.\n",
      "\n",
      "    isfinite(x, /)\n",
      "        Return True if x is neither an infinity nor a NaN, and False otherwise.\n",
      "\n",
      "    isinf(x, /)\n",
      "        Return True if x is a positive or negative infinity, and False otherwise.\n",
      "\n",
      "    isnan(x, /)\n",
      "        Return True if x is a NaN (not a number), and False otherwise.\n",
      "\n",
      "    isqrt(n, /)\n",
      "        Return the integer part of the square root of the input.\n",
      "\n",
      "    lcm(*integers)\n",
      "        Least Common Multiple.\n",
      "\n",
      "    ldexp(x, i, /)\n",
      "        Return x * (2**i).\n",
      "\n",
      "        This is essentially the inverse of frexp().\n",
      "\n",
      "    lgamma(x, /)\n",
      "        Natural logarithm of absolute value of Gamma function at x.\n",
      "\n",
      "    log(...)\n",
      "        log(x, [base=math.e])\n",
      "        Return the logarithm of x to the given base.\n",
      "\n",
      "        If the base is not specified, returns the natural logarithm (base e) of x.\n",
      "\n",
      "    log10(x, /)\n",
      "        Return the base 10 logarithm of x.\n",
      "\n",
      "    log1p(x, /)\n",
      "        Return the natural logarithm of 1+x (base e).\n",
      "\n",
      "        The result is computed in a way which is accurate for x near zero.\n",
      "\n",
      "    log2(x, /)\n",
      "        Return the base 2 logarithm of x.\n",
      "\n",
      "    modf(x, /)\n",
      "        Return the fractional and integer parts of x.\n",
      "\n",
      "        Both results carry the sign of x and are floats.\n",
      "\n",
      "    nextafter(x, y, /, *, steps=None)\n",
      "        Return the floating-point value the given number of steps after x towards y.\n",
      "\n",
      "        If steps is not specified or is None, it defaults to 1.\n",
      "\n",
      "        Raises a TypeError, if x or y is not a double, or if steps is not an integer.\n",
      "        Raises ValueError if steps is negative.\n",
      "\n",
      "    perm(n, k=None, /)\n",
      "        Number of ways to choose k items from n items without repetition and with order.\n",
      "\n",
      "        Evaluates to n! / (n - k)! when k <= n and evaluates\n",
      "        to zero when k > n.\n",
      "\n",
      "        If k is not specified or is None, then k defaults to n\n",
      "        and the function returns n!.\n",
      "\n",
      "        Raises TypeError if either of the arguments are not integers.\n",
      "        Raises ValueError if either of the arguments are negative.\n",
      "\n",
      "    pow(x, y, /)\n",
      "        Return x**y (x to the power of y).\n",
      "\n",
      "    prod(iterable, /, *, start=1)\n",
      "        Calculate the product of all the elements in the input iterable.\n",
      "\n",
      "        The default start value for the product is 1.\n",
      "\n",
      "        When the iterable is empty, return the start value.  This function is\n",
      "        intended specifically for use with numeric values and may reject\n",
      "        non-numeric types.\n",
      "\n",
      "    radians(x, /)\n",
      "        Convert angle x from degrees to radians.\n",
      "\n",
      "    remainder(x, y, /)\n",
      "        Difference between x and the closest integer multiple of y.\n",
      "\n",
      "        Return x - n*y where n*y is the closest integer multiple of y.\n",
      "        In the case where x is exactly halfway between two multiples of\n",
      "        y, the nearest even value of n is used. The result is always exact.\n",
      "\n",
      "    sin(x, /)\n",
      "        Return the sine of x (measured in radians).\n",
      "\n",
      "    sinh(x, /)\n",
      "        Return the hyperbolic sine of x.\n",
      "\n",
      "    sqrt(x, /)\n",
      "        Return the square root of x.\n",
      "\n",
      "    sumprod(p, q, /)\n",
      "        Return the sum of products of values from two iterables p and q.\n",
      "\n",
      "        Roughly equivalent to:\n",
      "\n",
      "            sum(itertools.starmap(operator.mul, zip(p, q, strict=True)))\n",
      "\n",
      "        For float and mixed int/float inputs, the intermediate products\n",
      "        and sums are computed with extended precision.\n",
      "\n",
      "    tan(x, /)\n",
      "        Return the tangent of x (measured in radians).\n",
      "\n",
      "    tanh(x, /)\n",
      "        Return the hyperbolic tangent of x.\n",
      "\n",
      "    trunc(x, /)\n",
      "        Truncates the Real x to the nearest Integral toward 0.\n",
      "\n",
      "        Uses the __trunc__ magic method.\n",
      "\n",
      "    ulp(x, /)\n",
      "        Return the value of the least significant bit of the float x.\n",
      "\n",
      "DATA\n",
      "    e = 2.718281828459045\n",
      "    inf = inf\n",
      "    nan = nan\n",
      "    pi = 3.141592653589793\n",
      "    tau = 6.283185307179586\n",
      "\n",
      "FILE\n",
      "    /Library/Frameworks/Python.framework/Versions/3.12/lib/python3.12/lib-dynload/math.cpython-312-darwin.so\n",
      "\n",
      "\n"
     ]
    }
   ],
   "source": [
    "help(math)"
   ]
  },
  {
   "cell_type": "code",
   "execution_count": 28,
   "id": "f22a42bd-d715-4281-bf52-9db40ad677d7",
   "metadata": {},
   "outputs": [],
   "source": [
    "number = 12345"
   ]
  },
  {
   "cell_type": "code",
   "execution_count": 30,
   "id": "e7bc9231-eabe-4f92-b750-66c7b07e6cc1",
   "metadata": {},
   "outputs": [
    {
     "data": {
      "text/plain": [
       "True"
      ]
     },
     "execution_count": 30,
     "metadata": {},
     "output_type": "execute_result"
    }
   ],
   "source": [
    "str(number).startswith('123') # very Pythonic"
   ]
  },
  {
   "cell_type": "code",
   "execution_count": 31,
   "id": "91c25eca-4203-4841-bca2-4429f14ad2b5",
   "metadata": {},
   "outputs": [
    {
     "data": {
      "text/plain": [
       "123"
      ]
     },
     "execution_count": 31,
     "metadata": {},
     "output_type": "execute_result"
    }
   ],
   "source": [
    "number // 100"
   ]
  },
  {
   "cell_type": "code",
   "execution_count": 32,
   "id": "38572ab0-34d0-4db0-bdf6-f7e7a92c05be",
   "metadata": {},
   "outputs": [],
   "source": [
    "number = 1362332782891272"
   ]
  },
  {
   "cell_type": "code",
   "execution_count": 33,
   "id": "9cf7847f-b3dd-460c-8c82-48a095987ad6",
   "metadata": {},
   "outputs": [],
   "source": [
    "# what's the 10th digit of that number?"
   ]
  },
  {
   "cell_type": "code",
   "execution_count": 34,
   "id": "3aad80a1-86bf-44e4-84fc-916e95d512fa",
   "metadata": {},
   "outputs": [
    {
     "data": {
      "text/plain": [
       "'2'"
      ]
     },
     "execution_count": 34,
     "metadata": {},
     "output_type": "execute_result"
    }
   ],
   "source": [
    "str(number)[9]"
   ]
  },
  {
   "cell_type": "code",
   "execution_count": 40,
   "id": "7d510101-7590-4037-9b10-3219aacafdaa",
   "metadata": {},
   "outputs": [],
   "source": [
    "# what if I want to spit out the digits of a number\n",
    "number = 12345"
   ]
  },
  {
   "cell_type": "code",
   "execution_count": 41,
   "id": "5ac4b9db-2735-4fff-9545-2ba47b13f481",
   "metadata": {},
   "outputs": [
    {
     "name": "stdout",
     "output_type": "stream",
     "text": [
      "1\n",
      "2\n",
      "3\n",
      "4\n",
      "5\n"
     ]
    }
   ],
   "source": [
    "for digit in str(number):\n",
    "    print(digit)"
   ]
  },
  {
   "cell_type": "code",
   "execution_count": 42,
   "id": "6ec99323-0a54-4a03-b901-66d59fd526d2",
   "metadata": {},
   "outputs": [
    {
     "data": {
      "text/plain": [
       "5"
      ]
     },
     "execution_count": 42,
     "metadata": {},
     "output_type": "execute_result"
    }
   ],
   "source": [
    "number % 10"
   ]
  },
  {
   "cell_type": "code",
   "execution_count": 43,
   "id": "d7ce1e9c-bef5-4a8d-a4ce-4deb3af4aeeb",
   "metadata": {},
   "outputs": [],
   "source": [
    "number //= 10 # number = number // 10"
   ]
  },
  {
   "cell_type": "code",
   "execution_count": 44,
   "id": "e115e07b-2912-4861-8201-5ac70649b73a",
   "metadata": {},
   "outputs": [
    {
     "data": {
      "text/plain": [
       "1234"
      ]
     },
     "execution_count": 44,
     "metadata": {},
     "output_type": "execute_result"
    }
   ],
   "source": [
    "number"
   ]
  },
  {
   "cell_type": "code",
   "execution_count": 45,
   "id": "87043bdf-ccde-4358-93f2-d29410441616",
   "metadata": {},
   "outputs": [
    {
     "data": {
      "text/plain": [
       "4"
      ]
     },
     "execution_count": 45,
     "metadata": {},
     "output_type": "execute_result"
    }
   ],
   "source": [
    "number % 10"
   ]
  },
  {
   "cell_type": "code",
   "execution_count": 46,
   "id": "e2f2ab74-ff85-4b6b-bc3c-40160c9126be",
   "metadata": {},
   "outputs": [],
   "source": [
    "number //= 10 # number = number // 10"
   ]
  },
  {
   "cell_type": "code",
   "execution_count": 47,
   "id": "80c8e37d-7c24-4ed3-a432-56c0c187dba5",
   "metadata": {},
   "outputs": [
    {
     "data": {
      "text/plain": [
       "123"
      ]
     },
     "execution_count": 47,
     "metadata": {},
     "output_type": "execute_result"
    }
   ],
   "source": [
    "number"
   ]
  },
  {
   "cell_type": "code",
   "execution_count": 48,
   "id": "39dc4c84-d5e5-471a-992f-0d8065f4b418",
   "metadata": {},
   "outputs": [
    {
     "name": "stdout",
     "output_type": "stream",
     "text": [
      "Help on built-in function count:\n",
      "\n",
      "count(...) method of builtins.str instance\n",
      "    S.count(sub[, start[, end]]) -> int\n",
      "\n",
      "    Return the number of non-overlapping occurrences of substring sub in\n",
      "    string S[start:end].  Optional arguments start and end are\n",
      "    interpreted as in slice notation.\n",
      "\n"
     ]
    }
   ],
   "source": [
    "help(string.count)"
   ]
  },
  {
   "cell_type": "code",
   "execution_count": 51,
   "id": "6361d13d-5b1f-466d-9711-74e33e490028",
   "metadata": {},
   "outputs": [],
   "source": [
    "blah = 'djskds' # is this a constant? I can't change it?"
   ]
  },
  {
   "cell_type": "code",
   "execution_count": 52,
   "id": "838fb103-cb14-4dd8-9780-b1ae576e2045",
   "metadata": {},
   "outputs": [
    {
     "ename": "TypeError",
     "evalue": "'str' object does not support item assignment",
     "output_type": "error",
     "traceback": [
      "\u001b[0;31m---------------------------------------------------------------------------\u001b[0m",
      "\u001b[0;31mTypeError\u001b[0m                                 Traceback (most recent call last)",
      "Cell \u001b[0;32mIn[52], line 1\u001b[0m\n\u001b[0;32m----> 1\u001b[0m \u001b[43mblah\u001b[49m\u001b[43m[\u001b[49m\u001b[38;5;241;43m-\u001b[39;49m\u001b[38;5;241;43m1\u001b[39;49m\u001b[43m]\u001b[49m \u001b[38;5;241m=\u001b[39m \u001b[38;5;124m'\u001b[39m\u001b[38;5;124mt\u001b[39m\u001b[38;5;124m'\u001b[39m\n",
      "\u001b[0;31mTypeError\u001b[0m: 'str' object does not support item assignment"
     ]
    }
   ],
   "source": [
    "blah[-1] = 't'"
   ]
  },
  {
   "cell_type": "code",
   "execution_count": 53,
   "id": "4f23baf9-2ab9-4c10-aeb8-acffc7481af3",
   "metadata": {},
   "outputs": [],
   "source": [
    "blah = 'djskdt'"
   ]
  },
  {
   "cell_type": "code",
   "execution_count": 54,
   "id": "4927c27f-9218-4236-846d-230c45bdb4bb",
   "metadata": {},
   "outputs": [],
   "source": [
    "blah = 'something else'"
   ]
  },
  {
   "cell_type": "code",
   "execution_count": 55,
   "id": "80f2234d-e000-40e4-ad1e-4fc86cb3bab7",
   "metadata": {},
   "outputs": [],
   "source": [
    "number = 5 # put 5 into the variable number"
   ]
  },
  {
   "cell_type": "code",
   "execution_count": 56,
   "id": "452ee9ef-2424-409f-981d-1bf0b7bbb281",
   "metadata": {},
   "outputs": [
    {
     "data": {
      "text/plain": [
       "'5'"
      ]
     },
     "execution_count": 56,
     "metadata": {},
     "output_type": "execute_result"
    }
   ],
   "source": [
    "str(number) # generate a string version of the variable number"
   ]
  },
  {
   "cell_type": "code",
   "execution_count": 57,
   "id": "07478b9a-4b83-4457-8d18-e912bf935a69",
   "metadata": {},
   "outputs": [
    {
     "data": {
      "text/plain": [
       "5"
      ]
     },
     "execution_count": 57,
     "metadata": {},
     "output_type": "execute_result"
    }
   ],
   "source": [
    "number"
   ]
  },
  {
   "cell_type": "code",
   "execution_count": 58,
   "id": "58705439-384e-47f8-9abc-dbcf28961277",
   "metadata": {},
   "outputs": [],
   "source": [
    "number = str(number)"
   ]
  },
  {
   "cell_type": "code",
   "execution_count": 59,
   "id": "24d29272-c3be-43a0-8262-0f51c0dbb9bc",
   "metadata": {},
   "outputs": [
    {
     "name": "stdout",
     "output_type": "stream",
     "text": [
      "5\n"
     ]
    }
   ],
   "source": [
    "print(number)"
   ]
  },
  {
   "cell_type": "code",
   "execution_count": 60,
   "id": "04cec38d-dd6b-472c-8a50-a78a6f8750f4",
   "metadata": {},
   "outputs": [],
   "source": [
    "name = 'Dave' # make name equal to 'Dave'"
   ]
  },
  {
   "cell_type": "code",
   "execution_count": 61,
   "id": "4fc26d0d-9361-4cc3-a87e-ab5496bc8c2d",
   "metadata": {},
   "outputs": [
    {
     "data": {
      "text/plain": [
       "'DAVE'"
      ]
     },
     "execution_count": 61,
     "metadata": {},
     "output_type": "execute_result"
    }
   ],
   "source": [
    "name.upper() # generate an upper case version of name"
   ]
  },
  {
   "cell_type": "code",
   "execution_count": 63,
   "id": "b89d0cbc-2db6-481a-bf79-8e12a67b23a2",
   "metadata": {},
   "outputs": [
    {
     "data": {
      "text/plain": [
       "'Dave'"
      ]
     },
     "execution_count": 63,
     "metadata": {},
     "output_type": "execute_result"
    }
   ],
   "source": [
    "name"
   ]
  },
  {
   "cell_type": "code",
   "execution_count": 64,
   "id": "ed8f74fa-6bcf-46ba-9a0c-b827423b70b6",
   "metadata": {},
   "outputs": [],
   "source": [
    "name = name.upper()"
   ]
  },
  {
   "cell_type": "code",
   "execution_count": 65,
   "id": "8e4d4a6c-fab0-4fc0-8f8c-adb65f5535e4",
   "metadata": {},
   "outputs": [
    {
     "data": {
      "text/plain": [
       "'DAVE'"
      ]
     },
     "execution_count": 65,
     "metadata": {},
     "output_type": "execute_result"
    }
   ],
   "source": [
    "name"
   ]
  },
  {
   "cell_type": "code",
   "execution_count": 66,
   "id": "568122cf-95da-47a5-ac0a-8adfe042270a",
   "metadata": {},
   "outputs": [
    {
     "name": "stdout",
     "output_type": "stream",
     "text": [
      "Help on method_descriptor:\n",
      "\n",
      "strip(self, chars=None, /)\n",
      "    Return a copy of the string with leading and trailing whitespace removed.\n",
      "\n",
      "    If chars is given and not None, remove characters in chars instead.\n",
      "\n"
     ]
    }
   ],
   "source": [
    "help(str.strip)"
   ]
  },
  {
   "cell_type": "code",
   "execution_count": 69,
   "id": "260182a5-1bae-40c5-b6d1-bff877ab3c99",
   "metadata": {},
   "outputs": [
    {
     "data": {
      "text/plain": [
       "'Here is the good stuff we need'"
      ]
     },
     "execution_count": 69,
     "metadata": {},
     "output_type": "execute_result"
    }
   ],
   "source": [
    "s = '.5.5.5tttHere is the good stuff we need...555t'\n",
    "s.strip('.5t')"
   ]
  },
  {
   "cell_type": "code",
   "execution_count": 70,
   "id": "845502d6-89d7-4e93-b4e5-79a51ac75aad",
   "metadata": {},
   "outputs": [
    {
     "name": "stdout",
     "output_type": "stream",
     "text": [
      "Help on method_descriptor:\n",
      "\n",
      "capitalize(self, /)\n",
      "    Return a capitalized version of the string.\n",
      "\n",
      "    More specifically, make the first character have upper case and the rest lower\n",
      "    case.\n",
      "\n"
     ]
    }
   ],
   "source": [
    "help(str.capitalize)"
   ]
  },
  {
   "cell_type": "code",
   "execution_count": 71,
   "id": "b684cb6e-11ff-4c6f-8585-3f71390c3fdb",
   "metadata": {},
   "outputs": [],
   "source": [
    "s = '.5..5.5tttHere is the .. good stuff we need..555t'"
   ]
  },
  {
   "cell_type": "code",
   "execution_count": 72,
   "id": "2af86585-dfc1-4357-8c6a-bf88032b0404",
   "metadata": {},
   "outputs": [
    {
     "data": {
      "text/plain": [
       "'.55.5tttHere is the good stuff we need555t'"
      ]
     },
     "execution_count": 72,
     "metadata": {},
     "output_type": "execute_result"
    }
   ],
   "source": [
    "s.replace('..', '')"
   ]
  },
  {
   "cell_type": "code",
   "execution_count": 73,
   "id": "b52c5778-67fd-4324-93d7-722aac838346",
   "metadata": {},
   "outputs": [
    {
     "data": {
      "text/plain": [
       "'.5.5.5tttHere is the good stuff we need.555t'"
      ]
     },
     "execution_count": 73,
     "metadata": {},
     "output_type": "execute_result"
    }
   ],
   "source": [
    "s.replace('..', '.')"
   ]
  },
  {
   "cell_type": "code",
   "execution_count": 74,
   "id": "2f443d40-b507-4309-9efd-f6ec0288ab85",
   "metadata": {},
   "outputs": [],
   "source": [
    "s = '1...2'"
   ]
  },
  {
   "cell_type": "code",
   "execution_count": 75,
   "id": "8adcf753-7ded-4fe4-abad-b93c70f5cefb",
   "metadata": {},
   "outputs": [
    {
     "data": {
      "text/plain": [
       "'1..2'"
      ]
     },
     "execution_count": 75,
     "metadata": {},
     "output_type": "execute_result"
    }
   ],
   "source": [
    "s.replace('..', '.')"
   ]
  },
  {
   "cell_type": "markdown",
   "id": "41779bfa-3658-4bbd-a5a2-04a099199e97",
   "metadata": {},
   "source": [
    "## Quick Lab: String Functions\n",
    "* write a Python program to read in a string and then print it out as\n",
    "  * a title\n",
    "  * all upper case\n",
    "  * all lower case\n",
    "* also, replace all vowels in the string with the letter 'x'\n",
    "   * you can use the __`.replace()`__ method to replace each vowel, one at a time"
   ]
  },
  {
   "cell_type": "code",
   "execution_count": 93,
   "id": "b86acf89-468e-401f-8001-c416d3b7adab",
   "metadata": {},
   "outputs": [
    {
     "name": "stdin",
     "output_type": "stream",
     "text": [
      "Enter a string:  Pack My bOx\n"
     ]
    },
    {
     "name": "stdout",
     "output_type": "stream",
     "text": [
      "Pack My Box\n",
      "PACK MY BOX\n",
      "pack my box\n"
     ]
    }
   ],
   "source": [
    "string = input('Enter a string: ').lower()\n",
    "print(string.title(), string.upper(), string.lower(), sep='\\n')"
   ]
  },
  {
   "cell_type": "code",
   "execution_count": 94,
   "id": "1316736f-5142-4153-8f43-4507723884ee",
   "metadata": {},
   "outputs": [
    {
     "name": "stdout",
     "output_type": "stream",
     "text": [
      "After replacing all a's... pxck my box\n",
      "After replacing all e's... pxck my box\n",
      "After replacing all i's... pxck my box\n",
      "After replacing all o's... pxck my bxx\n",
      "After replacing all u's... pxck my bxx\n"
     ]
    }
   ],
   "source": [
    "for vowel in 'aeiou':\n",
    "    string = string.replace(vowel, 'x')\n",
    "    print(\"After replacing all \", vowel, \"'s... \", string, sep='')"
   ]
  },
  {
   "cell_type": "code",
   "execution_count": 92,
   "id": "42805609-395b-4305-a539-7464e0314a17",
   "metadata": {},
   "outputs": [
    {
     "name": "stdout",
     "output_type": "stream",
     "text": [
      "After replacing all a's... Pxck my box with five dozen liquor jugs\n",
      "After replacing all e's... Pxck my box with fivx dozxn liquor jugs\n",
      "After replacing all i's... Pxck my box wxth fxvx dozxn lxquor jugs\n",
      "After replacing all o's... Pxck my bxx wxth fxvx dxzxn lxquxr jugs\n",
      "After replacing all u's... Pxck my bxx wxth fxvx dxzxn lxqxxr jxgs\n"
     ]
    }
   ],
   "source": [
    "# Leverage f-strings to make printing easier...\n",
    "for vowel in 'aeiou':\n",
    "    string = string.lower().replace(vowel, 'x')\n",
    "    print(f\"After replacing all {vowel}'s... {string}\")"
   ]
  },
  {
   "cell_type": "code",
   "execution_count": 89,
   "id": "af994799-8ceb-42a4-8a3a-5eb757c016ed",
   "metadata": {},
   "outputs": [
    {
     "name": "stdout",
     "output_type": "stream",
     "text": [
      "x is {x}, y is {y}, their sum is {x + y}\n"
     ]
    }
   ],
   "source": [
    "x = 1\n",
    "y = 2\n",
    "print(f'x is {x}, y is {y}, their sum is {x + y}')"
   ]
  },
  {
   "cell_type": "code",
   "execution_count": 91,
   "id": "28918637-81f9-4d48-aa78-bfc1c5d29f77",
   "metadata": {},
   "outputs": [
    {
     "name": "stdout",
     "output_type": "stream",
     "text": [
      "2! = 2\n",
      "3! = 6\n",
      "4! = 24\n",
      "5! = 120\n",
      "6! = 720\n",
      "7! = 5040\n",
      "8! = 40320\n",
      "9! = 362880\n",
      "10! = 3628800\n"
     ]
    }
   ],
   "source": [
    "import math\n",
    "\n",
    "for num in range(2, 11):\n",
    "    print(f'{num}! = {math.factorial(num)}')"
   ]
  },
  {
   "cell_type": "markdown",
   "id": "4097da12-9f6d-486a-b51e-742bfc7cb0ca",
   "metadata": {},
   "source": [
    "## Lab: String Functions\n",
    "* write a Python program to read in a string and print it out such that\n",
    "  * the first, third, fifth, etc. letters are **lower** case\n",
    "  * the second, fourth, sixth, etc. letters are **UPPER** case\n",
    "  * e.g., if the input is __Guido van Rossum__, the output would be:\n",
    "    * __gUiDo vAn rOsSuM__"
   ]
  },
  {
   "cell_type": "code",
   "execution_count": null,
   "id": "8397e0c0-b380-4bc3-a1a5-92db58336cd4",
   "metadata": {},
   "outputs": [],
   "source": [
    "# 1. get text from the user\n",
    "# 2. write the text one letter a time, alternating lower and upper case"
   ]
  },
  {
   "cell_type": "code",
   "execution_count": null,
   "id": "76645f78-d7b9-4180-81bb-3218c8c38c45",
   "metadata": {},
   "outputs": [],
   "source": [
    "# 1. get string (input)\n",
    "# 2. for each index of the string from 0 to len-1\n",
    "# 3. if index is even:\n",
    "# 4.    print the index-th character as lower case\n",
    "# 5. else\n",
    "# 6.    print the index-th character as upper case"
   ]
  },
  {
   "cell_type": "code",
   "execution_count": 95,
   "id": "4f6875ac-8313-419e-9f55-960ff3166f67",
   "metadata": {},
   "outputs": [
    {
     "name": "stdin",
     "output_type": "stream",
     "text": [
      "Enter a string:  Guido van Rossum\n"
     ]
    },
    {
     "name": "stdout",
     "output_type": "stream",
     "text": [
      "gUiDo vAn rOsSuM"
     ]
    }
   ],
   "source": [
    "string = input('Enter a string: ') # 1\n",
    "\n",
    "for index in range(len(string)): # 2 ... go from 0 to len-1\n",
    "    if index % 2 == 0: # 3\n",
    "        print(string[index].lower(), end='')\n",
    "    else:\n",
    "        print(string[index].upper(), end='')"
   ]
  },
  {
   "cell_type": "code",
   "execution_count": 100,
   "id": "a779ffa7-2d0f-4dfb-9309-17cf7f795099",
   "metadata": {},
   "outputs": [
    {
     "data": {
      "text/plain": [
       "'.'"
      ]
     },
     "execution_count": 100,
     "metadata": {},
     "output_type": "execute_result"
    }
   ],
   "source": [
    "'.'.upper()"
   ]
  },
  {
   "cell_type": "code",
   "execution_count": 98,
   "id": "1b22d5c4-a3f8-4ae0-9f89-4289d4d102eb",
   "metadata": {},
   "outputs": [
    {
     "name": "stdin",
     "output_type": "stream",
     "text": [
      "Enter a string:  What about now?\n"
     ]
    },
    {
     "name": "stdout",
     "output_type": "stream",
     "text": [
      "wHaT AbOuT NoW?\n"
     ]
    }
   ],
   "source": [
    "# Tom's solution\n",
    "input_string = input('Enter a string: ')\n",
    "result = ''\n",
    "\n",
    "for char in range(len(input_string)):\n",
    "    if char % 2 == 0:\n",
    "        result = result + input_string[char].lower()\n",
    "    else:\n",
    "        result = result + input_string[char].upper()\n",
    "\n",
    "print(result)"
   ]
  },
  {
   "cell_type": "code",
   "execution_count": null,
   "id": "314d8884-967e-4a96-80cf-5aceac58f2c7",
   "metadata": {},
   "outputs": [],
   "source": [
    "# Kevin's solution\n",
    "\n",
    "input_string = input(\"Enter a string: \")"
   ]
  },
  {
   "cell_type": "code",
   "execution_count": null,
   "id": "21b7c4ed-85ab-40ef-8a39-1e66478647e1",
   "metadata": {},
   "outputs": [],
   "source": [
    "charcount = 0"
   ]
  },
  {
   "cell_type": "code",
   "execution_count": null,
   "id": "512d621b-0ddd-4007-98c2-e814b880aff2",
   "metadata": {},
   "outputs": [
    {
     "name": "stdin",
     "output_type": "stream",
     "text": [
      "Enter a string:  What? about now\n"
     ]
    },
    {
     "name": "stdout",
     "output_type": "stream",
     "text": [
      "wHaT? aBoUt nOw"
     ]
    }
   ],
   "source": [
    "for char in input_string: # DWS: iterate thru string, without worrying about index\n",
    "    if charcount % 2 == 0:\n",
    "        print(char.lower(), end='')\n",
    "    else:\n",
    "        print(char.upper(), end='')\n",
    "    charcount += 1"
   ]
  },
  {
   "cell_type": "code",
   "execution_count": 104,
   "id": "b6eb557a-08ef-4632-a403-af2f86c97cd4",
   "metadata": {},
   "outputs": [
    {
     "name": "stdin",
     "output_type": "stream",
     "text": [
      "input a string What do we think of this\n"
     ]
    },
    {
     "name": "stdout",
     "output_type": "stream",
     "text": [
      "WhAt dO We tHiNk oF ThIs\n"
     ]
    }
   ],
   "source": [
    "# Matthew's solution modified to remove list and replace with concatenation\n",
    "string = input(\"input a string\")\n",
    "new_string = ''\n",
    "\n",
    "for index, character in enumerate(string):\n",
    "    if index % 2 == 0:\n",
    "       new_string += character.upper()\n",
    "    else:\n",
    "       new_string += character.lower()\n",
    "\n",
    "print(new_string)"
   ]
  },
  {
   "cell_type": "code",
   "execution_count": 102,
   "id": "e47b7eab-f19a-4632-8de7-6af075b5befa",
   "metadata": {},
   "outputs": [
    {
     "name": "stdout",
     "output_type": "stream",
     "text": [
      "0 G\n",
      "1 u\n",
      "2 i\n",
      "3 d\n",
      "4 o\n",
      "5  \n",
      "6 v\n",
      "7 a\n",
      "8 n\n",
      "9  \n",
      "10 R\n",
      "11 o\n",
      "12 s\n",
      "13 s\n",
      "14 u\n",
      "15 m\n"
     ]
    }
   ],
   "source": [
    "for index, character in enumerate(string):\n",
    "    print(index, character)"
   ]
  },
  {
   "cell_type": "code",
   "execution_count": 105,
   "id": "1e6a4d8e-4f6c-4b26-a8d0-fbcc1b4cd1a3",
   "metadata": {},
   "outputs": [
    {
     "name": "stdin",
     "output_type": "stream",
     "text": [
      "Enter some fruits:  APPLE fig PEar BAnana cherry LEMon guava\n"
     ]
    }
   ],
   "source": [
    "fruits = input('Enter some fruits: ').lower().split()"
   ]
  },
  {
   "cell_type": "code",
   "execution_count": 106,
   "id": "2f1356cd-be7b-452a-b62c-cecbb4fce650",
   "metadata": {},
   "outputs": [
    {
     "data": {
      "text/plain": [
       "['apple', 'fig', 'pear', 'banana', 'cherry', 'lemon', 'guava']"
      ]
     },
     "execution_count": 106,
     "metadata": {},
     "output_type": "execute_result"
    }
   ],
   "source": [
    "fruits"
   ]
  },
  {
   "cell_type": "code",
   "execution_count": 107,
   "id": "d11cbed6-918e-4619-a2e9-effe6205eef2",
   "metadata": {},
   "outputs": [],
   "source": [
    "fruits = 'apple fig pear'.split()"
   ]
  },
  {
   "cell_type": "code",
   "execution_count": 108,
   "id": "12877624-7906-49b0-b2bb-2b2ed56e1ad6",
   "metadata": {},
   "outputs": [
    {
     "data": {
      "text/plain": [
       "['apple', 'fig', 'pear']"
      ]
     },
     "execution_count": 108,
     "metadata": {},
     "output_type": "execute_result"
    }
   ],
   "source": [
    "fruits"
   ]
  },
  {
   "cell_type": "code",
   "execution_count": 109,
   "id": "7c561bd7-65a4-4bf7-a6f8-69ea102be80c",
   "metadata": {},
   "outputs": [
    {
     "ename": "AttributeError",
     "evalue": "'list' object has no attribute 'join'",
     "output_type": "error",
     "traceback": [
      "\u001b[0;31m---------------------------------------------------------------------------\u001b[0m",
      "\u001b[0;31mAttributeError\u001b[0m                            Traceback (most recent call last)",
      "Cell \u001b[0;32mIn[109], line 1\u001b[0m\n\u001b[0;32m----> 1\u001b[0m \u001b[43mfruits\u001b[49m\u001b[38;5;241;43m.\u001b[39;49m\u001b[43mjoin\u001b[49m(\u001b[38;5;124m'\u001b[39m\u001b[38;5;124m \u001b[39m\u001b[38;5;124m'\u001b[39m)\n",
      "\u001b[0;31mAttributeError\u001b[0m: 'list' object has no attribute 'join'"
     ]
    }
   ],
   "source": [
    "fruits.join(' ')"
   ]
  },
  {
   "cell_type": "code",
   "execution_count": 111,
   "id": "1519f6ae-cdd3-48a9-99c0-4cb3fcf77f8d",
   "metadata": {},
   "outputs": [
    {
     "ename": "AttributeError",
     "evalue": "'int' object has no attribute 'startswith'",
     "output_type": "error",
     "traceback": [
      "\u001b[0;31m---------------------------------------------------------------------------\u001b[0m",
      "\u001b[0;31mAttributeError\u001b[0m                            Traceback (most recent call last)",
      "Cell \u001b[0;32mIn[111], line 2\u001b[0m\n\u001b[1;32m      1\u001b[0m number \u001b[38;5;241m=\u001b[39m \u001b[38;5;241m4123\u001b[39m\n\u001b[0;32m----> 2\u001b[0m \u001b[43mnumber\u001b[49m\u001b[38;5;241;43m.\u001b[39;49m\u001b[43mstartswith\u001b[49m(\u001b[38;5;241m41\u001b[39m)\n",
      "\u001b[0;31mAttributeError\u001b[0m: 'int' object has no attribute 'startswith'"
     ]
    }
   ],
   "source": [
    "number = 4123\n",
    "number.startswith(41)"
   ]
  },
  {
   "cell_type": "code",
   "execution_count": 112,
   "id": "fef7c2e6-911c-484c-9b87-2df850f18080",
   "metadata": {},
   "outputs": [
    {
     "data": {
      "text/plain": [
       "4374725552"
      ]
     },
     "execution_count": 112,
     "metadata": {},
     "output_type": "execute_result"
    }
   ],
   "source": [
    "id(str.lower)"
   ]
  },
  {
   "cell_type": "code",
   "execution_count": 113,
   "id": "28b3b2b6-dc48-4962-b129-62e819b7bba4",
   "metadata": {},
   "outputs": [
    {
     "data": {
      "text/plain": [
       "method_descriptor"
      ]
     },
     "execution_count": 113,
     "metadata": {},
     "output_type": "execute_result"
    }
   ],
   "source": [
    "type(str.lower)"
   ]
  },
  {
   "cell_type": "code",
   "execution_count": 114,
   "id": "06747e37-4b9f-4602-835e-38c47a4e2d18",
   "metadata": {},
   "outputs": [
    {
     "data": {
      "text/plain": [
       "4374726432"
      ]
     },
     "execution_count": 114,
     "metadata": {},
     "output_type": "execute_result"
    }
   ],
   "source": [
    "id(str.upper)"
   ]
  },
  {
   "cell_type": "code",
   "execution_count": 115,
   "id": "d9553549-df79-4186-a686-f366498273db",
   "metadata": {},
   "outputs": [
    {
     "data": {
      "text/plain": [
       "['apple', 'fig', 'pear']"
      ]
     },
     "execution_count": 115,
     "metadata": {},
     "output_type": "execute_result"
    }
   ],
   "source": [
    "fruits"
   ]
  },
  {
   "cell_type": "code",
   "execution_count": 116,
   "id": "c073b6a9-0ab4-4ea5-b1a1-3528fd98e644",
   "metadata": {},
   "outputs": [
    {
     "ename": "AttributeError",
     "evalue": "'list' object has no attribute 'join'",
     "output_type": "error",
     "traceback": [
      "\u001b[0;31m---------------------------------------------------------------------------\u001b[0m",
      "\u001b[0;31mAttributeError\u001b[0m                            Traceback (most recent call last)",
      "Cell \u001b[0;32mIn[116], line 1\u001b[0m\n\u001b[0;32m----> 1\u001b[0m \u001b[43mfruits\u001b[49m\u001b[38;5;241;43m.\u001b[39;49m\u001b[43mjoin\u001b[49m(\u001b[38;5;124m'\u001b[39m\u001b[38;5;124m \u001b[39m\u001b[38;5;124m'\u001b[39m)\n",
      "\u001b[0;31mAttributeError\u001b[0m: 'list' object has no attribute 'join'"
     ]
    }
   ],
   "source": [
    "fruits.join(' ')"
   ]
  },
  {
   "cell_type": "code",
   "execution_count": 117,
   "id": "216ffb10-fc95-40a2-ba4d-7e9a6460ba72",
   "metadata": {},
   "outputs": [
    {
     "data": {
      "text/plain": [
       "'apple fig pear'"
      ]
     },
     "execution_count": 117,
     "metadata": {},
     "output_type": "execute_result"
    }
   ],
   "source": [
    "' '.join(fruits) # separator (str) DOT join (container)"
   ]
  },
  {
   "cell_type": "code",
   "execution_count": 118,
   "id": "1fe5c322-bb5c-47e1-94c5-6d5651577689",
   "metadata": {},
   "outputs": [
    {
     "ename": "NameError",
     "evalue": "name 'join' is not defined",
     "output_type": "error",
     "traceback": [
      "\u001b[0;31m---------------------------------------------------------------------------\u001b[0m",
      "\u001b[0;31mNameError\u001b[0m                                 Traceback (most recent call last)",
      "Cell \u001b[0;32mIn[118], line 1\u001b[0m\n\u001b[0;32m----> 1\u001b[0m \u001b[43mjoin\u001b[49m(fruits)\n",
      "\u001b[0;31mNameError\u001b[0m: name 'join' is not defined"
     ]
    }
   ],
   "source": [
    "join(fruits)"
   ]
  },
  {
   "cell_type": "code",
   "execution_count": 119,
   "id": "e7d2f0dc-8865-441b-8075-97b67341ac91",
   "metadata": {},
   "outputs": [
    {
     "data": {
      "text/plain": [
       "'apple, fig, pear'"
      ]
     },
     "execution_count": 119,
     "metadata": {},
     "output_type": "execute_result"
    }
   ],
   "source": [
    "', '.join(fruits)"
   ]
  },
  {
   "cell_type": "code",
   "execution_count": 120,
   "id": "26472dd0-b19e-4132-944d-2acdb6b874ff",
   "metadata": {},
   "outputs": [
    {
     "name": "stdout",
     "output_type": "stream",
     "text": [
      "1 2 3\n"
     ]
    }
   ],
   "source": [
    "print(1, 2, 3)"
   ]
  },
  {
   "cell_type": "code",
   "execution_count": 121,
   "id": "575701a9-6a76-4507-b310-b7920abdf358",
   "metadata": {},
   "outputs": [
    {
     "name": "stdout",
     "output_type": "stream",
     "text": [
      "1...2...3\n"
     ]
    }
   ],
   "source": [
    "print(1, 2, 3, sep='...')"
   ]
  },
  {
   "cell_type": "code",
   "execution_count": 122,
   "id": "7a4648f5-45ab-4675-a3da-f7cad6252726",
   "metadata": {},
   "outputs": [],
   "source": [
    "cars = ['Tesla', 'Fisker', 'Rivian', 'Lordstown']"
   ]
  },
  {
   "cell_type": "code",
   "execution_count": 123,
   "id": "51cc58c3-e3f8-4ed2-be6f-4c74bf03e46e",
   "metadata": {},
   "outputs": [
    {
     "data": {
      "text/plain": [
       "4"
      ]
     },
     "execution_count": 123,
     "metadata": {},
     "output_type": "execute_result"
    }
   ],
   "source": [
    "len(cars)"
   ]
  },
  {
   "cell_type": "code",
   "execution_count": 127,
   "id": "02ae240d-80b2-41ed-a95f-7e104e83e95b",
   "metadata": {},
   "outputs": [
    {
     "name": "stdout",
     "output_type": "stream",
     "text": [
      "hello 0\n",
      "hello 1\n",
      "hello 2\n",
      "hello 3\n",
      "hello 4\n",
      "hello 5\n",
      "hello 6\n",
      "hello 7\n",
      "hello 8\n",
      "hello 9\n"
     ]
    }
   ],
   "source": [
    "for num in range(10): # do something and count 10 times\n",
    "    print('hello', num)"
   ]
  },
  {
   "cell_type": "code",
   "execution_count": 128,
   "id": "a1289764-f591-4276-b494-830510850f33",
   "metadata": {},
   "outputs": [
    {
     "name": "stdout",
     "output_type": "stream",
     "text": [
      "hello\n",
      "hello\n",
      "hello\n",
      "hello\n",
      "hello\n",
      "hello\n",
      "hello\n",
      "hello\n",
      "hello\n",
      "hello\n"
     ]
    }
   ],
   "source": [
    "for _ in range(10): # do this 10 times loop\n",
    "    print('hello')"
   ]
  },
  {
   "cell_type": "code",
   "execution_count": null,
   "id": "7e1ec9e1-9ece-449f-9333-1479626e8c28",
   "metadata": {},
   "outputs": [],
   "source": [
    "list."
   ]
  },
  {
   "cell_type": "code",
   "execution_count": 129,
   "id": "d90f0b80-33d5-4af1-859f-130caa6ecf26",
   "metadata": {},
   "outputs": [
    {
     "data": {
      "text/plain": [
       "['fig', 'pear', 'apple']"
      ]
     },
     "execution_count": 129,
     "metadata": {},
     "output_type": "execute_result"
    }
   ],
   "source": [
    "fruits = 'fig pear apple'.split()\n",
    "fruits"
   ]
  },
  {
   "cell_type": "code",
   "execution_count": 130,
   "id": "7a758c18-d979-4cd4-ab69-bef3091df684",
   "metadata": {},
   "outputs": [
    {
     "data": {
      "text/plain": [
       "['apple', 'fig', 'pear']"
      ]
     },
     "execution_count": 130,
     "metadata": {},
     "output_type": "execute_result"
    }
   ],
   "source": [
    "sorted(fruits)"
   ]
  },
  {
   "cell_type": "code",
   "execution_count": 131,
   "id": "08b546a5-f4c6-41de-823f-0e6904fe9245",
   "metadata": {},
   "outputs": [
    {
     "data": {
      "text/plain": [
       "['fig', 'pear', 'apple']"
      ]
     },
     "execution_count": 131,
     "metadata": {},
     "output_type": "execute_result"
    }
   ],
   "source": [
    "fruits"
   ]
  },
  {
   "cell_type": "code",
   "execution_count": 132,
   "id": "f1aac099-15e4-475b-88cf-8c1d22e255df",
   "metadata": {},
   "outputs": [],
   "source": [
    "fruits.sort()"
   ]
  },
  {
   "cell_type": "code",
   "execution_count": 133,
   "id": "e1591cd5-1391-4855-8506-480123abf28a",
   "metadata": {},
   "outputs": [
    {
     "data": {
      "text/plain": [
       "['apple', 'fig', 'pear']"
      ]
     },
     "execution_count": 133,
     "metadata": {},
     "output_type": "execute_result"
    }
   ],
   "source": [
    "fruits"
   ]
  },
  {
   "cell_type": "code",
   "execution_count": 142,
   "id": "39ac015e-b9e6-4691-9034-2c4cea91c435",
   "metadata": {},
   "outputs": [
    {
     "name": "stdin",
     "output_type": "stream",
     "text": [
      "Enter your guess (0 to give up):  50\n"
     ]
    },
    {
     "name": "stdout",
     "output_type": "stream",
     "text": [
      "Guess was too high\n"
     ]
    },
    {
     "name": "stdin",
     "output_type": "stream",
     "text": [
      "Enter your guess (0 to give up):  25\n"
     ]
    },
    {
     "name": "stdout",
     "output_type": "stream",
     "text": [
      "Guess was too high\n",
      "...but you're close!\n"
     ]
    },
    {
     "name": "stdin",
     "output_type": "stream",
     "text": [
      "Enter your guess (0 to give up):  15\n"
     ]
    },
    {
     "name": "stdout",
     "output_type": "stream",
     "text": [
      "Guess was too low\n",
      "...but you're close!\n"
     ]
    },
    {
     "name": "stdin",
     "output_type": "stream",
     "text": [
      "Enter your guess (0 to give up):  20\n"
     ]
    },
    {
     "name": "stdout",
     "output_type": "stream",
     "text": [
      "Guess was too low\n",
      "...but you're close!\n"
     ]
    },
    {
     "name": "stdin",
     "output_type": "stream",
     "text": [
      "Enter your guess (0 to give up):  23\n"
     ]
    },
    {
     "name": "stdout",
     "output_type": "stream",
     "text": [
      "Guess was too high\n",
      "...but you're close!\n"
     ]
    },
    {
     "name": "stdin",
     "output_type": "stream",
     "text": [
      "Enter your guess (0 to give up):  22\n"
     ]
    },
    {
     "name": "stdout",
     "output_type": "stream",
     "text": [
      "Guess was too high\n",
      "...but you're close!\n"
     ]
    },
    {
     "name": "stdin",
     "output_type": "stream",
     "text": [
      "Enter your guess (0 to give up):  21\n"
     ]
    },
    {
     "name": "stdout",
     "output_type": "stream",
     "text": [
      "You got it!\n"
     ]
    }
   ],
   "source": [
    "import random # \"batteries included\"\n",
    "\n",
    "my_number = random.randint(1, 100)\n",
    "guess = 0\n",
    "\n",
    "while guess != my_number: # loop until...?\n",
    "    guess = int(input('Enter your guess (0 to give up): '))\n",
    "    if guess == 0:\n",
    "        print(\"Sorry that you're giving up!\")\n",
    "        break # abnormal termination\n",
    "    elif guess > my_number:\n",
    "        print(\"Guess was too high\")\n",
    "        if guess - my_number <= 10:\n",
    "            print(\"...but you're close!\")\n",
    "    elif guess < my_number:\n",
    "        print(\"Guess was too low\")\n",
    "        if my_number - guess <= 10:\n",
    "            print(\"...but you're close!\")\n",
    "    else:\n",
    "        print(\"You got it!\")"
   ]
  },
  {
   "cell_type": "markdown",
   "id": "6503df61-85d0-4a2c-8725-43bf77c9291b",
   "metadata": {},
   "source": [
    "## Some homework ideas...\n",
    "0. Remember to write down the steps in English before coding! (First write down the steps that would be needed to tell another human how to do the task, then refine that into pseudocode, and finally, convert your pseudocode into Python.)\n",
    "1. create a list of words, e.g., __`\"talk walk box peas lost goody\".split()`__\n",
    "  * iterate thru the list and remove any words that aren't 4 letters long\n",
    "  * ...or iterate thru the list and remove any words that don't have an __`a`__ or an __`o`__ in them\n",
    "2. modify the guessing game to tell the user whether their guess is \"close\" or not (let's say within 10 of the correct answer)\n"
   ]
  },
  {
   "cell_type": "code",
   "execution_count": 164,
   "id": "426f90dc-27f5-4e71-ad68-98ceb050eb83",
   "metadata": {},
   "outputs": [
    {
     "name": "stdout",
     "output_type": "stream",
     "text": [
      "Original list: ['amstaff', 'german shepherd', 'cairn terrier', 'chow', 'great dane']\n",
      "Dog breed (name with 4 letters): ['chow']\n"
     ]
    }
   ],
   "source": [
    "def iterate_dogs(dogs):\n",
    "    \"\"\"Carlos' solution\"\"\"\n",
    "    iterated_dogs = [] # start w/an empty list\n",
    "    \n",
    "    for dog in dogs: # for each dog in the original list\n",
    "        if len(dog) == 4: # if it's length is 4...\n",
    "            iterated_dogs.append(dog) # ...add it to the new list\n",
    "    \n",
    "    return iterated_dogs\n",
    "\n",
    "dogs_list = ['amstaff', 'german shepherd', 'cairn terrier', 'chow', 'great dane']\n",
    "iterated_list = iterate_dogs(dogs_list) \n",
    "\n",
    "print(f\"Original list:\", dogs_list)\n",
    "print(f\"Dog breed (name with 4 letters):\",iterated_list)"
   ]
  },
  {
   "cell_type": "code",
   "execution_count": 217,
   "id": "130c7c43-e896-49ba-bf8a-30112434c5bb",
   "metadata": {},
   "outputs": [],
   "source": [
    "fruits = 'lemon lime cherry plum cherry banana figs strawberry kiwi watermelon pear'.split()"
   ]
  },
  {
   "cell_type": "code",
   "execution_count": 218,
   "id": "8f910180-e648-4fb3-b508-8bd0db2eb496",
   "metadata": {},
   "outputs": [
    {
     "data": {
      "text/plain": [
       "['lemon',\n",
       " 'lime',\n",
       " 'cherry',\n",
       " 'plum',\n",
       " 'cherry',\n",
       " 'banana',\n",
       " 'figs',\n",
       " 'strawberry',\n",
       " 'kiwi',\n",
       " 'watermelon',\n",
       " 'pear']"
      ]
     },
     "execution_count": 218,
     "metadata": {},
     "output_type": "execute_result"
    }
   ],
   "source": [
    "fruits"
   ]
  },
  {
   "cell_type": "code",
   "execution_count": 169,
   "id": "2837c8a8-2dc9-481f-80b0-f78f1a5fff4c",
   "metadata": {},
   "outputs": [],
   "source": [
    "# 1. for each string in the list\n",
    "# 2.    if it's length is NOT 4...\n",
    "# 3.       remove it from the list"
   ]
  },
  {
   "cell_type": "code",
   "execution_count": 172,
   "id": "84c47165-86d1-4543-b4e7-6747bfcfbb34",
   "metadata": {},
   "outputs": [],
   "source": [
    "for fruit in fruits: # 1\n",
    "    if len(fruit) != 4:\n",
    "        fruits.remove(fruit)"
   ]
  },
  {
   "cell_type": "code",
   "execution_count": 173,
   "id": "e05befe5-f148-4b05-b738-7b29505663f4",
   "metadata": {},
   "outputs": [
    {
     "data": {
      "text/plain": [
       "['lime', 'plum', 'figs', 'kiwi', 'pear']"
      ]
     },
     "execution_count": 173,
     "metadata": {},
     "output_type": "execute_result"
    }
   ],
   "source": [
    "fruits"
   ]
  },
  {
   "cell_type": "code",
   "execution_count": 194,
   "id": "648f8d07-439a-48d3-aa88-c81586906e1f",
   "metadata": {},
   "outputs": [
    {
     "name": "stdout",
     "output_type": "stream",
     "text": [
      "0 lemon\n",
      "1 lime\n",
      "2 cherry\n",
      "3 plum\n",
      "4 banana\n",
      "5 figs\n",
      "6 strawberry\n",
      "7 kiwi\n",
      "8 watermelon\n",
      "9 pear\n"
     ]
    },
    {
     "data": {
      "text/plain": [
       "[0, 2, 4, 6, 8]"
      ]
     },
     "execution_count": 194,
     "metadata": {},
     "output_type": "execute_result"
    }
   ],
   "source": [
    "indices_to_delete = []\n",
    "\n",
    "for index in range(len(fruits)): # 0..len(fruits)-1\n",
    "    print(index, fruits[index])\n",
    "    if len(fruits[index]) != 4: # if len is not 4,\n",
    "        indices_to_delete.append(index) # take note of the index we want to delete later\n",
    "\n",
    "indices_to_delete"
   ]
  },
  {
   "cell_type": "code",
   "execution_count": 195,
   "id": "3db5adfa-09ff-440e-b1a1-91502d935138",
   "metadata": {},
   "outputs": [
    {
     "name": "stdout",
     "output_type": "stream",
     "text": [
      "4\n",
      "3\n",
      "2\n",
      "1\n",
      "0\n"
     ]
    }
   ],
   "source": [
    "for index in range(len(indices_to_delete) - 1, -1, -1):\n",
    "    print(index)"
   ]
  },
  {
   "cell_type": "code",
   "execution_count": 197,
   "id": "995462b8-ec18-423b-b47e-646db9fa10ca",
   "metadata": {},
   "outputs": [
    {
     "data": {
      "text/plain": [
       "[8, 6, 4, 2, 0]"
      ]
     },
     "execution_count": 197,
     "metadata": {},
     "output_type": "execute_result"
    }
   ],
   "source": [
    "indices_to_delete.reverse()\n",
    "indices_to_delete"
   ]
  },
  {
   "cell_type": "code",
   "execution_count": 199,
   "id": "9610d29a-838b-40ee-859f-da94904fb933",
   "metadata": {},
   "outputs": [
    {
     "name": "stdout",
     "output_type": "stream",
     "text": [
      "del fruits[8]\n",
      "del fruits[6]\n",
      "del fruits[4]\n",
      "del fruits[2]\n",
      "del fruits[0]\n"
     ]
    },
    {
     "data": {
      "text/plain": [
       "['lime', 'plum', 'figs', 'kiwi', 'pear']"
      ]
     },
     "execution_count": 199,
     "metadata": {},
     "output_type": "execute_result"
    }
   ],
   "source": [
    "for index in indices_to_delete:\n",
    "    print(f'del fruits[{index}]')\n",
    "    del fruits[index]\n",
    "\n",
    "fruits"
   ]
  },
  {
   "cell_type": "code",
   "execution_count": 182,
   "id": "964849e5-e82d-4700-bd76-229b76b95972",
   "metadata": {},
   "outputs": [
    {
     "data": {
      "text/plain": [
       "'pear'"
      ]
     },
     "execution_count": 182,
     "metadata": {},
     "output_type": "execute_result"
    }
   ],
   "source": [
    "fruits[-1] # brackets allow us to \"index\" the container, i.e., access the thing at that position"
   ]
  },
  {
   "cell_type": "code",
   "execution_count": 184,
   "id": "bbec1e02-b4f5-48c0-a14e-fba8f6aee7ae",
   "metadata": {},
   "outputs": [
    {
     "data": {
      "text/plain": [
       "['lemon',\n",
       " 'lime',\n",
       " 'cherry',\n",
       " 'plum',\n",
       " 'banana',\n",
       " 'figs',\n",
       " 'strawberry',\n",
       " 'kiwi',\n",
       " 'watermelon',\n",
       " 'pear']"
      ]
     },
     "execution_count": 184,
     "metadata": {},
     "output_type": "execute_result"
    }
   ],
   "source": [
    "fruits"
   ]
  },
  {
   "cell_type": "code",
   "execution_count": 185,
   "id": "66d39f8f-451d-4cd8-a1b5-26728882ed96",
   "metadata": {},
   "outputs": [
    {
     "data": {
      "text/plain": [
       "'cherry'"
      ]
     },
     "execution_count": 185,
     "metadata": {},
     "output_type": "execute_result"
    }
   ],
   "source": [
    "fruits.pop(2)"
   ]
  },
  {
   "cell_type": "code",
   "execution_count": 186,
   "id": "e7de2cb5-d1a8-471e-8afc-893bb0631e45",
   "metadata": {
    "scrolled": true
   },
   "outputs": [
    {
     "data": {
      "text/plain": [
       "['lemon',\n",
       " 'lime',\n",
       " 'plum',\n",
       " 'banana',\n",
       " 'figs',\n",
       " 'strawberry',\n",
       " 'kiwi',\n",
       " 'watermelon',\n",
       " 'pear']"
      ]
     },
     "execution_count": 186,
     "metadata": {},
     "output_type": "execute_result"
    }
   ],
   "source": [
    "fruits"
   ]
  },
  {
   "cell_type": "code",
   "execution_count": 219,
   "id": "5b03b6fc-2e25-4fc3-af72-0230fd7655fb",
   "metadata": {},
   "outputs": [
    {
     "data": {
      "text/plain": [
       "['lime', 'cherry', 'plum', 'cherry', 'figs', 'kiwi']"
      ]
     },
     "execution_count": 219,
     "metadata": {},
     "output_type": "execute_result"
    }
   ],
   "source": [
    "# change it to removing any words that don't have an 'a or an 'o' in them\n",
    "stuff_to_remove = []\n",
    "\n",
    "for fruit in fruits: # 1\n",
    "    if 'a' not in fruit and 'o' not in fruit: # doesn't have 'a' or 'o'\n",
    "        # fruits.remove(fruit) # don't modify list while iteraint thru it\n",
    "        stuff_to_remove.append(fruit)\n",
    "\n",
    "stuff_to_remove"
   ]
  },
  {
   "cell_type": "code",
   "execution_count": 216,
   "id": "8fc11052-fe15-4c3c-a1df-4900b92fbd4d",
   "metadata": {},
   "outputs": [
    {
     "data": {
      "text/plain": [
       "['lemon', 'banana', 'strawberry', 'watermelon', 'pear']"
      ]
     },
     "execution_count": 216,
     "metadata": {},
     "output_type": "execute_result"
    }
   ],
   "source": [
    "for thing in stuff_to_remove: # for each thing we flagged to be removed\n",
    "    fruits.remove(thing) # remove that thing\n",
    "fruits"
   ]
  },
  {
   "cell_type": "code",
   "execution_count": 204,
   "id": "7c68efa3-c26d-4462-b4ee-e5a07f6e480b",
   "metadata": {},
   "outputs": [
    {
     "data": {
      "text/plain": [
       "-1"
      ]
     },
     "execution_count": 204,
     "metadata": {},
     "output_type": "execute_result"
    }
   ],
   "source": [
    "'string'.find('o')"
   ]
  },
  {
   "cell_type": "code",
   "execution_count": 205,
   "id": "83924463-eeab-463f-854e-27ba09f664a3",
   "metadata": {},
   "outputs": [
    {
     "data": {
      "text/plain": [
       "False"
      ]
     },
     "execution_count": 205,
     "metadata": {},
     "output_type": "execute_result"
    }
   ],
   "source": [
    "'a' in 'string'"
   ]
  },
  {
   "cell_type": "code",
   "execution_count": 206,
   "id": "691464f2-8109-4649-89a1-b8e10ebd3186",
   "metadata": {},
   "outputs": [
    {
     "data": {
      "text/plain": [
       "False"
      ]
     },
     "execution_count": 206,
     "metadata": {},
     "output_type": "execute_result"
    }
   ],
   "source": [
    "'o' in 'string'"
   ]
  },
  {
   "cell_type": "code",
   "execution_count": 220,
   "id": "6e3a6833-81f8-4b7a-a00e-76cd6ff05fc2",
   "metadata": {},
   "outputs": [],
   "source": [
    "my_number = 53"
   ]
  },
  {
   "cell_type": "code",
   "execution_count": 222,
   "id": "8347c230-c525-4824-994b-b7d7262c42ee",
   "metadata": {},
   "outputs": [],
   "source": [
    "guess = 47 # is this \"close\", i.e., within 10 of my_number"
   ]
  },
  {
   "cell_type": "code",
   "execution_count": 223,
   "id": "e177565e-dd6f-4f53-bd56-9b81affeef18",
   "metadata": {},
   "outputs": [],
   "source": [
    "close = 10 # re-define if needed"
   ]
  },
  {
   "cell_type": "code",
   "execution_count": 224,
   "id": "182d5256-af6c-4f8b-8aab-fc4f84f9070a",
   "metadata": {},
   "outputs": [],
   "source": [
    "# which guesses are in fact close?\n",
    "# 43..63 (53 - 10 .. 53 + 10)"
   ]
  },
  {
   "cell_type": "code",
   "execution_count": 225,
   "id": "b861a2c5-4f59-4517-88d5-42c6bf280e84",
   "metadata": {},
   "outputs": [],
   "source": [
    "# if the number is between my_number minus 10 and my_number plus 10"
   ]
  },
  {
   "cell_type": "code",
   "execution_count": 228,
   "id": "2242fd76-0c79-4c33-b2f1-e67f9f0c6554",
   "metadata": {},
   "outputs": [
    {
     "data": {
      "text/plain": [
       "True"
      ]
     },
     "execution_count": 228,
     "metadata": {},
     "output_type": "execute_result"
    }
   ],
   "source": [
    "guess in range(my_number - 10, my_number + 11)"
   ]
  },
  {
   "cell_type": "code",
   "execution_count": 229,
   "id": "a72db578-2c1d-40b4-864c-092526c867b8",
   "metadata": {},
   "outputs": [
    {
     "data": {
      "text/plain": [
       "False"
      ]
     },
     "execution_count": 229,
     "metadata": {},
     "output_type": "execute_result"
    }
   ],
   "source": [
    "33 in range(my_number - 10, my_number + 11)"
   ]
  },
  {
   "cell_type": "code",
   "execution_count": 230,
   "id": "8bb40a68-c14e-4a1a-a202-1b4d100df6a4",
   "metadata": {},
   "outputs": [],
   "source": [
    "my_number = 10"
   ]
  },
  {
   "cell_type": "code",
   "execution_count": 235,
   "id": "921a81bb-5cab-4501-9bca-44313d400f64",
   "metadata": {},
   "outputs": [
    {
     "name": "stdin",
     "output_type": "stream",
     "text": [
      "Enter your guess (0 to give up):  1\n"
     ]
    },
    {
     "name": "stdout",
     "output_type": "stream",
     "text": [
      "Guess was too low"
     ]
    },
    {
     "name": "stdin",
     "output_type": "stream",
     "text": [
      "Enter your guess (0 to give up):  50\n"
     ]
    },
    {
     "name": "stdout",
     "output_type": "stream",
     "text": [
      "Guess was too low"
     ]
    },
    {
     "name": "stdin",
     "output_type": "stream",
     "text": [
      "Enter your guess (0 to give up):  75\n"
     ]
    },
    {
     "name": "stdout",
     "output_type": "stream",
     "text": [
      "Guess was too high...but you're close\n"
     ]
    },
    {
     "name": "stdin",
     "output_type": "stream",
     "text": [
      "Enter your guess (0 to give up):  62\n"
     ]
    },
    {
     "name": "stdout",
     "output_type": "stream",
     "text": [
      "Guess was too low...but you're close\n"
     ]
    },
    {
     "name": "stdin",
     "output_type": "stream",
     "text": [
      "Enter your guess (0 to give up):  68\n"
     ]
    },
    {
     "name": "stdout",
     "output_type": "stream",
     "text": [
      "Guess was too low...but you're close\n"
     ]
    },
    {
     "name": "stdin",
     "output_type": "stream",
     "text": [
      "Enter your guess (0 to give up):  71\n"
     ]
    },
    {
     "name": "stdout",
     "output_type": "stream",
     "text": [
      "Guess was too low...but you're close\n"
     ]
    },
    {
     "name": "stdin",
     "output_type": "stream",
     "text": [
      "Enter your guess (0 to give up):  73\n"
     ]
    },
    {
     "name": "stdout",
     "output_type": "stream",
     "text": [
      "Guess was too high...but you're close\n"
     ]
    },
    {
     "name": "stdin",
     "output_type": "stream",
     "text": [
      "Enter your guess (0 to give up):  72\n"
     ]
    },
    {
     "name": "stdout",
     "output_type": "stream",
     "text": [
      "You got it!\n"
     ]
    }
   ],
   "source": [
    "import random # \"batteries included\"\n",
    "\n",
    "0\n",
    "max_number = 100\n",
    "close = 10 # \"close\" means my_number - close ... my_number + close\n",
    "my_number = random.randint(min_number, max_number) # min_number..max_number\n",
    "guess = min_number - 1 # outside the range of min_number .. max_number\n",
    "\n",
    "while guess != my_number: # loop until...?\n",
    "    guess = int(input('Enter your guess (0 to give up): '))\n",
    "    \n",
    "    # give up\n",
    "    if guess == 0:\n",
    "        print(\"Sorry that you're giving up!\")\n",
    "        break # abnormal termination\n",
    "    \n",
    "    # check for valid guess?\n",
    "    if guess not in range(min_number, max_number + 1):\n",
    "        print(f'Please guess between {min_number} and {max_number}')\n",
    "        continue # skip remainder of loop, and go to next iteration of loop\n",
    "        \n",
    "    # respond to a valid guess  \n",
    "   \n",
    "    if guess > my_number:\n",
    "        print(\"Guess was too high\", end='')\n",
    "    elif guess < my_number:\n",
    "        print(\"Guess was too low\", end='')\n",
    "    else:\n",
    "        print(\"You got it!\")\n",
    "        break\n",
    "\n",
    "    # check if close...True or False\n",
    "    if guess in range(my_number - close, my_number + close + 1):\n",
    "        print(\"...but you're close\")"
   ]
  },
  {
   "cell_type": "code",
   "execution_count": 237,
   "id": "08102e5d-5627-4a2f-b426-4b1a325a26c3",
   "metadata": {},
   "outputs": [
    {
     "name": "stdin",
     "output_type": "stream",
     "text": [
      "Guess?  50\n"
     ]
    },
    {
     "name": "stdout",
     "output_type": "stream",
     "text": [
      "DEBUG:  guess 50 target 35 difference -15\n",
      "Guess was too high!\n"
     ]
    },
    {
     "name": "stdin",
     "output_type": "stream",
     "text": [
      "Guess?  35\n"
     ]
    },
    {
     "name": "stdout",
     "output_type": "stream",
     "text": [
      "You got it!\n"
     ]
    }
   ],
   "source": [
    "# Kevin's solution\n",
    "\n",
    "import random \n",
    "\n",
    "max_number = 100\n",
    "min_number = 1\n",
    "close_range = 10\n",
    "my_number = random.randint(1, max_number)\n",
    "guess = 0\n",
    "\n",
    "while guess != my_number:\n",
    "    guess = int(input('Guess? '))\n",
    "  \n",
    "    # Check for valid guess\n",
    "    if guess not in range(min_number, max_number +1):\n",
    "        print(f\"Please guess between {min_number} & {max_number}\")\n",
    "        continue\n",
    "    # Check if guess is correct\n",
    "    if guess == 0:\n",
    "        print(\"Goodbye!\")\n",
    "        break #abnormal stop\n",
    "\n",
    "    if guess == my_number:\n",
    "        print('You got it!')\n",
    "        break\n",
    "        \n",
    "    # Calculate the difference\n",
    "    difference = my_number - guess\n",
    "    print(f\"DEBUG:  guess {guess} target {my_number} difference {difference}\")\n",
    "\n",
    "    # Check if the difference is within range\n",
    "    if difference <= close_range and difference >= -close_range: # check if the guess is within 10\n",
    "        print(f\"Guess is close!\")\n",
    "    if difference < 0:\n",
    "        print(f\"Guess was too high!\")\n",
    "    if difference > 0:\n",
    "        print(f\"Guess was too low!\")"
   ]
  },
  {
   "cell_type": "code",
   "execution_count": 238,
   "id": "fcaf86bd-b562-43d5-b121-494ac5fb9f45",
   "metadata": {},
   "outputs": [
    {
     "name": "stdin",
     "output_type": "stream",
     "text": [
      "Guess?  50\n"
     ]
    },
    {
     "name": "stdout",
     "output_type": "stream",
     "text": [
      "DEBUG:  guess 50 target 8 difference 42\n",
      "Guess was too low!\n"
     ]
    },
    {
     "name": "stdin",
     "output_type": "stream",
     "text": [
      "Guess?  15\n"
     ]
    },
    {
     "name": "stdout",
     "output_type": "stream",
     "text": [
      "DEBUG:  guess 15 target 8 difference 7\n",
      "Guess is close!\n",
      "Guess was too low!\n"
     ]
    },
    {
     "name": "stdin",
     "output_type": "stream",
     "text": [
      "Guess?  5\n"
     ]
    },
    {
     "name": "stdout",
     "output_type": "stream",
     "text": [
      "DEBUG:  guess 5 target 8 difference 3\n",
      "Guess is close!\n",
      "Guess was too low!\n"
     ]
    },
    {
     "name": "stdin",
     "output_type": "stream",
     "text": [
      "Guess?  8\n"
     ]
    },
    {
     "name": "stdout",
     "output_type": "stream",
     "text": [
      "You got it!\n"
     ]
    }
   ],
   "source": [
    "# Kevin's solution\n",
    "\n",
    "import random \n",
    "\n",
    "max_number = 100\n",
    "min_number = 1\n",
    "close_range = 10\n",
    "my_number = random.randint(1, max_number)\n",
    "guess = 0\n",
    "\n",
    "while guess != my_number:\n",
    "    guess = int(input('Guess? '))\n",
    "  \n",
    "    # Check for valid guess\n",
    "    if guess not in range(min_number, max_number +1):\n",
    "        print(f\"Please guess between {min_number} & {max_number}\")\n",
    "        continue\n",
    "    # Check if guess is correct\n",
    "    if guess == 0:\n",
    "        print(\"Goodbye!\")\n",
    "        break #abnormal stop\n",
    "\n",
    "    if guess == my_number:\n",
    "        print('You got it!')\n",
    "        break\n",
    "        \n",
    "    # Calculate the difference\n",
    "    difference = abs(my_number - guess)\n",
    "    print(f\"DEBUG:  guess {guess} target {my_number} difference {difference}\")\n",
    "\n",
    "    # Check if the difference is within range\n",
    "    if difference <= close_range: # check if the guess is within 10\n",
    "        print(f\"Guess is close!\")\n",
    "    if difference < 0:\n",
    "        print(f\"Guess was too high!\")\n",
    "    if difference > 0:\n",
    "        print(f\"Guess was too low!\")"
   ]
  },
  {
   "cell_type": "code",
   "execution_count": 239,
   "id": "44c2ff07-a500-47ad-9a66-c3932755fc70",
   "metadata": {},
   "outputs": [
    {
     "data": {
      "text/plain": [
       "True"
      ]
     },
     "execution_count": 239,
     "metadata": {},
     "output_type": "execute_result"
    }
   ],
   "source": [
    "73 in range(1, 101)"
   ]
  },
  {
   "cell_type": "code",
   "execution_count": 240,
   "id": "eb2b0f5f-5840-44ba-81f5-fca24fac08bc",
   "metadata": {},
   "outputs": [
    {
     "data": {
      "text/plain": [
       "False"
      ]
     },
     "execution_count": 240,
     "metadata": {},
     "output_type": "execute_result"
    }
   ],
   "source": [
    "-3 in range(1, 101)"
   ]
  },
  {
   "cell_type": "code",
   "execution_count": 241,
   "id": "b222fd53-6ba4-4faf-ba92-085fd0b3bacf",
   "metadata": {},
   "outputs": [],
   "source": [
    "word = 'sales'"
   ]
  },
  {
   "cell_type": "code",
   "execution_count": 242,
   "id": "96767a9e-d0b7-4cf9-9e04-216d452d02d2",
   "metadata": {},
   "outputs": [
    {
     "data": {
      "text/plain": [
       "True"
      ]
     },
     "execution_count": 242,
     "metadata": {},
     "output_type": "execute_result"
    }
   ],
   "source": [
    "word[0] == word[-1]"
   ]
  },
  {
   "cell_type": "code",
   "execution_count": 243,
   "id": "b334a044-2953-4de4-92c6-d5f2f01461dd",
   "metadata": {},
   "outputs": [],
   "source": [
    "word = 'salesperson'"
   ]
  },
  {
   "cell_type": "code",
   "execution_count": 245,
   "id": "bf2a2f3b-9b66-4ffe-85d6-56ef58923ce9",
   "metadata": {},
   "outputs": [
    {
     "data": {
      "text/plain": [
       "True"
      ]
     },
     "execution_count": 245,
     "metadata": {},
     "output_type": "execute_result"
    }
   ],
   "source": [
    "word[0] != word[-1]"
   ]
  },
  {
   "cell_type": "code",
   "execution_count": 249,
   "id": "01a9ae46-c84b-45bf-ba49-d2ff784967ec",
   "metadata": {},
   "outputs": [],
   "source": [
    "word = 'Python'"
   ]
  },
  {
   "cell_type": "code",
   "execution_count": 250,
   "id": "1aa8a705-79c1-4d07-acb7-ffe4e867fe69",
   "metadata": {},
   "outputs": [
    {
     "data": {
      "text/plain": [
       "'nohtyP'"
      ]
     },
     "execution_count": 250,
     "metadata": {},
     "output_type": "execute_result"
    }
   ],
   "source": [
    "word[::-1] # Python swaps the beginning and the end as a \"favor\" to you"
   ]
  },
  {
   "cell_type": "code",
   "execution_count": 251,
   "id": "d5277953-9026-420f-83cf-485f06663f88",
   "metadata": {},
   "outputs": [
    {
     "data": {
      "text/plain": [
       "False"
      ]
     },
     "execution_count": 251,
     "metadata": {},
     "output_type": "execute_result"
    }
   ],
   "source": [
    "word == word[::-1]"
   ]
  },
  {
   "cell_type": "code",
   "execution_count": 252,
   "id": "c81aa1c2-3d04-44cd-ade5-ee1c092cfcd8",
   "metadata": {},
   "outputs": [],
   "source": [
    "word = 'noon'"
   ]
  },
  {
   "cell_type": "code",
   "execution_count": 253,
   "id": "e334caa5-d8d8-4dd7-8fd2-aeb4149833bf",
   "metadata": {},
   "outputs": [
    {
     "data": {
      "text/plain": [
       "True"
      ]
     },
     "execution_count": 253,
     "metadata": {},
     "output_type": "execute_result"
    }
   ],
   "source": [
    "word == word[::-1]"
   ]
  },
  {
   "cell_type": "code",
   "execution_count": 255,
   "id": "90e46422-83e8-4d4b-afa0-098e9bcc5a6d",
   "metadata": {},
   "outputs": [],
   "source": [
    "sentence = 'Ten animals I slam in a net!' # palindrome"
   ]
  },
  {
   "cell_type": "code",
   "execution_count": 256,
   "id": "39e1dd72-f800-47cb-9273-2fc2d0af4435",
   "metadata": {},
   "outputs": [
    {
     "data": {
      "text/plain": [
       "'ten animals i slam in a net!'"
      ]
     },
     "execution_count": 256,
     "metadata": {},
     "output_type": "execute_result"
    }
   ],
   "source": [
    "sentence.lower()"
   ]
  },
  {
   "cell_type": "code",
   "execution_count": 257,
   "id": "7d18ec64-fa1b-4973-97d8-bc3e71ab0eb1",
   "metadata": {},
   "outputs": [],
   "source": [
    "my_list = []"
   ]
  },
  {
   "cell_type": "code",
   "execution_count": 259,
   "id": "2b9a154e-e4db-4ab8-bf70-2fcbfbe4a35e",
   "metadata": {},
   "outputs": [
    {
     "name": "stdout",
     "output_type": "stream",
     "text": [
      "Help on built-in function sort:\n",
      "\n",
      "sort(*, key=None, reverse=False) method of builtins.list instance\n",
      "    Sort the list in ascending order and return None.\n",
      "\n",
      "    The sort is in-place (i.e. the list itself is modified) and stable (i.e. the\n",
      "    order of two equal elements is maintained).\n",
      "\n",
      "    If a key function is given, apply it once to each list item and sort them,\n",
      "    ascending or descending, according to their function values.\n",
      "\n",
      "    The reverse flag can be set to sort in descending order.\n",
      "\n"
     ]
    }
   ],
   "source": [
    "help(my_list.sort)"
   ]
  },
  {
   "cell_type": "code",
   "execution_count": 261,
   "id": "7d0c3300-6c83-4bcb-899d-45342ca649d9",
   "metadata": {},
   "outputs": [
    {
     "name": "stdout",
     "output_type": "stream",
     "text": [
      "Help on class list in module builtins:\n",
      "\n",
      "class list(object)\n",
      " |  list(iterable=(), /)\n",
      " |\n",
      " |  Built-in mutable sequence.\n",
      " |\n",
      " |  If no argument is given, the constructor creates a new empty list.\n",
      " |  The argument must be an iterable if specified.\n",
      " |\n",
      " |  Methods defined here:\n",
      " |\n",
      " |  __add__(self, value, /)\n",
      " |      Return self+value.\n",
      " |\n",
      " |  __contains__(self, key, /)\n",
      " |      Return bool(key in self).\n",
      " |\n",
      " |  __delitem__(self, key, /)\n",
      " |      Delete self[key].\n",
      " |\n",
      " |  __eq__(self, value, /)\n",
      " |      Return self==value.\n",
      " |\n",
      " |  __ge__(self, value, /)\n",
      " |      Return self>=value.\n",
      " |\n",
      " |  __getattribute__(self, name, /)\n",
      " |      Return getattr(self, name).\n",
      " |\n",
      " |  __getitem__(self, index, /)\n",
      " |      Return self[index].\n",
      " |\n",
      " |  __gt__(self, value, /)\n",
      " |      Return self>value.\n",
      " |\n",
      " |  __iadd__(self, value, /)\n",
      " |      Implement self+=value.\n",
      " |\n",
      " |  __imul__(self, value, /)\n",
      " |      Implement self*=value.\n",
      " |\n",
      " |  __init__(self, /, *args, **kwargs)\n",
      " |      Initialize self.  See help(type(self)) for accurate signature.\n",
      " |\n",
      " |  __iter__(self, /)\n",
      " |      Implement iter(self).\n",
      " |\n",
      " |  __le__(self, value, /)\n",
      " |      Return self<=value.\n",
      " |\n",
      " |  __len__(self, /)\n",
      " |      Return len(self).\n",
      " |\n",
      " |  __lt__(self, value, /)\n",
      " |      Return self<value.\n",
      " |\n",
      " |  __mul__(self, value, /)\n",
      " |      Return self*value.\n",
      " |\n",
      " |  __ne__(self, value, /)\n",
      " |      Return self!=value.\n",
      " |\n",
      " |  __repr__(self, /)\n",
      " |      Return repr(self).\n",
      " |\n",
      " |  __reversed__(self, /)\n",
      " |      Return a reverse iterator over the list.\n",
      " |\n",
      " |  __rmul__(self, value, /)\n",
      " |      Return value*self.\n",
      " |\n",
      " |  __setitem__(self, key, value, /)\n",
      " |      Set self[key] to value.\n",
      " |\n",
      " |  __sizeof__(self, /)\n",
      " |      Return the size of the list in memory, in bytes.\n",
      " |\n",
      " |  append(self, object, /)\n",
      " |      Append object to the end of the list.\n",
      " |\n",
      " |  clear(self, /)\n",
      " |      Remove all items from list.\n",
      " |\n",
      " |  copy(self, /)\n",
      " |      Return a shallow copy of the list.\n",
      " |\n",
      " |  count(self, value, /)\n",
      " |      Return number of occurrences of value.\n",
      " |\n",
      " |  extend(self, iterable, /)\n",
      " |      Extend list by appending elements from the iterable.\n",
      " |\n",
      " |  index(self, value, start=0, stop=9223372036854775807, /)\n",
      " |      Return first index of value.\n",
      " |\n",
      " |      Raises ValueError if the value is not present.\n",
      " |\n",
      " |  insert(self, index, object, /)\n",
      " |      Insert object before index.\n",
      " |\n",
      " |  pop(self, index=-1, /)\n",
      " |      Remove and return item at index (default last).\n",
      " |\n",
      " |      Raises IndexError if list is empty or index is out of range.\n",
      " |\n",
      " |  remove(self, value, /)\n",
      " |      Remove first occurrence of value.\n",
      " |\n",
      " |      Raises ValueError if the value is not present.\n",
      " |\n",
      " |  reverse(self, /)\n",
      " |      Reverse *IN PLACE*.\n",
      " |\n",
      " |  sort(self, /, *, key=None, reverse=False)\n",
      " |      Sort the list in ascending order and return None.\n",
      " |\n",
      " |      The sort is in-place (i.e. the list itself is modified) and stable (i.e. the\n",
      " |      order of two equal elements is maintained).\n",
      " |\n",
      " |      If a key function is given, apply it once to each list item and sort them,\n",
      " |      ascending or descending, according to their function values.\n",
      " |\n",
      " |      The reverse flag can be set to sort in descending order.\n",
      " |\n",
      " |  ----------------------------------------------------------------------\n",
      " |  Class methods defined here:\n",
      " |\n",
      " |  __class_getitem__(...) from builtins.type\n",
      " |      See PEP 585\n",
      " |\n",
      " |  ----------------------------------------------------------------------\n",
      " |  Static methods defined here:\n",
      " |\n",
      " |  __new__(*args, **kwargs) from builtins.type\n",
      " |      Create and return a new object.  See help(type) for accurate signature.\n",
      " |\n",
      " |  ----------------------------------------------------------------------\n",
      " |  Data and other attributes defined here:\n",
      " |\n",
      " |  __hash__ = None\n",
      "\n"
     ]
    }
   ],
   "source": [
    "help(list)"
   ]
  },
  {
   "cell_type": "code",
   "execution_count": 277,
   "id": "97fdcb5d-c542-4fa1-87db-1247d0a3231e",
   "metadata": {},
   "outputs": [],
   "source": [
    "things = 'this that other'.split() # Pythonic"
   ]
  },
  {
   "cell_type": "code",
   "execution_count": 263,
   "id": "d276c395-5de2-4d67-b499-f99466710548",
   "metadata": {},
   "outputs": [
    {
     "data": {
      "text/plain": [
       "['this', 'that', 'other']"
      ]
     },
     "execution_count": 263,
     "metadata": {},
     "output_type": "execute_result"
    }
   ],
   "source": [
    "things"
   ]
  },
  {
   "cell_type": "code",
   "execution_count": 264,
   "id": "e56c4870-6d2a-458c-b87e-a18fe1a8df15",
   "metadata": {},
   "outputs": [],
   "source": [
    "things.sort()"
   ]
  },
  {
   "cell_type": "code",
   "execution_count": 265,
   "id": "3477bb6a-e122-4fae-ab97-718f2424ed22",
   "metadata": {},
   "outputs": [
    {
     "data": {
      "text/plain": [
       "['other', 'that', 'this']"
      ]
     },
     "execution_count": 265,
     "metadata": {},
     "output_type": "execute_result"
    }
   ],
   "source": [
    "things"
   ]
  },
  {
   "cell_type": "code",
   "execution_count": 266,
   "id": "9504a50f-5911-4da3-84e2-03d7121613fa",
   "metadata": {},
   "outputs": [],
   "source": [
    "fruits = 'apple fig pear'.split()"
   ]
  },
  {
   "cell_type": "code",
   "execution_count": 267,
   "id": "1588277b-98c9-48b4-b702-3a0e4f75b84d",
   "metadata": {},
   "outputs": [
    {
     "data": {
      "text/plain": [
       "['apple', 'fig', 'pear']"
      ]
     },
     "execution_count": 267,
     "metadata": {},
     "output_type": "execute_result"
    }
   ],
   "source": [
    "fruits"
   ]
  },
  {
   "cell_type": "code",
   "execution_count": 268,
   "id": "4660446c-ae10-4030-aad5-362f80d2c0be",
   "metadata": {},
   "outputs": [
    {
     "data": {
      "text/plain": [
       "['apple', 'fig', 'pear']"
      ]
     },
     "execution_count": 268,
     "metadata": {},
     "output_type": "execute_result"
    }
   ],
   "source": [
    "sorted(fruits)"
   ]
  },
  {
   "cell_type": "code",
   "execution_count": 269,
   "id": "aa2670d4-4311-4e5e-9b49-c5818a172c35",
   "metadata": {},
   "outputs": [
    {
     "data": {
      "text/plain": [
       "['fig', 'pear', 'apple']"
      ]
     },
     "execution_count": 269,
     "metadata": {},
     "output_type": "execute_result"
    }
   ],
   "source": [
    "sorted(fruits, key=len)"
   ]
  },
  {
   "cell_type": "code",
   "execution_count": 270,
   "id": "e1c2d3e4-6538-4b11-bdc9-1d63e87c5d97",
   "metadata": {},
   "outputs": [
    {
     "data": {
      "text/plain": [
       "4374930000"
      ]
     },
     "execution_count": 270,
     "metadata": {},
     "output_type": "execute_result"
    }
   ],
   "source": [
    "id(len)"
   ]
  },
  {
   "cell_type": "code",
   "execution_count": 276,
   "id": "fb9c68b1-3013-47cb-8390-cfcf6bd58555",
   "metadata": {},
   "outputs": [],
   "source": [
    "cars"
   ]
  },
  {
   "cell_type": "code",
   "execution_count": 272,
   "id": "f33be10e-cc4f-40e4-b1dd-5f841a5c5a46",
   "metadata": {},
   "outputs": [],
   "source": [
    "cars.sort() # .sort() is a \"doer\" not a \"returner\""
   ]
  },
  {
   "cell_type": "code",
   "execution_count": 273,
   "id": "71bab730-6f2c-4ec3-92de-feda301d5adf",
   "metadata": {},
   "outputs": [
    {
     "data": {
      "text/plain": [
       "4"
      ]
     },
     "execution_count": 273,
     "metadata": {},
     "output_type": "execute_result"
    }
   ],
   "source": [
    "len(cars)"
   ]
  },
  {
   "cell_type": "code",
   "execution_count": 274,
   "id": "12ab5bc7-ee59-48d5-92f6-97f27ce0f932",
   "metadata": {},
   "outputs": [],
   "source": [
    "cars = cars.sort()"
   ]
  },
  {
   "cell_type": "code",
   "execution_count": 275,
   "id": "babce505-7c55-4be6-80b1-3961afd1bf05",
   "metadata": {},
   "outputs": [
    {
     "name": "stdout",
     "output_type": "stream",
     "text": [
      "None\n"
     ]
    }
   ],
   "source": [
    "print(cars)"
   ]
  },
  {
   "cell_type": "code",
   "execution_count": 278,
   "id": "5d5bba1a-fb19-4073-9d80-17322080956a",
   "metadata": {},
   "outputs": [
    {
     "data": {
      "text/plain": [
       "['this', 'that', 'other']"
      ]
     },
     "execution_count": 278,
     "metadata": {},
     "output_type": "execute_result"
    }
   ],
   "source": [
    "things"
   ]
  },
  {
   "cell_type": "code",
   "execution_count": 279,
   "id": "3b839dac-62ab-409b-b1b5-8a4f3e36da5f",
   "metadata": {},
   "outputs": [],
   "source": [
    "len_of_things = len(things) # computes the length of things and RETURNS in"
   ]
  },
  {
   "cell_type": "code",
   "execution_count": 280,
   "id": "bddc18ba-ec61-4eb2-928e-0323366582b9",
   "metadata": {},
   "outputs": [
    {
     "name": "stdout",
     "output_type": "stream",
     "text": [
      "['this', 'that', 'other']\n"
     ]
    }
   ],
   "source": [
    "something_else = print(things) # prints out the list things (and RETURNS None)"
   ]
  },
  {
   "cell_type": "code",
   "execution_count": 281,
   "id": "251ae0eb-b53f-4180-9010-0b8abe978a01",
   "metadata": {},
   "outputs": [
    {
     "name": "stdout",
     "output_type": "stream",
     "text": [
      "None\n"
     ]
    }
   ],
   "source": [
    "print(something_else)"
   ]
  },
  {
   "cell_type": "code",
   "execution_count": 282,
   "id": "1aab5caf-925c-485e-9b30-5058692aa38c",
   "metadata": {},
   "outputs": [
    {
     "data": {
      "text/plain": [
       "True"
      ]
     },
     "execution_count": 282,
     "metadata": {},
     "output_type": "execute_result"
    }
   ],
   "source": [
    "something_else == None"
   ]
  },
  {
   "cell_type": "code",
   "execution_count": 283,
   "id": "543f8d31-f478-4eeb-a5b7-06bc1f4c3509",
   "metadata": {},
   "outputs": [
    {
     "data": {
      "text/plain": [
       "(4399451536, 4399451568)"
      ]
     },
     "execution_count": 283,
     "metadata": {},
     "output_type": "execute_result"
    }
   ],
   "source": [
    "id(True), id(False)"
   ]
  },
  {
   "cell_type": "code",
   "execution_count": 284,
   "id": "f9246b34-d0b2-4e26-90e7-e00fbf9b618d",
   "metadata": {},
   "outputs": [
    {
     "data": {
      "text/plain": [
       "4399538584"
      ]
     },
     "execution_count": 284,
     "metadata": {},
     "output_type": "execute_result"
    }
   ],
   "source": [
    "id(None)"
   ]
  },
  {
   "cell_type": "markdown",
   "id": "17f6e6f3-6dfb-4add-8ca9-84e10a362c94",
   "metadata": {},
   "source": [
    "## Quick Lab: Lists\n",
    "* Write a Python program to read in a list of items possibly containing duplicates, and then constructs a __new__ list containing the elements from the original list, in the order they were entered, but with duplicates only occurring ONCE in the new list, e.g.,\n",
    "<p/>\n",
    "<pre>\n",
    "Enter a list of items: <b>apple cherry banana apple lemon cherry lemon</b>\n",
    "apple cherry banana lemon"
   ]
  },
  {
   "cell_type": "code",
   "execution_count": 286,
   "id": "d10a3691-6c6c-45b3-8bbf-31572da93618",
   "metadata": {},
   "outputs": [],
   "source": [
    "# 1. get a string from the user and turn it into a list\n",
    "# 1a. create a new empty list\n",
    "# 2. for each item in the user's list:\n",
    "# 3.    if that item is NOT in the new list:\n",
    "# 4.       add it to the new list"
   ]
  },
  {
   "cell_type": "code",
   "execution_count": 289,
   "id": "6a5b0e1e-82d4-4d0f-bfbf-d0ca02e2970f",
   "metadata": {},
   "outputs": [
    {
     "name": "stdin",
     "output_type": "stream",
     "text": [
      "Enter a list of items:  apple cherry banana apple lemon cherry lemon\n"
     ]
    }
   ],
   "source": [
    "words = input('Enter a list of items: ').split() # 1: get input and split into a list "
   ]
  },
  {
   "cell_type": "code",
   "execution_count": 290,
   "id": "47f44ec8-297c-42b4-bc1a-ca3afb6cfe84",
   "metadata": {},
   "outputs": [
    {
     "data": {
      "text/plain": [
       "['apple', 'cherry', 'banana', 'apple', 'lemon', 'cherry', 'lemon']"
      ]
     },
     "execution_count": 290,
     "metadata": {},
     "output_type": "execute_result"
    }
   ],
   "source": [
    "words"
   ]
  },
  {
   "cell_type": "code",
   "execution_count": 291,
   "id": "2f849dd0-7b23-4afe-a620-1c6da0045bc5",
   "metadata": {
    "scrolled": true
   },
   "outputs": [
    {
     "data": {
      "text/plain": [
       "['apple', 'cherry', 'banana', 'lemon']"
      ]
     },
     "execution_count": 291,
     "metadata": {},
     "output_type": "execute_result"
    }
   ],
   "source": [
    "new_words = [] # 1a\n",
    "for word in words: # 2\n",
    "    if word not in new_words:\n",
    "        new_words.append(word)\n",
    "new_words"
   ]
  },
  {
   "cell_type": "markdown",
   "id": "937ce5ff-b7e6-4a6e-8f18-ecbd8421f7a5",
   "metadata": {},
   "source": [
    "## Group Lab: Lists\n",
    "* Write a Python program to maintain a list \n",
    "  * Read input until the user enters 'quit'\n",
    "  * Words that the user enters should be added to the list\n",
    "  * If a word begins with '-' (e.g., '-foo') it should be removed from the list\n",
    "  * If the user enters only a '-', the list should be reversed\n",
    "  * After each operation, print the list\n",
    "  * Extras:\n",
    "      * If user enters more than one word (e.g, __foo bar__), add \"foo\" and \"bar\" to the list, rather than \"foo bar\"\n",
    "      * Same for \"-\", i.e., __-foo bar__ would remove \"foo\" and \"bar\" from the  list"
   ]
  },
  {
   "cell_type": "code",
   "execution_count": 294,
   "id": "938c7c2a-0e4c-45ed-85c6-ccaf605665b1",
   "metadata": {},
   "outputs": [
    {
     "name": "stdin",
     "output_type": "stream",
     "text": [
      "Give me something:  apple\n"
     ]
    },
    {
     "name": "stdout",
     "output_type": "stream",
     "text": [
      "process apple\n"
     ]
    },
    {
     "name": "stdin",
     "output_type": "stream",
     "text": [
      "Give me something:  process\n"
     ]
    },
    {
     "name": "stdout",
     "output_type": "stream",
     "text": [
      "process process\n"
     ]
    },
    {
     "name": "stdin",
     "output_type": "stream",
     "text": [
      "Give me something:  fig\n"
     ]
    },
    {
     "name": "stdout",
     "output_type": "stream",
     "text": [
      "process fig\n"
     ]
    },
    {
     "name": "stdin",
     "output_type": "stream",
     "text": [
      "Give me something:  quit\n"
     ]
    }
   ],
   "source": [
    "response = '' # prime the pump; make this variable exist, so we can refer to it\n",
    "\n",
    "while response != 'quit': # what happens here?\n",
    "    response = input('Give me something: ')\n",
    "    if response == 'quit':\n",
    "        break\n",
    "    print('process', response) # process is a placeholder for something"
   ]
  },
  {
   "cell_type": "code",
   "execution_count": 295,
   "id": "19c1d3e5-c224-486b-b324-a551d72af90f",
   "metadata": {},
   "outputs": [
    {
     "name": "stdin",
     "output_type": "stream",
     "text": [
      "Give me something:  apple\n"
     ]
    },
    {
     "name": "stdout",
     "output_type": "stream",
     "text": [
      "process apple\n"
     ]
    },
    {
     "name": "stdin",
     "output_type": "stream",
     "text": [
      "Give me something:  fig\n"
     ]
    },
    {
     "name": "stdout",
     "output_type": "stream",
     "text": [
      "process fig\n"
     ]
    },
    {
     "name": "stdin",
     "output_type": "stream",
     "text": [
      "Give me something:  pear\n"
     ]
    },
    {
     "name": "stdout",
     "output_type": "stream",
     "text": [
      "process pear\n"
     ]
    },
    {
     "name": "stdin",
     "output_type": "stream",
     "text": [
      "Give me something:  quit\n"
     ]
    }
   ],
   "source": [
    "response = '' # prime the pump; make this variable exist, so we can refer to it\n",
    "\n",
    "while True: # forever! infinite loop\n",
    "    response = input('Give me something: ')\n",
    "    if response == 'quit':\n",
    "        break\n",
    "    print('process', response) # process i"
   ]
  },
  {
   "cell_type": "code",
   "execution_count": 305,
   "id": "fd3a26e7-305e-436c-9b6b-ea9d2dbc5c8e",
   "metadata": {},
   "outputs": [
    {
     "name": "stdin",
     "output_type": "stream",
     "text": [
      "Give me something:  quit\n"
     ]
    }
   ],
   "source": [
    "while (response := input('Give me something: ')) != 'quit':\n",
    "    print('process', response)"
   ]
  },
  {
   "cell_type": "code",
   "execution_count": 300,
   "id": "6190ece2-2c47-483c-9a31-48fcd1dd3fe3",
   "metadata": {},
   "outputs": [],
   "source": [
    "x = 1\n",
    "y = 25"
   ]
  },
  {
   "cell_type": "code",
   "execution_count": 301,
   "id": "587c2de5-9f0f-4884-b2d0-fdaf757f1bd9",
   "metadata": {},
   "outputs": [
    {
     "name": "stdout",
     "output_type": "stream",
     "text": [
      "yahoo\n"
     ]
    }
   ],
   "source": [
    "if (x := y) > 10:\n",
    "    print('yahoo')"
   ]
  },
  {
   "cell_type": "code",
   "execution_count": 346,
   "id": "6e2f084c-1c50-42e4-9834-e6feb7fa1b7d",
   "metadata": {},
   "outputs": [],
   "source": [
    "# 1. start w/an empty list\n",
    "# 2. read from user until 'quit':\n",
    "# 3.   add word/item to list\n",
    "# 4.   print out the list"
   ]
  },
  {
   "cell_type": "code",
   "execution_count": 306,
   "id": "87db2207-d592-417b-a200-bf2681074494",
   "metadata": {},
   "outputs": [
    {
     "name": "stdin",
     "output_type": "stream",
     "text": [
      "Give me something:  apple\n"
     ]
    },
    {
     "name": "stdout",
     "output_type": "stream",
     "text": [
      "['apple']\n"
     ]
    },
    {
     "name": "stdin",
     "output_type": "stream",
     "text": [
      "Give me something:  fig\n"
     ]
    },
    {
     "name": "stdout",
     "output_type": "stream",
     "text": [
      "['apple', 'fig']\n"
     ]
    },
    {
     "name": "stdin",
     "output_type": "stream",
     "text": [
      "Give me something:  pear\n"
     ]
    },
    {
     "name": "stdout",
     "output_type": "stream",
     "text": [
      "['apple', 'fig', 'pear']\n"
     ]
    },
    {
     "name": "stdin",
     "output_type": "stream",
     "text": [
      "Give me something:  quit\n"
     ]
    }
   ],
   "source": [
    "words = [] # 1 \n",
    "\n",
    "while (response := input('Give me something: ')) != 'quit': # 2\n",
    "    words.append(response) # 3\n",
    "    print(words) # 4"
   ]
  },
  {
   "cell_type": "code",
   "execution_count": 307,
   "id": "3aabba24-86f5-41f4-8761-ab632e985d0f",
   "metadata": {},
   "outputs": [
    {
     "data": {
      "text/plain": [
       "['apple', 'fig', 'pear']"
      ]
     },
     "execution_count": 307,
     "metadata": {},
     "output_type": "execute_result"
    }
   ],
   "source": [
    "words"
   ]
  },
  {
   "cell_type": "code",
   "execution_count": 311,
   "id": "894a7997-cade-480b-b40a-636a671973e3",
   "metadata": {},
   "outputs": [
    {
     "name": "stdout",
     "output_type": "stream",
     "text": [
      "apple, fig, pear\n"
     ]
    }
   ],
   "source": [
    "print(', '.join(words))"
   ]
  },
  {
   "cell_type": "code",
   "execution_count": 312,
   "id": "5d042721-dc5e-42c5-8847-cf8ec134609f",
   "metadata": {},
   "outputs": [
    {
     "name": "stdout",
     "output_type": "stream",
     "text": [
      "apple\n",
      "fig\n",
      "pear\n"
     ]
    }
   ],
   "source": [
    "print('\\n'.join(words))"
   ]
  },
  {
   "cell_type": "code",
   "execution_count": 315,
   "id": "e79e71c3-4d19-411d-9847-168a050875db",
   "metadata": {},
   "outputs": [
    {
     "name": "stdout",
     "output_type": "stream",
     "text": [
      "['apple', 'fig', 'pear']\n"
     ]
    }
   ],
   "source": [
    "print(words) # How many things are we printing?"
   ]
  },
  {
   "cell_type": "code",
   "execution_count": 317,
   "id": "04aa1788-589a-4416-b4db-c5e0cc7254ed",
   "metadata": {},
   "outputs": [
    {
     "name": "stdout",
     "output_type": "stream",
     "text": [
      "apple, fig, pear\n"
     ]
    }
   ],
   "source": [
    "print(words[0], words[1], words[2], sep=', ')"
   ]
  },
  {
   "cell_type": "code",
   "execution_count": 319,
   "id": "b9b91953-d603-466f-bfd5-bc1d3e96a3a0",
   "metadata": {},
   "outputs": [
    {
     "name": "stdout",
     "output_type": "stream",
     "text": [
      "apple, fig, pear\n"
     ]
    }
   ],
   "source": [
    "print(*words, sep=', ') # * = \"unpack\" operator, meaning it unpacks the container into the above"
   ]
  },
  {
   "cell_type": "code",
   "execution_count": 331,
   "id": "6b0b87dd-797e-4dbd-80e6-a768a6f1cd7c",
   "metadata": {},
   "outputs": [],
   "source": [
    "nums = list(range(1, 11)) # list-ify a range"
   ]
  },
  {
   "cell_type": "code",
   "execution_count": 332,
   "id": "2fedf2ef-b547-4cce-a9d4-60b9bb9da167",
   "metadata": {},
   "outputs": [
    {
     "data": {
      "text/plain": [
       "[1, 2, 3, 4, 5, 6, 7, 8, 9, 10]"
      ]
     },
     "execution_count": 332,
     "metadata": {},
     "output_type": "execute_result"
    }
   ],
   "source": [
    "nums"
   ]
  },
  {
   "cell_type": "code",
   "execution_count": 324,
   "id": "c4d4e32d-8d64-421a-8e8a-ce1f64d5f302",
   "metadata": {},
   "outputs": [
    {
     "name": "stdout",
     "output_type": "stream",
     "text": [
      "1 2 3 4 5 6 7 8 9 10 "
     ]
    }
   ],
   "source": [
    "for thing in range(1, 11):\n",
    "    print(thing, end=' ')"
   ]
  },
  {
   "cell_type": "code",
   "execution_count": 339,
   "id": "d94b7151-3345-4b51-81ef-6ad459d0e5b5",
   "metadata": {},
   "outputs": [],
   "source": [
    "first, *middle, last = nums"
   ]
  },
  {
   "cell_type": "code",
   "execution_count": 340,
   "id": "db6ab9c9-f52d-4558-a261-2bb85dc4b341",
   "metadata": {},
   "outputs": [],
   "source": [
    "first, second, *rest = nums"
   ]
  },
  {
   "cell_type": "code",
   "execution_count": 341,
   "id": "b9095040-93b6-4b0e-992d-0a3e58a77a52",
   "metadata": {},
   "outputs": [
    {
     "data": {
      "text/plain": [
       "1"
      ]
     },
     "execution_count": 341,
     "metadata": {},
     "output_type": "execute_result"
    }
   ],
   "source": [
    "first"
   ]
  },
  {
   "cell_type": "code",
   "execution_count": 342,
   "id": "90250972-9f9d-4ee1-a914-1be4a95a3a35",
   "metadata": {},
   "outputs": [
    {
     "data": {
      "text/plain": [
       "2"
      ]
     },
     "execution_count": 342,
     "metadata": {},
     "output_type": "execute_result"
    }
   ],
   "source": [
    "second"
   ]
  },
  {
   "cell_type": "code",
   "execution_count": 343,
   "id": "1bd12be4-135f-4c61-96f5-28096689df6e",
   "metadata": {},
   "outputs": [
    {
     "data": {
      "text/plain": [
       "[3, 4, 5, 6, 7, 8, 9, 10]"
      ]
     },
     "execution_count": 343,
     "metadata": {},
     "output_type": "execute_result"
    }
   ],
   "source": [
    "rest"
   ]
  },
  {
   "cell_type": "code",
   "execution_count": 345,
   "id": "6b13cfb3-42a7-4afb-b174-cb50bd7ebe4d",
   "metadata": {},
   "outputs": [
    {
     "name": "stdin",
     "output_type": "stream",
     "text": [
      "Give me something:  fig\n"
     ]
    },
    {
     "name": "stdout",
     "output_type": "stream",
     "text": [
      "fig\n"
     ]
    },
    {
     "name": "stdin",
     "output_type": "stream",
     "text": [
      "Give me something:  -fig\n"
     ]
    },
    {
     "name": "stdout",
     "output_type": "stream",
     "text": [
      "fig, -fig\n"
     ]
    },
    {
     "name": "stdin",
     "output_type": "stream",
     "text": [
      "Give me something:  hello\n"
     ]
    },
    {
     "name": "stdout",
     "output_type": "stream",
     "text": [
      "fig, -fig, hello\n"
     ]
    },
    {
     "name": "stdin",
     "output_type": "stream",
     "text": [
      "Give me something:  quit\n"
     ]
    }
   ],
   "source": [
    "words = [] # 1 \n",
    "\n",
    "while (response := input('Give me something: ')) != 'quit': # 2\n",
    "    words.append(response) # 3\n",
    "    print(*words, sep=', ') # 4"
   ]
  },
  {
   "cell_type": "code",
   "execution_count": 347,
   "id": "305f090f-ee5f-4816-801b-f0868718ab67",
   "metadata": {},
   "outputs": [],
   "source": [
    "# Now let's add the ability to remove something if it begins with -\n",
    "# 1.  start w/an empty list\n",
    "# 2.  read from user until 'quit':\n",
    "# 2a. if word begins with -:\n",
    "# 2b.     remove that word (but not the -)\n",
    "# 3.  else\n",
    "# 3a      add word/item to list\n",
    "# 4.  print out the list"
   ]
  },
  {
   "cell_type": "code",
   "execution_count": 356,
   "id": "4e203f1d-906f-493d-9a4b-39637e82612d",
   "metadata": {},
   "outputs": [
    {
     "name": "stdin",
     "output_type": "stream",
     "text": [
      "Give me something:  -apple\n"
     ]
    },
    {
     "ename": "ValueError",
     "evalue": "list.remove(x): x not in list",
     "output_type": "error",
     "traceback": [
      "\u001b[0;31m---------------------------------------------------------------------------\u001b[0m",
      "\u001b[0;31mValueError\u001b[0m                                Traceback (most recent call last)",
      "Cell \u001b[0;32mIn[356], line 5\u001b[0m\n\u001b[1;32m      3\u001b[0m \u001b[38;5;28;01mwhile\u001b[39;00m (response \u001b[38;5;241m:=\u001b[39m \u001b[38;5;28minput\u001b[39m(\u001b[38;5;124m'\u001b[39m\u001b[38;5;124mGive me something: \u001b[39m\u001b[38;5;124m'\u001b[39m)) \u001b[38;5;241m!=\u001b[39m \u001b[38;5;124m'\u001b[39m\u001b[38;5;124mquit\u001b[39m\u001b[38;5;124m'\u001b[39m: \u001b[38;5;66;03m# 2\u001b[39;00m\n\u001b[1;32m      4\u001b[0m     \u001b[38;5;28;01mif\u001b[39;00m response\u001b[38;5;241m.\u001b[39mstartswith(\u001b[38;5;124m'\u001b[39m\u001b[38;5;124m-\u001b[39m\u001b[38;5;124m'\u001b[39m): \u001b[38;5;66;03m# 2a\u001b[39;00m\n\u001b[0;32m----> 5\u001b[0m         \u001b[43mwords\u001b[49m\u001b[38;5;241;43m.\u001b[39;49m\u001b[43mremove\u001b[49m\u001b[43m(\u001b[49m\u001b[43mresponse\u001b[49m\u001b[43m[\u001b[49m\u001b[38;5;241;43m1\u001b[39;49m\u001b[43m:\u001b[49m\u001b[43m]\u001b[49m\u001b[43m)\u001b[49m \u001b[38;5;66;03m# 2b after we've omitted the -\u001b[39;00m\n\u001b[1;32m      6\u001b[0m     \u001b[38;5;28;01melse\u001b[39;00m: \u001b[38;5;66;03m# 3\u001b[39;00m\n\u001b[1;32m      7\u001b[0m         words\u001b[38;5;241m.\u001b[39mappend(response) \u001b[38;5;66;03m# 3a\u001b[39;00m\n",
      "\u001b[0;31mValueError\u001b[0m: list.remove(x): x not in list"
     ]
    }
   ],
   "source": [
    "words = [] # 1 \n",
    "\n",
    "while (response := input('Give me something: ')) != 'quit': # 2\n",
    "    if response.startswith('-'): # 2a\n",
    "        words.remove(response[1:]) # 2b after we've omitted the -\n",
    "    else: # 3\n",
    "        words.append(response) # 3a\n",
    "    print(*words, sep=', ') # 4"
   ]
  },
  {
   "cell_type": "code",
   "execution_count": 348,
   "id": "f70b225c-1ad0-4579-ae67-484239411e20",
   "metadata": {},
   "outputs": [
    {
     "data": {
      "text/plain": [
       "True"
      ]
     },
     "execution_count": 348,
     "metadata": {},
     "output_type": "execute_result"
    }
   ],
   "source": [
    "'-fig'.startswith('-')"
   ]
  },
  {
   "cell_type": "code",
   "execution_count": 349,
   "id": "b7d61371-d9b2-4ec7-b39a-7951ebaab7a2",
   "metadata": {},
   "outputs": [
    {
     "data": {
      "text/plain": [
       "'-'"
      ]
     },
     "execution_count": 349,
     "metadata": {},
     "output_type": "execute_result"
    }
   ],
   "source": [
    "'-fig'[0]"
   ]
  },
  {
   "cell_type": "code",
   "execution_count": 350,
   "id": "9170ce54-cbab-4beb-ab8d-e0ddf316885a",
   "metadata": {},
   "outputs": [
    {
     "data": {
      "text/plain": [
       "True"
      ]
     },
     "execution_count": 350,
     "metadata": {},
     "output_type": "execute_result"
    }
   ],
   "source": [
    "'-' in 'Star-Bucks'"
   ]
  },
  {
   "cell_type": "code",
   "execution_count": 359,
   "id": "a19983c1-1468-4fd0-a000-45860faa1af1",
   "metadata": {},
   "outputs": [
    {
     "name": "stdin",
     "output_type": "stream",
     "text": [
      "Give me something:  -apple\n"
     ]
    },
    {
     "name": "stdout",
     "output_type": "stream",
     "text": [
      "apple not in list!\n",
      "\n"
     ]
    },
    {
     "name": "stdin",
     "output_type": "stream",
     "text": [
      "Give me something:  fig\n"
     ]
    },
    {
     "name": "stdout",
     "output_type": "stream",
     "text": [
      "fig\n"
     ]
    },
    {
     "name": "stdin",
     "output_type": "stream",
     "text": [
      "Give me something:  pear\n"
     ]
    },
    {
     "name": "stdout",
     "output_type": "stream",
     "text": [
      "fig, pear\n"
     ]
    },
    {
     "name": "stdin",
     "output_type": "stream",
     "text": [
      "Give me something:  apple\n"
     ]
    },
    {
     "name": "stdout",
     "output_type": "stream",
     "text": [
      "fig, pear, apple\n"
     ]
    },
    {
     "name": "stdin",
     "output_type": "stream",
     "text": [
      "Give me something:  fig\n"
     ]
    },
    {
     "name": "stdout",
     "output_type": "stream",
     "text": [
      "fig, pear, apple, fig\n"
     ]
    },
    {
     "name": "stdin",
     "output_type": "stream",
     "text": [
      "Give me something:  -fig\n"
     ]
    },
    {
     "name": "stdout",
     "output_type": "stream",
     "text": [
      "fig, pear, apple\n"
     ]
    },
    {
     "name": "stdin",
     "output_type": "stream",
     "text": [
      "Give me something:  quit\n"
     ]
    }
   ],
   "source": [
    "words = [] # 1 \n",
    "\n",
    "while (response := input('Give me something: ')) != 'quit': # 2\n",
    "    if response.startswith('-'): # 2a\n",
    "        if response[1:] in words:\n",
    "            # let's reverse the list to remove the LAST instance, and then reverse it back\n",
    "            words.reverse()\n",
    "            words.remove(response[1:]) # 2b after we've omitted the -\n",
    "            words.reverse()\n",
    "        else:\n",
    "            print(response[1:], 'not in list!')\n",
    "    else: # 3\n",
    "        words.append(response) # 3a\n",
    "    print(*words, sep=', ') # 4"
   ]
  },
  {
   "cell_type": "code",
   "execution_count": 358,
   "id": "03255308-1b53-4365-82d8-3b5d49fa7fd4",
   "metadata": {},
   "outputs": [
    {
     "name": "stdout",
     "output_type": "stream",
     "text": [
      "Help on method_descriptor:\n",
      "\n",
      "remove(self, value, /)\n",
      "    Remove first occurrence of value.\n",
      "\n",
      "    Raises ValueError if the value is not present.\n",
      "\n"
     ]
    }
   ],
   "source": [
    "help(list.remove)"
   ]
  },
  {
   "cell_type": "code",
   "execution_count": 360,
   "id": "250d11c8-1647-492c-9544-b4e3a0e58fa2",
   "metadata": {},
   "outputs": [
    {
     "name": "stdin",
     "output_type": "stream",
     "text": [
      "Give me something:  apple\n"
     ]
    },
    {
     "name": "stdout",
     "output_type": "stream",
     "text": [
      "apple\n"
     ]
    },
    {
     "name": "stdin",
     "output_type": "stream",
     "text": [
      "Give me something:  fig\n"
     ]
    },
    {
     "name": "stdout",
     "output_type": "stream",
     "text": [
      "apple, fig\n"
     ]
    },
    {
     "name": "stdin",
     "output_type": "stream",
     "text": [
      "Give me something:  pear\n"
     ]
    },
    {
     "name": "stdout",
     "output_type": "stream",
     "text": [
      "apple, fig, pear\n"
     ]
    },
    {
     "name": "stdin",
     "output_type": "stream",
     "text": [
      "Give me something:  apple\n"
     ]
    },
    {
     "name": "stdout",
     "output_type": "stream",
     "text": [
      "apple, fig, pear, apple\n"
     ]
    },
    {
     "name": "stdin",
     "output_type": "stream",
     "text": [
      "Give me something:  fig\n"
     ]
    },
    {
     "name": "stdout",
     "output_type": "stream",
     "text": [
      "apple, fig, pear, apple, fig\n"
     ]
    },
    {
     "name": "stdin",
     "output_type": "stream",
     "text": [
      "Give me something:  fig\n"
     ]
    },
    {
     "name": "stdout",
     "output_type": "stream",
     "text": [
      "apple, fig, pear, apple, fig, fig\n"
     ]
    },
    {
     "name": "stdin",
     "output_type": "stream",
     "text": [
      "Give me something:  lemon\n"
     ]
    },
    {
     "name": "stdout",
     "output_type": "stream",
     "text": [
      "apple, fig, pear, apple, fig, fig, lemon\n"
     ]
    },
    {
     "name": "stdin",
     "output_type": "stream",
     "text": [
      "Give me something:  lime\n"
     ]
    },
    {
     "name": "stdout",
     "output_type": "stream",
     "text": [
      "apple, fig, pear, apple, fig, fig, lemon, lime\n"
     ]
    },
    {
     "name": "stdin",
     "output_type": "stream",
     "text": [
      "Give me something:  -fig\n"
     ]
    },
    {
     "name": "stdout",
     "output_type": "stream",
     "text": [
      "apple, pear, apple, lemon, lime\n"
     ]
    },
    {
     "name": "stdin",
     "output_type": "stream",
     "text": [
      "Give me something:  -fig\n"
     ]
    },
    {
     "name": "stdout",
     "output_type": "stream",
     "text": [
      "fig not in list!\n",
      "apple, pear, apple, lemon, lime\n"
     ]
    },
    {
     "name": "stdin",
     "output_type": "stream",
     "text": [
      "Give me something:  quit\n"
     ]
    }
   ],
   "source": [
    "words = [] # 1 \n",
    "\n",
    "while (response := input('Give me something: ')) != 'quit': # 2\n",
    "    if response.startswith('-'): # 2a\n",
    "        if response[1:] not in words:\n",
    "            print(response[1:], 'not in list!')\n",
    "        else: # it must be in there...\n",
    "            # let's remove all instances, not just the first\n",
    "            while response[1:] in words:\n",
    "                words.remove(response[1:]) # 2b after we've omitted the -\n",
    "    else: # 3\n",
    "        words.append(response) # 3a\n",
    "    print(*words, sep=', ') # 4"
   ]
  },
  {
   "cell_type": "code",
   "execution_count": 362,
   "id": "b6202081-5521-446e-8f14-06c93bdf5848",
   "metadata": {},
   "outputs": [
    {
     "name": "stdin",
     "output_type": "stream",
     "text": [
      "Give me something:  foo bar\n"
     ]
    },
    {
     "name": "stdout",
     "output_type": "stream",
     "text": [
      "foo bar\n"
     ]
    },
    {
     "name": "stdin",
     "output_type": "stream",
     "text": [
      "Give me something:  apple\n"
     ]
    },
    {
     "name": "stdout",
     "output_type": "stream",
     "text": [
      "foo bar, apple\n"
     ]
    },
    {
     "name": "stdin",
     "output_type": "stream",
     "text": [
      "Give me something:  fig\n"
     ]
    },
    {
     "name": "stdout",
     "output_type": "stream",
     "text": [
      "foo bar, apple, fig\n"
     ]
    },
    {
     "name": "stdin",
     "output_type": "stream",
     "text": [
      "Give me something:  -apple fig\n"
     ]
    },
    {
     "name": "stdout",
     "output_type": "stream",
     "text": [
      "apple fig not in list!\n",
      "foo bar, apple, fig\n"
     ]
    },
    {
     "name": "stdin",
     "output_type": "stream",
     "text": [
      "Give me something:  quit\n"
     ]
    }
   ],
   "source": [
    "# add ability to reverse list with -\n",
    "words = [] # 1 \n",
    "\n",
    "while (response := input('Give me something: ')) != 'quit': # 2\n",
    "    if response.startswith('-'): # 2a, stars with -\n",
    "        if response == '-': # exactly equal to -\n",
    "            words.reverse()\n",
    "        elif response[1:] not in words:\n",
    "            print(response[1:], 'not in list!')\n",
    "        else: # it must be in there...\n",
    "            # let's remove all instances, not just the first\n",
    "            while response[1:] in words:\n",
    "                words.remove(response[1:]) # 2b after we've omitted the -\n",
    "    else: # 3\n",
    "        words.append(response) # 3a\n",
    "    print(*words, sep=', ') # 4"
   ]
  },
  {
   "cell_type": "code",
   "execution_count": 375,
   "id": "73711dc2-7d02-415e-a973-4491d57cbdd0",
   "metadata": {},
   "outputs": [
    {
     "name": "stdin",
     "output_type": "stream",
     "text": [
      "Give me something:  apple\n"
     ]
    },
    {
     "name": "stdout",
     "output_type": "stream",
     "text": [
      "apple\n"
     ]
    },
    {
     "name": "stdin",
     "output_type": "stream",
     "text": [
      "Give me something:  \n"
     ]
    },
    {
     "name": "stdout",
     "output_type": "stream",
     "text": [
      "apple\n"
     ]
    },
    {
     "name": "stdin",
     "output_type": "stream",
     "text": [
      "Give me something:  \n"
     ]
    },
    {
     "name": "stdout",
     "output_type": "stream",
     "text": [
      "apple\n"
     ]
    },
    {
     "name": "stdin",
     "output_type": "stream",
     "text": [
      "Give me something:  \n"
     ]
    },
    {
     "name": "stdout",
     "output_type": "stream",
     "text": [
      "apple\n"
     ]
    },
    {
     "name": "stdin",
     "output_type": "stream",
     "text": [
      "Give me something:  \n"
     ]
    },
    {
     "name": "stdout",
     "output_type": "stream",
     "text": [
      "apple\n"
     ]
    },
    {
     "name": "stdin",
     "output_type": "stream",
     "text": [
      "Give me something:  \n"
     ]
    },
    {
     "name": "stdout",
     "output_type": "stream",
     "text": [
      "apple\n"
     ]
    },
    {
     "name": "stdin",
     "output_type": "stream",
     "text": [
      "Give me something:  \n"
     ]
    },
    {
     "name": "stdout",
     "output_type": "stream",
     "text": [
      "apple\n"
     ]
    },
    {
     "name": "stdin",
     "output_type": "stream",
     "text": [
      "Give me something:  \n"
     ]
    },
    {
     "name": "stdout",
     "output_type": "stream",
     "text": [
      "apple\n"
     ]
    },
    {
     "name": "stdin",
     "output_type": "stream",
     "text": [
      "Give me something:  quit\n"
     ]
    }
   ],
   "source": [
    "# add ability to reverse list with -\n",
    "words = [] # 1 \n",
    "\n",
    "while (response := input('Give me something: ')) != 'quit': # 2\n",
    "    if response.startswith('-'): # 2a, stars with -\n",
    "        if response == '-': # exactly equal to -\n",
    "            if len(words) > 1:\n",
    "                words.reverse()\n",
    "            else:\n",
    "                print('Cannot reverse a list with 0 or 1 items!')\n",
    "        else: # at this point we not only start with a -, but there's stuff after it\n",
    "            for word in response[1:].split(): # for each word after the -\n",
    "                if word not in words:\n",
    "                    print(word, 'not in list!')\n",
    "                else: # it must be in there...\n",
    "                    # let's remove all instances, not just the first\n",
    "                    while word in words:\n",
    "                        words.remove(word) # 2b after we've omitted the -\n",
    "    else: # 3\n",
    "        words.extend(response.split()) # 3a\n",
    "    print(*words, sep=', ') # 4"
   ]
  },
  {
   "cell_type": "code",
   "execution_count": 363,
   "id": "1a59c5e3-0333-4fe4-8c60-39c717b80f49",
   "metadata": {},
   "outputs": [
    {
     "data": {
      "text/plain": [
       "['quit']"
      ]
     },
     "execution_count": 363,
     "metadata": {},
     "output_type": "execute_result"
    }
   ],
   "source": [
    "'quit'.split()"
   ]
  },
  {
   "cell_type": "code",
   "execution_count": 364,
   "id": "3c4ec3e7-6e67-48d2-9456-a55b9b037b11",
   "metadata": {},
   "outputs": [
    {
     "data": {
      "text/plain": [
       "['foo', 'bar']"
      ]
     },
     "execution_count": 364,
     "metadata": {},
     "output_type": "execute_result"
    }
   ],
   "source": [
    "'foo bar'.split()"
   ]
  },
  {
   "cell_type": "code",
   "execution_count": 365,
   "id": "8b111139-62c0-4133-b5f3-89a3e9aad0c3",
   "metadata": {},
   "outputs": [],
   "source": [
    "somelist = []"
   ]
  },
  {
   "cell_type": "code",
   "execution_count": 366,
   "id": "5f0d8203-4d13-4dd7-928b-2348de6b04e5",
   "metadata": {},
   "outputs": [],
   "source": [
    "somelist.extend('foo bar'.split())"
   ]
  },
  {
   "cell_type": "code",
   "execution_count": 367,
   "id": "5316454d-7aff-4d0b-a08e-54ef4749d6f8",
   "metadata": {},
   "outputs": [
    {
     "data": {
      "text/plain": [
       "['foo', 'bar']"
      ]
     },
     "execution_count": 367,
     "metadata": {},
     "output_type": "execute_result"
    }
   ],
   "source": [
    "somelist"
   ]
  },
  {
   "cell_type": "code",
   "execution_count": 368,
   "id": "224c33f0-d797-41cb-b021-158cfeafa95e",
   "metadata": {},
   "outputs": [
    {
     "data": {
      "text/plain": [
       "['foo']"
      ]
     },
     "execution_count": 368,
     "metadata": {},
     "output_type": "execute_result"
    }
   ],
   "source": [
    "'foo'.split()"
   ]
  },
  {
   "cell_type": "code",
   "execution_count": 376,
   "id": "78e37dec-2e6c-4d0b-92a6-85ae8333ff1f",
   "metadata": {},
   "outputs": [
    {
     "data": {
      "text/plain": [
       "[]"
      ]
     },
     "execution_count": 376,
     "metadata": {},
     "output_type": "execute_result"
    }
   ],
   "source": [
    "''.split()"
   ]
  },
  {
   "cell_type": "code",
   "execution_count": 379,
   "id": "f69b5563-a9d0-45a3-aa51-209f05483507",
   "metadata": {
    "collapsed": true,
    "jupyter": {
     "outputs_hidden": true
    },
    "scrolled": true
   },
   "outputs": [
    {
     "name": "stdin",
     "output_type": "stream",
     "text": [
      "Give me something:  -dsjkjds\n"
     ]
    },
    {
     "name": "stdout",
     "output_type": "stream",
     "text": [
      "dsjkjds not in list!\n",
      "\n"
     ]
    },
    {
     "name": "stdin",
     "output_type": "stream",
     "text": [
      "Give me something:  a b c d\n"
     ]
    },
    {
     "name": "stdout",
     "output_type": "stream",
     "text": [
      "a, b, c, d\n"
     ]
    },
    {
     "name": "stdin",
     "output_type": "stream",
     "text": [
      "Give me something:  -\n"
     ]
    },
    {
     "name": "stdout",
     "output_type": "stream",
     "text": [
      "d, c, b, a\n"
     ]
    },
    {
     "name": "stdin",
     "output_type": "stream",
     "text": [
      "Give me something:  quit\n"
     ]
    }
   ],
   "source": [
    "# add ability to reverse list with -\n",
    "words = [] # 1 \n",
    "\n",
    "while (response := input('Give me something: ')) != 'quit': # 2\n",
    "    if response == '':\n",
    "        print('No response...try again!')\n",
    "        continue\n",
    "    if response[0] == '-': # 2a, stars with -\n",
    "        if response == '-': # exactly equal to -\n",
    "            if len(words) > 1:\n",
    "                words.reverse()\n",
    "            else:\n",
    "                print('Cannot reverse a list with 0 or 1 items!')\n",
    "        else: # at this point we not only start with a -, but there's stuff after it\n",
    "            for word in response[1:].split(): # for each word after the -\n",
    "                if word not in words:\n",
    "                    print(word, 'not in list!')\n",
    "                else: # it must be in there...\n",
    "                    # let's remove all instances, not just the first\n",
    "                    while word in words:\n",
    "                        words.remove(word) # 2b after we've omitted the -\n",
    "    else: # 3\n",
    "        words.extend(response.split()) # 3a\n",
    "    print(*words, sep=', ') # 4"
   ]
  },
  {
   "cell_type": "code",
   "execution_count": 380,
   "id": "7e2eb8e8-6528-4550-80ae-dc97a906b04e",
   "metadata": {},
   "outputs": [
    {
     "name": "stdout",
     "output_type": "stream",
     "text": [
      "yep\n"
     ]
    }
   ],
   "source": [
    "if 5 > 3: # Boolean context\n",
    "    print('yep')"
   ]
  },
  {
   "cell_type": "code",
   "execution_count": 381,
   "id": "78391f3b-626d-4d58-b306-22dcd0d1b2e6",
   "metadata": {},
   "outputs": [
    {
     "name": "stdout",
     "output_type": "stream",
     "text": [
      "yep\n"
     ]
    }
   ],
   "source": [
    "if 5: # can 5 be considered True, i.e., is it non-zero?\n",
    "    print('yep')"
   ]
  },
  {
   "cell_type": "code",
   "execution_count": 382,
   "id": "187d9c73-cbbe-4a8d-9ad5-9bfad7ea5f58",
   "metadata": {},
   "outputs": [
    {
     "name": "stdout",
     "output_type": "stream",
     "text": [
      "yep\n"
     ]
    }
   ],
   "source": [
    "if -3:\n",
    "    print('yep')"
   ]
  },
  {
   "cell_type": "code",
   "execution_count": 383,
   "id": "c0568ef5-2d92-49e9-b132-205dee96832f",
   "metadata": {},
   "outputs": [],
   "source": [
    "if 0.0:\n",
    "    print('nope')"
   ]
  },
  {
   "cell_type": "code",
   "execution_count": 384,
   "id": "5e0c56d9-5385-42ca-92d2-4662fec7da0d",
   "metadata": {},
   "outputs": [],
   "source": [
    "if []:\n",
    "    print('nope')"
   ]
  },
  {
   "cell_type": "code",
   "execution_count": 385,
   "id": "012bb8d0-7844-45a5-a381-eb8abacd6257",
   "metadata": {},
   "outputs": [
    {
     "name": "stdout",
     "output_type": "stream",
     "text": [
      "yep\n"
     ]
    }
   ],
   "source": [
    "if 'non-empty string':\n",
    "    print('yep')"
   ]
  },
  {
   "cell_type": "code",
   "execution_count": 386,
   "id": "136893e4-86a6-4dc9-8f9c-0cb0e230d9b4",
   "metadata": {},
   "outputs": [],
   "source": [
    "if None:\n",
    "    print('nope')"
   ]
  },
  {
   "cell_type": "code",
   "execution_count": 387,
   "id": "ec3210e7-cc76-4933-8970-b609a5b9758d",
   "metadata": {},
   "outputs": [
    {
     "name": "stdout",
     "output_type": "stream",
     "text": [
      "print does not return anything; ergo None will be returned\n"
     ]
    }
   ],
   "source": [
    "return_val = print('print does not return anything; ergo None will be returned')"
   ]
  },
  {
   "cell_type": "code",
   "execution_count": 389,
   "id": "7a1d34a0-7199-40ae-92a6-397d4bbcd861",
   "metadata": {},
   "outputs": [
    {
     "name": "stdout",
     "output_type": "stream",
     "text": [
      "None\n"
     ]
    }
   ],
   "source": [
    "print(return_val)"
   ]
  },
  {
   "cell_type": "code",
   "execution_count": 390,
   "id": "6026c6e3-403b-4bb1-94ef-93952885d2b7",
   "metadata": {},
   "outputs": [],
   "source": [
    "if return_val:\n",
    "    print('do something')"
   ]
  },
  {
   "cell_type": "code",
   "execution_count": 392,
   "id": "7e9cb835-2b77-44a3-9b59-84359c670129",
   "metadata": {},
   "outputs": [],
   "source": [
    "x = 1"
   ]
  },
  {
   "cell_type": "code",
   "execution_count": 393,
   "id": "6ba60bb4-8eab-48ae-90ea-b6466a6b2df4",
   "metadata": {},
   "outputs": [
    {
     "data": {
      "text/plain": [
       "True"
      ]
     },
     "execution_count": 393,
     "metadata": {},
     "output_type": "execute_result"
    }
   ],
   "source": [
    "x is x"
   ]
  },
  {
   "cell_type": "code",
   "execution_count": 394,
   "id": "67e1a24d-7418-4566-b1db-f5dce4e7ede3",
   "metadata": {},
   "outputs": [
    {
     "data": {
      "text/plain": [
       "True"
      ]
     },
     "execution_count": 394,
     "metadata": {},
     "output_type": "execute_result"
    }
   ],
   "source": [
    "x == x"
   ]
  },
  {
   "cell_type": "code",
   "execution_count": 395,
   "id": "bd74d41a-1eb7-469e-b99c-e69d7065d2e1",
   "metadata": {},
   "outputs": [
    {
     "data": {
      "text/plain": [
       "False"
      ]
     },
     "execution_count": 395,
     "metadata": {},
     "output_type": "execute_result"
    }
   ],
   "source": [
    "False == True"
   ]
  },
  {
   "cell_type": "code",
   "execution_count": 396,
   "id": "74f0a80b-7efe-4b20-b93f-6e71bd754db0",
   "metadata": {},
   "outputs": [
    {
     "data": {
      "text/plain": [
       "False"
      ]
     },
     "execution_count": 396,
     "metadata": {},
     "output_type": "execute_result"
    }
   ],
   "source": [
    "False == None"
   ]
  },
  {
   "cell_type": "code",
   "execution_count": 397,
   "id": "3ba6dd60-3984-49eb-8632-1a9487a6caa8",
   "metadata": {},
   "outputs": [
    {
     "data": {
      "text/plain": [
       "False"
      ]
     },
     "execution_count": 397,
     "metadata": {},
     "output_type": "execute_result"
    }
   ],
   "source": [
    "False is None"
   ]
  },
  {
   "cell_type": "code",
   "execution_count": null,
   "id": "e656697b-d395-4ff0-ac87-c16c7c59a145",
   "metadata": {},
   "outputs": [],
   "source": [
    "# add ability to reverse list with -\n",
    "words = [] # 1 \n",
    "\n",
    "while (response := input('Give me something: ')) != 'quit': # 2\n",
    "    if not response: # equivalent to if response == ''\n",
    "        print('No response...try again!')\n",
    "        continue\n",
    "    if response[0] == '-': # 2a, stars with -\n",
    "        if response == '-': # exactly equal to -\n",
    "            if len(words) > 1:\n",
    "                words.reverse()\n",
    "            else:\n",
    "                print('Cannot reverse a list with 0 or 1 items!')\n",
    "        else: # at this point we not only start with a -, but there's stuff after it\n",
    "            for word in response[1:].split(): # for each word after the -\n",
    "                if word not in words:\n",
    "                    print(word, 'not in list!')\n",
    "                else: # it must be in there...\n",
    "                    # let's remove all instances, not just the first\n",
    "                    while word in words:\n",
    "                        words.remove(word) # 2b after we've omitted the -\n",
    "    else: # 3\n",
    "        words.extend(response.split()) # 3a\n",
    "    print(*words, sep=', ') # 4"
   ]
  },
  {
   "cell_type": "code",
   "execution_count": 400,
   "id": "2a8e36ae-5d15-4da7-9365-43d38a7153b8",
   "metadata": {},
   "outputs": [
    {
     "data": {
      "text/plain": [
       "['False',\n",
       " 'None',\n",
       " 'True',\n",
       " 'and',\n",
       " 'as',\n",
       " 'assert',\n",
       " 'async',\n",
       " 'await',\n",
       " 'break',\n",
       " 'class',\n",
       " 'continue',\n",
       " 'def',\n",
       " 'del',\n",
       " 'elif',\n",
       " 'else',\n",
       " 'except',\n",
       " 'finally',\n",
       " 'for',\n",
       " 'from',\n",
       " 'global',\n",
       " 'if',\n",
       " 'import',\n",
       " 'in',\n",
       " 'is',\n",
       " 'lambda',\n",
       " 'nonlocal',\n",
       " 'not',\n",
       " 'or',\n",
       " 'pass',\n",
       " 'raise',\n",
       " 'return',\n",
       " 'try',\n",
       " 'while',\n",
       " 'with',\n",
       " 'yield']"
      ]
     },
     "execution_count": 400,
     "metadata": {},
     "output_type": "execute_result"
    }
   ],
   "source": [
    "import keyword\n",
    "keyword.kwlist"
   ]
  },
  {
   "cell_type": "code",
   "execution_count": 401,
   "id": "a8c6add4-a688-4da1-bd34-74c8ca8ccc52",
   "metadata": {},
   "outputs": [],
   "source": [
    "nums = 'one two three'.split()"
   ]
  },
  {
   "cell_type": "code",
   "execution_count": 402,
   "id": "16170bdb-cd90-47b1-b728-8e37f9e959f3",
   "metadata": {},
   "outputs": [
    {
     "data": {
      "text/plain": [
       "['one', 'two', 'three']"
      ]
     },
     "execution_count": 402,
     "metadata": {},
     "output_type": "execute_result"
    }
   ],
   "source": [
    "nums"
   ]
  },
  {
   "cell_type": "code",
   "execution_count": 403,
   "id": "03d837d4-8483-4034-b9f4-6815d4aa4bf8",
   "metadata": {},
   "outputs": [
    {
     "data": {
      "text/plain": [
       "<enumerate at 0x115c12980>"
      ]
     },
     "execution_count": 403,
     "metadata": {},
     "output_type": "execute_result"
    }
   ],
   "source": [
    "enumerate(nums)"
   ]
  },
  {
   "cell_type": "code",
   "execution_count": 405,
   "id": "773d790a-de65-4946-a359-024aaece22a7",
   "metadata": {},
   "outputs": [
    {
     "data": {
      "text/plain": [
       "\"['one', 'two', 'three']\""
      ]
     },
     "execution_count": 405,
     "metadata": {},
     "output_type": "execute_result"
    }
   ],
   "source": [
    "str(nums)"
   ]
  },
  {
   "cell_type": "code",
   "execution_count": 406,
   "id": "991cf1cf-a67d-40ad-ad68-a0b88f8076ac",
   "metadata": {},
   "outputs": [
    {
     "data": {
      "text/plain": [
       "['ArithmeticError',\n",
       " 'AssertionError',\n",
       " 'AttributeError',\n",
       " 'BaseException',\n",
       " 'BaseExceptionGroup',\n",
       " 'BlockingIOError',\n",
       " 'BrokenPipeError',\n",
       " 'BufferError',\n",
       " 'BytesWarning',\n",
       " 'ChildProcessError',\n",
       " 'ConnectionAbortedError',\n",
       " 'ConnectionError',\n",
       " 'ConnectionRefusedError',\n",
       " 'ConnectionResetError',\n",
       " 'DeprecationWarning',\n",
       " 'EOFError',\n",
       " 'Ellipsis',\n",
       " 'EncodingWarning',\n",
       " 'EnvironmentError',\n",
       " 'Exception',\n",
       " 'ExceptionGroup',\n",
       " 'False',\n",
       " 'FileExistsError',\n",
       " 'FileNotFoundError',\n",
       " 'FloatingPointError',\n",
       " 'FutureWarning',\n",
       " 'GeneratorExit',\n",
       " 'IOError',\n",
       " 'ImportError',\n",
       " 'ImportWarning',\n",
       " 'IndentationError',\n",
       " 'IndexError',\n",
       " 'InterruptedError',\n",
       " 'IsADirectoryError',\n",
       " 'KeyError',\n",
       " 'KeyboardInterrupt',\n",
       " 'LookupError',\n",
       " 'MemoryError',\n",
       " 'ModuleNotFoundError',\n",
       " 'NameError',\n",
       " 'None',\n",
       " 'NotADirectoryError',\n",
       " 'NotImplemented',\n",
       " 'NotImplementedError',\n",
       " 'OSError',\n",
       " 'OverflowError',\n",
       " 'PendingDeprecationWarning',\n",
       " 'PermissionError',\n",
       " 'ProcessLookupError',\n",
       " 'RecursionError',\n",
       " 'ReferenceError',\n",
       " 'ResourceWarning',\n",
       " 'RuntimeError',\n",
       " 'RuntimeWarning',\n",
       " 'StopAsyncIteration',\n",
       " 'StopIteration',\n",
       " 'SyntaxError',\n",
       " 'SyntaxWarning',\n",
       " 'SystemError',\n",
       " 'SystemExit',\n",
       " 'TabError',\n",
       " 'TimeoutError',\n",
       " 'True',\n",
       " 'TypeError',\n",
       " 'UnboundLocalError',\n",
       " 'UnicodeDecodeError',\n",
       " 'UnicodeEncodeError',\n",
       " 'UnicodeError',\n",
       " 'UnicodeTranslateError',\n",
       " 'UnicodeWarning',\n",
       " 'UserWarning',\n",
       " 'ValueError',\n",
       " 'Warning',\n",
       " 'ZeroDivisionError',\n",
       " '__IPYTHON__',\n",
       " '__build_class__',\n",
       " '__debug__',\n",
       " '__doc__',\n",
       " '__import__',\n",
       " '__loader__',\n",
       " '__name__',\n",
       " '__package__',\n",
       " '__spec__',\n",
       " 'abs',\n",
       " 'aiter',\n",
       " 'all',\n",
       " 'anext',\n",
       " 'any',\n",
       " 'ascii',\n",
       " 'bin',\n",
       " 'bool',\n",
       " 'breakpoint',\n",
       " 'bytearray',\n",
       " 'bytes',\n",
       " 'callable',\n",
       " 'chr',\n",
       " 'classmethod',\n",
       " 'compile',\n",
       " 'complex',\n",
       " 'copyright',\n",
       " 'credits',\n",
       " 'delattr',\n",
       " 'dict',\n",
       " 'dir',\n",
       " 'display',\n",
       " 'divmod',\n",
       " 'enumerate',\n",
       " 'eval',\n",
       " 'exec',\n",
       " 'execfile',\n",
       " 'filter',\n",
       " 'float',\n",
       " 'format',\n",
       " 'frozenset',\n",
       " 'get_ipython',\n",
       " 'getattr',\n",
       " 'globals',\n",
       " 'hasattr',\n",
       " 'hash',\n",
       " 'help',\n",
       " 'hex',\n",
       " 'id',\n",
       " 'input',\n",
       " 'int',\n",
       " 'isinstance',\n",
       " 'issubclass',\n",
       " 'iter',\n",
       " 'len',\n",
       " 'license',\n",
       " 'list',\n",
       " 'locals',\n",
       " 'map',\n",
       " 'max',\n",
       " 'memoryview',\n",
       " 'min',\n",
       " 'next',\n",
       " 'object',\n",
       " 'oct',\n",
       " 'open',\n",
       " 'ord',\n",
       " 'pow',\n",
       " 'print',\n",
       " 'property',\n",
       " 'range',\n",
       " 'repr',\n",
       " 'reversed',\n",
       " 'round',\n",
       " 'runfile',\n",
       " 'set',\n",
       " 'setattr',\n",
       " 'slice',\n",
       " 'sorted',\n",
       " 'staticmethod',\n",
       " 'str',\n",
       " 'sum',\n",
       " 'super',\n",
       " 'tuple',\n",
       " 'type',\n",
       " 'vars',\n",
       " 'zip']"
      ]
     },
     "execution_count": 406,
     "metadata": {},
     "output_type": "execute_result"
    }
   ],
   "source": [
    "dir(__builtins__)"
   ]
  },
  {
   "cell_type": "code",
   "execution_count": 417,
   "id": "022054f8-3842-4b82-a2cf-a97162451f65",
   "metadata": {},
   "outputs": [
    {
     "name": "stdout",
     "output_type": "stream",
     "text": [
      "ArithmeticError <class 'str'>\n",
      "AssertionError <class 'str'>\n",
      "AttributeError <class 'str'>\n",
      "BaseException <class 'str'>\n",
      "BaseExceptionGroup <class 'str'>\n",
      "BlockingIOError <class 'str'>\n",
      "BrokenPipeError <class 'str'>\n",
      "BufferError <class 'str'>\n",
      "BytesWarning <class 'str'>\n",
      "ChildProcessError <class 'str'>\n",
      "ConnectionAbortedError <class 'str'>\n",
      "ConnectionError <class 'str'>\n",
      "ConnectionRefusedError <class 'str'>\n",
      "ConnectionResetError <class 'str'>\n",
      "DeprecationWarning <class 'str'>\n",
      "EOFError <class 'str'>\n",
      "Ellipsis <class 'str'>\n",
      "EncodingWarning <class 'str'>\n",
      "EnvironmentError <class 'str'>\n",
      "Exception <class 'str'>\n",
      "ExceptionGroup <class 'str'>\n",
      "False <class 'str'>\n",
      "FileExistsError <class 'str'>\n",
      "FileNotFoundError <class 'str'>\n",
      "FloatingPointError <class 'str'>\n",
      "FutureWarning <class 'str'>\n",
      "GeneratorExit <class 'str'>\n",
      "IOError <class 'str'>\n",
      "ImportError <class 'str'>\n",
      "ImportWarning <class 'str'>\n",
      "IndentationError <class 'str'>\n",
      "IndexError <class 'str'>\n",
      "InterruptedError <class 'str'>\n",
      "IsADirectoryError <class 'str'>\n",
      "KeyError <class 'str'>\n",
      "KeyboardInterrupt <class 'str'>\n",
      "LookupError <class 'str'>\n",
      "MemoryError <class 'str'>\n",
      "ModuleNotFoundError <class 'str'>\n",
      "NameError <class 'str'>\n",
      "None <class 'str'>\n",
      "NotADirectoryError <class 'str'>\n",
      "NotImplemented <class 'str'>\n",
      "NotImplementedError <class 'str'>\n",
      "OSError <class 'str'>\n",
      "OverflowError <class 'str'>\n",
      "PendingDeprecationWarning <class 'str'>\n",
      "PermissionError <class 'str'>\n",
      "ProcessLookupError <class 'str'>\n",
      "RecursionError <class 'str'>\n",
      "ReferenceError <class 'str'>\n",
      "ResourceWarning <class 'str'>\n",
      "RuntimeError <class 'str'>\n",
      "RuntimeWarning <class 'str'>\n",
      "StopAsyncIteration <class 'str'>\n",
      "StopIteration <class 'str'>\n",
      "SyntaxError <class 'str'>\n",
      "SyntaxWarning <class 'str'>\n",
      "SystemError <class 'str'>\n",
      "SystemExit <class 'str'>\n",
      "TabError <class 'str'>\n",
      "TimeoutError <class 'str'>\n",
      "True <class 'str'>\n",
      "TypeError <class 'str'>\n",
      "UnboundLocalError <class 'str'>\n",
      "UnicodeDecodeError <class 'str'>\n",
      "UnicodeEncodeError <class 'str'>\n",
      "UnicodeError <class 'str'>\n",
      "UnicodeTranslateError <class 'str'>\n",
      "UnicodeWarning <class 'str'>\n",
      "UserWarning <class 'str'>\n",
      "ValueError <class 'str'>\n",
      "Warning <class 'str'>\n",
      "ZeroDivisionError <class 'str'>\n",
      "__IPYTHON__ <class 'str'>\n",
      "__build_class__ <class 'str'>\n",
      "__debug__ <class 'str'>\n",
      "__doc__ <class 'str'>\n",
      "__import__ <class 'str'>\n",
      "__loader__ <class 'str'>\n",
      "__name__ <class 'str'>\n",
      "__package__ <class 'str'>\n",
      "__spec__ <class 'str'>\n",
      "abs <class 'str'>\n",
      "aiter <class 'str'>\n",
      "all <class 'str'>\n",
      "anext <class 'str'>\n",
      "any <class 'str'>\n",
      "ascii <class 'str'>\n",
      "bin <class 'str'>\n",
      "bool <class 'str'>\n",
      "breakpoint <class 'str'>\n",
      "bytearray <class 'str'>\n",
      "bytes <class 'str'>\n",
      "callable <class 'str'>\n",
      "chr <class 'str'>\n",
      "classmethod <class 'str'>\n",
      "compile <class 'str'>\n",
      "complex <class 'str'>\n",
      "copyright <class 'str'>\n",
      "credits <class 'str'>\n",
      "delattr <class 'str'>\n",
      "dict <class 'str'>\n",
      "dir <class 'str'>\n",
      "display <class 'str'>\n",
      "divmod <class 'str'>\n",
      "enumerate <class 'str'>\n",
      "eval <class 'str'>\n",
      "exec <class 'str'>\n",
      "execfile <class 'str'>\n",
      "filter <class 'str'>\n",
      "float <class 'str'>\n",
      "format <class 'str'>\n",
      "frozenset <class 'str'>\n",
      "get_ipython <class 'str'>\n",
      "getattr <class 'str'>\n",
      "globals <class 'str'>\n",
      "hasattr <class 'str'>\n",
      "hash <class 'str'>\n",
      "help <class 'str'>\n",
      "hex <class 'str'>\n",
      "id <class 'str'>\n",
      "input <class 'str'>\n",
      "int <class 'str'>\n",
      "isinstance <class 'str'>\n",
      "issubclass <class 'str'>\n",
      "iter <class 'str'>\n",
      "len <class 'str'>\n",
      "license <class 'str'>\n",
      "list <class 'str'>\n",
      "locals <class 'str'>\n",
      "map <class 'str'>\n",
      "max <class 'str'>\n",
      "memoryview <class 'str'>\n",
      "min <class 'str'>\n",
      "next <class 'str'>\n",
      "object <class 'str'>\n",
      "oct <class 'str'>\n",
      "open <class 'str'>\n",
      "ord <class 'str'>\n",
      "pow <class 'str'>\n",
      "print <class 'str'>\n",
      "property <class 'str'>\n",
      "range <class 'str'>\n",
      "repr <class 'str'>\n",
      "reversed <class 'str'>\n",
      "round <class 'str'>\n",
      "runfile <class 'str'>\n",
      "set <class 'str'>\n",
      "setattr <class 'str'>\n",
      "slice <class 'str'>\n",
      "sorted <class 'str'>\n",
      "staticmethod <class 'str'>\n",
      "str <class 'str'>\n",
      "sum <class 'str'>\n",
      "super <class 'str'>\n",
      "tuple <class 'str'>\n",
      "type <class 'str'>\n",
      "vars <class 'str'>\n",
      "zip <class 'str'>\n"
     ]
    }
   ],
   "source": [
    "for thing in dir(__builtins__):\n",
    "    print(thing, type(thing))"
   ]
  },
  {
   "cell_type": "code",
   "execution_count": 418,
   "id": "3c950cfc-b572-4339-a6a5-99ecd7a2a5ef",
   "metadata": {},
   "outputs": [
    {
     "name": "stdout",
     "output_type": "stream",
     "text": [
      "\n"
     ]
    }
   ],
   "source": [
    "print()"
   ]
  },
  {
   "cell_type": "code",
   "execution_count": 419,
   "id": "433fa06e-ed6d-4d8a-8998-629d48c32bf6",
   "metadata": {},
   "outputs": [
    {
     "name": "stdout",
     "output_type": "stream",
     "text": [
      "1 2 3 4\n"
     ]
    }
   ],
   "source": [
    "print(1,2 , 3, 4)"
   ]
  },
  {
   "cell_type": "code",
   "execution_count": 420,
   "id": "169b74a5-8087-4026-85e1-d4b26540dadf",
   "metadata": {},
   "outputs": [
    {
     "name": "stdout",
     "output_type": "stream",
     "text": [
      "this 1 that 2 [1, 2, 3]\n"
     ]
    }
   ],
   "source": [
    "print('this', 1, 'that', 2, [1, 2, 3])"
   ]
  },
  {
   "cell_type": "code",
   "execution_count": null,
   "id": "fc58e486-1cf4-4b4a-96ef-c5b0aa72d7aa",
   "metadata": {},
   "outputs": [],
   "source": []
  }
 ],
 "metadata": {
  "kernelspec": {
   "display_name": "Python 3 (ipykernel)",
   "language": "python",
   "name": "python3"
  },
  "language_info": {
   "codemirror_mode": {
    "name": "ipython",
    "version": 3
   },
   "file_extension": ".py",
   "mimetype": "text/x-python",
   "name": "python",
   "nbconvert_exporter": "python",
   "pygments_lexer": "ipython3",
   "version": "3.12.2"
  }
 },
 "nbformat": 4,
 "nbformat_minor": 5
}
